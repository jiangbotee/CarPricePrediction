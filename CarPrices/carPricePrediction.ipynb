{
 "cells": [
  {
   "cell_type": "markdown",
   "metadata": {
    "pycharm": {
     "name": "#%% md\n"
    }
   },
   "source": [
    "# Car Price Prediction"
   ]
  },
  {
   "cell_type": "code",
   "execution_count": 142,
   "metadata": {
    "pycharm": {
     "name": "#%%\n"
    }
   },
   "outputs": [],
   "source": [
    "#Import required packages\n",
    "import numpy as np\n",
    "import pandas as pd\n",
    "import matplotlib.pyplot as plt\n",
    "import seaborn as sns\n",
    "import sklearn as sk\n"
   ]
  },
  {
   "cell_type": "markdown",
   "metadata": {
    "heading_collapsed": true,
    "pycharm": {
     "name": "#%% md\n"
    }
   },
   "source": [
    "## Data Import and Preliminary Exploration"
   ]
  },
  {
   "cell_type": "markdown",
   "metadata": {
    "hidden": true,
    "pycharm": {
     "name": "#%% md\n"
    }
   },
   "source": [
    "The first step is combining multiple csv files into a single df. This was due to the bugs of the AutoTrader Scraper, which caused it to stall during the progress, hence resulting in different files."
   ]
  },
  {
   "cell_type": "code",
   "execution_count": 143,
   "metadata": {
    "hidden": true,
    "pycharm": {
     "name": "#%%\n"
    }
   },
   "outputs": [
    {
     "name": "stdout",
     "output_type": "stream",
     "text": [
      "(4004, 14)\n",
      "(777, 14)\n",
      "(290, 14)\n",
      "(725, 14)\n"
     ]
    }
   ],
   "source": [
    "#Load CSV\n",
    "df = pd.read_csv('kijijiGTA.csv')\n",
    "print(df.shape)\n",
    "#Load second CSV\n",
    "df_part2 = pd.read_csv('kijiji_car02.csv')\n",
    "df_part2 = df_part2.iloc[:,1:]\n",
    "print(df_part2.shape)\n",
    "#Load third and fourth CSV\n",
    "df_part3 = pd.read_csv('kijiji_car03.csv')\n",
    "df_part3 = df_part3.iloc[:,1:]\n",
    "print(df_part3.shape)\n",
    "df_part4 = pd.read_csv('kijiji_car04.csv')\n",
    "df_part4 = df_part4.iloc[:,1:]\n",
    "print(df_part4.shape)"
   ]
  },
  {
   "cell_type": "code",
   "execution_count": 144,
   "metadata": {
    "hidden": true,
    "pycharm": {
     "name": "#%%\n"
    }
   },
   "outputs": [
    {
     "name": "stdout",
     "output_type": "stream",
     "text": [
      "(5796, 14)\n"
     ]
    },
    {
     "data": {
      "text/plain": "           brand           model model_year   list_price  color  \\\n0      Chevrolet  Silverado 1500       2019  $30,999.99   Black   \n1     Volkswagen          Tiguan       2015  $11,450.00    Grey   \n2            GMC          Acadia       2019  $33,988.00   Other   \n3          Acura              TL       2004     $500.00      na   \n4          Honda          Accord       2017  $15,499.00   White   \n...          ...             ...        ...          ...    ...   \n5791         BMW              X1       2022     $51,949   White   \n5792          na              na         na           na     na   \n5793          na              na         na           na     na   \n5794          na              na         na           na     na   \n5795          na              na         na           na     na   \n\n         configuration condition       body_type             wheel_config  \\\n0                   LT      Used    Pickup Truck                    4 x 4   \n1     COMFORTLINE  4WD      Used  SUV, Crossover    All-wheel drive (AWD)   \n2                SLT-2      Used           Other    All-wheel drive (AWD)   \n3                   na      Used           Sedan                       na   \n4                   LX      Used           Sedan  Front-wheel drive (FWD)   \n...                ...       ...             ...                      ...   \n5791         XDrive28i       New  SUV, Crossover    All-wheel drive (AWD)   \n5792                na        na              na                       na   \n5793                na        na              na                       na   \n5794                na        na              na                       na   \n5795                na        na              na                       na   \n\n     transmission fuel_type  mileage  \\\n0       Automatic  Gasoline  115,000   \n1       Automatic  Gasoline  129,000   \n2       Automatic  Gasoline   73,893   \n3              na        na  200,500   \n4           Other  Gasoline   93,000   \n...           ...       ...      ...   \n5791    Automatic     Other       na   \n5792           na        na       na   \n5793           na        na       na   \n5794           na        na       na   \n5795           na        na       na   \n\n                                            carfax_link  \\\n0     https://www.carproof.com/order?ref=kijiji&vin=...   \n1     https://www.carproof.com/order?ref=kijiji&vin=...   \n2     https://reports.carproof.com/en/main?id=ioaVnM...   \n3     https://www.carproof.com/order?ref=kijiji&vin=...   \n4     https://www.carproof.com/order?ref=kijiji&vin=...   \n...                                                 ...   \n5791                                                 na   \n5792                                                 na   \n5793                                                 na   \n5794                                                 na   \n5795                                                 na   \n\n                                        dealer_address  \n0                         Brydon Drive, Etobicoke, ON\\  \n1        1205 Finch Avenue West, Toronto, ON, M3J 2E8\\  \n2     1900 Victoria Park Avenue, Toronto, ON, M1R 1T6\\  \n3                                  Toronto, ON M5N1A1\\  \n4        1726 Kingston Road, Scarborough, ON, M1N 1S8\\  \n...                                                ...  \n5791       11 Sunlight Park Road, Toronto, ON, M4M 1B5  \n5792                                                na  \n5793                                                na  \n5794                                                na  \n5795                                                na  \n\n[5796 rows x 14 columns]",
      "text/html": "<div>\n<style scoped>\n    .dataframe tbody tr th:only-of-type {\n        vertical-align: middle;\n    }\n\n    .dataframe tbody tr th {\n        vertical-align: top;\n    }\n\n    .dataframe thead th {\n        text-align: right;\n    }\n</style>\n<table border=\"1\" class=\"dataframe\">\n  <thead>\n    <tr style=\"text-align: right;\">\n      <th></th>\n      <th>brand</th>\n      <th>model</th>\n      <th>model_year</th>\n      <th>list_price</th>\n      <th>color</th>\n      <th>configuration</th>\n      <th>condition</th>\n      <th>body_type</th>\n      <th>wheel_config</th>\n      <th>transmission</th>\n      <th>fuel_type</th>\n      <th>mileage</th>\n      <th>carfax_link</th>\n      <th>dealer_address</th>\n    </tr>\n  </thead>\n  <tbody>\n    <tr>\n      <th>0</th>\n      <td>Chevrolet</td>\n      <td>Silverado 1500</td>\n      <td>2019</td>\n      <td>$30,999.99</td>\n      <td>Black</td>\n      <td>LT</td>\n      <td>Used</td>\n      <td>Pickup Truck</td>\n      <td>4 x 4</td>\n      <td>Automatic</td>\n      <td>Gasoline</td>\n      <td>115,000</td>\n      <td>https://www.carproof.com/order?ref=kijiji&amp;vin=...</td>\n      <td>Brydon Drive, Etobicoke, ON\\</td>\n    </tr>\n    <tr>\n      <th>1</th>\n      <td>Volkswagen</td>\n      <td>Tiguan</td>\n      <td>2015</td>\n      <td>$11,450.00</td>\n      <td>Grey</td>\n      <td>COMFORTLINE  4WD</td>\n      <td>Used</td>\n      <td>SUV, Crossover</td>\n      <td>All-wheel drive (AWD)</td>\n      <td>Automatic</td>\n      <td>Gasoline</td>\n      <td>129,000</td>\n      <td>https://www.carproof.com/order?ref=kijiji&amp;vin=...</td>\n      <td>1205 Finch Avenue West, Toronto, ON, M3J 2E8\\</td>\n    </tr>\n    <tr>\n      <th>2</th>\n      <td>GMC</td>\n      <td>Acadia</td>\n      <td>2019</td>\n      <td>$33,988.00</td>\n      <td>Other</td>\n      <td>SLT-2</td>\n      <td>Used</td>\n      <td>Other</td>\n      <td>All-wheel drive (AWD)</td>\n      <td>Automatic</td>\n      <td>Gasoline</td>\n      <td>73,893</td>\n      <td>https://reports.carproof.com/en/main?id=ioaVnM...</td>\n      <td>1900 Victoria Park Avenue, Toronto, ON, M1R 1T6\\</td>\n    </tr>\n    <tr>\n      <th>3</th>\n      <td>Acura</td>\n      <td>TL</td>\n      <td>2004</td>\n      <td>$500.00</td>\n      <td>na</td>\n      <td>na</td>\n      <td>Used</td>\n      <td>Sedan</td>\n      <td>na</td>\n      <td>na</td>\n      <td>na</td>\n      <td>200,500</td>\n      <td>https://www.carproof.com/order?ref=kijiji&amp;vin=...</td>\n      <td>Toronto, ON M5N1A1\\</td>\n    </tr>\n    <tr>\n      <th>4</th>\n      <td>Honda</td>\n      <td>Accord</td>\n      <td>2017</td>\n      <td>$15,499.00</td>\n      <td>White</td>\n      <td>LX</td>\n      <td>Used</td>\n      <td>Sedan</td>\n      <td>Front-wheel drive (FWD)</td>\n      <td>Other</td>\n      <td>Gasoline</td>\n      <td>93,000</td>\n      <td>https://www.carproof.com/order?ref=kijiji&amp;vin=...</td>\n      <td>1726 Kingston Road, Scarborough, ON, M1N 1S8\\</td>\n    </tr>\n    <tr>\n      <th>...</th>\n      <td>...</td>\n      <td>...</td>\n      <td>...</td>\n      <td>...</td>\n      <td>...</td>\n      <td>...</td>\n      <td>...</td>\n      <td>...</td>\n      <td>...</td>\n      <td>...</td>\n      <td>...</td>\n      <td>...</td>\n      <td>...</td>\n      <td>...</td>\n    </tr>\n    <tr>\n      <th>5791</th>\n      <td>BMW</td>\n      <td>X1</td>\n      <td>2022</td>\n      <td>$51,949</td>\n      <td>White</td>\n      <td>XDrive28i</td>\n      <td>New</td>\n      <td>SUV, Crossover</td>\n      <td>All-wheel drive (AWD)</td>\n      <td>Automatic</td>\n      <td>Other</td>\n      <td>na</td>\n      <td>na</td>\n      <td>11 Sunlight Park Road, Toronto, ON, M4M 1B5</td>\n    </tr>\n    <tr>\n      <th>5792</th>\n      <td>na</td>\n      <td>na</td>\n      <td>na</td>\n      <td>na</td>\n      <td>na</td>\n      <td>na</td>\n      <td>na</td>\n      <td>na</td>\n      <td>na</td>\n      <td>na</td>\n      <td>na</td>\n      <td>na</td>\n      <td>na</td>\n      <td>na</td>\n    </tr>\n    <tr>\n      <th>5793</th>\n      <td>na</td>\n      <td>na</td>\n      <td>na</td>\n      <td>na</td>\n      <td>na</td>\n      <td>na</td>\n      <td>na</td>\n      <td>na</td>\n      <td>na</td>\n      <td>na</td>\n      <td>na</td>\n      <td>na</td>\n      <td>na</td>\n      <td>na</td>\n    </tr>\n    <tr>\n      <th>5794</th>\n      <td>na</td>\n      <td>na</td>\n      <td>na</td>\n      <td>na</td>\n      <td>na</td>\n      <td>na</td>\n      <td>na</td>\n      <td>na</td>\n      <td>na</td>\n      <td>na</td>\n      <td>na</td>\n      <td>na</td>\n      <td>na</td>\n      <td>na</td>\n    </tr>\n    <tr>\n      <th>5795</th>\n      <td>na</td>\n      <td>na</td>\n      <td>na</td>\n      <td>na</td>\n      <td>na</td>\n      <td>na</td>\n      <td>na</td>\n      <td>na</td>\n      <td>na</td>\n      <td>na</td>\n      <td>na</td>\n      <td>na</td>\n      <td>na</td>\n      <td>na</td>\n    </tr>\n  </tbody>\n</table>\n<p>5796 rows × 14 columns</p>\n</div>"
     },
     "execution_count": 144,
     "metadata": {},
     "output_type": "execute_result"
    }
   ],
   "source": [
    "df = pd.concat([df,df_part2,df_part3,df_part4],ignore_index=True)\n",
    "print(df.shape)\n",
    "df"
   ]
  },
  {
   "cell_type": "code",
   "execution_count": 145,
   "metadata": {
    "hidden": true,
    "pycharm": {
     "name": "#%%\n"
    }
   },
   "outputs": [
    {
     "name": "stdout",
     "output_type": "stream",
     "text": [
      "Categorical Features: ['carfax_link', 'body_type', 'wheel_config', 'transmission', 'color', 'condition', 'model', 'configuration', 'brand', 'fuel_type', 'dealer_address']\n",
      "Numerical Features: ['model_year', 'list_price', 'mileage']\n"
     ]
    }
   ],
   "source": [
    "columns = df.columns.tolist()\n",
    "numerical_features = ['model_year','list_price','mileage']\n",
    "categorical_features = list(set(columns) - set(numerical_features))\n",
    "categorical_features.reverse()\n",
    "print(\"Categorical Features:\",categorical_features)\n",
    "print(\"Numerical Features:\",numerical_features)"
   ]
  },
  {
   "cell_type": "markdown",
   "metadata": {
    "heading_collapsed": true,
    "pycharm": {
     "name": "#%% md\n"
    }
   },
   "source": [
    "## Data Cleaning"
   ]
  },
  {
   "cell_type": "markdown",
   "metadata": {
    "hidden": true,
    "pycharm": {
     "name": "#%% md\n"
    }
   },
   "source": [
    "The main goals of the data cleaning process are:\n",
    "- Convert price and mileage to appropriate numerical types\n",
    "- Dealing with NaN and 'na' entries\n",
    "- Find outliers\n",
    "- Remove unwanted features"
   ]
  },
  {
   "cell_type": "markdown",
   "metadata": {
    "hidden": true,
    "pycharm": {
     "name": "#%% md\n"
    }
   },
   "source": [
    "By printing out the number of unique values for each column, we can have a rough idea as to what preprocessing is required:\n",
    "- Car model has too many unique values to do one-hot encoding later. Furthermore, if the model sees unseen entries for model, the performance may be poor.\n",
    "- Configuration also has too many unique values. We either have to extract more generalized information from configuration, or the column has to be removed all together.\n",
    "- Same with the carfax link as well as the dealer's address."
   ]
  },
  {
   "cell_type": "code",
   "execution_count": 146,
   "metadata": {
    "hidden": true,
    "pycharm": {
     "name": "#%%\n"
    }
   },
   "outputs": [
    {
     "name": "stdout",
     "output_type": "stream",
     "text": [
      "DATASET HAS 5796 ENTRIES\n",
      "brand has 42 unique values\n",
      "model has 264 unique values\n",
      "model_year has 47 unique values\n",
      "list_price has 966 unique values\n",
      "color has 18 unique values\n",
      "configuration has 988 unique values\n",
      "condition has 5 unique values\n",
      "body_type has 10 unique values\n",
      "wheel_config has 6 unique values\n",
      "transmission has 5 unique values\n",
      "fuel_type has 5 unique values\n",
      "mileage has 1034 unique values\n",
      "carfax_link has 1003 unique values\n",
      "dealer_address has 325 unique values\n"
     ]
    }
   ],
   "source": [
    "#Print out the number of unique values\n",
    "print(\"DATASET HAS\",df.shape[0],\"ENTRIES\")\n",
    "for i in columns:\n",
    "    print(i,\"has\",len(df[i].unique()),\"unique values\")"
   ]
  },
  {
   "cell_type": "markdown",
   "metadata": {
    "hidden": true,
    "pycharm": {
     "name": "#%% md\n"
    }
   },
   "source": [
    "Below I just printed some of the unique values for selected categorical features with minimal unique values. Something to note: both transmission and fuel type both have 'na' as well as 'other'. I will later see if 'na' can be combined with 'other'."
   ]
  },
  {
   "cell_type": "code",
   "execution_count": 147,
   "metadata": {
    "hidden": true,
    "pycharm": {
     "name": "#%%\n"
    }
   },
   "outputs": [
    {
     "name": "stdout",
     "output_type": "stream",
     "text": [
      "brand ['Chevrolet' 'Volkswagen' 'GMC' 'Acura' 'Honda' 'Pontiac' 'Chrysler'\n",
      " 'Porsche' 'Toyota' 'Ford' 'Cadillac' 'BMW' 'Tesla' 'Audi' 'Hyundai'\n",
      " 'Mercedes-Benz' 'Infiniti' 'Mazda' 'Jeep' 'Maserati' 'Nissan' 'Dodge'\n",
      " 'Kia' 'Buick' 'Other' 'Jaguar' 'MINI' 'Lexus' 'Ram' 'Subaru' 'Land Rover'\n",
      " 'Fiat' 'Genesis' 'Mitsubishi' 'Suzuki' 'Saturn' 'Lincoln' 'Isuzu' 'Volvo'\n",
      " 'na' 'alfaromeo' 'Ferrari']\n",
      "color ['Black' 'Grey' 'Other' 'na' 'White' 'Silver' 'Blue' 'Burgundy' 'Red'\n",
      " 'Brown' 'Beige' 'Gold' 'Green' 'Yellow' 'Orange' 'Tan' 'Purple'\n",
      " 'Off-White']\n",
      "condition ['Used' 'New' 'Lease Takeover' 'na' 'Salvage']\n",
      "transmission ['Automatic' 'na' 'Other' 'Manual' '0']\n",
      "fuel_type ['Gasoline' 'na' 'Hybrid-Electric' 'Diesel' 'Other']\n"
     ]
    }
   ],
   "source": [
    "print('brand',df['brand'].unique())\n",
    "print('color',df['color'].unique())\n",
    "print('condition',df['condition'].unique())\n",
    "print('transmission',df['transmission'].unique())\n",
    "print('fuel_type',df['fuel_type'].unique())"
   ]
  },
  {
   "cell_type": "markdown",
   "metadata": {
    "hidden": true,
    "pycharm": {
     "name": "#%% md\n"
    }
   },
   "source": [
    "I see how many entries are actually missing. Out of all of the variables, the only column that has \"missing\" or \"NaN\" values is mileage."
   ]
  },
  {
   "cell_type": "code",
   "execution_count": 148,
   "metadata": {
    "hidden": true,
    "pycharm": {
     "name": "#%%\n"
    }
   },
   "outputs": [
    {
     "data": {
      "text/plain": "brand               0\nmodel               0\nmodel_year          0\nlist_price          0\ncolor               0\nconfiguration       0\ncondition           0\nbody_type           0\nwheel_config        0\ntransmission        0\nfuel_type           0\nmileage           107\ncarfax_link         0\ndealer_address      0\ndtype: int64"
     },
     "execution_count": 148,
     "metadata": {},
     "output_type": "execute_result"
    }
   ],
   "source": [
    "df.isnull().sum()"
   ]
  },
  {
   "cell_type": "markdown",
   "metadata": {
    "hidden": true,
    "pycharm": {
     "name": "#%% md\n"
    }
   },
   "source": [
    "Below is count of the occurrences of 'na' in each column. This will have to be dealt with for each column."
   ]
  },
  {
   "cell_type": "code",
   "execution_count": 149,
   "metadata": {
    "hidden": true,
    "pycharm": {
     "name": "#%%\n"
    }
   },
   "outputs": [
    {
     "data": {
      "text/plain": "brand              483\nmodel              488\nmodel_year         483\nlist_price         786\ncolor              786\nconfiguration     1219\ncondition          483\nbody_type          483\nwheel_config       879\ntransmission       669\nfuel_type         2356\nmileage            736\ncarfax_link       1237\ndealer_address     483\ndtype: int64"
     },
     "execution_count": 149,
     "metadata": {},
     "output_type": "execute_result"
    }
   ],
   "source": [
    "df.isin(['na']).sum(axis=0)"
   ]
  },
  {
   "cell_type": "markdown",
   "metadata": {
    "heading_collapsed": true,
    "hidden": true,
    "pycharm": {
     "name": "#%% md\n"
    }
   },
   "source": [
    "### Remove entries with ambiguous Brand and Model attributes"
   ]
  },
  {
   "cell_type": "code",
   "execution_count": 150,
   "metadata": {
    "hidden": true,
    "pycharm": {
     "name": "#%%\n"
    }
   },
   "outputs": [],
   "source": [
    "df = df[df['brand']!='Other']"
   ]
  },
  {
   "cell_type": "markdown",
   "metadata": {
    "heading_collapsed": true,
    "hidden": true,
    "pycharm": {
     "name": "#%% md\n"
    }
   },
   "source": [
    "### Remove Duplicates"
   ]
  },
  {
   "cell_type": "code",
   "execution_count": 151,
   "metadata": {
    "hidden": true,
    "pycharm": {
     "name": "#%%\n"
    }
   },
   "outputs": [
    {
     "data": {
      "text/plain": "         brand    model model_year  list_price     color configuration  \\\n315       Ford    F-150       2020  $1,000.00         na            na   \n99    Cadillac  DeVille       2003  $1,000.00   Burgundy           DHS   \n112   Cadillac  DeVille       2003  $1,000.00   Burgundy           DHS   \n74    Cadillac  DeVille       2003  $1,000.00   Burgundy           DHS   \n125   Cadillac  DeVille       2003  $1,000.00   Burgundy           DHS   \n...        ...      ...        ...         ...       ...           ...   \n4663        na       na         na          na        na            na   \n4671        na       na         na          na        na            na   \n4675     Honda    Civic       2012          na        na            ex   \n325     Toyota    Venza       2014          na     Other            na   \n5795        na       na         na          na        na            na   \n\n     condition       body_type             wheel_config transmission  \\\n315       Used    Pickup Truck                       na           na   \n99        Used           Sedan  Front-wheel drive (FWD)    Automatic   \n112       Used           Sedan  Front-wheel drive (FWD)    Automatic   \n74        Used           Sedan  Front-wheel drive (FWD)    Automatic   \n125       Used           Sedan  Front-wheel drive (FWD)    Automatic   \n...        ...             ...                      ...          ...   \n4663        na              na                       na           na   \n4671        na              na                       na           na   \n4675      Used           Sedan  Front-wheel drive (FWD)       Manual   \n325       Used  SUV, Crossover                    Other    Automatic   \n5795        na              na                       na           na   \n\n     fuel_type  mileage                                        carfax_link  \\\n315         na       88  https://www.carproof.com/order?ref=kijiji&vin=...   \n99    Gasoline  200,000  https://www.carproof.com/order?ref=kijiji&vin=...   \n112   Gasoline  200,000  https://www.carproof.com/order?ref=kijiji&vin=...   \n74    Gasoline  200,000  https://www.carproof.com/order?ref=kijiji&vin=...   \n125   Gasoline  200,000  https://www.carproof.com/order?ref=kijiji&vin=...   \n...        ...      ...                                                ...   \n4663        na       na                                                 na   \n4671        na       na                                                 na   \n4675        na  190,000                                                 na   \n325         na  122,203  https://www.carproof.com/order?ref=kijiji&vin=...   \n5795        na       na                                                 na   \n\n                                     dealer_address  \n315              549 King Street East, Toronto, ON\\  \n99                          Woodbridge, ON L4L 8L6\\  \n112                         Woodbridge, ON L4L 8L6\\  \n74                          Woodbridge, ON L4L 8L6\\  \n125                         Woodbridge, ON L4L 8L6\\  \n...                                             ...  \n4663                                             na  \n4671                                             na  \n4675                                Toronto, ON M5V  \n325   4249 Kingston Road, Scarborough, ON, M1E 2M5\\  \n5795                                             na  \n\n[4340 rows x 14 columns]",
      "text/html": "<div>\n<style scoped>\n    .dataframe tbody tr th:only-of-type {\n        vertical-align: middle;\n    }\n\n    .dataframe tbody tr th {\n        vertical-align: top;\n    }\n\n    .dataframe thead th {\n        text-align: right;\n    }\n</style>\n<table border=\"1\" class=\"dataframe\">\n  <thead>\n    <tr style=\"text-align: right;\">\n      <th></th>\n      <th>brand</th>\n      <th>model</th>\n      <th>model_year</th>\n      <th>list_price</th>\n      <th>color</th>\n      <th>configuration</th>\n      <th>condition</th>\n      <th>body_type</th>\n      <th>wheel_config</th>\n      <th>transmission</th>\n      <th>fuel_type</th>\n      <th>mileage</th>\n      <th>carfax_link</th>\n      <th>dealer_address</th>\n    </tr>\n  </thead>\n  <tbody>\n    <tr>\n      <th>315</th>\n      <td>Ford</td>\n      <td>F-150</td>\n      <td>2020</td>\n      <td>$1,000.00</td>\n      <td>na</td>\n      <td>na</td>\n      <td>Used</td>\n      <td>Pickup Truck</td>\n      <td>na</td>\n      <td>na</td>\n      <td>na</td>\n      <td>88</td>\n      <td>https://www.carproof.com/order?ref=kijiji&amp;vin=...</td>\n      <td>549 King Street East, Toronto, ON\\</td>\n    </tr>\n    <tr>\n      <th>99</th>\n      <td>Cadillac</td>\n      <td>DeVille</td>\n      <td>2003</td>\n      <td>$1,000.00</td>\n      <td>Burgundy</td>\n      <td>DHS</td>\n      <td>Used</td>\n      <td>Sedan</td>\n      <td>Front-wheel drive (FWD)</td>\n      <td>Automatic</td>\n      <td>Gasoline</td>\n      <td>200,000</td>\n      <td>https://www.carproof.com/order?ref=kijiji&amp;vin=...</td>\n      <td>Woodbridge, ON L4L 8L6\\</td>\n    </tr>\n    <tr>\n      <th>112</th>\n      <td>Cadillac</td>\n      <td>DeVille</td>\n      <td>2003</td>\n      <td>$1,000.00</td>\n      <td>Burgundy</td>\n      <td>DHS</td>\n      <td>Used</td>\n      <td>Sedan</td>\n      <td>Front-wheel drive (FWD)</td>\n      <td>Automatic</td>\n      <td>Gasoline</td>\n      <td>200,000</td>\n      <td>https://www.carproof.com/order?ref=kijiji&amp;vin=...</td>\n      <td>Woodbridge, ON L4L 8L6\\</td>\n    </tr>\n    <tr>\n      <th>74</th>\n      <td>Cadillac</td>\n      <td>DeVille</td>\n      <td>2003</td>\n      <td>$1,000.00</td>\n      <td>Burgundy</td>\n      <td>DHS</td>\n      <td>Used</td>\n      <td>Sedan</td>\n      <td>Front-wheel drive (FWD)</td>\n      <td>Automatic</td>\n      <td>Gasoline</td>\n      <td>200,000</td>\n      <td>https://www.carproof.com/order?ref=kijiji&amp;vin=...</td>\n      <td>Woodbridge, ON L4L 8L6\\</td>\n    </tr>\n    <tr>\n      <th>125</th>\n      <td>Cadillac</td>\n      <td>DeVille</td>\n      <td>2003</td>\n      <td>$1,000.00</td>\n      <td>Burgundy</td>\n      <td>DHS</td>\n      <td>Used</td>\n      <td>Sedan</td>\n      <td>Front-wheel drive (FWD)</td>\n      <td>Automatic</td>\n      <td>Gasoline</td>\n      <td>200,000</td>\n      <td>https://www.carproof.com/order?ref=kijiji&amp;vin=...</td>\n      <td>Woodbridge, ON L4L 8L6\\</td>\n    </tr>\n    <tr>\n      <th>...</th>\n      <td>...</td>\n      <td>...</td>\n      <td>...</td>\n      <td>...</td>\n      <td>...</td>\n      <td>...</td>\n      <td>...</td>\n      <td>...</td>\n      <td>...</td>\n      <td>...</td>\n      <td>...</td>\n      <td>...</td>\n      <td>...</td>\n      <td>...</td>\n    </tr>\n    <tr>\n      <th>4663</th>\n      <td>na</td>\n      <td>na</td>\n      <td>na</td>\n      <td>na</td>\n      <td>na</td>\n      <td>na</td>\n      <td>na</td>\n      <td>na</td>\n      <td>na</td>\n      <td>na</td>\n      <td>na</td>\n      <td>na</td>\n      <td>na</td>\n      <td>na</td>\n    </tr>\n    <tr>\n      <th>4671</th>\n      <td>na</td>\n      <td>na</td>\n      <td>na</td>\n      <td>na</td>\n      <td>na</td>\n      <td>na</td>\n      <td>na</td>\n      <td>na</td>\n      <td>na</td>\n      <td>na</td>\n      <td>na</td>\n      <td>na</td>\n      <td>na</td>\n      <td>na</td>\n    </tr>\n    <tr>\n      <th>4675</th>\n      <td>Honda</td>\n      <td>Civic</td>\n      <td>2012</td>\n      <td>na</td>\n      <td>na</td>\n      <td>ex</td>\n      <td>Used</td>\n      <td>Sedan</td>\n      <td>Front-wheel drive (FWD)</td>\n      <td>Manual</td>\n      <td>na</td>\n      <td>190,000</td>\n      <td>na</td>\n      <td>Toronto, ON M5V</td>\n    </tr>\n    <tr>\n      <th>325</th>\n      <td>Toyota</td>\n      <td>Venza</td>\n      <td>2014</td>\n      <td>na</td>\n      <td>Other</td>\n      <td>na</td>\n      <td>Used</td>\n      <td>SUV, Crossover</td>\n      <td>Other</td>\n      <td>Automatic</td>\n      <td>na</td>\n      <td>122,203</td>\n      <td>https://www.carproof.com/order?ref=kijiji&amp;vin=...</td>\n      <td>4249 Kingston Road, Scarborough, ON, M1E 2M5\\</td>\n    </tr>\n    <tr>\n      <th>5795</th>\n      <td>na</td>\n      <td>na</td>\n      <td>na</td>\n      <td>na</td>\n      <td>na</td>\n      <td>na</td>\n      <td>na</td>\n      <td>na</td>\n      <td>na</td>\n      <td>na</td>\n      <td>na</td>\n      <td>na</td>\n      <td>na</td>\n      <td>na</td>\n    </tr>\n  </tbody>\n</table>\n<p>4340 rows × 14 columns</p>\n</div>"
     },
     "execution_count": 151,
     "metadata": {},
     "output_type": "execute_result"
    }
   ],
   "source": [
    "df[df.duplicated()].sort_values(\"list_price\")"
   ]
  },
  {
   "cell_type": "code",
   "execution_count": 152,
   "metadata": {
    "hidden": true,
    "pycharm": {
     "name": "#%%\n"
    }
   },
   "outputs": [
    {
     "name": "stdout",
     "output_type": "stream",
     "text": [
      "With duplicates: 5734\n",
      "No duplicates: 1394\n"
     ]
    }
   ],
   "source": [
    "print(\"With duplicates:\",len(df))\n",
    "df = df.drop_duplicates()\n",
    "print(\"No duplicates:\",len(df))"
   ]
  },
  {
   "cell_type": "code",
   "execution_count": 153,
   "metadata": {
    "hidden": true,
    "pycharm": {
     "name": "#%%\n"
    }
   },
   "outputs": [
    {
     "data": {
      "text/plain": "Empty DataFrame\nColumns: [brand, model, model_year, list_price, color, configuration, condition, body_type, wheel_config, transmission, fuel_type, mileage, carfax_link, dealer_address]\nIndex: []",
      "text/html": "<div>\n<style scoped>\n    .dataframe tbody tr th:only-of-type {\n        vertical-align: middle;\n    }\n\n    .dataframe tbody tr th {\n        vertical-align: top;\n    }\n\n    .dataframe thead th {\n        text-align: right;\n    }\n</style>\n<table border=\"1\" class=\"dataframe\">\n  <thead>\n    <tr style=\"text-align: right;\">\n      <th></th>\n      <th>brand</th>\n      <th>model</th>\n      <th>model_year</th>\n      <th>list_price</th>\n      <th>color</th>\n      <th>configuration</th>\n      <th>condition</th>\n      <th>body_type</th>\n      <th>wheel_config</th>\n      <th>transmission</th>\n      <th>fuel_type</th>\n      <th>mileage</th>\n      <th>carfax_link</th>\n      <th>dealer_address</th>\n    </tr>\n  </thead>\n  <tbody>\n  </tbody>\n</table>\n</div>"
     },
     "execution_count": 153,
     "metadata": {},
     "output_type": "execute_result"
    }
   ],
   "source": [
    "df[df.duplicated()].sort_values(\"list_price\")"
   ]
  },
  {
   "cell_type": "markdown",
   "metadata": {
    "heading_collapsed": true,
    "hidden": true,
    "pycharm": {
     "name": "#%% md\n"
    }
   },
   "source": [
    "### Numerical Variables\n",
    "First, I deal with the numerical values."
   ]
  },
  {
   "cell_type": "markdown",
   "metadata": {
    "hidden": true
   },
   "source": [
    "While 3 variables should be numeric, none of them are actually so."
   ]
  },
  {
   "cell_type": "code",
   "execution_count": 154,
   "metadata": {
    "hidden": true,
    "pycharm": {
     "name": "#%%\n"
    }
   },
   "outputs": [
    {
     "data": {
      "text/plain": "Index([], dtype='object')"
     },
     "execution_count": 154,
     "metadata": {},
     "output_type": "execute_result"
    }
   ],
   "source": [
    "df._get_numeric_data().columns"
   ]
  },
  {
   "cell_type": "markdown",
   "metadata": {
    "hidden": true,
    "pycharm": {
     "name": "#%% md\n"
    }
   },
   "source": [
    "#### Price"
   ]
  },
  {
   "cell_type": "markdown",
   "metadata": {
    "hidden": true,
    "pycharm": {
     "name": "#%% md\n"
    }
   },
   "source": [
    "I decided to remove all of the rows with missing prices. Firstly, price is the \"target\" variable and secondly, the majority of the data is non-missing."
   ]
  },
  {
   "cell_type": "code",
   "execution_count": 155,
   "metadata": {
    "hidden": true,
    "pycharm": {
     "name": "#%%\n"
    }
   },
   "outputs": [],
   "source": [
    "df = df[df['list_price'] != 'na']"
   ]
  },
  {
   "cell_type": "markdown",
   "metadata": {
    "hidden": true,
    "pycharm": {
     "name": "#%% md\n"
    }
   },
   "source": [
    "The data type is also casted to a float type with the dollar sign and comma removed."
   ]
  },
  {
   "cell_type": "code",
   "execution_count": 156,
   "metadata": {
    "hidden": true,
    "pycharm": {
     "name": "#%%\n"
    }
   },
   "outputs": [],
   "source": [
    "# float(df['list_price'][0][1:].replace(',',''))\n",
    "df['list_price'] = df['list_price'].apply(lambda x:float(x[1:].replace(',','')))"
   ]
  },
  {
   "cell_type": "markdown",
   "metadata": {
    "hidden": true,
    "pycharm": {
     "name": "#%% md\n"
    }
   },
   "source": [
    "From the stats of list price, we can see a minimum price of $1.00. This is probably a fake ad or mis-listing so we can remove it. There are some others with low prices but they are either older vehicles or lease take-overs (we will deal with them later on)."
   ]
  },
  {
   "cell_type": "code",
   "execution_count": 157,
   "metadata": {
    "hidden": true,
    "pycharm": {
     "name": "#%%\n"
    }
   },
   "outputs": [
    {
     "data": {
      "text/plain": "              brand        model model_year  list_price   color  \\\n615             BMW     3-Series       2006         1.0    Grey   \n490             BMW           M3       2008         1.0    Blue   \n2781          Honda        Other       2011       150.0      na   \n526      Volkswagen        Jetta       2019       287.0   Black   \n3916      Chevrolet        Sonic       2022       298.0   White   \n...             ...          ...        ...         ...     ...   \n5136        Porsche     Panamera       2019    149800.0   White   \n5030        Ferrari        Other       2005    159800.0  Silver   \n4578  Mercedes-Benz      E-Class       2020    159800.0   White   \n5671     Land Rover  Range Rover       2019    169800.0   Black   \n5602  Mercedes-Benz          GLE       2021    189800.0   Black   \n\n                                          configuration       condition  \\\n615                                                 Zhp            Used   \n490                                               M Zhp            Used   \n2781                                                 EX            Used   \n526                                         comfortline  Lease Takeover   \n3916                                                 LT  Lease Takeover   \n...                                                 ...             ...   \n5136   GTS Sport Turismo,AWD,PREMIUM PKG+,SPORT CHRONO,            Used   \n5030  Spider, 4.3L V8 483HP,RWD ,FABSPEED EXHAUST,BR...            Used   \n4578     AMG E63 S, 603 HP, CARBON FIBER PKG, NAV, PANO            Used   \n5671  Autobiography LWB, MASSAGE SEATS, NAV, HEATED ...            Used   \n5602      GLE63S, AMG, COUPE, 603HP, CARBON FIBER, PANO            Used   \n\n           body_type             wheel_config transmission fuel_type mileage  \\\n615            Sedan   Rear-wheel drive (RWD)    Automatic  Gasoline     NaN   \n490   Coupe (2 door)   Rear-wheel drive (RWD)       Manual  Gasoline     NaN   \n2781  Coupe (2 door)  Front-wheel drive (FWD)    Automatic  Gasoline   1,000   \n526            Sedan  Front-wheel drive (FWD)    Automatic  Gasoline  63,000   \n3916       Hatchback  Front-wheel drive (FWD)    Automatic        na  20,800   \n...              ...                      ...          ...       ...     ...   \n5136           Sedan    All-wheel drive (AWD)    Automatic     Other  25,592   \n5030     Convertible   Rear-wheel drive (RWD)    Automatic     Other  50,957   \n4578           Wagon    All-wheel drive (AWD)    Automatic     Other  11,000   \n5671  SUV, Crossover    All-wheel drive (AWD)    Automatic     Other  48,985   \n5602  SUV, Crossover    All-wheel drive (AWD)    Automatic     Other   3,508   \n\n                                            carfax_link  \\\n615   https://www.carproof.com/order?ref=kijiji&vin=...   \n490   https://www.carproof.com/order?ref=kijiji&vin=...   \n2781  https://www.carproof.com/order?ref=kijiji&vin=...   \n526   https://www.carproof.com/order?ref=kijiji&vin=...   \n3916  https://www.carproof.com/order?ref=kijiji&vin=...   \n...                                                 ...   \n5136  https://www.carproof.com/order?ref=kijiji&vin=...   \n5030  https://www.carproof.com/order?ref=kijiji&vin=...   \n4578  https://www.carproof.com/order?ref=kijiji&vin=...   \n5671  https://www.carproof.com/order?ref=kijiji&vin=...   \n5602  https://www.carproof.com/order?ref=kijiji&vin=...   \n\n                                         dealer_address  \n615                                    Gormley, ON L4E\\  \n490                                    Gormley, ON L4E\\  \n2781  1000 Rowntree Dairy Rd, Woodbridge, ON L4L 5V8...  \n526                              Thornhill, ON L4J 4P8\\  \n3916                                Toronto, ON M1P5E4\\  \n...                                                 ...  \n5136        60 Martin Ross Avenue, Toronto, ON, M3J 2L4  \n5030        60 Martin Ross Avenue, Toronto, ON, M3J 2L4  \n4578        60 Martin Ross Avenue, Toronto, ON, M3J 2L4  \n5671        60 Martin Ross Avenue, Toronto, ON, M3J 2L4  \n5602        60 Martin Ross Avenue, Toronto, ON, M3J 2L4  \n\n[1365 rows x 14 columns]",
      "text/html": "<div>\n<style scoped>\n    .dataframe tbody tr th:only-of-type {\n        vertical-align: middle;\n    }\n\n    .dataframe tbody tr th {\n        vertical-align: top;\n    }\n\n    .dataframe thead th {\n        text-align: right;\n    }\n</style>\n<table border=\"1\" class=\"dataframe\">\n  <thead>\n    <tr style=\"text-align: right;\">\n      <th></th>\n      <th>brand</th>\n      <th>model</th>\n      <th>model_year</th>\n      <th>list_price</th>\n      <th>color</th>\n      <th>configuration</th>\n      <th>condition</th>\n      <th>body_type</th>\n      <th>wheel_config</th>\n      <th>transmission</th>\n      <th>fuel_type</th>\n      <th>mileage</th>\n      <th>carfax_link</th>\n      <th>dealer_address</th>\n    </tr>\n  </thead>\n  <tbody>\n    <tr>\n      <th>615</th>\n      <td>BMW</td>\n      <td>3-Series</td>\n      <td>2006</td>\n      <td>1.0</td>\n      <td>Grey</td>\n      <td>Zhp</td>\n      <td>Used</td>\n      <td>Sedan</td>\n      <td>Rear-wheel drive (RWD)</td>\n      <td>Automatic</td>\n      <td>Gasoline</td>\n      <td>NaN</td>\n      <td>https://www.carproof.com/order?ref=kijiji&amp;vin=...</td>\n      <td>Gormley, ON L4E\\</td>\n    </tr>\n    <tr>\n      <th>490</th>\n      <td>BMW</td>\n      <td>M3</td>\n      <td>2008</td>\n      <td>1.0</td>\n      <td>Blue</td>\n      <td>M Zhp</td>\n      <td>Used</td>\n      <td>Coupe (2 door)</td>\n      <td>Rear-wheel drive (RWD)</td>\n      <td>Manual</td>\n      <td>Gasoline</td>\n      <td>NaN</td>\n      <td>https://www.carproof.com/order?ref=kijiji&amp;vin=...</td>\n      <td>Gormley, ON L4E\\</td>\n    </tr>\n    <tr>\n      <th>2781</th>\n      <td>Honda</td>\n      <td>Other</td>\n      <td>2011</td>\n      <td>150.0</td>\n      <td>na</td>\n      <td>EX</td>\n      <td>Used</td>\n      <td>Coupe (2 door)</td>\n      <td>Front-wheel drive (FWD)</td>\n      <td>Automatic</td>\n      <td>Gasoline</td>\n      <td>1,000</td>\n      <td>https://www.carproof.com/order?ref=kijiji&amp;vin=...</td>\n      <td>1000 Rowntree Dairy Rd, Woodbridge, ON L4L 5V8...</td>\n    </tr>\n    <tr>\n      <th>526</th>\n      <td>Volkswagen</td>\n      <td>Jetta</td>\n      <td>2019</td>\n      <td>287.0</td>\n      <td>Black</td>\n      <td>comfortline</td>\n      <td>Lease Takeover</td>\n      <td>Sedan</td>\n      <td>Front-wheel drive (FWD)</td>\n      <td>Automatic</td>\n      <td>Gasoline</td>\n      <td>63,000</td>\n      <td>https://www.carproof.com/order?ref=kijiji&amp;vin=...</td>\n      <td>Thornhill, ON L4J 4P8\\</td>\n    </tr>\n    <tr>\n      <th>3916</th>\n      <td>Chevrolet</td>\n      <td>Sonic</td>\n      <td>2022</td>\n      <td>298.0</td>\n      <td>White</td>\n      <td>LT</td>\n      <td>Lease Takeover</td>\n      <td>Hatchback</td>\n      <td>Front-wheel drive (FWD)</td>\n      <td>Automatic</td>\n      <td>na</td>\n      <td>20,800</td>\n      <td>https://www.carproof.com/order?ref=kijiji&amp;vin=...</td>\n      <td>Toronto, ON M1P5E4\\</td>\n    </tr>\n    <tr>\n      <th>...</th>\n      <td>...</td>\n      <td>...</td>\n      <td>...</td>\n      <td>...</td>\n      <td>...</td>\n      <td>...</td>\n      <td>...</td>\n      <td>...</td>\n      <td>...</td>\n      <td>...</td>\n      <td>...</td>\n      <td>...</td>\n      <td>...</td>\n      <td>...</td>\n    </tr>\n    <tr>\n      <th>5136</th>\n      <td>Porsche</td>\n      <td>Panamera</td>\n      <td>2019</td>\n      <td>149800.0</td>\n      <td>White</td>\n      <td>GTS Sport Turismo,AWD,PREMIUM PKG+,SPORT CHRONO,</td>\n      <td>Used</td>\n      <td>Sedan</td>\n      <td>All-wheel drive (AWD)</td>\n      <td>Automatic</td>\n      <td>Other</td>\n      <td>25,592</td>\n      <td>https://www.carproof.com/order?ref=kijiji&amp;vin=...</td>\n      <td>60 Martin Ross Avenue, Toronto, ON, M3J 2L4</td>\n    </tr>\n    <tr>\n      <th>5030</th>\n      <td>Ferrari</td>\n      <td>Other</td>\n      <td>2005</td>\n      <td>159800.0</td>\n      <td>Silver</td>\n      <td>Spider, 4.3L V8 483HP,RWD ,FABSPEED EXHAUST,BR...</td>\n      <td>Used</td>\n      <td>Convertible</td>\n      <td>Rear-wheel drive (RWD)</td>\n      <td>Automatic</td>\n      <td>Other</td>\n      <td>50,957</td>\n      <td>https://www.carproof.com/order?ref=kijiji&amp;vin=...</td>\n      <td>60 Martin Ross Avenue, Toronto, ON, M3J 2L4</td>\n    </tr>\n    <tr>\n      <th>4578</th>\n      <td>Mercedes-Benz</td>\n      <td>E-Class</td>\n      <td>2020</td>\n      <td>159800.0</td>\n      <td>White</td>\n      <td>AMG E63 S, 603 HP, CARBON FIBER PKG, NAV, PANO</td>\n      <td>Used</td>\n      <td>Wagon</td>\n      <td>All-wheel drive (AWD)</td>\n      <td>Automatic</td>\n      <td>Other</td>\n      <td>11,000</td>\n      <td>https://www.carproof.com/order?ref=kijiji&amp;vin=...</td>\n      <td>60 Martin Ross Avenue, Toronto, ON, M3J 2L4</td>\n    </tr>\n    <tr>\n      <th>5671</th>\n      <td>Land Rover</td>\n      <td>Range Rover</td>\n      <td>2019</td>\n      <td>169800.0</td>\n      <td>Black</td>\n      <td>Autobiography LWB, MASSAGE SEATS, NAV, HEATED ...</td>\n      <td>Used</td>\n      <td>SUV, Crossover</td>\n      <td>All-wheel drive (AWD)</td>\n      <td>Automatic</td>\n      <td>Other</td>\n      <td>48,985</td>\n      <td>https://www.carproof.com/order?ref=kijiji&amp;vin=...</td>\n      <td>60 Martin Ross Avenue, Toronto, ON, M3J 2L4</td>\n    </tr>\n    <tr>\n      <th>5602</th>\n      <td>Mercedes-Benz</td>\n      <td>GLE</td>\n      <td>2021</td>\n      <td>189800.0</td>\n      <td>Black</td>\n      <td>GLE63S, AMG, COUPE, 603HP, CARBON FIBER, PANO</td>\n      <td>Used</td>\n      <td>SUV, Crossover</td>\n      <td>All-wheel drive (AWD)</td>\n      <td>Automatic</td>\n      <td>Other</td>\n      <td>3,508</td>\n      <td>https://www.carproof.com/order?ref=kijiji&amp;vin=...</td>\n      <td>60 Martin Ross Avenue, Toronto, ON, M3J 2L4</td>\n    </tr>\n  </tbody>\n</table>\n<p>1365 rows × 14 columns</p>\n</div>"
     },
     "execution_count": 157,
     "metadata": {},
     "output_type": "execute_result"
    }
   ],
   "source": [
    "df.sort_values('list_price')"
   ]
  },
  {
   "cell_type": "code",
   "execution_count": 158,
   "metadata": {
    "hidden": true,
    "pycharm": {
     "name": "#%%\n"
    }
   },
   "outputs": [],
   "source": [
    "df = df[df['list_price'] > 1.0]"
   ]
  },
  {
   "cell_type": "code",
   "execution_count": 159,
   "metadata": {
    "hidden": true,
    "pycharm": {
     "name": "#%%\n"
    }
   },
   "outputs": [
    {
     "data": {
      "text/plain": "        brand           model model_year  list_price  color     configuration  \\\n0   Chevrolet  Silverado 1500       2019    30999.99  Black                LT   \n1  Volkswagen          Tiguan       2015    11450.00   Grey  COMFORTLINE  4WD   \n2         GMC          Acadia       2019    33988.00  Other             SLT-2   \n3       Acura              TL       2004      500.00     na                na   \n4       Honda          Accord       2017    15499.00  White                LX   \n\n  condition       body_type             wheel_config transmission fuel_type  \\\n0      Used    Pickup Truck                    4 x 4    Automatic  Gasoline   \n1      Used  SUV, Crossover    All-wheel drive (AWD)    Automatic  Gasoline   \n2      Used           Other    All-wheel drive (AWD)    Automatic  Gasoline   \n3      Used           Sedan                       na           na        na   \n4      Used           Sedan  Front-wheel drive (FWD)        Other  Gasoline   \n\n   mileage                                        carfax_link  \\\n0  115,000  https://www.carproof.com/order?ref=kijiji&vin=...   \n1  129,000  https://www.carproof.com/order?ref=kijiji&vin=...   \n2   73,893  https://reports.carproof.com/en/main?id=ioaVnM...   \n3  200,500  https://www.carproof.com/order?ref=kijiji&vin=...   \n4   93,000  https://www.carproof.com/order?ref=kijiji&vin=...   \n\n                                     dealer_address  \n0                      Brydon Drive, Etobicoke, ON\\  \n1     1205 Finch Avenue West, Toronto, ON, M3J 2E8\\  \n2  1900 Victoria Park Avenue, Toronto, ON, M1R 1T6\\  \n3                               Toronto, ON M5N1A1\\  \n4     1726 Kingston Road, Scarborough, ON, M1N 1S8\\  ",
      "text/html": "<div>\n<style scoped>\n    .dataframe tbody tr th:only-of-type {\n        vertical-align: middle;\n    }\n\n    .dataframe tbody tr th {\n        vertical-align: top;\n    }\n\n    .dataframe thead th {\n        text-align: right;\n    }\n</style>\n<table border=\"1\" class=\"dataframe\">\n  <thead>\n    <tr style=\"text-align: right;\">\n      <th></th>\n      <th>brand</th>\n      <th>model</th>\n      <th>model_year</th>\n      <th>list_price</th>\n      <th>color</th>\n      <th>configuration</th>\n      <th>condition</th>\n      <th>body_type</th>\n      <th>wheel_config</th>\n      <th>transmission</th>\n      <th>fuel_type</th>\n      <th>mileage</th>\n      <th>carfax_link</th>\n      <th>dealer_address</th>\n    </tr>\n  </thead>\n  <tbody>\n    <tr>\n      <th>0</th>\n      <td>Chevrolet</td>\n      <td>Silverado 1500</td>\n      <td>2019</td>\n      <td>30999.99</td>\n      <td>Black</td>\n      <td>LT</td>\n      <td>Used</td>\n      <td>Pickup Truck</td>\n      <td>4 x 4</td>\n      <td>Automatic</td>\n      <td>Gasoline</td>\n      <td>115,000</td>\n      <td>https://www.carproof.com/order?ref=kijiji&amp;vin=...</td>\n      <td>Brydon Drive, Etobicoke, ON\\</td>\n    </tr>\n    <tr>\n      <th>1</th>\n      <td>Volkswagen</td>\n      <td>Tiguan</td>\n      <td>2015</td>\n      <td>11450.00</td>\n      <td>Grey</td>\n      <td>COMFORTLINE  4WD</td>\n      <td>Used</td>\n      <td>SUV, Crossover</td>\n      <td>All-wheel drive (AWD)</td>\n      <td>Automatic</td>\n      <td>Gasoline</td>\n      <td>129,000</td>\n      <td>https://www.carproof.com/order?ref=kijiji&amp;vin=...</td>\n      <td>1205 Finch Avenue West, Toronto, ON, M3J 2E8\\</td>\n    </tr>\n    <tr>\n      <th>2</th>\n      <td>GMC</td>\n      <td>Acadia</td>\n      <td>2019</td>\n      <td>33988.00</td>\n      <td>Other</td>\n      <td>SLT-2</td>\n      <td>Used</td>\n      <td>Other</td>\n      <td>All-wheel drive (AWD)</td>\n      <td>Automatic</td>\n      <td>Gasoline</td>\n      <td>73,893</td>\n      <td>https://reports.carproof.com/en/main?id=ioaVnM...</td>\n      <td>1900 Victoria Park Avenue, Toronto, ON, M1R 1T6\\</td>\n    </tr>\n    <tr>\n      <th>3</th>\n      <td>Acura</td>\n      <td>TL</td>\n      <td>2004</td>\n      <td>500.00</td>\n      <td>na</td>\n      <td>na</td>\n      <td>Used</td>\n      <td>Sedan</td>\n      <td>na</td>\n      <td>na</td>\n      <td>na</td>\n      <td>200,500</td>\n      <td>https://www.carproof.com/order?ref=kijiji&amp;vin=...</td>\n      <td>Toronto, ON M5N1A1\\</td>\n    </tr>\n    <tr>\n      <th>4</th>\n      <td>Honda</td>\n      <td>Accord</td>\n      <td>2017</td>\n      <td>15499.00</td>\n      <td>White</td>\n      <td>LX</td>\n      <td>Used</td>\n      <td>Sedan</td>\n      <td>Front-wheel drive (FWD)</td>\n      <td>Other</td>\n      <td>Gasoline</td>\n      <td>93,000</td>\n      <td>https://www.carproof.com/order?ref=kijiji&amp;vin=...</td>\n      <td>1726 Kingston Road, Scarborough, ON, M1N 1S8\\</td>\n    </tr>\n  </tbody>\n</table>\n</div>"
     },
     "execution_count": 159,
     "metadata": {},
     "output_type": "execute_result"
    }
   ],
   "source": [
    "df.head()"
   ]
  },
  {
   "cell_type": "markdown",
   "metadata": {
    "hidden": true,
    "pycharm": {
     "name": "#%% md\n"
    }
   },
   "source": [
    "#### Model Year"
   ]
  },
  {
   "cell_type": "code",
   "execution_count": 160,
   "metadata": {
    "hidden": true,
    "pycharm": {
     "name": "#%%\n"
    }
   },
   "outputs": [],
   "source": [
    "df['model_year'] = df['model_year'].apply(lambda x:int(x))"
   ]
  },
  {
   "cell_type": "markdown",
   "metadata": {
    "hidden": true,
    "pycharm": {
     "name": "#%% md\n"
    }
   },
   "source": [
    "#### Mileage"
   ]
  },
  {
   "cell_type": "markdown",
   "metadata": {
    "hidden": true,
    "pycharm": {
     "name": "#%% md\n"
    }
   },
   "source": [
    "Now I deal with the mileage variable. First deal with all of the \"na\" and NaN entries.\n",
    "\n",
    "For the \"na\" entries, alot the entries are \"new cars\"."
   ]
  },
  {
   "cell_type": "code",
   "execution_count": 161,
   "metadata": {
    "hidden": true,
    "pycharm": {
     "name": "#%%\n"
    }
   },
   "outputs": [
    {
     "data": {
      "text/plain": "        brand          model  model_year  list_price  color  \\\n151   Hyundai       Santa Fe        2021     36535.0  Black   \n179    Nissan          Other        2021     31354.0  Other   \n231    Nissan          Rogue        2021     33411.0  White   \n249     Dodge  Grand Caravan        2021     34735.0    Red   \n352   Hyundai       Santa Fe        2020     50828.0  Other   \n...       ...            ...         ...         ...    ...   \n5744      BMW             X1        2022     53479.0   Grey   \n5745      BMW       3-Series        2022     61829.0  White   \n5746      BMW             X1        2022     51949.0  White   \n5747      BMW             X3        2022     65449.0   Grey   \n5760      BMW             X3        2022     80904.0  White   \n\n                  configuration condition       body_type  \\\n151                   Preferred       New  SUV, Crossover   \n179                          SV       New    Minivan, Van   \n231                          SV       New  SUV, Crossover   \n249                         SXT       New    Minivan, Van   \n352        Ultimate 6 Passenger       New  SUV, Crossover   \n...                         ...       ...             ...   \n5744  XDrive28i M Sport Edition       New  SUV, Crossover   \n5745        XDrive Sedan (5R79)       New           Sedan   \n5746                  XDrive28i       New  SUV, Crossover   \n5747                  XDrive30i       New  SUV, Crossover   \n5760                  XDrive30e       New  SUV, Crossover   \n\n                 wheel_config transmission fuel_type mileage carfax_link  \\\n151     All-wheel drive (AWD)    Automatic        na      na          na   \n179   Front-wheel drive (FWD)        Other        na      na          na   \n231   Front-wheel drive (FWD)        Other        na      na          na   \n249   Front-wheel drive (FWD)    Automatic        na      na          na   \n352     All-wheel drive (AWD)    Automatic        na      na          na   \n...                       ...          ...       ...     ...         ...   \n5744    All-wheel drive (AWD)    Automatic     Other      na          na   \n5745    All-wheel drive (AWD)    Automatic     Other      na          na   \n5746    All-wheel drive (AWD)    Automatic     Other      na          na   \n5747    All-wheel drive (AWD)    Automatic     Other      na          na   \n5760    All-wheel drive (AWD)    Automatic     Other      na          na   \n\n                                     dealer_address  \n151    5515 Ambler Drive, Mississauga, ON, L4W 4N3\\  \n179   275 West Hunt Club Road, Ottawa, ON, K2E 1A6\\  \n231   275 West Hunt Club Road, Ottawa, ON, K2E 1A6\\  \n249    935 Woodlawn Road West, Guelph, ON, N1K 1B7\\  \n352    785 Woodlawn Road West, Guelph, ON, N1K 1E9\\  \n...                                             ...  \n5744    11 Sunlight Park Road, Toronto, ON, M4M 1B5  \n5745    11 Sunlight Park Road, Toronto, ON, M4M 1B5  \n5746    11 Sunlight Park Road, Toronto, ON, M4M 1B5  \n5747    11 Sunlight Park Road, Toronto, ON, M4M 1B5  \n5760    11 Sunlight Park Road, Toronto, ON, M4M 1B5  \n\n[110 rows x 14 columns]",
      "text/html": "<div>\n<style scoped>\n    .dataframe tbody tr th:only-of-type {\n        vertical-align: middle;\n    }\n\n    .dataframe tbody tr th {\n        vertical-align: top;\n    }\n\n    .dataframe thead th {\n        text-align: right;\n    }\n</style>\n<table border=\"1\" class=\"dataframe\">\n  <thead>\n    <tr style=\"text-align: right;\">\n      <th></th>\n      <th>brand</th>\n      <th>model</th>\n      <th>model_year</th>\n      <th>list_price</th>\n      <th>color</th>\n      <th>configuration</th>\n      <th>condition</th>\n      <th>body_type</th>\n      <th>wheel_config</th>\n      <th>transmission</th>\n      <th>fuel_type</th>\n      <th>mileage</th>\n      <th>carfax_link</th>\n      <th>dealer_address</th>\n    </tr>\n  </thead>\n  <tbody>\n    <tr>\n      <th>151</th>\n      <td>Hyundai</td>\n      <td>Santa Fe</td>\n      <td>2021</td>\n      <td>36535.0</td>\n      <td>Black</td>\n      <td>Preferred</td>\n      <td>New</td>\n      <td>SUV, Crossover</td>\n      <td>All-wheel drive (AWD)</td>\n      <td>Automatic</td>\n      <td>na</td>\n      <td>na</td>\n      <td>na</td>\n      <td>5515 Ambler Drive, Mississauga, ON, L4W 4N3\\</td>\n    </tr>\n    <tr>\n      <th>179</th>\n      <td>Nissan</td>\n      <td>Other</td>\n      <td>2021</td>\n      <td>31354.0</td>\n      <td>Other</td>\n      <td>SV</td>\n      <td>New</td>\n      <td>Minivan, Van</td>\n      <td>Front-wheel drive (FWD)</td>\n      <td>Other</td>\n      <td>na</td>\n      <td>na</td>\n      <td>na</td>\n      <td>275 West Hunt Club Road, Ottawa, ON, K2E 1A6\\</td>\n    </tr>\n    <tr>\n      <th>231</th>\n      <td>Nissan</td>\n      <td>Rogue</td>\n      <td>2021</td>\n      <td>33411.0</td>\n      <td>White</td>\n      <td>SV</td>\n      <td>New</td>\n      <td>SUV, Crossover</td>\n      <td>Front-wheel drive (FWD)</td>\n      <td>Other</td>\n      <td>na</td>\n      <td>na</td>\n      <td>na</td>\n      <td>275 West Hunt Club Road, Ottawa, ON, K2E 1A6\\</td>\n    </tr>\n    <tr>\n      <th>249</th>\n      <td>Dodge</td>\n      <td>Grand Caravan</td>\n      <td>2021</td>\n      <td>34735.0</td>\n      <td>Red</td>\n      <td>SXT</td>\n      <td>New</td>\n      <td>Minivan, Van</td>\n      <td>Front-wheel drive (FWD)</td>\n      <td>Automatic</td>\n      <td>na</td>\n      <td>na</td>\n      <td>na</td>\n      <td>935 Woodlawn Road West, Guelph, ON, N1K 1B7\\</td>\n    </tr>\n    <tr>\n      <th>352</th>\n      <td>Hyundai</td>\n      <td>Santa Fe</td>\n      <td>2020</td>\n      <td>50828.0</td>\n      <td>Other</td>\n      <td>Ultimate 6 Passenger</td>\n      <td>New</td>\n      <td>SUV, Crossover</td>\n      <td>All-wheel drive (AWD)</td>\n      <td>Automatic</td>\n      <td>na</td>\n      <td>na</td>\n      <td>na</td>\n      <td>785 Woodlawn Road West, Guelph, ON, N1K 1E9\\</td>\n    </tr>\n    <tr>\n      <th>...</th>\n      <td>...</td>\n      <td>...</td>\n      <td>...</td>\n      <td>...</td>\n      <td>...</td>\n      <td>...</td>\n      <td>...</td>\n      <td>...</td>\n      <td>...</td>\n      <td>...</td>\n      <td>...</td>\n      <td>...</td>\n      <td>...</td>\n      <td>...</td>\n    </tr>\n    <tr>\n      <th>5744</th>\n      <td>BMW</td>\n      <td>X1</td>\n      <td>2022</td>\n      <td>53479.0</td>\n      <td>Grey</td>\n      <td>XDrive28i M Sport Edition</td>\n      <td>New</td>\n      <td>SUV, Crossover</td>\n      <td>All-wheel drive (AWD)</td>\n      <td>Automatic</td>\n      <td>Other</td>\n      <td>na</td>\n      <td>na</td>\n      <td>11 Sunlight Park Road, Toronto, ON, M4M 1B5</td>\n    </tr>\n    <tr>\n      <th>5745</th>\n      <td>BMW</td>\n      <td>3-Series</td>\n      <td>2022</td>\n      <td>61829.0</td>\n      <td>White</td>\n      <td>XDrive Sedan (5R79)</td>\n      <td>New</td>\n      <td>Sedan</td>\n      <td>All-wheel drive (AWD)</td>\n      <td>Automatic</td>\n      <td>Other</td>\n      <td>na</td>\n      <td>na</td>\n      <td>11 Sunlight Park Road, Toronto, ON, M4M 1B5</td>\n    </tr>\n    <tr>\n      <th>5746</th>\n      <td>BMW</td>\n      <td>X1</td>\n      <td>2022</td>\n      <td>51949.0</td>\n      <td>White</td>\n      <td>XDrive28i</td>\n      <td>New</td>\n      <td>SUV, Crossover</td>\n      <td>All-wheel drive (AWD)</td>\n      <td>Automatic</td>\n      <td>Other</td>\n      <td>na</td>\n      <td>na</td>\n      <td>11 Sunlight Park Road, Toronto, ON, M4M 1B5</td>\n    </tr>\n    <tr>\n      <th>5747</th>\n      <td>BMW</td>\n      <td>X3</td>\n      <td>2022</td>\n      <td>65449.0</td>\n      <td>Grey</td>\n      <td>XDrive30i</td>\n      <td>New</td>\n      <td>SUV, Crossover</td>\n      <td>All-wheel drive (AWD)</td>\n      <td>Automatic</td>\n      <td>Other</td>\n      <td>na</td>\n      <td>na</td>\n      <td>11 Sunlight Park Road, Toronto, ON, M4M 1B5</td>\n    </tr>\n    <tr>\n      <th>5760</th>\n      <td>BMW</td>\n      <td>X3</td>\n      <td>2022</td>\n      <td>80904.0</td>\n      <td>White</td>\n      <td>XDrive30e</td>\n      <td>New</td>\n      <td>SUV, Crossover</td>\n      <td>All-wheel drive (AWD)</td>\n      <td>Automatic</td>\n      <td>Other</td>\n      <td>na</td>\n      <td>na</td>\n      <td>11 Sunlight Park Road, Toronto, ON, M4M 1B5</td>\n    </tr>\n  </tbody>\n</table>\n<p>110 rows × 14 columns</p>\n</div>"
     },
     "execution_count": 161,
     "metadata": {},
     "output_type": "execute_result"
    }
   ],
   "source": [
    "df[df['mileage']== 'na']"
   ]
  },
  {
   "cell_type": "markdown",
   "metadata": {
    "hidden": true,
    "pycharm": {
     "name": "#%% md\n"
    }
   },
   "source": [
    "For mileage, all of the cars with 'na' are new cars (total na mileage == new cars with na mileage). Therefore, 'na' can be replaced with a low mileage number."
   ]
  },
  {
   "cell_type": "code",
   "execution_count": 162,
   "metadata": {
    "hidden": true,
    "pycharm": {
     "name": "#%%\n"
    }
   },
   "outputs": [
    {
     "name": "stdout",
     "output_type": "stream",
     "text": [
      "All cars with na mileage: 110\n",
      "New cars with na mileage: 110\n"
     ]
    }
   ],
   "source": [
    "print(\"All cars with na mileage:\",len(df[df['mileage']== 'na']))\n",
    "print(\"New cars with na mileage:\",len(df[(df['mileage']== 'na') & (df['condition']== 'New')]))"
   ]
  },
  {
   "cell_type": "code",
   "execution_count": 163,
   "metadata": {
    "hidden": true,
    "pycharm": {
     "name": "#%%\n"
    }
   },
   "outputs": [],
   "source": [
    "df[\"mileage\"].replace({\"na\": \"50\"}, inplace=True)"
   ]
  },
  {
   "cell_type": "markdown",
   "metadata": {
    "hidden": true,
    "pycharm": {
     "name": "#%% md\n"
    }
   },
   "source": [
    "There are only 10 NaN entries, which is not a lot. Furthermore, the list price doesn't show a specific trend for NaN entries. We can remove them."
   ]
  },
  {
   "cell_type": "code",
   "execution_count": 164,
   "metadata": {
    "hidden": true,
    "pycharm": {
     "name": "#%%\n"
    }
   },
   "outputs": [
    {
     "name": "stdout",
     "output_type": "stream",
     "text": [
      "8\n"
     ]
    },
    {
     "data": {
      "text/plain": "        model_year    list_price\ncount     8.000000      8.000000\nmean   2016.000000  23358.000000\nstd       5.237229  13516.439535\nmin    2008.000000   1800.000000\n25%    2011.500000  14248.000000\n50%    2018.000000  25492.500000\n75%    2020.250000  33271.250000\nmax    2021.000000  39990.000000",
      "text/html": "<div>\n<style scoped>\n    .dataframe tbody tr th:only-of-type {\n        vertical-align: middle;\n    }\n\n    .dataframe tbody tr th {\n        vertical-align: top;\n    }\n\n    .dataframe thead th {\n        text-align: right;\n    }\n</style>\n<table border=\"1\" class=\"dataframe\">\n  <thead>\n    <tr style=\"text-align: right;\">\n      <th></th>\n      <th>model_year</th>\n      <th>list_price</th>\n    </tr>\n  </thead>\n  <tbody>\n    <tr>\n      <th>count</th>\n      <td>8.000000</td>\n      <td>8.000000</td>\n    </tr>\n    <tr>\n      <th>mean</th>\n      <td>2016.000000</td>\n      <td>23358.000000</td>\n    </tr>\n    <tr>\n      <th>std</th>\n      <td>5.237229</td>\n      <td>13516.439535</td>\n    </tr>\n    <tr>\n      <th>min</th>\n      <td>2008.000000</td>\n      <td>1800.000000</td>\n    </tr>\n    <tr>\n      <th>25%</th>\n      <td>2011.500000</td>\n      <td>14248.000000</td>\n    </tr>\n    <tr>\n      <th>50%</th>\n      <td>2018.000000</td>\n      <td>25492.500000</td>\n    </tr>\n    <tr>\n      <th>75%</th>\n      <td>2020.250000</td>\n      <td>33271.250000</td>\n    </tr>\n    <tr>\n      <th>max</th>\n      <td>2021.000000</td>\n      <td>39990.000000</td>\n    </tr>\n  </tbody>\n</table>\n</div>"
     },
     "execution_count": 164,
     "metadata": {},
     "output_type": "execute_result"
    }
   ],
   "source": [
    "nan_mileage = df[df['mileage'].isnull()]\n",
    "print(len(nan_mileage))\n",
    "nan_mileage.describe()"
   ]
  },
  {
   "cell_type": "markdown",
   "metadata": {
    "hidden": true,
    "pycharm": {
     "name": "#%% md\n"
    }
   },
   "source": [
    "For cars that have NaN mileage and older than 2010, all but one have a list price of $1. We can remove this as this is either a fake add or a mis-listing."
   ]
  },
  {
   "cell_type": "code",
   "execution_count": 165,
   "metadata": {
    "hidden": true,
    "pycharm": {
     "name": "#%%\n"
    }
   },
   "outputs": [
    {
     "data": {
      "text/plain": "              brand     model  model_year  list_price  color  \\\n129   Mercedes-Benz     Other        2010     15999.0  White   \n584          Toyota      RAV4        2012      8995.0  Other   \n1893         Toyota      RAV4        2020     37100.0  White   \n1989          Isuzu     Other        2017     39990.0  White   \n2897      Chevrolet   Express        2019     26990.0  White   \n3149        Pontiac   Pursuit        2008      1800.0  Black   \n3330            Ram      1500        2021     31995.0  Other   \n3527           Jeep  Cherokee        2021     23995.0  Other   \n\n                                    configuration condition       body_type  \\\n129                             WWW.MOLANDSONS.CA      Used           Other   \n584                                            na      Used           Sedan   \n1893                          Hybrid SE | Low KMS      Used  SUV, Crossover   \n1989                            20' Box P.T. Gate      Used    Minivan, Van   \n2897           3/4 Ton EXTENDED Cargo Van, Loaded      Used    Minivan, Van   \n3149                                   2dr Cpe GT      Used  Coupe (2 door)   \n3330   **BRAND NEW** RE-DESIGNED!! TRADESMAN 5.7L      Used    Pickup Truck   \n3527  **BRAND NEW!!** That's Right! Only $23,995!      Used  SUV, Crossover   \n\n                 wheel_config transmission fuel_type mileage  \\\n129                     Other    Automatic    Diesel     NaN   \n584     All-wheel drive (AWD)    Automatic        na     NaN   \n1893                    Other    Automatic  Gasoline     NaN   \n1989   Rear-wheel drive (RWD)    Automatic  Gasoline     NaN   \n2897   Rear-wheel drive (RWD)    Automatic  Gasoline     NaN   \n3149  Front-wheel drive (FWD)       Manual        na     NaN   \n3330                    Other    Automatic        na     NaN   \n3527  Front-wheel drive (FWD)    Automatic        na     NaN   \n\n                                            carfax_link  \\\n129   https://www.carproof.com/order?ref=kijiji&vin=...   \n584   https://www.carproof.com/order?ref=kijiji&vin=...   \n1893  https://reports.carproof.com/en/main?id=ulJfKR...   \n1989  https://www.carproof.com/order?ref=kijiji&vin=...   \n2897  https://www.carproof.com/order?ref=kijiji&vin=...   \n3149  https://www.carproof.com/order?ref=kijiji&vin=...   \n3330  https://www.carproof.com/order?ref=kijiji&vin=...   \n3527  https://www.carproof.com/order?ref=kijiji&vin=...   \n\n                                         dealer_address  \n129        1897 Wilson Avenue, North York, ON, M9M 1A2\\  \n584                             North York, ON M3J 3K2\\  \n1893   1897 Eglinton Avenue East, Toronto, ON, M1L 2L6\\  \n1989           5298 Highway 7, Woodbridge, ON, L4L 1T3\\  \n2897           5298 Highway 7, Woodbridge, ON, L4L 1T3\\  \n3149          5404 Gateway Blvd, Edmonton, AB, T6H 1B7\\  \n3330  212 Lakeshore Road West, Mississauga, ON, L5H ...  \n3527  212 Lakeshore Road West, Mississauga, ON, L5H ...  ",
      "text/html": "<div>\n<style scoped>\n    .dataframe tbody tr th:only-of-type {\n        vertical-align: middle;\n    }\n\n    .dataframe tbody tr th {\n        vertical-align: top;\n    }\n\n    .dataframe thead th {\n        text-align: right;\n    }\n</style>\n<table border=\"1\" class=\"dataframe\">\n  <thead>\n    <tr style=\"text-align: right;\">\n      <th></th>\n      <th>brand</th>\n      <th>model</th>\n      <th>model_year</th>\n      <th>list_price</th>\n      <th>color</th>\n      <th>configuration</th>\n      <th>condition</th>\n      <th>body_type</th>\n      <th>wheel_config</th>\n      <th>transmission</th>\n      <th>fuel_type</th>\n      <th>mileage</th>\n      <th>carfax_link</th>\n      <th>dealer_address</th>\n    </tr>\n  </thead>\n  <tbody>\n    <tr>\n      <th>129</th>\n      <td>Mercedes-Benz</td>\n      <td>Other</td>\n      <td>2010</td>\n      <td>15999.0</td>\n      <td>White</td>\n      <td>WWW.MOLANDSONS.CA</td>\n      <td>Used</td>\n      <td>Other</td>\n      <td>Other</td>\n      <td>Automatic</td>\n      <td>Diesel</td>\n      <td>NaN</td>\n      <td>https://www.carproof.com/order?ref=kijiji&amp;vin=...</td>\n      <td>1897 Wilson Avenue, North York, ON, M9M 1A2\\</td>\n    </tr>\n    <tr>\n      <th>584</th>\n      <td>Toyota</td>\n      <td>RAV4</td>\n      <td>2012</td>\n      <td>8995.0</td>\n      <td>Other</td>\n      <td>na</td>\n      <td>Used</td>\n      <td>Sedan</td>\n      <td>All-wheel drive (AWD)</td>\n      <td>Automatic</td>\n      <td>na</td>\n      <td>NaN</td>\n      <td>https://www.carproof.com/order?ref=kijiji&amp;vin=...</td>\n      <td>North York, ON M3J 3K2\\</td>\n    </tr>\n    <tr>\n      <th>1893</th>\n      <td>Toyota</td>\n      <td>RAV4</td>\n      <td>2020</td>\n      <td>37100.0</td>\n      <td>White</td>\n      <td>Hybrid SE | Low KMS</td>\n      <td>Used</td>\n      <td>SUV, Crossover</td>\n      <td>Other</td>\n      <td>Automatic</td>\n      <td>Gasoline</td>\n      <td>NaN</td>\n      <td>https://reports.carproof.com/en/main?id=ulJfKR...</td>\n      <td>1897 Eglinton Avenue East, Toronto, ON, M1L 2L6\\</td>\n    </tr>\n    <tr>\n      <th>1989</th>\n      <td>Isuzu</td>\n      <td>Other</td>\n      <td>2017</td>\n      <td>39990.0</td>\n      <td>White</td>\n      <td>20' Box P.T. Gate</td>\n      <td>Used</td>\n      <td>Minivan, Van</td>\n      <td>Rear-wheel drive (RWD)</td>\n      <td>Automatic</td>\n      <td>Gasoline</td>\n      <td>NaN</td>\n      <td>https://www.carproof.com/order?ref=kijiji&amp;vin=...</td>\n      <td>5298 Highway 7, Woodbridge, ON, L4L 1T3\\</td>\n    </tr>\n    <tr>\n      <th>2897</th>\n      <td>Chevrolet</td>\n      <td>Express</td>\n      <td>2019</td>\n      <td>26990.0</td>\n      <td>White</td>\n      <td>3/4 Ton EXTENDED Cargo Van, Loaded</td>\n      <td>Used</td>\n      <td>Minivan, Van</td>\n      <td>Rear-wheel drive (RWD)</td>\n      <td>Automatic</td>\n      <td>Gasoline</td>\n      <td>NaN</td>\n      <td>https://www.carproof.com/order?ref=kijiji&amp;vin=...</td>\n      <td>5298 Highway 7, Woodbridge, ON, L4L 1T3\\</td>\n    </tr>\n    <tr>\n      <th>3149</th>\n      <td>Pontiac</td>\n      <td>Pursuit</td>\n      <td>2008</td>\n      <td>1800.0</td>\n      <td>Black</td>\n      <td>2dr Cpe GT</td>\n      <td>Used</td>\n      <td>Coupe (2 door)</td>\n      <td>Front-wheel drive (FWD)</td>\n      <td>Manual</td>\n      <td>na</td>\n      <td>NaN</td>\n      <td>https://www.carproof.com/order?ref=kijiji&amp;vin=...</td>\n      <td>5404 Gateway Blvd, Edmonton, AB, T6H 1B7\\</td>\n    </tr>\n    <tr>\n      <th>3330</th>\n      <td>Ram</td>\n      <td>1500</td>\n      <td>2021</td>\n      <td>31995.0</td>\n      <td>Other</td>\n      <td>**BRAND NEW** RE-DESIGNED!! TRADESMAN 5.7L</td>\n      <td>Used</td>\n      <td>Pickup Truck</td>\n      <td>Other</td>\n      <td>Automatic</td>\n      <td>na</td>\n      <td>NaN</td>\n      <td>https://www.carproof.com/order?ref=kijiji&amp;vin=...</td>\n      <td>212 Lakeshore Road West, Mississauga, ON, L5H ...</td>\n    </tr>\n    <tr>\n      <th>3527</th>\n      <td>Jeep</td>\n      <td>Cherokee</td>\n      <td>2021</td>\n      <td>23995.0</td>\n      <td>Other</td>\n      <td>**BRAND NEW!!** That's Right! Only $23,995!</td>\n      <td>Used</td>\n      <td>SUV, Crossover</td>\n      <td>Front-wheel drive (FWD)</td>\n      <td>Automatic</td>\n      <td>na</td>\n      <td>NaN</td>\n      <td>https://www.carproof.com/order?ref=kijiji&amp;vin=...</td>\n      <td>212 Lakeshore Road West, Mississauga, ON, L5H ...</td>\n    </tr>\n  </tbody>\n</table>\n</div>"
     },
     "execution_count": 165,
     "metadata": {},
     "output_type": "execute_result"
    }
   ],
   "source": [
    "nan_mileage"
   ]
  },
  {
   "cell_type": "code",
   "execution_count": 166,
   "metadata": {
    "hidden": true,
    "pycharm": {
     "name": "#%%\n"
    }
   },
   "outputs": [],
   "source": [
    "df = df[df['mileage'].isnull() == False]"
   ]
  },
  {
   "cell_type": "code",
   "execution_count": 167,
   "metadata": {
    "hidden": true,
    "pycharm": {
     "name": "#%%\n"
    }
   },
   "outputs": [],
   "source": [
    "df['mileage'] = df['mileage'].apply(lambda x:int(x.replace(',','')))"
   ]
  },
  {
   "cell_type": "code",
   "execution_count": 168,
   "metadata": {
    "hidden": true,
    "pycharm": {
     "name": "#%%\n"
    }
   },
   "outputs": [
    {
     "name": "stdout",
     "output_type": "stream",
     "text": [
      "DATASET HAS 1355 ENTRIES\n",
      "brand has 39 unique values\n",
      "model has 259 unique values\n",
      "model_year has 25 unique values\n",
      "list_price has 833 unique values\n",
      "color has 18 unique values\n",
      "configuration has 966 unique values\n",
      "condition has 4 unique values\n",
      "body_type has 9 unique values\n",
      "wheel_config has 6 unique values\n",
      "transmission has 5 unique values\n",
      "fuel_type has 5 unique values\n",
      "mileage has 1013 unique values\n",
      "carfax_link has 984 unique values\n",
      "dealer_address has 308 unique values\n"
     ]
    }
   ],
   "source": [
    "#Print out the number of unique values\n",
    "print(\"DATASET HAS\",df.shape[0],\"ENTRIES\")\n",
    "for i in columns:\n",
    "\tprint(i,\"has\",len(df[i].unique()),\"unique values\")"
   ]
  },
  {
   "cell_type": "markdown",
   "metadata": {
    "heading_collapsed": true,
    "hidden": true,
    "pycharm": {
     "name": "#%% md\n"
    }
   },
   "source": [
    "### Categorical Variables\n",
    "Now I will deal with the categorical features that require data cleaning. I will deal with brand, model, and carfax link in the next section as they need feature engineering."
   ]
  },
  {
   "cell_type": "code",
   "execution_count": 169,
   "metadata": {
    "hidden": true,
    "pycharm": {
     "name": "#%%\n"
    }
   },
   "outputs": [
    {
     "data": {
      "text/plain": "              brand           model  model_year  list_price  color  \\\n0         Chevrolet  Silverado 1500        2019    30999.99  Black   \n1        Volkswagen          Tiguan        2015    11450.00   Grey   \n2               GMC          Acadia        2019    33988.00  Other   \n3             Acura              TL        2004      500.00     na   \n4             Honda          Accord        2017    15499.00  White   \n...             ...             ...         ...         ...    ...   \n5755         Toyota         Corolla        2016    15998.00  Black   \n5756  Mercedes-Benz             CLA        2016    39800.00  Black   \n5757  Mercedes-Benz             GLE        2020    79995.00   Grey   \n5758            BMW        3-Series        2012    15500.00   Blue   \n5760            BMW              X3        2022    80904.00  White   \n\n                                          configuration condition  \\\n0                                                    LT      Used   \n1                                      COMFORTLINE  4WD      Used   \n2                                                 SLT-2      Used   \n3                                                    na      Used   \n4                                                    LX      Used   \n...                                                 ...       ...   \n5755                                                 CE      Used   \n5756           AMG CLA45, 375HP, PANO, NAV, ACTIVE PARK      Used   \n5757  GLE450|4MATIC|AMGPKG|HUD|NAV|BURMESTER|360CAM|...      Used   \n5758                                               328i      Used   \n5760                                          XDrive30e       New   \n\n           body_type             wheel_config transmission fuel_type  mileage  \\\n0       Pickup Truck                    4 x 4    Automatic  Gasoline   115000   \n1     SUV, Crossover    All-wheel drive (AWD)    Automatic  Gasoline   129000   \n2              Other    All-wheel drive (AWD)    Automatic  Gasoline    73893   \n3              Sedan                       na           na        na   200500   \n4              Sedan  Front-wheel drive (FWD)        Other  Gasoline    93000   \n...              ...                      ...          ...       ...      ...   \n5755           Sedan  Front-wheel drive (FWD)    Automatic     Other   131540   \n5756           Sedan    All-wheel drive (AWD)    Automatic     Other    64372   \n5757  SUV, Crossover    All-wheel drive (AWD)    Automatic     Other    43313   \n5758           Sedan   Rear-wheel drive (RWD)    Automatic  Gasoline   165000   \n5760  SUV, Crossover    All-wheel drive (AWD)    Automatic     Other       50   \n\n                                            carfax_link  \\\n0     https://www.carproof.com/order?ref=kijiji&vin=...   \n1     https://www.carproof.com/order?ref=kijiji&vin=...   \n2     https://reports.carproof.com/en/main?id=ioaVnM...   \n3     https://www.carproof.com/order?ref=kijiji&vin=...   \n4     https://www.carproof.com/order?ref=kijiji&vin=...   \n...                                                 ...   \n5755  https://www.carproof.com/order?ref=kijiji&vin=...   \n5756  https://www.carproof.com/order?ref=kijiji&vin=...   \n5757                                                 na   \n5758  https://www.carproof.com/order?ref=kijiji&vin=...   \n5760                                                 na   \n\n                                        dealer_address  \n0                         Brydon Drive, Etobicoke, ON\\  \n1        1205 Finch Avenue West, Toronto, ON, M3J 2E8\\  \n2     1900 Victoria Park Avenue, Toronto, ON, M1R 1T6\\  \n3                                  Toronto, ON M5N1A1\\  \n4        1726 Kingston Road, Scarborough, ON, M1N 1S8\\  \n...                                                ...  \n5755    2333 Barton Street East, Hamilton, ON, L8E 2W8  \n5756       60 Martin Ross Avenue, Toronto, ON, M3J 2L4  \n5757            100 Toro Road, North York, ON, M3J 2A9  \n5758                            North York, ON M3H 2V6  \n5760       11 Sunlight Park Road, Toronto, ON, M4M 1B5  \n\n[1355 rows x 14 columns]",
      "text/html": "<div>\n<style scoped>\n    .dataframe tbody tr th:only-of-type {\n        vertical-align: middle;\n    }\n\n    .dataframe tbody tr th {\n        vertical-align: top;\n    }\n\n    .dataframe thead th {\n        text-align: right;\n    }\n</style>\n<table border=\"1\" class=\"dataframe\">\n  <thead>\n    <tr style=\"text-align: right;\">\n      <th></th>\n      <th>brand</th>\n      <th>model</th>\n      <th>model_year</th>\n      <th>list_price</th>\n      <th>color</th>\n      <th>configuration</th>\n      <th>condition</th>\n      <th>body_type</th>\n      <th>wheel_config</th>\n      <th>transmission</th>\n      <th>fuel_type</th>\n      <th>mileage</th>\n      <th>carfax_link</th>\n      <th>dealer_address</th>\n    </tr>\n  </thead>\n  <tbody>\n    <tr>\n      <th>0</th>\n      <td>Chevrolet</td>\n      <td>Silverado 1500</td>\n      <td>2019</td>\n      <td>30999.99</td>\n      <td>Black</td>\n      <td>LT</td>\n      <td>Used</td>\n      <td>Pickup Truck</td>\n      <td>4 x 4</td>\n      <td>Automatic</td>\n      <td>Gasoline</td>\n      <td>115000</td>\n      <td>https://www.carproof.com/order?ref=kijiji&amp;vin=...</td>\n      <td>Brydon Drive, Etobicoke, ON\\</td>\n    </tr>\n    <tr>\n      <th>1</th>\n      <td>Volkswagen</td>\n      <td>Tiguan</td>\n      <td>2015</td>\n      <td>11450.00</td>\n      <td>Grey</td>\n      <td>COMFORTLINE  4WD</td>\n      <td>Used</td>\n      <td>SUV, Crossover</td>\n      <td>All-wheel drive (AWD)</td>\n      <td>Automatic</td>\n      <td>Gasoline</td>\n      <td>129000</td>\n      <td>https://www.carproof.com/order?ref=kijiji&amp;vin=...</td>\n      <td>1205 Finch Avenue West, Toronto, ON, M3J 2E8\\</td>\n    </tr>\n    <tr>\n      <th>2</th>\n      <td>GMC</td>\n      <td>Acadia</td>\n      <td>2019</td>\n      <td>33988.00</td>\n      <td>Other</td>\n      <td>SLT-2</td>\n      <td>Used</td>\n      <td>Other</td>\n      <td>All-wheel drive (AWD)</td>\n      <td>Automatic</td>\n      <td>Gasoline</td>\n      <td>73893</td>\n      <td>https://reports.carproof.com/en/main?id=ioaVnM...</td>\n      <td>1900 Victoria Park Avenue, Toronto, ON, M1R 1T6\\</td>\n    </tr>\n    <tr>\n      <th>3</th>\n      <td>Acura</td>\n      <td>TL</td>\n      <td>2004</td>\n      <td>500.00</td>\n      <td>na</td>\n      <td>na</td>\n      <td>Used</td>\n      <td>Sedan</td>\n      <td>na</td>\n      <td>na</td>\n      <td>na</td>\n      <td>200500</td>\n      <td>https://www.carproof.com/order?ref=kijiji&amp;vin=...</td>\n      <td>Toronto, ON M5N1A1\\</td>\n    </tr>\n    <tr>\n      <th>4</th>\n      <td>Honda</td>\n      <td>Accord</td>\n      <td>2017</td>\n      <td>15499.00</td>\n      <td>White</td>\n      <td>LX</td>\n      <td>Used</td>\n      <td>Sedan</td>\n      <td>Front-wheel drive (FWD)</td>\n      <td>Other</td>\n      <td>Gasoline</td>\n      <td>93000</td>\n      <td>https://www.carproof.com/order?ref=kijiji&amp;vin=...</td>\n      <td>1726 Kingston Road, Scarborough, ON, M1N 1S8\\</td>\n    </tr>\n    <tr>\n      <th>...</th>\n      <td>...</td>\n      <td>...</td>\n      <td>...</td>\n      <td>...</td>\n      <td>...</td>\n      <td>...</td>\n      <td>...</td>\n      <td>...</td>\n      <td>...</td>\n      <td>...</td>\n      <td>...</td>\n      <td>...</td>\n      <td>...</td>\n      <td>...</td>\n    </tr>\n    <tr>\n      <th>5755</th>\n      <td>Toyota</td>\n      <td>Corolla</td>\n      <td>2016</td>\n      <td>15998.00</td>\n      <td>Black</td>\n      <td>CE</td>\n      <td>Used</td>\n      <td>Sedan</td>\n      <td>Front-wheel drive (FWD)</td>\n      <td>Automatic</td>\n      <td>Other</td>\n      <td>131540</td>\n      <td>https://www.carproof.com/order?ref=kijiji&amp;vin=...</td>\n      <td>2333 Barton Street East, Hamilton, ON, L8E 2W8</td>\n    </tr>\n    <tr>\n      <th>5756</th>\n      <td>Mercedes-Benz</td>\n      <td>CLA</td>\n      <td>2016</td>\n      <td>39800.00</td>\n      <td>Black</td>\n      <td>AMG CLA45, 375HP, PANO, NAV, ACTIVE PARK</td>\n      <td>Used</td>\n      <td>Sedan</td>\n      <td>All-wheel drive (AWD)</td>\n      <td>Automatic</td>\n      <td>Other</td>\n      <td>64372</td>\n      <td>https://www.carproof.com/order?ref=kijiji&amp;vin=...</td>\n      <td>60 Martin Ross Avenue, Toronto, ON, M3J 2L4</td>\n    </tr>\n    <tr>\n      <th>5757</th>\n      <td>Mercedes-Benz</td>\n      <td>GLE</td>\n      <td>2020</td>\n      <td>79995.00</td>\n      <td>Grey</td>\n      <td>GLE450|4MATIC|AMGPKG|HUD|NAV|BURMESTER|360CAM|...</td>\n      <td>Used</td>\n      <td>SUV, Crossover</td>\n      <td>All-wheel drive (AWD)</td>\n      <td>Automatic</td>\n      <td>Other</td>\n      <td>43313</td>\n      <td>na</td>\n      <td>100 Toro Road, North York, ON, M3J 2A9</td>\n    </tr>\n    <tr>\n      <th>5758</th>\n      <td>BMW</td>\n      <td>3-Series</td>\n      <td>2012</td>\n      <td>15500.00</td>\n      <td>Blue</td>\n      <td>328i</td>\n      <td>Used</td>\n      <td>Sedan</td>\n      <td>Rear-wheel drive (RWD)</td>\n      <td>Automatic</td>\n      <td>Gasoline</td>\n      <td>165000</td>\n      <td>https://www.carproof.com/order?ref=kijiji&amp;vin=...</td>\n      <td>North York, ON M3H 2V6</td>\n    </tr>\n    <tr>\n      <th>5760</th>\n      <td>BMW</td>\n      <td>X3</td>\n      <td>2022</td>\n      <td>80904.00</td>\n      <td>White</td>\n      <td>XDrive30e</td>\n      <td>New</td>\n      <td>SUV, Crossover</td>\n      <td>All-wheel drive (AWD)</td>\n      <td>Automatic</td>\n      <td>Other</td>\n      <td>50</td>\n      <td>na</td>\n      <td>11 Sunlight Park Road, Toronto, ON, M4M 1B5</td>\n    </tr>\n  </tbody>\n</table>\n<p>1355 rows × 14 columns</p>\n</div>"
     },
     "execution_count": 169,
     "metadata": {},
     "output_type": "execute_result"
    }
   ],
   "source": [
    "df"
   ]
  },
  {
   "cell_type": "markdown",
   "metadata": {
    "hidden": true,
    "pycharm": {
     "name": "#%% md\n"
    }
   },
   "source": [
    "#### Color"
   ]
  },
  {
   "cell_type": "code",
   "execution_count": 170,
   "metadata": {
    "hidden": true,
    "pycharm": {
     "name": "#%%\n"
    }
   },
   "outputs": [
    {
     "data": {
      "text/plain": "Black        366\nWhite        326\nGrey         208\nBlue         114\nSilver       100\nRed           79\nOther         70\nna            24\nBrown         17\nGold          10\nBurgundy       9\nBeige          8\nGreen          8\nYellow         8\nOrange         5\nTan            1\nPurple         1\nOff-White      1\nName: color, dtype: int64"
     },
     "execution_count": 170,
     "metadata": {},
     "output_type": "execute_result"
    }
   ],
   "source": [
    "df['color'].value_counts()"
   ]
  },
  {
   "cell_type": "code",
   "execution_count": 171,
   "metadata": {
    "hidden": true,
    "pycharm": {
     "name": "#%%\n"
    }
   },
   "outputs": [],
   "source": [
    "df.loc[(df.color.isin([\"Black\",\"White\",\"Grey\",\"Blue\",\"Silver\",\"Red\"]) == False), \"color\"] = \"other\""
   ]
  },
  {
   "cell_type": "markdown",
   "metadata": {
    "hidden": true,
    "pycharm": {
     "name": "#%% md\n"
    }
   },
   "source": [
    "#### Configuration\n",
    "Configuration for each vehicle is unique and more importantly, does not have a standardized format. Some of them do have valuable \"generalizable\" information like \"PREMIUM PKG\" or \"FULLY LOADED\", however there are a lot of entries like \"328i xDrive\" which is a car model, or LXE which is trim level specific to that particular model. Therefore, including this column may lead to over-fitting.\n"
   ]
  },
  {
   "cell_type": "code",
   "execution_count": 172,
   "metadata": {
    "hidden": true,
    "pycharm": {
     "name": "#%%\n"
    }
   },
   "outputs": [
    {
     "data": {
      "text/plain": "array(['LT', 'COMFORTLINE  4WD', 'SLT-2', 'na', 'LX', 'LIMITED',\n       'LTLEATHER|NAVI|PANOROOF|',\n       'SE, $62/wk, heated seat, alloys, backup camera', 'DHS',\n       '1 OWNER, Accident Free, Navi, Heated Seats, AWD', 'LE',\n       '320I X DRIVE SPORT+ NAVI PKG AUT0 SUNROOF 103K',\n       'Autopilot, 21Whls, Sunroof, INSANE Mode, EV', 'LE AWD',\n       'EX-T w/Honda Sensing/SUNROOF/REAR CAMERA !!!',\n       'TOURING NAVIGATION LEATHER SUNROOF BACK UP CAMERA',\n       'LIKE NEW!!/CHRISTMAS SPECIAL!!',\n       'GTS/NAV/PORSCHE ENTRY&DRIVE/LANE CHANGE ASSIST',\n       '3.0T QUATTRO PREM, N',\n       'X DRIVE 35i M SPORT + ACTIVITY + PREMIUM PKG', 'sedan',\n       '2.0L TRENDLINE 5 SPEED A/C H/SEATS REAR CAMERA 67K',\n       '535d xDrive, NAVI, M', 'GLS SUNROOF ALLOYS BACK UP CAMERA',\n       'S550', '1.8 TSI HIGHLINE NAVIGATION LEATHER SUNROOF',\n       'Sport  | Sunroof | Rear Camera | Heated Seats',\n       'EX-AUTO-SUNROOF-CAMERA-ONLY 85KM', 'Limited Edition',\n       'GX MODEL, SKYACTIV', 'LUXURY|NAVI|REAR CAM|X-DRIVE',\n       'SEL | AWD | TRADE-IN |', 'CLA250, AMG SPORT, N',\n       '2.0T Progressiv | AWD | BROWN LEATHER | S-LINE PKG',\n       '328i xDrive', 'PREMIUM PKG LEATHER SUNROOF BACK UP CAMERA',\n       '2.0 TSI LEATHER NAV 19ALLOYS WOW!!',\n       'S LEATHER/ALL WHEEL DRIVE/8.4 INCH TOUCH SCREEN',\n       'ELITE|NAVI|DVD|360CAM|LDWS|LKA|1 OWNER',\n       'LE-AUTO-CAMERA-HEATED SEATS-ONLY 58KM',\n       'LT *Nav. Back up Cam. Heated Seats*',\n       '2.0TSI TRENDLINE AUT0 A/C H/SEATS REAR CAMERA 51K',\n       'DIESEL/NAV/KEYLESSGO/BACK-UP CAM/LOADED',\n       '428i|NAVI|ROOF|XEONLIGHTS|', 'LIMITED NAVIGATION LEATHER AWD',\n       '3.0T QUATTRO TECHNIK', '328i', 'S 4.7, NAVI, PARK SE',\n       'PRO-4X/NAVIGATION/LEATHER/ ROOF',\n       '1.4TSI TRENDLINE+ AUT0 SUNROOF BACKUP CAMERA 107K', 'SE',\n       '2.0L TRENDLINE+ 5 SPEED SUNROOF BACKUP CAMERA 59K', 'Summit', 'L',\n       'GX SPORT | CAR-FAX CLEAN | ONE OWNER | NAVI',\n       'S | Navigation | Sunroof | One Owner', 'Preferred',\n       '3.0L BlueTEC', 'CPE SE 1SB',\n       'Extended Cargo Duramax Diesel Loaded ONLY 168,000K',\n       'LX|REARVIEW|CLEANCARPROOF|', '| AWD | 7 PASSENGER | DUAL DVDS',\n       'AutoPilot, 22Whls,SMART Susp, Winters, EV',\n       'SE Navigation Leather 18 Alloys',\n       'Sport|SUNROOF|ALLOYS|REARVIEW|', 'SV',\n       'DRIVE AUT0 AWD LEATHER PANO/ROOF P/SEAT 79K', 'LT Auto', 'LS',\n       'SL LEATHER PANORAMIC SUNROOF BACK UP CAM AWD',\n       '2.0L TRENDLINE+ AUT0 A/C SUNROOF BACKUP CAMERA 68K',\n       'NAVI, SUNROOF, HEATE',\n       'TOP DOWN CAMERA 4MATIC NAVI PANORAMIC SUNROOF',\n       'E550 4MATIC, AMG SPO', 'Executive Pkg', 'SXT',\n       'V6-NO ACCIDENTS-FACTORY WARRANTY', '3',\n       'Premium Luxury, Navigation, B-Camera', 'EX',\n       'XSE, leather/suede interior', 'xDrive', 'GS',\n       'SV AWD | Htd Seats, Rear Camera, Bluetooth', 'Cooper',\n       'SLT**5.0 TOUCHSCREEN**BLUETOOTH**ONLY 28, 429KM**',\n       'S HYBRID, 380HP, NAV', 'sport', 'NAVI|REAR CAM|21\"|BOSE|PANO',\n       '1.6 S', '1.8 TSI HIGHLINE AUT0 NAVI LEATHER SUNROOF 73K',\n       'PANORAMIC ROOF, NAVIGATION',\n       '1.8TSI COMFORTLINE AUT0 LEATHER SUNROOF CAMERA 39K',\n       'Ultimate 6 Passenger', 'RAM CARGO, Loaded, Roof Rack',\n       'GT at Accident Free| Blind Spot| Bluetooth',\n       'BLUETEC DIESEL!! AMG PKG PANORAMIC SUROOF NAVIGATI',\n       'LE 7 PASSENGER AWD BACK UP CAM',\n       'ML 350 BlueTEC 4MATIC NAVIGATION,',\n       '2.0L TRENDLINE+ AUT0 A/C SUNROOF BACKUP CAMERA 98K',\n       'Leather Package', 'S CERTIFIED!',\n       'SL MODEL, LEATHER SEATS, SUNROOF, NAVIGATION',\n       '3.8 Luxury|PANOROOF|AWD|NAVI|BLINDSPT|OFF LEASE',\n       'SXT STOW N GO, DVD, BACKUP CAM', 'SLT',\n       'EX-L/ DEMO SALE/ SAVE SAVE', 'S 4.7, 425HP, NAVI,',\n       'EX-L|LEATHER|CLEAN CARPROOF|SUNROOF|', 'SL',\n       'LUXURY COLLECTION/AWD/SUNRF/HTD STS/NAV/BOSE',\n       'Accident Free, Leather, Roof, AWD, V6',\n       'CITY EXPRESS*LT*PWR GRP*PRICED TO SELL!!*',\n       'LT AWD, Only 56K kms', 'EX-L',\n       'SL LEATHER SUNROOF BACK UP CAMERA AWD',\n       'TOURING PKG NAVIGATION LEATHER SUNROOF BACK UP CAM', 'Sport',\n       'xDrive 35i, NAVI, PA', 'LT-AUTO-BLUETOOTH-FACTORY WARRANTY',\n       '4.8i V8 AWD Panoramic Roof Loaded ONLY 99,000Km',\n       '650i xDrive Gran Cou', 'Signature',\n       'LT-NAVIGATION-PANO ROOF-LEATHER-ONLY 54KM', 'Luxury', 'Trailhawk',\n       'LT*AUTO*A/C*ROOF RACKS*TRUCK CAP!!*', 'SE AUTO , 4DOOR LOW KMS',\n       'Sahara | Leather/tow pkg/remote start!',\n       'GT w/ Perf Pkg Recaro Seat', 'Touring',\n       'Lexus ES 300hybrid,NAVI.,SUNROOF,LEATHER',\n       'LIMITED**LEATHER**NAV**BLUETOOTH**BACK UP CAM**',\n       '4 AWD, NAVI, SPORT C', 'Unlimited Sahara',\n       'SV AWD |  Navi, Pano Moonroof, Htd Front Seats',\n       'SUMMIT - Premium Plus appearance group - fully equ',\n       'TOURING NAVIGATION LEATHER SUNROOF BACK UP CAM', 'comfortline',\n       'GL', 'xDrive28i',\n       'L TDI | LUXURY PKG | SPORT+ PKG | DRIVER ASSIST PK',\n       '1.4TSI TRENDLINE+ AUT0 SUNROOF BACKUP CAMERA 59K',\n       'HEMI |CLEAN  CAR PROOF|',\n       '328I X DRIVE PREMIUM + LIGHTING PKG AUT0 SUNROOF', 'Sahara',\n       'Td6 HSE', 'SE AWD', 'LT-AUTOMATIC-BLUETOOTH-ONLY 94KM',\n       'HIGH ROOF**BLUETOOTH**BACK UP CAM**5.0 TOUCHSCREEN',\n       'DIESEL, NAVI, PANO,', 'SEL', 'NAV/PANO/7PASS/SPORT PKG & MORE!',\n       'AMG|DISTRONIC|MASSAGE|360CAM|BLINDSPOT|FULLY LOADE',\n       'B 250 Sports Tourer',\n       'B 250 Sports Tourer 1own nav awd fully loaded',\n       'B 250 Sports Tourer 1owner cam nav pansunroof awd',\n       'B 250 Sports Tourer nav/cam/blindspot/1owner', 'GX', 'CLA 250',\n       'GLA 250 4matic cam sunr nav amgpck certified 1owne',\n       'B 250 Sports Tourer/cam/cam/pansunroof/1owner', 'HSE',\n       'B 250 Sports Tourer nav/cam/1owner/Awd', '2.4L GLS', 'GX-SKY',\n       'B 250 Sports Tourer 1owner/4matic/nav/cam/blindspo',\n       'B 250 Sports Tourer nav cam awd 1owner',\n       'EX, specially priced now', 'SX',\n       'AWD SL ****** $6979.00 ***** WE FINANCE *****',\n       'BACKUP CAM LEATHER SUNROOF ALLOY WHEELS', 'SLE',\n       'PANORAMIC ROOF, NAVIGATION, REARVIEW CAMERA',\n       '3.0L TDI Premium Plus', '7 passenger AWD',\n       'TOURING NAVIGATION BACK UP CAM LEATHER SUNROOF',\n       'EXEC PKG, NAVI, HEAD', 'AMG|4MATIC|NAVI|BLINDSPOT|PANO ROOF',\n       '1.8 TSI HIGHLINE AUT0 NAVI LEATHER SUNROOF 78K',\n       'TDI | WAGON | PANOROOF | DIESEL',\n       '1.8 TSI TRENDLINE AUT0 A/C CRUISE H/SEATS 77K',\n       '300HP AWD, NAVI, HEA', 'M-SPORT|3.5i|HUD|NAVI|360CAM|LOADED',\n       'S|AWD|HUD|BSM|LKA|NAVI|REAR CAM|FULLY LOADED',\n       'E400 4MATIC COUPE, A',\n       'AMG|NAVI|BLINDSPOT|LED|REAR CAM|PANO|4MATIC',\n       'TOURING V6 NAVIGATION LEATHER SUNROOF BACK UP CAM',\n       '2.0L TRENDLINE AUT0 A/C H/SEATS BACKUP CAMERA 75K',\n       '328d xDrive DIESEL PREMIUM PKG LEATHER SUNROOF 99K', '1LT',\n       'Limited, Tow Pack, Hwy Mileage, Navi, Prem Audio',\n       'GLS ALLOYS BACK UP CAMERA', 'Sport-tech | ONE OWNER | NAV',\n       'EX-L LEATHER SUNROOF 8 PASSENGER AWD BACK UP CAM',\n       'Z3 M-ROADSTER, 6-SPE', 'EXL',\n       'Summit 4 X 4 Nav, Bluetooth,Camera, Sunroof',\n       'E550,  NAVI, CAM, PA', 'GLA250 4MATIC PANORAMIC ROOF, NAVIGATION',\n       'Limited|Convertible|Leather|One Owner|No accidents',\n       'S.450.AWD V.8 engine Economic', '2.4L LX',\n       'LE-AUTO-CAMERA-HEATED SEATS-ONLY 60KM',\n       'CONVERTIBLE*V6*LEATHER*PWR GRP*USB*AUX*A MUST SEE*', 'ST',\n       'Comfortline', 'E400 AMG PKG  PRE-SAFE. NAVIGATION,',\n       \"LT-AUTO-LOW LOW KM'S!!!!!\",\n       'xDrive Li xDrive, M Sport Package, 2 Yrs Warranty',\n       '3.0T Progressiv quattro w/ Rear Cam|Navi|Wood Trim',\n       'Trekking DUAL SUNROOF,REMOTE STARTER !!!',\n       'SE. *Back up Cam. Nav. Bluetooth. Push to Start*',\n       '2.0TSI COMFORTLINE AUT0 LEATHER BACKUP CAMERA 79K',\n       '7 PASSENGER NAVIGATION BACK UP CAM LEATHER SUNROOF',\n       'LIMITED**LEATHER**SUNROOF**NAV**BACK UP CAM**',\n       'GT | LEATHER ROOF |', '2018 BMW X5 xDrive35i',\n       'beautiful, navi, AWD', 'XL | CAMERA | SENSORS | 12 PASSENGER',\n       'LE-BLUETOOTH-BACK UP CAMERA-ONLY 81KM',\n       'GS | Sunroof | Back Cam | Heated Seats | Bluetooth',\n       '4S, 400HP AWD, NAVI,',\n       \"135'' Wheelbase VERY CLEAN FORMER DAILY RENTAL WIT\",\n       '1.8 TSI TRENDLINE AUT0 A/C CRUISE H/SEATS 96K',\n       '2.0T ELITE|AWD |NAVI|LEATHER|ROOF|BCAM', 'Highline',\n       'xDrive28i PREMIUM PKG LEATHER PAN SUNROOF AWD',\n       'XDRIVE AUT0 NAVI LEATHER PANO/ROOF CAMERA 81K',\n       'TDI|VORSPRUNG|B.SPOT|360|NAVI|LDW|LOADED', 'SPORTB',\n       '3.6L Highline, Navi, Pano Roof, 2 Sets of Rims &T',\n       '2.0L TRENDLINE AUT0 A/C H/SEATS BACKUP CAMERA 54K',\n       'Boss 302 Recaro Seats Helical Diff Car cover',\n       'E 150 CARGO 4.6L Loaded Divider Certified ONLY 84K', 'S',\n       'SPORT 4X4', 'Quattro', 'Trackhawk', '6 SPEED, ACTIVE HAND',\n       'Sedan Sport CVT', 'Z06 CONVERTIBLE, HEA', 'LX 5AT',\n       'LT-NAVIGATION-PANO ROOF-LEATHER-ONLY 44KM',\n       '114K ONLY !! 2500 144\", H-ROOF, CLEAN TITLE, 3.0L',\n       '1.8 TSI Trendline', '4.2 QUATTRO, 450HP,',\n       'LT-LEATHER-CAMERA-BLUETOOTH-HEATED SEATS', '350, NAVI, CAM, HEAT',\n       '500c CONVERTIBLE, AU',\n       'All-Wheel Drive, Leather, Back-Up Camera, Bluetoot',\n       \"16' Cube with RAMP\", 'S Q4, AWD, NAVI, CAM',\n       'Base w/Elite Package', 'V6 REAR CAMERA, BLUE TOOTH !!!',\n       'GT Tech | New Brakes & Tires | Rmt Strt | Lthr', 'Crew Plus',\n       'EX-L|WHEEL CHAIR LIFT|SUNROOF|3.5L FUEL EFFICIENT|',\n       \"ONLY 126,000 KLM'S! - AWD!\",\n       'E-150 MEDIUM ROOF | DIVIDER | POWER WINDOWS & LOCK',\n       'HSE, 7 PASSENGER, NA',\n       'LTZ Turbo w/1SA Leather Sunroof Bluetooth',\n       'XLT*SLIDING DOORS*BTOOTH*PRICED TO SELL!!*',\n       'SE,STOW&GO,DVD,BACK UP CAMERA',\n       'SXT*PWR GRP*STOW N GO*BTOOTH*AUX*', 'XLT',\n       \"| SUNROOF |ALLOY'S |BACK UP CAMERA|\",\n       'SE MODEL, 1.6 ECOBOOST, FWD, REARVIEW CAMERA',\n       'SLT**4X4**DIESEL**BLUETOOTH**5.0 TOUCHSCREEN**',\n       '3/4 Ton EXTENDED Cargo Van, Loaded',\n       'LEATHER-SUPER COND-4CYL TURBO',\n       'SE **BACK UP CAMERA-SPORT RIMS-WARRANTY**',\n       'XL Super Duty 3/4Ton Crew Cab 8Ft Box ONLY 77,000K',\n       'LX **ONLY 50KM-FACTORY WARRANTY**',\n       '328i xDrive AWD **NAVIGATION** $7979 WINTER SPECIA', 'SE LTD',\n       'GLS | SUNROOF | BLUETOOTH | HEATED SEATS', 'GLK 350', 'X',\n       'GT-AUTO-NAVIGATION-CAMERA-LEATHER-SUNROOF-ONLY 70K',\n       'GLE63 S-MODEL AMG, N', '4MATIC Navi Camera Bluetooth  Pano Roof',\n       'xDrive 35i M-SPORT,', '2500 170\", HIGHROOF, DIESEL, NO ACCIDENTS',\n       'PREMIUM, COBB TUNED,', '2500, 170\", ACCIDENT-FREE, HIGH ROOF',\n       'xDrive40e, M-SPORT,', 'PLUG-IN', 'S E-Hybrid',\n       '2.0T Progressiv quattro w/ Rear Park|Pano',\n       '1.8TSI COMFORTLINE AUT0 LEATHER SUNROOF CAMERA 56K', 'Limited V6',\n       'Denali', 'A-Spec! LOW KM!', 'NAVIGATION LEATHER SUNROOF 4WD',\n       '4dr Sdn 2.5L Highline', '300 4MATIC Sedan',\n       'HSE LUXURY, 7 PASSEN',\n       '1.8TSI COMFORTLINE AUT0 2TONE LEATHER SUNROOF 58K',\n       'Sport - 4x4!', 'SLE | CREW CAB | CAR-FAX CLEAN | LOW MILEAGE',\n       'GL350 BlueTEC, 7 PAS',\n       '3500 135\" READY FOR WORK**OVER 40 TRUCKS AVAIL', '1.8 SV',\n       '3/4 Ton Mid Roof Cargo Van, Loaded',\n       '2.0T | NAV | LEATHER | ROOF | HEATED SEATS',\n       'Limited Navigation Panoramic Roof', 'Lounge', 'GT',\n       'NAVI, CAM, PARK ASST', '2.0T R-Spec', '2.5 Platinum',\n       'GT Performance Package',\n       'AWD 2.0T | Navigation, Pano-Sunroof, Bose Sound',\n       'CLA250 4MATIC AMG PKG NAVIGATION, PANO ROOF', 'Sportline', 'DX-G',\n       '100% APPROVED-1.8L CVT FE+ Blutooth +++', '550i, V8 400HP, NAVI',\n       'PURE PLUS, NAVI, PAN',\n       'LX V6/ AUTO /HEAT. SEATS / A-RIMS / HITCH / 86k',\n       '5.0L V8 Supercharged | Accident Free', 'Seden', '2',\n       'North|4X4|BACKUP CAM|DEMO|UCONNECT', 'Turbo',\n       'DYNAMIC, NAVI, PANO,', '2.0T QUATTRO, PROGRE',\n       'LX - Heated Seats - Rear Camera - Bluetooth',\n       '3.0T Progressiv quattro w/ Navi|Rear Cam|Adv Key',\n       'STI Sport-tech,6-SPE', 'CE', 'BACKUP CAMERA SUNROOF HEATED SEATS',\n       'HSE LUXURY|7PASS|NAVI|REAR CAMERA|LOADED',\n       'COMFORTLINE LEATHER SUNROOF AWD',\n       'SXT PLUS-LEATHER-SUNROOF-CARPLAY-REAR CAMERA-ONLY',\n       '3.0L AWD PORTFOLIO PKG. NAVI-CAMERA',\n       '2.0L TRENDLINE 5SPEED BASIC REAR CAMERA 69K',\n       \"XE - only 90,000 KLM'S.!\",\n       'LT AUTO ,*** ONE OWNER *** , 4 CYLINDER', 'ML400 4MATIC, NAVI,',\n       '750i xDrive', '5SPD. MANUAL,NO ACCIDENTS', 'CVT S,no accident',\n       '5SP MANUAL, CONVERTI',\n       'SL|AWD|Leather|Panaromic Roof|Rear cam|Push start',\n       'C300 4MATIC, AMG SPO', 'XLT - 4WD!', 'GT, No Accidents, 7 Seater',\n       '2.0T Progressiv, Nav, Cam, Audi Certified!',\n       'E250 BlueTEC 4MATIC,', 'TOURING|NAVI|HYBRID|',\n       'S, NAVI, PANO, PREMI', 'C350 4MATIC, NAVI, P',\n       'xDrive28i Navi Camera Bluetooth Pano Roof',\n       'Automatic , 3 Years Warranty Available.',\n       'DRIVE AUT0 NAVI P/SEAT PANO/ROOF 81K', '2.5i',\n       'CLS550 4MATIC, AMG S',\n       '1.8TSI COMFORTLINE AUT0 LEATHER SUNROOF CAMERA 78K',\n       'SLT**CREW CAB**8.4 TOUCHSCREEN**NAV**', '3.0 TDI QUATTRO PROG',\n       'CUBE*16FT*WOW ONLY 36KMS!!',\n       '4dr Sdn CLA 250 4MATIC NAV PANORAMIC SPORT BACKUP',\n       '2.0 TDI 2 Years Warranty',\n       'NAVIGATION-360 DEGREE CAMERA-ONLY 104KM', 'Coupe GT',\n       '1.8TSI COMFORTLINE AUT0 LEATHER SUNROOF CAMERA 51K', 'Limited',\n       'DIESEL/SPORTPKG/DVD/7PASS!', 'SXT 7 Passenger', 'Titanium',\n       'GRAND EDITION/NAV/COOLED SEATS/KEYLESS GO!',\n       'SE MODEL, 2.0 LITER ECOBOOST, REARVIEW CAMERA, 4WD',\n       'HSE/AWD/DUAL SUNRF/HTD LTHR STS/HTD LTHR WHL',\n       '2.0T PROGRESSIV PLUS NAVI LEATHER SUNROOF AWD', 'LT w/1SB',\n       'EX-L w/NAVIGATION/ NEW TIRES',\n       'Elite, AWD, Navi, Dual Moonroof, THX sounds',\n       '100% ACCIDENT FREE - ALL ORIGINAL!', '7PASS-NO ACCIDENT-DUAL DVD',\n       'Crew 4x4 Z71 / Long Box LEATHER NAVIGATION ONE OWN',\n       'SXT MODEL, STOW AND GO, 7 PASSENGER', '2.0T Sline',\n       'S LEATHER/NAVI/SUNROOF', 'GS | Hardtop, A/C, Cruise',\n       '7 PASSENGER', 'Prestige Premium', 'HighlineTDI',\n       '1.8TSI COMFORTLINE AUT0 LEATHER SUNROOF CAMERA 71K',\n       'CREW**LEATHER**NAV**BLUETOOTH**BACK UP CAM',\n       'AWD Premium Accident Free| Remote Start',\n       'Accident Free, Sunroof, Bluetooth, Push Button Sta',\n       'GL350 BlueTEC 4MATIC', 'GS,Touring ,WGN',\n       'Sport 4X4 Navigation, Only 46K kms',\n       'NAVIGATION LEATHER SUNROOF 4WD HEATED SEATS',\n       'NAVIGATION DVD LEATHER SUNROOF BACK UP CAM AWD', '2.0T Premium,',\n       'Canada Value Package',\n       'Premium| AWD|Rear cam|No accidents|Leather',\n       'FX4 SUPERCREW, NAVI,', 'GLS,2.4L',\n       'SXT**NAV**DVD**BLUETOOTH**BACK UP CAM**', 'EXT. Loaded',\n       'E 150 Extended Cargo Loaded Certified ONLY 68,000K',\n       'C300 4MATIC-HUD-NAVI-PARK ASSIST-ONLY 54KM',\n       'SV BACK UP CAMERA AWD', 'S line Competition',\n       'EX LUXURY NAVI LEATHER PAN SUNROOF BACK UP CAM AWD',\n       'S Q4|NAVI|BACK-UP|CARBON FIBER',\n       '2.0T Progressiv quattro w/ Power Tailgate|Pano',\n       'SL Premium - 360 CAMERA|NAVI|SUNROOF|HEATED SEATS|', '4x4',\n       'NORTH 4X4', 'SE MODEL, REARVIEW CAMERA, 1.6 L ECO, HEATED SEATS',\n       'LTZ', 'AWD,7 Pass.,Navi,Camera,Bluetooth,Leather,Sunroof',\n       'NAVIGATION LEATHER PAN SUNROOF BACK UP CAM AWD',\n       'HIGHLINE-TDI-LEATHER ROOF', 'North- 4X4, 2.4L',\n       'Rare 1LE, 2LT, 1 Owner, Accident Free, Leather',\n       'F-Sport Series 1 Navigation Backup CAM Sunroof',\n       'DYNAMIC TECH PKG LEATHER SUNROOF NAVI BACK UP CAM',\n       'xDrive50i 400HP, NAV', 'xDrive 35d, M-SPORT,',\n       '4.2 QUATTRO, R-TRONI', '555HP, NAVI, CAM, PA',\n       'NAVI, PARK SENSE, BO', '535i xDrive, M-SPORT',\n       'EX-SUNROOF-BACK UP CAMERA-HEATED SEATS-ONLY 94KM',\n       'GL, ONE OWNER,NO ACCIDENTS', 'CLA250 4MATIC,AMG, P',\n       'HYBRID, 8 PASSENGER,', '400HP, 3LT PKG, NAVI',\n       'GLK350 4MATIC, AMG S', '4WD', 'A8L LONG WHEELBASE,',\n       'XLE, 8 PASSENGER, NA',\n       'SLT|A/C|CRUISE CONTROL|BLUETOOTH|POWER SEATS',\n       'FSPORT AWD LEATHER SUNROOF NAVIGATION BACK UP CAM',\n       'HSE LUXURY|NAVI|REAR CAMERA|LOADED',\n       'Luxury|NAVI|LEATHER|BLINDSPT|BCAM|AWD|PANOROOF', '3.0 Prestige',\n       '35i', '** DEMO SALE ** Luxury, Executive Driven', 'SE Plus',\n       'SE*POWER GROUP*ACC FREE*7PASS*', 'EcoBoost',\n       'Luxury|LEATHER|PANOROOF|AWD|BCAM|REMOTE START',\n       'NORTH NAVIGATION LEATHER AWD',\n       'L, No Accidents, Service Records, One Owner',\n       '4.0T, 420HP Twin Turbo, No Accidents', 'XL', 'GLS',\n       'LE 8-Passenger/ PRICED TO SELL!!', 'TRENDLINE AWD',\n       'Special Price Offer For GX MODEL, SKYACTIVE',\n       'CROSSROAD**AWD**LEATHER**SUNROOF**DVD**7 PASSENGER', '2.4L P-AWS',\n       'Elite Accident Free| DVD| 360 Camera', 'Ultimate',\n       '2.0L TRENDLINE+ AUT0 A/C SUNROOF BACKUP CAMERA 74K',\n       'Dynamic Stealth Pack!',\n       '2.0L TRENDLINE+ 5 SPEED SUNROOF BACKUP CAMERA 98K', 'SR5',\n       'GL 350 BlueTEC', 'Longhorn', 'GL MODEL, 2.0 LITER, HEATED SEATS',\n       '1.8 TSI COMFORTLINE AUT0 LEATHER SUNROOF CAMERA',\n       'SLT Quad Cab 4x4',\n       '100% APPROVED\\\\\\\\- SKY ACTIVE TECHNOLOGY 65KM',\n       'LX|BACKUP CAM|HEATED SEATS|AWD|ALLOY WHEELS',\n       'LE NO ACCIDENTS CLEAN CARPROOF',\n       'AWD 7 PASS BACKUP CAMERA LEATHER SUNROOF',\n       'V6, TRD Sport, Tonneau cover, Tow pack, Non smoker',\n       'S Q4, AWD, NAVIGATIO', '2.5 SV',\n       '320I X DRIVE SPORT PACKAGE LEATHER SUNROOF 81K',\n       'Executive Package',\n       'CLS400 4MATIC AMG SPORT  PKG. NAV 360 CAM LOW KM.',\n       '2500HD Cargo 4.8L V8 Certified ONLY 80,000KMs',\n       'XLE NAVIGATION 7 PASS LEATHER SUNROOF AWD', 'C 350',\n       'GL|HEATED SEATS|EXT.WAR TIL 2022',\n       'Limited Navigation Remote Starter Dealer Demo !',\n       'SXT|Diesel|Backup Cam|Bluetooth|5th Wheel/Goosenec',\n       'SPORT|PANOROOF|NAV|2.0LFUELEFFICIENT', '2.5i Special Edition',\n       'Black', '2.0L TRENDLINE AUT0 A/C H/SEATS BACKUP CAMERA 67K',\n       'Big Horn', 'ULTRA', 'City', 'LUXURY', 'SE 4WD BACKUP CAMERA',\n       'GX-SKY-AUTOMATIC-BLUETOOTH',\n       '1.8 TSI HIGHLINE AUT0 LEATHER PUSH START 77K',\n       'Unlimited Sport S', 'BLUETOOTH 4WD', 'R/T, HEMI 5.7L, LEAT',\n       'LT,Comfort Package,CarPlay NAV,No Accidents, EV',\n       'PANORAMIC ROOF|DIESEL| ONE OWNER|',\n       '320I XDRIVE AUT0 SPORT PACKAGE LEATHER SUNROOF 72K',\n       '| CAR-FAX CLEAN | PANO ROOF | H. SEATS | BLUETOOTH',\n       '2.0L TRENDLINE+ AUT0 A/C SUNROOF REAR CAMERA 65K',\n       '2.0T Komfort, Advanced Key, AWD, Certified',\n       'S*POWER GROUP*ACCIDENT FREE*A MUST SEE!!*',\n       'LT NAVIGATION BACK UP CAMERA',\n       'Limited|NAVIGATION|BACKUP CAM|PANO ROOF|LEATHER',\n       '3.5 SL TECH PKG NAVI BACK UP CAM LEATHER SUNROOF',\n       '2.5**BLUETOOTH**BACK UP CAMERA**POWER WINDOWS**',\n       'COMFORT LINE LEATHER PANORAMIC SUNROOF AWD',\n       '320I X DRIVE NAVI + PREMIUM PKG AUT0 SUNROOF 79K',\n       'Baker Street Edition Panoramic Sunroof ONLY 69Km',\n       'GLS w/Leather', '428i xDrive',\n       'C300 4MATIC NAVIGATION LEATHER SUNROOF AWD', 'LE - 8 Pass!',\n       'AWD', '2.0 TDI Highline, Sky Roof, 6 Speed Manual', 'Si',\n       '4x4,accident free,back up camera,ex-police',\n       '1.8 TSI SPORT PKG BACK UP CAMERA LEATHER SUNROOF',\n       'LIMITED**4X4**LEATHER**NAV**BACK UP CAM**SUNROOF**',\n       'JUST ARRIVED -84,0000km LONG BOX VORTEC V8',\n       '2.0L TRENDLINE+ AUT0 A/C SUNROOF BACKUP CAMERA 61K',\n       'LX  - Heated Seats - Bluetooth - rear Camera',\n       'F-SPORT, NAVI, CAM,', 'SLE BACK UP CAM 7 PASSENGER AWD',\n       'E 250 Cargo 4.6L Loaded Rack Divider Shelving 113K', 'S500',\n       'EX AUT0 A/C SUNROOF BACKUP CAMERA H/SEATS',\n       '1 Owner, Accident Free, Roof, Navi, Leather',\n       '4X4 EcoDiesel, Leather, Bed Cab',\n       '2.5L 4MATIC !!!!! NO ACCIDENTS CLEAN CARPROOF !!!!',\n       'E400 AMG SPORTS PKG NAVIGATION',\n       'Sport HSE GT Edition, Fully Loaded', 'EX, 8 PASSENGER, PWR',\n       'GT-SKY', '2.0L TRENDLINE+ AUT0 A/C SUNROOF BACKUP CAMERA 54K',\n       'ML63 AMG, NAVI, CAM,', '4dr HB Turbo',\n       'E 150 Extended Cargo Loaded Certified ONLY 24,000K',\n       'BlueTEC DIESEL/SPORT PKG/NAV/360CAM & MORE!',\n       'SEL Navi Camera Leather  Pano Sunroof',\n       'PREMIUM PACKAGE LEATHER SUNROOF BACK UP CAMERA',\n       'GT ROUSH STAGE 3, ONLY 12K kms',\n       \"VERY RARE LE MANS EDITION WITH ONLY 35,000 KM'S !!\", 'Work Van',\n       '3.5 SL NAVIGATION LEATHER SUNROOF BACK UP CAMERA', 'Base',\n       '350 BlueTEC', 'NAV/PANO/V6/COOLED SEATS/BACKUP CAM!',\n       'T150 MID ROOF, Loaded', '4WD LEATHER ALLOY WHEELS',\n       'PRO-4X NAVIGATION/ LEATHER/ROOF', 'Special Price Offer ...!',\n       'LOW KM!', 'xDrive28i NAVIGATION PAN SUNROOF LEATHER AWD',\n       'XL AWD Camera Bluetooth 7 Pass. Pano Roof Leather', 'Sport w/Nav',\n       '**BEST PRICE FOR NEW TRACKHAWK 707 HP!**',\n       'SL MODEL, LEATHER SEATS, SUNROOF, REARVIEW CAMERA',\n       'E 150 CARGO 4.6L V8 Loaded Divider Shelving 129Km', 'SR',\n       'S|Navigation|Red Interior|Panoramic Roof|Heated Se',\n       '300C Platinum AWD | 2 SETS OF WHEELS INCL | Safety', 'w/1SA',\n       'xDrive28i NAVIGATION PANORAMIC SUNROOF LEATHER AWD',\n       'WINTER TIRE PACKAGE - 3.6L LOADED NAVI-camera ++',\n       '1 Owner, Accident Free, Bluetooth',\n       '320I X DRIVE NAVIGATION PKG AUT0 SUNROOF 115K',\n       'xDrive28i NAVIGATION LEATHER PAN SUNROOF AWD', 'R/T',\n       '1.8TSI COMFORTLINE AUT0 LEATHER SUNROOF CAMERA 84K',\n       '28i, Navigation', 'V8 Supercharged,CLEAN CARPROOF',\n       'ES, CLEAN CARPROOF', '320i xDrive-NAVIGATION-SUNROOF-ONLY 72K',\n       'DCT Tech Package',\n       'Sportdesign, Navi, Blind Spot, Power Tailgate',\n       'GT | Lthr | Navi| Bose | Pwr&Htd Seat | Bluetooth',\n       '750i xDrive, CLEAN CARPROOF',\n       '2.0 TSI TRENDLINE 4 MOTION AUT0 BACKUP CAMERA 133K',\n       'Limited|NAVI|LEATHER|SUNROOF|BCAM|PUSH BUTTON|',\n       '3.0T quattro Premium', 'CAM/SUPER CONDITION',\n       'LE-AUTO-CAMERA-HEATED SEATS-ONLY 14KM', '3.0L CDI', 'AT',\n       '3.3T Sport|AWD|HEADS UP|NAVI|360 CAM|PANOROOF',\n       'SLT/NAVIGATION/SUNROOF',\n       'SV-AWD-NAVI-CAMERA-PANO ROOF-7 PASS-ONLY 87KM',\n       'R Ultimate Black AWD V8 Carbon Fiber Roof 550 HP',\n       'BOSS 302 ROTISSERIE RESTORATION',\n       '2.0T Technik, Nav, Cam, Audi Certified!', 'LEATHER!',\n       'Portfolio w/Sport Pkg Navi Camera Bluetooth',\n       'BRAND NEW *** All-Wheel Drive, Luxury ***', 'Premium Collection',\n       'BACK UP CAMERA', 'LEATHER SUNROOF/CLEAN CARPROOF', '2dr Cpe',\n       'SXT. DVD Player. Back up camera.',\n       '2.0L TRENDLINE 5SPEED BASIC BACKUP CAMERA 76K',\n       'SE, $49/wk, backup cam, elec+heated chair, alloys',\n       'GX, $58/wk, alloys, projector lamps, push to start',\n       'SE, $60/wk, climate ctrl, alloys, electric chair',\n       'SV-4CYL|LOW LOW KMS!!!',\n       'TOURING AUT0 NAVI LEATHER SUNROOF CAMERA 98K',\n       'Tech PkgTECH PKG NAVI LEATHER SUNROOF 4WD BACKUP C',\n       'Platinum Accident Free| Remote Start| 6passengers',\n       'SXT 7 PASSENGER STOW AND GO PACKAGE',\n       'EX AUT0 A/C SUNROOF BACKUP CAMERA BLUETOOTH 73K',\n       'LX AUT0 A/C BACKUP CAMERA H/SEATS BLUETOOTH 78K',\n       'GL AUT0 A/C CRUISE BLUETOOTH 118K',\n       'EX-L AUT0 LEATHER SUNROOF BACKUUP CAMERA 88K',\n       'LX AUT0 A/C BACKUP CAMERA H/SEATS BLUETOOTH 63K',\n       'LX AUT0 C0UPE BACKUP CAMERA H/SEATS BLUETOOTH 33K',\n       'EX-L C0UPE AUT0 NAVI LEATHER SUNROOF 95K',\n       'EX-L C0UPE 6SPEED NAVI LEATHER SUNROOF REAR CAMERA',\n       '560HP, NAVI, CAM, EX', 'UNLIMITED SAHARA, NA',\n       '2.0TSI COMFORTLINE AUT0 AWD LEATHER PANO/ROOF 67K',\n       'X DRIVE 28i M SPORT+ACTIVITY+NAVI+PREMIUM PKG',\n       '1.8TSI COMFORTLINE 5SPEED 2TONE LEATHER SUNROOF 79',\n       '2.0L TRENDLINE+ AUT0 A/C SUNROOF BACKUP CAMERA 60K',\n       '2.0L TRENDLINE+ AUT0 A/C SUNROOF BACKUP CAMERA 91K',\n       '2.0TSI COMFORTLINE AUT0 AWD LEATHER SPORT PKG 110K',\n       'LX AUT0 A/C CRUISE H/SEATS BLUETOOTH 88K',\n       'TOURING AUT0 NAVI LEATHER SUNROOF CAMERA 93K',\n       '323I AUT0 PREMIUM PKG LEATHER BLUETOOTH 87K',\n       'SH-AWD 7PASSENGERS LEATHER SUNROOF REAR CAMERA 95K',\n       'AMG-S Sedan 503 HP. ONLY 32 K.',\n       '1.8 TSI COMFORTLINE AUT0 2 TONE LEATHER SUNROOF',\n       '2.0 TSI TRENDLINE 4 MOTION AUT0 BACKUP CAMERA 98K',\n       'LX AUT0 A/C H/SEATS BACKUP CAMERA BLUETOOTH 128K',\n       'SH-AWD TECH PKG 7PASSENGERS NAVI REAR CAMERA 154K',\n       '1.8TSI COMFORTLINE AUT0 LEATHER SUNROOF CAMERA 43K',\n       '2.0L TRENDLINE+ 5SPEED A/C SUNROOF REAR CAMERA 59K',\n       'GL BACK UP CAMERA HEATED SEATS', 'ML350 BlueTEC, AMG S',\n       \"CAMERA |ALLOY'S| CLEAN CAR PROOF |\",\n       'GL|HEATED SEATS|BLUETOOTH|OFF LEASE',\n       \"ALLOY'S| ONE OWNER| CLEAN CAR PROOF |\",\n       'SR SUNROOF NAVIGATION ALLOY RIMS BACK UP CAM',\n       'GLA 250|2.0L|FUELEFFICIENT|SUNROOF', 'Tradesman Quad Cab 4WD',\n       '4Matic', 'CXL', 'ADAPTIVE CRUISE*LOADED* CLEAN TITLE',\n       'Elite Pkg', 'PLATINUM NAVI LEATHER SUNROOF BACK UP CAM AWD',\n       '4MATIC 4dr 3.5L',\n       '2.0L TRENDLINE+ AUT0 A/C SUNROOF BACKUP CAMERA 52K',\n       '320I XDRIVE AUT0 SPORT PACKAGE LEATHER SUNROOF 89K',\n       'GX, Bluetooth 4 cylinder FWD', 'North', 'SE SPORT',\n       'Navigation at Acura Certified! Accident Free| Blin',\n       'ML350 BlueTEC, NAVI,', '740Li xDrive,Navi,Camera,Bluetooth',\n       '320I X DRIVE SPORT PACKAGE LEATHER SUNROOF 90K',\n       'SL 7 PASSENGER LEATHER SUNROOF BACK UP CAM AWD', 'SLT-1', '4X4',\n       'Limited|NAVI|LEATHER|ROOF|EXT. WARR|AWD',\n       'S-SPORT-AUTO-SUNROOF-CAMERA-ONLY 94KM',\n       'Platinum, Massage seats, DVD Ent system, Self Park',\n       'SE PLUS MODEL, 4 CYL 2.4 LITER, 5 PASSENGER',\n       'SLK55 AMG V8, NAVI,', 'ABARTH, 5 SPEED, SUN',\n       'SUPERCHARGED, NAVI,', '350 F-SPORT, NAVI, C',\n       'Rio5 EX Sport/Safety/ETest included Price',\n       '4X4 4.8L V8 Regular Cab 8Ft Box \"AS IS\" Special', 'Rubicon',\n       'Sport - |BACK UP CAM|BLUETOOTH|ROOF', '4, NAVIGATION, SUNRO',\n       'CAMBIOCORSA, F1 PADD',\n       '2LT-RS-SPORT-LEATHER-SUNROOF-CAMERA-REMOTE START', 'LT Cloth',\n       '2.5 S P.group, Certified', 'AWD BACK UP CAMERA',\n       'Navi 7yrs/130,000K Certified Warranty Inlcuded',\n       'Coupe R 550HP!! Active Exhaust!', 'EXT',\n       '2.0L TRENDLINE AUT0 A/C H/SEATS REAR CAMERA 49K',\n       'GLS|AUTOMATIC|ALLOYS|SIRIUSXM|HEATED SEATS|+++',\n       'LEATHER | ROOF | CAR PLAY | QUATTRO | 4 NEW SNOW TIRES* |',\n       'John Cooper Works ALL4 w/Nav, Cam, Sensors',\n       'GS W/ CarPlay, Android Auto, Cam',\n       'Tech A-Spec FWD w/ CarPlay & Android Auto, Sunroof, Heated Seats',\n       'T6 R-Design AWD W/CarPlay, Android Auto, 360, Touchscreen',\n       'Limited 4WD w/CarPlay & Android Auto, Cam',\n       'Touring AWD w/CarPlay, Android Auto, Pano Moonroof',\n       'Sport Touring w/CarPlay & Android Auto, Honda Sensing',\n       'Touring w/Navi, Carplay&Android Auto, Backup Cam',\n       'Sport-tech W/ Apple CarPlay/Android Auto,Nav, Cam,',\n       'Inscription T6 AWD W/CarPlay/Android Auto, Nav, Cam',\n       'A-Spec w/ Navi, Adaptive Cruise Control, Moonroof',\n       'HYBRID | LEATHER | ROOF | NAVI | CAM |CARPLAY',\n       'MOMENTUM T6 | 7 PASS | NAVI | CAM | ROOF | AWD |',\n       'TECHNIK + S LINE | NAVI | CAM | PANO | HUD | BSM |',\n       'M SPORTS PKG | NAVI | CAM | PANO | AWD | HUD |',\n       'Golf R   NAVIGATION   BACKUP CAMERA   DIGITAL DASH',\n       'M COMPETITION , 444 HP, CARBON FIBER, M SUSPENSION',\n       'Sport - LOW MILEAGE/HARD TOP/AIR CONDITIONING', 'XSE', 'CLA250',\n       'C300|4MATIC|AMGPKG|NAV|WOODGRAIN|LED|DUALROOF|+++',\n       'Latitude, 2.7L I4, 4WD, POWER WINDOWS, CRUISE', 'Express',\n       'A-Spec', 'Base w/ CarPlay, Cam, Toyota Safety Sense',\n       'AWD, SPORT CHRONO, KEYLESS ENTRY , BOSE',\n       'XDrive Sedan | M SPORT | LOW KMS | CPO',\n       'PROGRESSIV  QUATTRO AWD', 'E-450 - 14Ft Box - Gasoline',\n       'Turbo, 400HP, SPORT CHRONO, NAV, CAM', '5dr HB Titanium',\n       'Standard Range Plus',\n       'Touring w/ Carplay&Android Auto, Navi, Rear Entertainment',\n       'LARIAT 4WD SuperCrew',\n       'B250 4MATIC | NAV | BLINDSPOT | PANO ROOF |',\n       '85D|7PASSENGER|HIGHWAYAUTOPILOT|NAV|CARBONINTERIOR',\n       'Sport|4X4|V8HEMI|CREW|6FT4-BOX|RAMLED|LEATHER|+++',\n       'XDrive30i | Enhanced | Advanced Driver Assistance',\n       'ALL WHEEL DRIVE/NAVIGATIN/LEATHER!!',\n       'Standard Range Plus w/ Autopilot, Nav, Wireless Charger',\n       'Ultimate AWD', 'S W/Cam, BT, Cruise Control',\n       'GLC 300 4MATIC | SPORT PKG | NAV | INTEL KEY | BLINDSPOT |',\n       '1.6T Luxury',\n       'PERFORMANCE EXHAUST| RED INT| 20 NEXEN RIMS|NAVI |PANO|CAM',\n       'E-350 - 16Ft Box - 5.4L V8 Gasoline',\n       'SLE Z71 4X4 CREW CAB 6 SEATS AUX.....PERFECT COND.',\n       'SE STOW-N-GO AUX PWR GROUP....LOW LOW KMS....MINT.', 'PREMIUM',\n       'S Q4|404HP|NAV|HARMANKARDON|SUNROOF|LEATHER|ALLOYS',\n       'EX+ | Heated Seats | CarPlay | Android Auto | Sunroof',\n       '530i xDrive, M SPORT PKG, M AERO PKG, PANO, HUD',\n       'LE W/CarPlay, LE Upgrade Pack, Cam',\n       '17K-IN-MODS|RS7TWINTURBOS|TUNED|NAV|360CAM|CARBON|',\n       'F-550 Dump Truck - 6.7L V8 Diesel - 2WD', 'gt',\n       'XLT 5.0L V8 Engine, Trailer Tow Package, Remote Starter and XTR Chrome Package',\n       'G4500 16Ft Box - Extra Height - 6.0L V8 Gas + Ramp',\n       'Unlimited Sahara 4WD w/CarPlay, Android Auto, Cam',\n       'Stingray Z51 ,3LT, NAV, CAM, HEATED, VENTED, BOSE', 'Other',\n       'North 4x4 W/Cam, Touchscreen, Cruise Control',\n       'SH-AWD Tech A-Spec AWD w/Carplay&Android Auto, Moonroof, Adaptive Cruise Control',\n       'GLE450|4MATIC|AMGPKG|HUD|NAV|BURMESTER|360CAM|LED|',\n       'Komfort AWD-Quattro| Roof| Leather| Alloys', 'E-250',\n       'REGULAR CAB LONG BOX-STORAGE BOXES-WE FINANCE!!',\n       'North w/ Heated Seats, Bluetooth, Camera', 'T6 AWD Inscription',\n       'SXT Premium Plus, DVD, Bluetooth, Rear Air + Heat, Reverse Camera & Much More!',\n       'LX, MANUAL, BLUETOOTH, HEATED SEATS,',\n       '6 Speed Manual|Clean Carfax|Nav|B.Cam|Only 34km!',\n       'LIMITED 4X4 PWR HEAT LEATHER SUNROOF BLUETOOTH ALLOYS...MINT',\n       'GLC 350e 4MATIC', '4dr Wgn',\n       '530i xDrive, M SPORT PKG, M AERO PKG, MASSAGE, NAV',\n       'E400 4MATIC, AMG, NAV, 360CAM, DISTRONIC PLUS', '55 AMG',\n       'V10, 500HP, MANUAL, NAV, SUNROOF, * NOT FOR SALE*',\n       'Supercharged Dynamic,510HP,HUD,PANORAMIC ROOF,NAVI',\n       'SE BLUETOOTH HEAT LEATHER SUNROOF ALLOYS LOADED',\n       'LT, AUTOMATIC, CAM, POWER SEAT, BLUETOOTH', 'Tech',\n       'Long Range, FULL SELF AUTOPILOT, HEATED SEATS, NAV',\n       '335i, 300HP, MANUAL, HEATED SEATS, BT, SUNROOF',\n       'AMG C63 S CONVERTIBLE, 503 HP DISTRONIC PLUS, NAVI',\n       'Sedan | Premium Package | No Accidents',\n       'C300 4MATIC, AWD, AMG STLYING PKG, PANO, NAVI,',\n       '170 - 3500 - EXTENDED - HIGH ROOF - 3.0L 6CYL DIESEL FUEL - DUALLY',\n       '330i xDrive w/ Navi, Sunroof, Parking Sensors',\n       'Convertible, 444HP, COMPETITION PKG, PDC, HUD',\n       'AMG E63 S, 603 HP, CARBON FIBER PKG, NAV, PANO',\n       'STANDARD RANGE|NAV|20INCHALLOYS|AUTOPILOT|HIFI|+++',\n       'Competition | Advanced Driver Assistance Package',\n       '2.0T Essential AWD', '4x4 Crewmax Platinum 5.7L',\n       'Wrangler,  Automatic,  6Cyl. 4.0 Lit, 3 years warranty available.',\n       'GLI**LEATHER**NAV**SUNROOF**BLIND SPOT**LANE KEEP ASSIST**',\n       '540i xDrive|MPACKAGE|NAV|MASSAGE|HUD|3DCAM|HKAUDIO',\n       'SLE Crew Cab 4WD',\n       'North | Heated Seats | Heated Steering Wheel | Alloys',\n       'SEL Hybrid', 'LE W/ Toyota Safety Sense, Apple CarPlay, Camera',\n       'COUPE | CAM | SUN ROOF | HEATED SEATS | AWD |',\n       'G3500 - 15 Passenger - V8 Gasoline',\n       'Z06 ,3LZ, Z07 PKG, CARBON PKG, NAV, CAM',\n       'ALL4 4dr S   AUTO   DUAL-ROOF   AWD',\n       'PowerWagon|HEAVYDUTY|LOADED|4X4|CREW|6FT4BOX|6PASS',\n       'SS, 2SS, 455 HP, HEADS UP, VENTED SEATS, WIFI',\n       'AUTO , AIR CONDITION , ALLOY WHEELS !!!',\n       'Z06, 7.0L V8 505HP, COUPE, MANUAL, HEADS UP,HEATED',\n       'AWD Tech Pkg', '8-Passenger',\n       'CLA250|4MATIC|AMGPKG|NAV|BROWNLEATHER|HARMANKARDON',\n       'XL, NAV, CAM, HEATED SEATS, FORDPASS CONNECT',\n       'AMG E63 S, 603 HP, PREMIUM PKG, NIGHT PKG,',\n       'LX w/ CarPlay & Android Auto, Honda Sensing Tech',\n       'GLS Sedan, Sunroof, Heated Seats + Steering, Reverse Camera, Alloy Wheels & More!',\n       '2500 - 144WB - High Roof - V6 Diesel',\n       '100D|NAV|AUTOPILOT|AIRSUSPENSION|BIODEFENSE|WOOD|+',\n       'TSI S I MANUAL', 'cooper s', 'xDrive30i',\n       'GL SE, Sunroof, Blindspot Monitor, Heated Steering + Seats, Android Auto + Apple CarPlay, Alloys',\n       'GLE450 4MATIC, 7 PASS, AMG PKG, TECH PKG, NAV,',\n       'T-250 148WB Mid Roof - 3.7L V6 - Cruise/Backup Cam', 'Ti Veloce',\n       'SUNROOF| HEATED SEATS',\n       'S Q4, 3.0L 400HP, AWD, NAV, CAM, PUSH START',\n       'LE | FWD | Radar Cruise',\n       'LUXURY, 420 HP, 7 PASS, KEYLESS, WIFI, 360 CAMS',\n       'Preferred Sun and Safety Package w/ CarPlay & Android Auto, Sun & Safety Package',\n       'S SPORT BACKUP CAMERA CLEAN!!!', '2500 144', 'LX CVT',\n       'XLE AWD 4dr ONE OWNER NO ACCIDENTS',\n       'Highline AWD 4 Motion w/ Nav, CarPlay, Android Auto, Panoroof',\n       'RS', 'AMG E63S, 603HP, 4MATIC+, DISTRONIC PLUS, 360CAM',\n       'GLC43 AMG, 362HP, NAV ,PANO, 360CAM, HEATED SEATS',\n       '2.0T Quattro Technik, AWD, NAV, CAM, HEATED',\n       'TOURING AWD LEATHER 7PASS NAVI SUNROOF DVD CAMERA',\n       '5.7L 4x4 PLATINUM LIMITED CREWMAX', 'Grand Touring',\n       'SHELBY GT500 CARBON TRACK PKG 760HP GOLDEN TICKET',\n       'GLA 250 4MATIC AWD|Nav|B.Cam|Pano Sunroof|Leather', 'Technology',\n       'PRESTIGE, 354 HP, S SPORT PKG, FINE NAPPA PKG, NAV',\n       'REARVIEW CAMERA, HEATED SEATS, BLUETOOTH, 2.0L 4CY', 'Elite',\n       'LUXURY AWD! NAVI',\n       'E-450 DIESEL***DIESEL***PASSENGER ***$12979***', 'TSI',\n       '2.0T Technik', 'E400 4MATIC, CONVERTIBLE, 329 HP, AMG PKG, NAVI,',\n       'HEATED SEATS|AUTOMATIC|AIR CONDITIONING|+++',\n       'Limited|V8|RAMBOX|NAV|AIRSUSP|POWERSTEPS|HKAUDIO|+',\n       'Limited | LEATHER | HEATED & COOLED SEATS | NAV | MOONROOF |',\n       'XDrive28i, AWD, NAVIGATION, M SPORT PKG, CAM',\n       'S,3.0L V6, 340HP, PREMIUM PLUS, CARBON FIBER, PANO',\n       '5.7 HEMI 4X4 QUAD CAB',\n       '| Summit |  HEMI V8 | Signature Leather Package | Appearance Package |',\n       'XDrive35i | Certified Series | No Accidents',\n       'EX IVT | Blind Spot Detection | Back Up Camera',\n       '500 HP, M AERODYNAMICS, NAVI, PARK DISTANCE',\n       '530i xDrive, AWD, PREMIUM ENHANCED PKG, NAV, CAM',\n       '2015.5 FWD 5dr T5 Dr',\n       'CLA250|4MATIC|AMGPKG|AMBIENT|LEATHER|CARPLAY|LED|+',\n       'PREMIER 4WD', '6 SPEED MANUAL | M-SPORT| NAVI',\n       'Spider, 4.3L V8 483HP,RWD ,FABSPEED EXHAUST,BREMBO', '3500 Cargo',\n       'BIG HORN  TONNEAU COVER/HUSKY FLOOR MATS!!',\n       'C300 4MATIC CONVERTIBLE, AMG STYLING PKG, NAV,', '28i',\n       'LE AWD W/CarPlay, Cam, Touchscreen',\n       '//M SPORT | NAVI | PANO | XENON', 'C300',\n       'PREFERRED, REARVIEW CAM, HEATED SEATS,LDW, BLINDSP',\n       'AMG C43 4MATIC, 362HP, AWD, NIGHT PKG, NAV, PANO,',\n       'GT|7PASSENGER|NAV|DVDSCREEN|LEATHER|STOW&GO|SIRIUS',\n       'NAVI | PANO | REAR CAM | FINANCE', 'Sl', 'North Edition', 'QX 60',\n       'C 300', 'C Package', 'G37x', 'TRD', 'SE  /  4X4  /  EXTENDED CAB',\n       'QUAD CAB  /  4X4  /  ONLY 146,000 KMS',\n       'SPORT  /  4X4  /  NO ACCIDENTS CARFAX INCLUDED',\n       'CONVERTIBLE PREMIUM **MUSTANG CLUB OF AMERICA**',\n       'X3 28D Xdrive Diesel',\n       'SUPER CLEAN MUST SEE **** V6 4.3L READY FOR WORK', 'Performance',\n       '4dr Sdn 3.8L Luxury',\n       'S, 350HP, PDK, PREM PLUS, NAV, CAM, PASM, HEATED',\n       'XDRIVE 30I AWD',\n       'GTS Sport Turismo,AWD,PREMIUM PKG+,SPORT CHRONO,',\n       'IS 250 6-SPEED SEQUE',\n       'M240i, AWD, 335HP, M Sport PKG, NAV, 360 CAM,', 'Premium',\n       'EX AWD, PAN ROOF, NAVI, LEATHER SEATS, BACKUP CAM',\n       'COMPETITION. 503 HP, PREMIUM PKG, CARBON FIBER,',\n       '6.4L HEMI 4x4 CREW CAB 8FT LONGBOX',\n       'XLT Super Cab 6.5-ft. Bed 4WD',\n       'XDrive Sedan | Premium Package | Certified Series',\n       '4X4  /  SUPER CREW /  1 OWNER  /  4.6L TRITON V8',\n       '328i XDRIVE PREMIUM SEDAN PWR HEAT LEATHER BLUETOOTH SUNROOF....MINT',\n       'Tech A-Spec', '425HP, PREMIUM, NAV, HEATED, HARMON KARDON',\n       'Premium Luxury, 7PASS, 420HP, AWD, HEATED/COOLED',\n       'E-350 - 1 Ton - 5.4L V8 Gas - Pwr Wind/Locks', '2.0T Progressiv',\n       'E400 4MATIC CONVERTIBLE, AMG PKG, DISTRONIC PLUS',\n       'Technik Cabriolet | 20\\\\ Wheels | Magma Red Seats',\n       'Limited|V8|NAV|AIRSUSP|POWERSTEPS|360CAM|HKAUDIO|+',\n       'V Coupe, RWD, SUPERCHARGED, 556HP, BREMBO BRAKES',\n       'STANDARD RANGE|NAV|WHITELEATHER|20INCHALLOYS|HIFI|', 'Sensory',\n       'LIMITED SPORT AWD BLUETOOTH NAVI CAMERA PANO ROOF LOADED',\n       'Supercharged 518HP,7 PASSANGER,NAV,CAM', 'Low Roof Long Box',\n       'F-550 - 4x4 - 6.7L V8 Diesel - Dump Truck',\n       'TREKKING, NAVIGATION, SUNROOF, HEATED SEATS, HATCH',\n       'AMG E63S, 603HP, AMG SEATS, HEADS UP DISPLAY,',\n       'GT|7PASSENGER|POWERDOORS|STOW&GO|LEATHER|REARCAM|+',\n       'SXT Rallye|Sunroof|NAV|Bluetooth|Rear Camera',\n       '4.6L XLT SUPERCREW 4X4', 'Big Bend 4x4',\n       'XDrive40i, M Sport PKG, PANO, ADAPTIVE SUSPENSION,',\n       '4X4 SUPERCAB READY FOR WORK!!!',\n       'G550, AWD, V8, CHROME PACKAGE, DESIGNO',\n       'TOURING , 6 SPEED MANUAL , SUNROOF , ALLOYS !!!',\n       'T-350 148\\\\WB High Roof -Diesel - Cruise/Btooth/Cam',\n       'SXT|ALLOYS|BOSTON-PREMIUM-AUDIO|SIRIUSXM|+++', 'SLE FWD',\n       'TREDLINE TSI **AUTOMATIC-BACK UP CAMERA-HEATED SEATS**',\n       'XDrive Sedan | M SPORT | ENHANCED | CPO',\n       'SE, Navigation, Heated Seats, Power Seats, Bluetooth, Reverse Camera & Much More!',\n       'Supercharged LWB, 518HP, MASSAGE, PANO, NAVI',\n       'ALL ORIGINAL, NUMBERS MATCHING,',\n       'GLE63S, AMG, COUPE, 603HP, CARBON FIBER, PANO', '350 F sport',\n       'XDrive Sedan | M Sport Edition | Low KMS', 'Certified included',\n       '5dr Wgn CVT 2.5i Touring AWD No Accident!',\n       'AWD ONLY 073,700KM  No Accident!',\n       'C300 4MATIC Only 070,070KM Clean Car!',\n       'AWD Only 083,025KM Navigation - No Accident!', 'SXT Plus',\n       '6MT Clean Car!', 'Essential, CAM, BLUETOOTH,', 'Outer Banks',\n       'C300 4MATIC 095,388KM - Navigation / Camera / Pano Roof!',\n       'Pure Plus Pano-Roof - Camera Clean Truck!',\n       'AWD Ultra Premium Navigation NO ACCIDENT!',\n       'Canada Value Pkg | 4-Speed Automatic | FWD',\n       'Autobiography LWB, MASSAGE SEATS, NAV, HEATED SEAT',\n       'XDrive Sedan', 'XDrive30i', 'XDrive40i', 'XDrive Cabriolet',\n       'XDrive28i M Sport Edition', 'XDrive Sedan (5R79)', 'XDrive Coupe',\n       'XDrive 28i', 'XDrive28i',\n       'LTZ RS SEDAN BLUETOOTH USB PWR HEAT LEATHER SPORT...MINT',\n       'Touring 7P', 'C300 4MATIC, AMG STYLING PKG, NAV, PANO, NAVI',\n       'XDrive 40i', 'AMG CLA45, 375HP, PANO, NAV, ACTIVE PARK',\n       'XDrive30e'], dtype=object)"
     },
     "execution_count": 172,
     "metadata": {},
     "output_type": "execute_result"
    }
   ],
   "source": [
    "df['configuration'].unique()"
   ]
  },
  {
   "cell_type": "code",
   "execution_count": 173,
   "metadata": {
    "hidden": true,
    "pycharm": {
     "name": "#%%\n"
    }
   },
   "outputs": [],
   "source": [
    "df = df.drop(columns=['configuration'])"
   ]
  },
  {
   "cell_type": "markdown",
   "metadata": {
    "hidden": true,
    "pycharm": {
     "name": "#%% md\n"
    }
   },
   "source": [
    "#### Condition\n",
    "Condition seems to be acceptable. There are no missing values."
   ]
  },
  {
   "cell_type": "code",
   "execution_count": 174,
   "metadata": {
    "hidden": true,
    "pycharm": {
     "name": "#%%\n"
    }
   },
   "outputs": [],
   "source": [
    "df['condition'].unique()\n",
    "df.loc[df.condition == 'salvage', \"condition\"] = 'Used'"
   ]
  },
  {
   "cell_type": "markdown",
   "metadata": {
    "hidden": true,
    "pycharm": {
     "name": "#%% md\n"
    }
   },
   "source": [
    "#### Body Type\n",
    "Body type also seems to be reasonable, there are no overlaps in types."
   ]
  },
  {
   "cell_type": "code",
   "execution_count": 175,
   "metadata": {
    "hidden": true,
    "pycharm": {
     "name": "#%%\n"
    }
   },
   "outputs": [
    {
     "data": {
      "text/plain": "array(['Pickup Truck', 'SUV, Crossover', 'Other', 'Sedan',\n       'Coupe (2 door)', 'Convertible', 'Minivan, Van', 'Hatchback',\n       'Wagon'], dtype=object)"
     },
     "execution_count": 175,
     "metadata": {},
     "output_type": "execute_result"
    }
   ],
   "source": [
    "df['body_type'].unique()"
   ]
  },
  {
   "cell_type": "markdown",
   "metadata": {
    "hidden": true,
    "pycharm": {
     "name": "#%% md\n"
    }
   },
   "source": [
    "#### Wheel Config."
   ]
  },
  {
   "cell_type": "code",
   "execution_count": 176,
   "metadata": {
    "hidden": true,
    "pycharm": {
     "name": "#%%\n"
    }
   },
   "outputs": [
    {
     "data": {
      "text/plain": "array(['4 x 4', 'All-wheel drive (AWD)', 'na', 'Front-wheel drive (FWD)',\n       'Other', 'Rear-wheel drive (RWD)'], dtype=object)"
     },
     "execution_count": 176,
     "metadata": {},
     "output_type": "execute_result"
    }
   ],
   "source": [
    "df['wheel_config'].unique()"
   ]
  },
  {
   "cell_type": "code",
   "execution_count": 177,
   "metadata": {
    "hidden": true,
    "pycharm": {
     "name": "#%%\n"
    }
   },
   "outputs": [
    {
     "data": {
      "text/plain": "       model_year    list_price        mileage\ncount    31.00000     31.000000      31.000000\nmean   2010.16129   7451.870968  159820.064516\nstd       6.20267   5349.342930  129805.877741\nmin    1986.00000    400.000000      88.000000\n25%    2008.00000   3450.000000   77500.000000\n50%    2011.00000   6500.000000  147000.000000\n75%    2014.50000  12000.000000  207500.000000\nmax    2020.00000  18000.000000  496000.000000",
      "text/html": "<div>\n<style scoped>\n    .dataframe tbody tr th:only-of-type {\n        vertical-align: middle;\n    }\n\n    .dataframe tbody tr th {\n        vertical-align: top;\n    }\n\n    .dataframe thead th {\n        text-align: right;\n    }\n</style>\n<table border=\"1\" class=\"dataframe\">\n  <thead>\n    <tr style=\"text-align: right;\">\n      <th></th>\n      <th>model_year</th>\n      <th>list_price</th>\n      <th>mileage</th>\n    </tr>\n  </thead>\n  <tbody>\n    <tr>\n      <th>count</th>\n      <td>31.00000</td>\n      <td>31.000000</td>\n      <td>31.000000</td>\n    </tr>\n    <tr>\n      <th>mean</th>\n      <td>2010.16129</td>\n      <td>7451.870968</td>\n      <td>159820.064516</td>\n    </tr>\n    <tr>\n      <th>std</th>\n      <td>6.20267</td>\n      <td>5349.342930</td>\n      <td>129805.877741</td>\n    </tr>\n    <tr>\n      <th>min</th>\n      <td>1986.00000</td>\n      <td>400.000000</td>\n      <td>88.000000</td>\n    </tr>\n    <tr>\n      <th>25%</th>\n      <td>2008.00000</td>\n      <td>3450.000000</td>\n      <td>77500.000000</td>\n    </tr>\n    <tr>\n      <th>50%</th>\n      <td>2011.00000</td>\n      <td>6500.000000</td>\n      <td>147000.000000</td>\n    </tr>\n    <tr>\n      <th>75%</th>\n      <td>2014.50000</td>\n      <td>12000.000000</td>\n      <td>207500.000000</td>\n    </tr>\n    <tr>\n      <th>max</th>\n      <td>2020.00000</td>\n      <td>18000.000000</td>\n      <td>496000.000000</td>\n    </tr>\n  </tbody>\n</table>\n</div>"
     },
     "execution_count": 177,
     "metadata": {},
     "output_type": "execute_result"
    }
   ],
   "source": [
    "df[df['wheel_config'] == 'na'].describe()"
   ]
  },
  {
   "cell_type": "code",
   "execution_count": 178,
   "metadata": {
    "hidden": true,
    "pycharm": {
     "name": "#%%\n"
    }
   },
   "outputs": [
    {
     "data": {
      "text/plain": "       brand     model  model_year  list_price  color condition  \\\n11      Ford    Escape        2017     15988.0  White      Used   \n28     Honda     Other        2008      1190.0    Red      Used   \n40    Toyota     Yaris        2010      4995.0   Blue      Used   \n113     Jeep  Cherokee        2016     17950.0   Grey      Used   \n183    Honda       Fit        2015     11350.0  Black      Used   \n...      ...       ...         ...         ...    ...       ...   \n5489    Ford    Bronco        2021     41388.0  other      Used   \n5579     BMW  3-Series        2021     57900.0  Black      Used   \n5622     BMW  3-Series        2020     51900.0  White      Used   \n5647    Ford    Bronco        2021     42269.0  other      Used   \n5648    Ford     F-150        2017     38888.0   Grey      Used   \n\n           body_type wheel_config transmission fuel_type  mileage  \\\n11    SUV, Crossover        Other    Automatic  Gasoline    74899   \n28             Sedan        Other        Other  Gasoline      513   \n40             Sedan        Other    Automatic  Gasoline   140373   \n113   SUV, Crossover        Other    Automatic  Gasoline   116000   \n183        Hatchback        Other    Automatic        na    90713   \n...              ...          ...          ...       ...      ...   \n5489  SUV, Crossover        Other    Automatic     Other       75   \n5579           Sedan        Other    Automatic     Other    12847   \n5622           Sedan        Other    Automatic     Other    21798   \n5647  SUV, Crossover        Other    Automatic     Other     7000   \n5648           Other        Other    Automatic     Other    96441   \n\n                                            carfax_link  \\\n11    https://www.carproof.com/order?ref=kijiji&vin=...   \n28    https://www.carproof.com/order?ref=kijiji&vin=...   \n40    https://www.carproof.com/order?ref=kijiji&vin=...   \n113   https://www.carproof.com/order?ref=kijiji&vin=...   \n183   https://www.carproof.com/order?ref=kijiji&vin=...   \n...                                                 ...   \n5489  https://www.carproof.com/order?ref=kijiji&vin=...   \n5579  https://www.carproof.com/order?ref=kijiji&vin=...   \n5622  https://www.carproof.com/order?ref=kijiji&vin=...   \n5647  https://www.carproof.com/order?ref=kijiji&vin=...   \n5648  https://www.carproof.com/order?ref=kijiji&vin=...   \n\n                                        dealer_address  \n11    4700 Sheppard Avenue East, Toronto, ON, M1S 3V6\\  \n28             4 Harvest Street, Lindsay, ON, K9V 4W9\\  \n40             1037 Belfast Road, Ottawa, ON, K1B 3S2\\  \n113      1205 Finch Avenue West, Toronto, ON, M3J 2E8\\  \n183       1897 Wilson Avenue, North York, ON, M9M 1A2\\  \n...                                                ...  \n5489         79 East Don Roadway, Toronto, ON, M4M 2A5  \n5579       11 Sunlight Park Road, Toronto, ON, M4M 1B5  \n5622       11 Sunlight Park Road, Toronto, ON, M4M 1B5  \n5647         940 Kingston Road, Pickering, ON, L1V 1B3  \n5648         940 Kingston Road, Pickering, ON, L1V 1B3  \n\n[104 rows x 13 columns]",
      "text/html": "<div>\n<style scoped>\n    .dataframe tbody tr th:only-of-type {\n        vertical-align: middle;\n    }\n\n    .dataframe tbody tr th {\n        vertical-align: top;\n    }\n\n    .dataframe thead th {\n        text-align: right;\n    }\n</style>\n<table border=\"1\" class=\"dataframe\">\n  <thead>\n    <tr style=\"text-align: right;\">\n      <th></th>\n      <th>brand</th>\n      <th>model</th>\n      <th>model_year</th>\n      <th>list_price</th>\n      <th>color</th>\n      <th>condition</th>\n      <th>body_type</th>\n      <th>wheel_config</th>\n      <th>transmission</th>\n      <th>fuel_type</th>\n      <th>mileage</th>\n      <th>carfax_link</th>\n      <th>dealer_address</th>\n    </tr>\n  </thead>\n  <tbody>\n    <tr>\n      <th>11</th>\n      <td>Ford</td>\n      <td>Escape</td>\n      <td>2017</td>\n      <td>15988.0</td>\n      <td>White</td>\n      <td>Used</td>\n      <td>SUV, Crossover</td>\n      <td>Other</td>\n      <td>Automatic</td>\n      <td>Gasoline</td>\n      <td>74899</td>\n      <td>https://www.carproof.com/order?ref=kijiji&amp;vin=...</td>\n      <td>4700 Sheppard Avenue East, Toronto, ON, M1S 3V6\\</td>\n    </tr>\n    <tr>\n      <th>28</th>\n      <td>Honda</td>\n      <td>Other</td>\n      <td>2008</td>\n      <td>1190.0</td>\n      <td>Red</td>\n      <td>Used</td>\n      <td>Sedan</td>\n      <td>Other</td>\n      <td>Other</td>\n      <td>Gasoline</td>\n      <td>513</td>\n      <td>https://www.carproof.com/order?ref=kijiji&amp;vin=...</td>\n      <td>4 Harvest Street, Lindsay, ON, K9V 4W9\\</td>\n    </tr>\n    <tr>\n      <th>40</th>\n      <td>Toyota</td>\n      <td>Yaris</td>\n      <td>2010</td>\n      <td>4995.0</td>\n      <td>Blue</td>\n      <td>Used</td>\n      <td>Sedan</td>\n      <td>Other</td>\n      <td>Automatic</td>\n      <td>Gasoline</td>\n      <td>140373</td>\n      <td>https://www.carproof.com/order?ref=kijiji&amp;vin=...</td>\n      <td>1037 Belfast Road, Ottawa, ON, K1B 3S2\\</td>\n    </tr>\n    <tr>\n      <th>113</th>\n      <td>Jeep</td>\n      <td>Cherokee</td>\n      <td>2016</td>\n      <td>17950.0</td>\n      <td>Grey</td>\n      <td>Used</td>\n      <td>SUV, Crossover</td>\n      <td>Other</td>\n      <td>Automatic</td>\n      <td>Gasoline</td>\n      <td>116000</td>\n      <td>https://www.carproof.com/order?ref=kijiji&amp;vin=...</td>\n      <td>1205 Finch Avenue West, Toronto, ON, M3J 2E8\\</td>\n    </tr>\n    <tr>\n      <th>183</th>\n      <td>Honda</td>\n      <td>Fit</td>\n      <td>2015</td>\n      <td>11350.0</td>\n      <td>Black</td>\n      <td>Used</td>\n      <td>Hatchback</td>\n      <td>Other</td>\n      <td>Automatic</td>\n      <td>na</td>\n      <td>90713</td>\n      <td>https://www.carproof.com/order?ref=kijiji&amp;vin=...</td>\n      <td>1897 Wilson Avenue, North York, ON, M9M 1A2\\</td>\n    </tr>\n    <tr>\n      <th>...</th>\n      <td>...</td>\n      <td>...</td>\n      <td>...</td>\n      <td>...</td>\n      <td>...</td>\n      <td>...</td>\n      <td>...</td>\n      <td>...</td>\n      <td>...</td>\n      <td>...</td>\n      <td>...</td>\n      <td>...</td>\n      <td>...</td>\n    </tr>\n    <tr>\n      <th>5489</th>\n      <td>Ford</td>\n      <td>Bronco</td>\n      <td>2021</td>\n      <td>41388.0</td>\n      <td>other</td>\n      <td>Used</td>\n      <td>SUV, Crossover</td>\n      <td>Other</td>\n      <td>Automatic</td>\n      <td>Other</td>\n      <td>75</td>\n      <td>https://www.carproof.com/order?ref=kijiji&amp;vin=...</td>\n      <td>79 East Don Roadway, Toronto, ON, M4M 2A5</td>\n    </tr>\n    <tr>\n      <th>5579</th>\n      <td>BMW</td>\n      <td>3-Series</td>\n      <td>2021</td>\n      <td>57900.0</td>\n      <td>Black</td>\n      <td>Used</td>\n      <td>Sedan</td>\n      <td>Other</td>\n      <td>Automatic</td>\n      <td>Other</td>\n      <td>12847</td>\n      <td>https://www.carproof.com/order?ref=kijiji&amp;vin=...</td>\n      <td>11 Sunlight Park Road, Toronto, ON, M4M 1B5</td>\n    </tr>\n    <tr>\n      <th>5622</th>\n      <td>BMW</td>\n      <td>3-Series</td>\n      <td>2020</td>\n      <td>51900.0</td>\n      <td>White</td>\n      <td>Used</td>\n      <td>Sedan</td>\n      <td>Other</td>\n      <td>Automatic</td>\n      <td>Other</td>\n      <td>21798</td>\n      <td>https://www.carproof.com/order?ref=kijiji&amp;vin=...</td>\n      <td>11 Sunlight Park Road, Toronto, ON, M4M 1B5</td>\n    </tr>\n    <tr>\n      <th>5647</th>\n      <td>Ford</td>\n      <td>Bronco</td>\n      <td>2021</td>\n      <td>42269.0</td>\n      <td>other</td>\n      <td>Used</td>\n      <td>SUV, Crossover</td>\n      <td>Other</td>\n      <td>Automatic</td>\n      <td>Other</td>\n      <td>7000</td>\n      <td>https://www.carproof.com/order?ref=kijiji&amp;vin=...</td>\n      <td>940 Kingston Road, Pickering, ON, L1V 1B3</td>\n    </tr>\n    <tr>\n      <th>5648</th>\n      <td>Ford</td>\n      <td>F-150</td>\n      <td>2017</td>\n      <td>38888.0</td>\n      <td>Grey</td>\n      <td>Used</td>\n      <td>Other</td>\n      <td>Other</td>\n      <td>Automatic</td>\n      <td>Other</td>\n      <td>96441</td>\n      <td>https://www.carproof.com/order?ref=kijiji&amp;vin=...</td>\n      <td>940 Kingston Road, Pickering, ON, L1V 1B3</td>\n    </tr>\n  </tbody>\n</table>\n<p>104 rows × 13 columns</p>\n</div>"
     },
     "execution_count": 178,
     "metadata": {},
     "output_type": "execute_result"
    }
   ],
   "source": [
    "df[df['wheel_config'] == 'Other']"
   ]
  },
  {
   "cell_type": "code",
   "execution_count": 179,
   "metadata": {
    "hidden": true,
    "pycharm": {
     "name": "#%%\n"
    }
   },
   "outputs": [],
   "source": [
    "df[\"wheel_config\"].replace({\"na\": \"Unknown\",\"Other\": \"Unknown\"}, inplace=True)"
   ]
  },
  {
   "cell_type": "markdown",
   "metadata": {
    "hidden": true,
    "pycharm": {
     "name": "#%% md\n"
    }
   },
   "source": [
    "#### Transmission"
   ]
  },
  {
   "cell_type": "code",
   "execution_count": 180,
   "metadata": {
    "hidden": true,
    "pycharm": {
     "name": "#%%\n"
    }
   },
   "outputs": [
    {
     "data": {
      "text/plain": "array(['Automatic', 'na', 'Other', 'Manual', '0'], dtype=object)"
     },
     "execution_count": 180,
     "metadata": {},
     "output_type": "execute_result"
    }
   ],
   "source": [
    "df['transmission'].unique()"
   ]
  },
  {
   "cell_type": "code",
   "execution_count": 181,
   "metadata": {
    "hidden": true,
    "pycharm": {
     "name": "#%%\n"
    }
   },
   "outputs": [
    {
     "data": {
      "text/plain": "          brand    model  model_year  list_price color condition  \\\n4903       Ford  Mustang        2020    139777.0  Blue      Used   \n5357  Chevrolet   Camaro        2019     32999.0   Red      Used   \n\n           body_type            wheel_config transmission fuel_type  mileage  \\\n4903  Coupe (2 door)  Rear-wheel drive (RWD)            0  Gasoline    19800   \n5357  Coupe (2 door)  Rear-wheel drive (RWD)            0  Gasoline    32991   \n\n                                            carfax_link  \\\n4903  https://www.carproof.com/order?ref=kijiji&vin=...   \n5357  https://www.carproof.com/order?ref=kijiji&vin=...   \n\n                                   dealer_address  \n4903  1323 Kennedy Road, Scarborough, ON, M1P 2L6  \n5357    715 Kingston Road, Pickering, ON, L1V 1A9  ",
      "text/html": "<div>\n<style scoped>\n    .dataframe tbody tr th:only-of-type {\n        vertical-align: middle;\n    }\n\n    .dataframe tbody tr th {\n        vertical-align: top;\n    }\n\n    .dataframe thead th {\n        text-align: right;\n    }\n</style>\n<table border=\"1\" class=\"dataframe\">\n  <thead>\n    <tr style=\"text-align: right;\">\n      <th></th>\n      <th>brand</th>\n      <th>model</th>\n      <th>model_year</th>\n      <th>list_price</th>\n      <th>color</th>\n      <th>condition</th>\n      <th>body_type</th>\n      <th>wheel_config</th>\n      <th>transmission</th>\n      <th>fuel_type</th>\n      <th>mileage</th>\n      <th>carfax_link</th>\n      <th>dealer_address</th>\n    </tr>\n  </thead>\n  <tbody>\n    <tr>\n      <th>4903</th>\n      <td>Ford</td>\n      <td>Mustang</td>\n      <td>2020</td>\n      <td>139777.0</td>\n      <td>Blue</td>\n      <td>Used</td>\n      <td>Coupe (2 door)</td>\n      <td>Rear-wheel drive (RWD)</td>\n      <td>0</td>\n      <td>Gasoline</td>\n      <td>19800</td>\n      <td>https://www.carproof.com/order?ref=kijiji&amp;vin=...</td>\n      <td>1323 Kennedy Road, Scarborough, ON, M1P 2L6</td>\n    </tr>\n    <tr>\n      <th>5357</th>\n      <td>Chevrolet</td>\n      <td>Camaro</td>\n      <td>2019</td>\n      <td>32999.0</td>\n      <td>Red</td>\n      <td>Used</td>\n      <td>Coupe (2 door)</td>\n      <td>Rear-wheel drive (RWD)</td>\n      <td>0</td>\n      <td>Gasoline</td>\n      <td>32991</td>\n      <td>https://www.carproof.com/order?ref=kijiji&amp;vin=...</td>\n      <td>715 Kingston Road, Pickering, ON, L1V 1A9</td>\n    </tr>\n  </tbody>\n</table>\n</div>"
     },
     "execution_count": 181,
     "metadata": {},
     "output_type": "execute_result"
    }
   ],
   "source": [
    "df[df['transmission']=='0']"
   ]
  },
  {
   "cell_type": "code",
   "execution_count": 182,
   "metadata": {
    "hidden": true,
    "pycharm": {
     "name": "#%%\n"
    }
   },
   "outputs": [],
   "source": [
    "df[\"transmission\"].replace({\"0\": \"Automatic\"}, inplace=True)"
   ]
  },
  {
   "cell_type": "code",
   "execution_count": 183,
   "metadata": {
    "hidden": true,
    "pycharm": {
     "name": "#%%\n"
    }
   },
   "outputs": [
    {
     "data": {
      "text/plain": "              brand            model  model_year  list_price  color condition  \\\n3             Acura               TL        2004       500.0  other      Used   \n142            Ford            F-150        2020      1000.0  other      Used   \n1386      Chevrolet         Colorado        2007      3500.0    Red      Used   \n1577           Ford         Windstar        2003       400.0  other      Used   \n2879  Mercedes-Benz          S-Class        1997       500.0  Black      Used   \n3046         Nissan            Rogue        2015      6500.0  other      Used   \n3620            GMC           Sierra        2007      2000.0  other      Used   \n3634          Dodge          Caravan        2003       500.0  other      Used   \n3636          Acura               TL        2006      1600.0  other      Used   \n3723          Acura               EL        2004       400.0  other      Used   \n4008      Chevrolet             Trax        2014     10290.0    Red      Used   \n4021          Volvo             XC90        2016     30880.0   Grey      Used   \n4087           Ford            Other        2014     24488.0  White      Used   \n4089           Ford            Focus        2016     11995.0   Grey      Used   \n4112      Chevrolet  C/K Pickup 1500        1986      9000.0  other      Used   \n4354           Ford            F-250        2015     17999.0  other      Used   \n4723         Toyota           Matrix        2004      3488.0   Blue      Used   \n4810      alfaromeo               na        2022     71674.0    Red       New   \n4827         Toyota           Matrix        2004      3488.0   Blue      Used   \n4935          Volvo             XC90        2016     30880.0   Grey      Used   \n5104          Tesla          Model 3        2021     85995.0  White      Used   \n\n           body_type             wheel_config transmission fuel_type  mileage  \\\n3              Sedan                  Unknown           na        na   200500   \n142     Pickup Truck                  Unknown           na        na       88   \n1386    Pickup Truck                  Unknown           na        na   400000   \n1577    Minivan, Van  Front-wheel drive (FWD)           na        na   350000   \n2879           Sedan   Rear-wheel drive (RWD)           na  Gasoline   200000   \n3046  SUV, Crossover                  Unknown           na        na   156000   \n3620    Pickup Truck                  Unknown           na        na   290400   \n3634    Minivan, Van                  Unknown           na        na   456000   \n3636           Sedan  Front-wheel drive (FWD)           na  Gasoline   294500   \n3723           Sedan                  Unknown           na        na   496000   \n4008  SUV, Crossover  Front-wheel drive (FWD)           na     Other   121219   \n4021  SUV, Crossover    All-wheel drive (AWD)           na     Other   149998   \n4087    Minivan, Van   Rear-wheel drive (RWD)           na  Gasoline   188000   \n4089           Sedan  Front-wheel drive (FWD)           na     Other   102480   \n4112    Pickup Truck                  Unknown           na        na   152000   \n4354    Pickup Truck                  Unknown           na     Other   230000   \n4723           Wagon  Front-wheel drive (FWD)           na     Other   258083   \n4810  SUV, Crossover    All-wheel drive (AWD)           na  Gasoline       50   \n4827           Wagon  Front-wheel drive (FWD)           na     Other   258083   \n4935  SUV, Crossover    All-wheel drive (AWD)           na     Other   149998   \n5104           Sedan                  Unknown           na     Other      840   \n\n                                            carfax_link  \\\n3     https://www.carproof.com/order?ref=kijiji&vin=...   \n142   https://www.carproof.com/order?ref=kijiji&vin=...   \n1386  https://www.carproof.com/order?ref=kijiji&vin=...   \n1577  https://www.carproof.com/order?ref=kijiji&vin=...   \n2879  https://www.carproof.com/order?ref=kijiji&vin=...   \n3046  https://www.carproof.com/order?ref=kijiji&vin=...   \n3620  https://www.carproof.com/order?ref=kijiji&vin=...   \n3634  https://www.carproof.com/order?ref=kijiji&vin=...   \n3636  https://www.carproof.com/order?ref=kijiji&vin=...   \n3723  https://www.carproof.com/order?ref=kijiji&vin=...   \n4008  https://www.carproof.com/order?ref=kijiji&vin=...   \n4021  https://www.carproof.com/order?ref=kijiji&vin=...   \n4087  https://www.carproof.com/order?ref=kijiji&vin=...   \n4089  https://www.carproof.com/order?ref=kijiji&vin=...   \n4112                                                 na   \n4354  https://www.carproof.com/order?ref=kijiji&vin=...   \n4723  https://www.carproof.com/order?ref=kijiji&vin=...   \n4810                                                 na   \n4827  https://www.carproof.com/order?ref=kijiji&vin=...   \n4935  https://www.carproof.com/order?ref=kijiji&vin=...   \n5104                                                 na   \n\n                                         dealer_address  \n3                                   Toronto, ON M5N1A1\\  \n142                  549 King Street East, Toronto, ON\\  \n1386                            North York, ON M9M 2E2\\  \n1577                                Toronto, ON M9L2Y7\\  \n2879                                Toronto, ON M3J3P7\\  \n3046          Midland Ave, Toronto, ON M1P 3B7, Canada\\  \n3620                                Toronto, ON M6B1C8\\  \n3634       275 Poyntz Ave, Toronto, ON M2N 1J8, Canada\\  \n3636                                Toronto, ON M1B1Y6\\  \n3723       275 Poyntz Ave, Toronto, ON M2N 1J8, Canada\\  \n4008          CarDoor Online Only, Toronto, ON, M8Z 2J8  \n4021  1882 Lawrence Avenue East, Scarborough, ON, M1...  \n4087                 80 Toro Road, Toronto, ON, M3J 2A8  \n4089  4032b Finch Avenue East, Scarborough, ON, M1S 3T6  \n4112                                 Toronto, ON M5V3L9  \n4354            16 Milford Avenue, Toronto, ON, M6M 2V8  \n4723      6A-4690 KINGSTON RD, SCARBOROUGH, ON, M1E 2P9  \n4810         200 Auto Park Circle, Vaughan, ON, L4L 8R1  \n4827      6A-4690 KINGSTON RD, SCARBOROUGH, ON, M1E 2P9  \n4935  1882 Lawrence Avenue East, Scarborough, ON, M1...  \n5104  420 Ecclestone DriveBox 1990, Bracebridge, ON,...  ",
      "text/html": "<div>\n<style scoped>\n    .dataframe tbody tr th:only-of-type {\n        vertical-align: middle;\n    }\n\n    .dataframe tbody tr th {\n        vertical-align: top;\n    }\n\n    .dataframe thead th {\n        text-align: right;\n    }\n</style>\n<table border=\"1\" class=\"dataframe\">\n  <thead>\n    <tr style=\"text-align: right;\">\n      <th></th>\n      <th>brand</th>\n      <th>model</th>\n      <th>model_year</th>\n      <th>list_price</th>\n      <th>color</th>\n      <th>condition</th>\n      <th>body_type</th>\n      <th>wheel_config</th>\n      <th>transmission</th>\n      <th>fuel_type</th>\n      <th>mileage</th>\n      <th>carfax_link</th>\n      <th>dealer_address</th>\n    </tr>\n  </thead>\n  <tbody>\n    <tr>\n      <th>3</th>\n      <td>Acura</td>\n      <td>TL</td>\n      <td>2004</td>\n      <td>500.0</td>\n      <td>other</td>\n      <td>Used</td>\n      <td>Sedan</td>\n      <td>Unknown</td>\n      <td>na</td>\n      <td>na</td>\n      <td>200500</td>\n      <td>https://www.carproof.com/order?ref=kijiji&amp;vin=...</td>\n      <td>Toronto, ON M5N1A1\\</td>\n    </tr>\n    <tr>\n      <th>142</th>\n      <td>Ford</td>\n      <td>F-150</td>\n      <td>2020</td>\n      <td>1000.0</td>\n      <td>other</td>\n      <td>Used</td>\n      <td>Pickup Truck</td>\n      <td>Unknown</td>\n      <td>na</td>\n      <td>na</td>\n      <td>88</td>\n      <td>https://www.carproof.com/order?ref=kijiji&amp;vin=...</td>\n      <td>549 King Street East, Toronto, ON\\</td>\n    </tr>\n    <tr>\n      <th>1386</th>\n      <td>Chevrolet</td>\n      <td>Colorado</td>\n      <td>2007</td>\n      <td>3500.0</td>\n      <td>Red</td>\n      <td>Used</td>\n      <td>Pickup Truck</td>\n      <td>Unknown</td>\n      <td>na</td>\n      <td>na</td>\n      <td>400000</td>\n      <td>https://www.carproof.com/order?ref=kijiji&amp;vin=...</td>\n      <td>North York, ON M9M 2E2\\</td>\n    </tr>\n    <tr>\n      <th>1577</th>\n      <td>Ford</td>\n      <td>Windstar</td>\n      <td>2003</td>\n      <td>400.0</td>\n      <td>other</td>\n      <td>Used</td>\n      <td>Minivan, Van</td>\n      <td>Front-wheel drive (FWD)</td>\n      <td>na</td>\n      <td>na</td>\n      <td>350000</td>\n      <td>https://www.carproof.com/order?ref=kijiji&amp;vin=...</td>\n      <td>Toronto, ON M9L2Y7\\</td>\n    </tr>\n    <tr>\n      <th>2879</th>\n      <td>Mercedes-Benz</td>\n      <td>S-Class</td>\n      <td>1997</td>\n      <td>500.0</td>\n      <td>Black</td>\n      <td>Used</td>\n      <td>Sedan</td>\n      <td>Rear-wheel drive (RWD)</td>\n      <td>na</td>\n      <td>Gasoline</td>\n      <td>200000</td>\n      <td>https://www.carproof.com/order?ref=kijiji&amp;vin=...</td>\n      <td>Toronto, ON M3J3P7\\</td>\n    </tr>\n    <tr>\n      <th>3046</th>\n      <td>Nissan</td>\n      <td>Rogue</td>\n      <td>2015</td>\n      <td>6500.0</td>\n      <td>other</td>\n      <td>Used</td>\n      <td>SUV, Crossover</td>\n      <td>Unknown</td>\n      <td>na</td>\n      <td>na</td>\n      <td>156000</td>\n      <td>https://www.carproof.com/order?ref=kijiji&amp;vin=...</td>\n      <td>Midland Ave, Toronto, ON M1P 3B7, Canada\\</td>\n    </tr>\n    <tr>\n      <th>3620</th>\n      <td>GMC</td>\n      <td>Sierra</td>\n      <td>2007</td>\n      <td>2000.0</td>\n      <td>other</td>\n      <td>Used</td>\n      <td>Pickup Truck</td>\n      <td>Unknown</td>\n      <td>na</td>\n      <td>na</td>\n      <td>290400</td>\n      <td>https://www.carproof.com/order?ref=kijiji&amp;vin=...</td>\n      <td>Toronto, ON M6B1C8\\</td>\n    </tr>\n    <tr>\n      <th>3634</th>\n      <td>Dodge</td>\n      <td>Caravan</td>\n      <td>2003</td>\n      <td>500.0</td>\n      <td>other</td>\n      <td>Used</td>\n      <td>Minivan, Van</td>\n      <td>Unknown</td>\n      <td>na</td>\n      <td>na</td>\n      <td>456000</td>\n      <td>https://www.carproof.com/order?ref=kijiji&amp;vin=...</td>\n      <td>275 Poyntz Ave, Toronto, ON M2N 1J8, Canada\\</td>\n    </tr>\n    <tr>\n      <th>3636</th>\n      <td>Acura</td>\n      <td>TL</td>\n      <td>2006</td>\n      <td>1600.0</td>\n      <td>other</td>\n      <td>Used</td>\n      <td>Sedan</td>\n      <td>Front-wheel drive (FWD)</td>\n      <td>na</td>\n      <td>Gasoline</td>\n      <td>294500</td>\n      <td>https://www.carproof.com/order?ref=kijiji&amp;vin=...</td>\n      <td>Toronto, ON M1B1Y6\\</td>\n    </tr>\n    <tr>\n      <th>3723</th>\n      <td>Acura</td>\n      <td>EL</td>\n      <td>2004</td>\n      <td>400.0</td>\n      <td>other</td>\n      <td>Used</td>\n      <td>Sedan</td>\n      <td>Unknown</td>\n      <td>na</td>\n      <td>na</td>\n      <td>496000</td>\n      <td>https://www.carproof.com/order?ref=kijiji&amp;vin=...</td>\n      <td>275 Poyntz Ave, Toronto, ON M2N 1J8, Canada\\</td>\n    </tr>\n    <tr>\n      <th>4008</th>\n      <td>Chevrolet</td>\n      <td>Trax</td>\n      <td>2014</td>\n      <td>10290.0</td>\n      <td>Red</td>\n      <td>Used</td>\n      <td>SUV, Crossover</td>\n      <td>Front-wheel drive (FWD)</td>\n      <td>na</td>\n      <td>Other</td>\n      <td>121219</td>\n      <td>https://www.carproof.com/order?ref=kijiji&amp;vin=...</td>\n      <td>CarDoor Online Only, Toronto, ON, M8Z 2J8</td>\n    </tr>\n    <tr>\n      <th>4021</th>\n      <td>Volvo</td>\n      <td>XC90</td>\n      <td>2016</td>\n      <td>30880.0</td>\n      <td>Grey</td>\n      <td>Used</td>\n      <td>SUV, Crossover</td>\n      <td>All-wheel drive (AWD)</td>\n      <td>na</td>\n      <td>Other</td>\n      <td>149998</td>\n      <td>https://www.carproof.com/order?ref=kijiji&amp;vin=...</td>\n      <td>1882 Lawrence Avenue East, Scarborough, ON, M1...</td>\n    </tr>\n    <tr>\n      <th>4087</th>\n      <td>Ford</td>\n      <td>Other</td>\n      <td>2014</td>\n      <td>24488.0</td>\n      <td>White</td>\n      <td>Used</td>\n      <td>Minivan, Van</td>\n      <td>Rear-wheel drive (RWD)</td>\n      <td>na</td>\n      <td>Gasoline</td>\n      <td>188000</td>\n      <td>https://www.carproof.com/order?ref=kijiji&amp;vin=...</td>\n      <td>80 Toro Road, Toronto, ON, M3J 2A8</td>\n    </tr>\n    <tr>\n      <th>4089</th>\n      <td>Ford</td>\n      <td>Focus</td>\n      <td>2016</td>\n      <td>11995.0</td>\n      <td>Grey</td>\n      <td>Used</td>\n      <td>Sedan</td>\n      <td>Front-wheel drive (FWD)</td>\n      <td>na</td>\n      <td>Other</td>\n      <td>102480</td>\n      <td>https://www.carproof.com/order?ref=kijiji&amp;vin=...</td>\n      <td>4032b Finch Avenue East, Scarborough, ON, M1S 3T6</td>\n    </tr>\n    <tr>\n      <th>4112</th>\n      <td>Chevrolet</td>\n      <td>C/K Pickup 1500</td>\n      <td>1986</td>\n      <td>9000.0</td>\n      <td>other</td>\n      <td>Used</td>\n      <td>Pickup Truck</td>\n      <td>Unknown</td>\n      <td>na</td>\n      <td>na</td>\n      <td>152000</td>\n      <td>na</td>\n      <td>Toronto, ON M5V3L9</td>\n    </tr>\n    <tr>\n      <th>4354</th>\n      <td>Ford</td>\n      <td>F-250</td>\n      <td>2015</td>\n      <td>17999.0</td>\n      <td>other</td>\n      <td>Used</td>\n      <td>Pickup Truck</td>\n      <td>Unknown</td>\n      <td>na</td>\n      <td>Other</td>\n      <td>230000</td>\n      <td>https://www.carproof.com/order?ref=kijiji&amp;vin=...</td>\n      <td>16 Milford Avenue, Toronto, ON, M6M 2V8</td>\n    </tr>\n    <tr>\n      <th>4723</th>\n      <td>Toyota</td>\n      <td>Matrix</td>\n      <td>2004</td>\n      <td>3488.0</td>\n      <td>Blue</td>\n      <td>Used</td>\n      <td>Wagon</td>\n      <td>Front-wheel drive (FWD)</td>\n      <td>na</td>\n      <td>Other</td>\n      <td>258083</td>\n      <td>https://www.carproof.com/order?ref=kijiji&amp;vin=...</td>\n      <td>6A-4690 KINGSTON RD, SCARBOROUGH, ON, M1E 2P9</td>\n    </tr>\n    <tr>\n      <th>4810</th>\n      <td>alfaromeo</td>\n      <td>na</td>\n      <td>2022</td>\n      <td>71674.0</td>\n      <td>Red</td>\n      <td>New</td>\n      <td>SUV, Crossover</td>\n      <td>All-wheel drive (AWD)</td>\n      <td>na</td>\n      <td>Gasoline</td>\n      <td>50</td>\n      <td>na</td>\n      <td>200 Auto Park Circle, Vaughan, ON, L4L 8R1</td>\n    </tr>\n    <tr>\n      <th>4827</th>\n      <td>Toyota</td>\n      <td>Matrix</td>\n      <td>2004</td>\n      <td>3488.0</td>\n      <td>Blue</td>\n      <td>Used</td>\n      <td>Wagon</td>\n      <td>Front-wheel drive (FWD)</td>\n      <td>na</td>\n      <td>Other</td>\n      <td>258083</td>\n      <td>https://www.carproof.com/order?ref=kijiji&amp;vin=...</td>\n      <td>6A-4690 KINGSTON RD, SCARBOROUGH, ON, M1E 2P9</td>\n    </tr>\n    <tr>\n      <th>4935</th>\n      <td>Volvo</td>\n      <td>XC90</td>\n      <td>2016</td>\n      <td>30880.0</td>\n      <td>Grey</td>\n      <td>Used</td>\n      <td>SUV, Crossover</td>\n      <td>All-wheel drive (AWD)</td>\n      <td>na</td>\n      <td>Other</td>\n      <td>149998</td>\n      <td>https://www.carproof.com/order?ref=kijiji&amp;vin=...</td>\n      <td>1882 Lawrence Avenue East, Scarborough, ON, M1...</td>\n    </tr>\n    <tr>\n      <th>5104</th>\n      <td>Tesla</td>\n      <td>Model 3</td>\n      <td>2021</td>\n      <td>85995.0</td>\n      <td>White</td>\n      <td>Used</td>\n      <td>Sedan</td>\n      <td>Unknown</td>\n      <td>na</td>\n      <td>Other</td>\n      <td>840</td>\n      <td>na</td>\n      <td>420 Ecclestone DriveBox 1990, Bracebridge, ON,...</td>\n    </tr>\n  </tbody>\n</table>\n</div>"
     },
     "execution_count": 183,
     "metadata": {},
     "output_type": "execute_result"
    }
   ],
   "source": [
    "df[df['transmission']=='na']"
   ]
  },
  {
   "cell_type": "code",
   "execution_count": 184,
   "metadata": {
    "hidden": true,
    "pycharm": {
     "name": "#%%\n"
    }
   },
   "outputs": [],
   "source": [
    "df[\"transmission\"].replace({\"Other\": \"Automatic\",\"na\": \"Automatic\"}, inplace=True)"
   ]
  },
  {
   "cell_type": "code",
   "execution_count": 185,
   "metadata": {
    "hidden": true,
    "pycharm": {
     "name": "#%%\n"
    }
   },
   "outputs": [],
   "source": [
    "df.loc[df.brand == \"Tesla\", \"transmission\"] = \"Electric\""
   ]
  },
  {
   "cell_type": "code",
   "execution_count": 186,
   "metadata": {
    "hidden": true,
    "pycharm": {
     "name": "#%%\n"
    }
   },
   "outputs": [
    {
     "data": {
      "text/plain": "array(['Automatic', 'Electric', 'Manual'], dtype=object)"
     },
     "execution_count": 186,
     "metadata": {},
     "output_type": "execute_result"
    }
   ],
   "source": [
    "df['transmission'].unique()"
   ]
  },
  {
   "cell_type": "markdown",
   "metadata": {
    "hidden": true,
    "pycharm": {
     "name": "#%% md\n"
    }
   },
   "source": [
    "Check again when dealing with fuel type."
   ]
  },
  {
   "cell_type": "markdown",
   "metadata": {
    "hidden": true,
    "pycharm": {
     "name": "#%% md\n"
    }
   },
   "source": [
    "#### Fuel Type"
   ]
  },
  {
   "cell_type": "code",
   "execution_count": 187,
   "metadata": {
    "hidden": true,
    "pycharm": {
     "name": "#%%\n"
    }
   },
   "outputs": [
    {
     "data": {
      "text/plain": "Gasoline           662\nna                 366\nOther              282\nDiesel              32\nHybrid-Electric     13\nName: fuel_type, dtype: int64"
     },
     "execution_count": 187,
     "metadata": {},
     "output_type": "execute_result"
    }
   ],
   "source": [
    "df['fuel_type'].value_counts()"
   ]
  },
  {
   "cell_type": "code",
   "execution_count": 188,
   "metadata": {
    "hidden": true,
    "pycharm": {
     "name": "#%%\n"
    }
   },
   "outputs": [
    {
     "data": {
      "text/plain": "          brand       model  model_year  list_price  color condition  \\\n3         Acura          TL        2004       500.0  other      Used   \n7     Chevrolet      Malibu        2019     19999.0   Blue      Used   \n10       Toyota     Corolla        2008      2600.0  other      Used   \n17       Toyota        RAV4        2016     15950.0   Grey      Used   \n18        Honda       Civic        2018     21877.0  White      Used   \n...         ...         ...         ...         ...    ...       ...   \n4357    Hyundai     Elantra        2015     13000.0   Blue      Used   \n4790    Hyundai     Elantra        2015     13000.0   Blue      Used   \n5077      Honda       Civic        2012      9800.0  Black      Used   \n5079     Nissan  Pathfinder        2014     12000.0   Grey      Used   \n5228       Audi          A4        2013      6900.0  other      Used   \n\n           body_type             wheel_config transmission fuel_type  mileage  \\\n3              Sedan                  Unknown    Automatic        na   200500   \n7              Sedan  Front-wheel drive (FWD)    Automatic        na    41432   \n10             Sedan                  Unknown    Automatic        na      226   \n17    SUV, Crossover    All-wheel drive (AWD)    Automatic        na   131000   \n18    Coupe (2 door)  Front-wheel drive (FWD)    Automatic        na    30345   \n...              ...                      ...          ...       ...      ...   \n4357       Hatchback                  Unknown    Automatic        na    79000   \n4790       Hatchback                  Unknown    Automatic        na    79000   \n5077  Coupe (2 door)  Front-wheel drive (FWD)       Manual        na      260   \n5079  SUV, Crossover                  Unknown    Automatic        na   350000   \n5228           Sedan                  Unknown    Automatic        na   137049   \n\n                                            carfax_link  \\\n3     https://www.carproof.com/order?ref=kijiji&vin=...   \n7     https://www.carproof.com/order?ref=kijiji&vin=...   \n10    https://www.carproof.com/order?ref=kijiji&vin=...   \n17    https://reports.carproof.com/en/main?id=DCWc4i...   \n18    https://www.carproof.com/order?ref=kijiji&vin=...   \n...                                                 ...   \n4357                                                 na   \n4790                                                 na   \n5077                                                 na   \n5079                                                 na   \n5228                                                 na   \n\n                                     dealer_address  \n3                               Toronto, ON M5N1A1\\  \n7       2701 Derry Rd. E, Mississauga, ON, L4T 1A2\\  \n10                              Toronto, ON M4B2E5\\  \n17    1205 Finch Avenue West, Toronto, ON, M3J 2E8\\  \n18       2685 Highway 7 West, Concord, ON, L4K 1V8\\  \n...                                             ...  \n4357                             Toronto, ON M6E1L6  \n4790                             Toronto, ON M6E1L6  \n5077                                Markham, ON L3R  \n5079                             Toronto, ON M4B1A5  \n5228                             Toronto, ON M1P4M4  \n\n[366 rows x 13 columns]",
      "text/html": "<div>\n<style scoped>\n    .dataframe tbody tr th:only-of-type {\n        vertical-align: middle;\n    }\n\n    .dataframe tbody tr th {\n        vertical-align: top;\n    }\n\n    .dataframe thead th {\n        text-align: right;\n    }\n</style>\n<table border=\"1\" class=\"dataframe\">\n  <thead>\n    <tr style=\"text-align: right;\">\n      <th></th>\n      <th>brand</th>\n      <th>model</th>\n      <th>model_year</th>\n      <th>list_price</th>\n      <th>color</th>\n      <th>condition</th>\n      <th>body_type</th>\n      <th>wheel_config</th>\n      <th>transmission</th>\n      <th>fuel_type</th>\n      <th>mileage</th>\n      <th>carfax_link</th>\n      <th>dealer_address</th>\n    </tr>\n  </thead>\n  <tbody>\n    <tr>\n      <th>3</th>\n      <td>Acura</td>\n      <td>TL</td>\n      <td>2004</td>\n      <td>500.0</td>\n      <td>other</td>\n      <td>Used</td>\n      <td>Sedan</td>\n      <td>Unknown</td>\n      <td>Automatic</td>\n      <td>na</td>\n      <td>200500</td>\n      <td>https://www.carproof.com/order?ref=kijiji&amp;vin=...</td>\n      <td>Toronto, ON M5N1A1\\</td>\n    </tr>\n    <tr>\n      <th>7</th>\n      <td>Chevrolet</td>\n      <td>Malibu</td>\n      <td>2019</td>\n      <td>19999.0</td>\n      <td>Blue</td>\n      <td>Used</td>\n      <td>Sedan</td>\n      <td>Front-wheel drive (FWD)</td>\n      <td>Automatic</td>\n      <td>na</td>\n      <td>41432</td>\n      <td>https://www.carproof.com/order?ref=kijiji&amp;vin=...</td>\n      <td>2701 Derry Rd. E, Mississauga, ON, L4T 1A2\\</td>\n    </tr>\n    <tr>\n      <th>10</th>\n      <td>Toyota</td>\n      <td>Corolla</td>\n      <td>2008</td>\n      <td>2600.0</td>\n      <td>other</td>\n      <td>Used</td>\n      <td>Sedan</td>\n      <td>Unknown</td>\n      <td>Automatic</td>\n      <td>na</td>\n      <td>226</td>\n      <td>https://www.carproof.com/order?ref=kijiji&amp;vin=...</td>\n      <td>Toronto, ON M4B2E5\\</td>\n    </tr>\n    <tr>\n      <th>17</th>\n      <td>Toyota</td>\n      <td>RAV4</td>\n      <td>2016</td>\n      <td>15950.0</td>\n      <td>Grey</td>\n      <td>Used</td>\n      <td>SUV, Crossover</td>\n      <td>All-wheel drive (AWD)</td>\n      <td>Automatic</td>\n      <td>na</td>\n      <td>131000</td>\n      <td>https://reports.carproof.com/en/main?id=DCWc4i...</td>\n      <td>1205 Finch Avenue West, Toronto, ON, M3J 2E8\\</td>\n    </tr>\n    <tr>\n      <th>18</th>\n      <td>Honda</td>\n      <td>Civic</td>\n      <td>2018</td>\n      <td>21877.0</td>\n      <td>White</td>\n      <td>Used</td>\n      <td>Coupe (2 door)</td>\n      <td>Front-wheel drive (FWD)</td>\n      <td>Automatic</td>\n      <td>na</td>\n      <td>30345</td>\n      <td>https://www.carproof.com/order?ref=kijiji&amp;vin=...</td>\n      <td>2685 Highway 7 West, Concord, ON, L4K 1V8\\</td>\n    </tr>\n    <tr>\n      <th>...</th>\n      <td>...</td>\n      <td>...</td>\n      <td>...</td>\n      <td>...</td>\n      <td>...</td>\n      <td>...</td>\n      <td>...</td>\n      <td>...</td>\n      <td>...</td>\n      <td>...</td>\n      <td>...</td>\n      <td>...</td>\n      <td>...</td>\n    </tr>\n    <tr>\n      <th>4357</th>\n      <td>Hyundai</td>\n      <td>Elantra</td>\n      <td>2015</td>\n      <td>13000.0</td>\n      <td>Blue</td>\n      <td>Used</td>\n      <td>Hatchback</td>\n      <td>Unknown</td>\n      <td>Automatic</td>\n      <td>na</td>\n      <td>79000</td>\n      <td>na</td>\n      <td>Toronto, ON M6E1L6</td>\n    </tr>\n    <tr>\n      <th>4790</th>\n      <td>Hyundai</td>\n      <td>Elantra</td>\n      <td>2015</td>\n      <td>13000.0</td>\n      <td>Blue</td>\n      <td>Used</td>\n      <td>Hatchback</td>\n      <td>Unknown</td>\n      <td>Automatic</td>\n      <td>na</td>\n      <td>79000</td>\n      <td>na</td>\n      <td>Toronto, ON M6E1L6</td>\n    </tr>\n    <tr>\n      <th>5077</th>\n      <td>Honda</td>\n      <td>Civic</td>\n      <td>2012</td>\n      <td>9800.0</td>\n      <td>Black</td>\n      <td>Used</td>\n      <td>Coupe (2 door)</td>\n      <td>Front-wheel drive (FWD)</td>\n      <td>Manual</td>\n      <td>na</td>\n      <td>260</td>\n      <td>na</td>\n      <td>Markham, ON L3R</td>\n    </tr>\n    <tr>\n      <th>5079</th>\n      <td>Nissan</td>\n      <td>Pathfinder</td>\n      <td>2014</td>\n      <td>12000.0</td>\n      <td>Grey</td>\n      <td>Used</td>\n      <td>SUV, Crossover</td>\n      <td>Unknown</td>\n      <td>Automatic</td>\n      <td>na</td>\n      <td>350000</td>\n      <td>na</td>\n      <td>Toronto, ON M4B1A5</td>\n    </tr>\n    <tr>\n      <th>5228</th>\n      <td>Audi</td>\n      <td>A4</td>\n      <td>2013</td>\n      <td>6900.0</td>\n      <td>other</td>\n      <td>Used</td>\n      <td>Sedan</td>\n      <td>Unknown</td>\n      <td>Automatic</td>\n      <td>na</td>\n      <td>137049</td>\n      <td>na</td>\n      <td>Toronto, ON M1P4M4</td>\n    </tr>\n  </tbody>\n</table>\n<p>366 rows × 13 columns</p>\n</div>"
     },
     "execution_count": 188,
     "metadata": {},
     "output_type": "execute_result"
    }
   ],
   "source": [
    "df[df['fuel_type']=='na']"
   ]
  },
  {
   "cell_type": "code",
   "execution_count": 189,
   "metadata": {
    "hidden": true,
    "pycharm": {
     "name": "#%%\n"
    }
   },
   "outputs": [
    {
     "data": {
      "text/plain": "              brand    model  model_year  list_price  color condition  \\\n2053           Ford    Other        2015     18995.0   Blue      Used   \n2113           Ford    F-150        2020     38398.0   Blue       New   \n2876           Ford    Other        2012     12995.0    Red      Used   \n2924           Ford    Other        2014     19995.0   Blue      Used   \n2994           Ford    Other        2014     14495.0  White      Used   \n...             ...      ...         ...         ...    ...       ...   \n5754        Porsche    Macan        2019     66800.0   Blue      Used   \n5755         Toyota  Corolla        2016     15998.0  Black      Used   \n5756  Mercedes-Benz      CLA        2016     39800.0  Black      Used   \n5757  Mercedes-Benz      GLE        2020     79995.0   Grey      Used   \n5760            BMW       X3        2022     80904.0  White       New   \n\n           body_type             wheel_config transmission fuel_type  mileage  \\\n2053    Minivan, Van   Rear-wheel drive (RWD)    Automatic     Other    68000   \n2113    Pickup Truck                    4 x 4    Automatic     Other       50   \n2876    Minivan, Van   Rear-wheel drive (RWD)    Automatic     Other   113000   \n2924    Minivan, Van   Rear-wheel drive (RWD)    Automatic     Other    24000   \n2994    Minivan, Van   Rear-wheel drive (RWD)    Automatic     Other   129000   \n...              ...                      ...          ...       ...      ...   \n5754  SUV, Crossover    All-wheel drive (AWD)    Automatic     Other    20255   \n5755           Sedan  Front-wheel drive (FWD)    Automatic     Other   131540   \n5756           Sedan    All-wheel drive (AWD)    Automatic     Other    64372   \n5757  SUV, Crossover    All-wheel drive (AWD)    Automatic     Other    43313   \n5760  SUV, Crossover    All-wheel drive (AWD)    Automatic     Other       50   \n\n                                            carfax_link  \\\n2053  https://www.carproof.com/order?ref=kijiji&vin=...   \n2113                                                 na   \n2876  https://www.carproof.com/order?ref=kijiji&vin=...   \n2924  https://www.carproof.com/order?ref=kijiji&vin=...   \n2994  https://www.carproof.com/order?ref=kijiji&vin=...   \n...                                                 ...   \n5754  https://www.carproof.com/order?ref=kijiji&vin=...   \n5755  https://www.carproof.com/order?ref=kijiji&vin=...   \n5756  https://www.carproof.com/order?ref=kijiji&vin=...   \n5757                                                 na   \n5760                                                 na   \n\n                                        dealer_address  \n2053    1065 Martingrove Road, Etobicoke, ON, M9W 4W6\\  \n2113  4700 Sheppard Avenue East, Toronto, ON, M1S 3V6\\  \n2876    1065 Martingrove Road, Etobicoke, ON, M9W 4W6\\  \n2924    1065 Martingrove Road, Etobicoke, ON, M9W 4W6\\  \n2994    1065 Martingrove Road, Etobicoke, ON, M9W 4W6\\  \n...                                                ...  \n5754       60 Martin Ross Avenue, Toronto, ON, M3J 2L4  \n5755    2333 Barton Street East, Hamilton, ON, L8E 2W8  \n5756       60 Martin Ross Avenue, Toronto, ON, M3J 2L4  \n5757            100 Toro Road, North York, ON, M3J 2A9  \n5760       11 Sunlight Park Road, Toronto, ON, M4M 1B5  \n\n[282 rows x 13 columns]",
      "text/html": "<div>\n<style scoped>\n    .dataframe tbody tr th:only-of-type {\n        vertical-align: middle;\n    }\n\n    .dataframe tbody tr th {\n        vertical-align: top;\n    }\n\n    .dataframe thead th {\n        text-align: right;\n    }\n</style>\n<table border=\"1\" class=\"dataframe\">\n  <thead>\n    <tr style=\"text-align: right;\">\n      <th></th>\n      <th>brand</th>\n      <th>model</th>\n      <th>model_year</th>\n      <th>list_price</th>\n      <th>color</th>\n      <th>condition</th>\n      <th>body_type</th>\n      <th>wheel_config</th>\n      <th>transmission</th>\n      <th>fuel_type</th>\n      <th>mileage</th>\n      <th>carfax_link</th>\n      <th>dealer_address</th>\n    </tr>\n  </thead>\n  <tbody>\n    <tr>\n      <th>2053</th>\n      <td>Ford</td>\n      <td>Other</td>\n      <td>2015</td>\n      <td>18995.0</td>\n      <td>Blue</td>\n      <td>Used</td>\n      <td>Minivan, Van</td>\n      <td>Rear-wheel drive (RWD)</td>\n      <td>Automatic</td>\n      <td>Other</td>\n      <td>68000</td>\n      <td>https://www.carproof.com/order?ref=kijiji&amp;vin=...</td>\n      <td>1065 Martingrove Road, Etobicoke, ON, M9W 4W6\\</td>\n    </tr>\n    <tr>\n      <th>2113</th>\n      <td>Ford</td>\n      <td>F-150</td>\n      <td>2020</td>\n      <td>38398.0</td>\n      <td>Blue</td>\n      <td>New</td>\n      <td>Pickup Truck</td>\n      <td>4 x 4</td>\n      <td>Automatic</td>\n      <td>Other</td>\n      <td>50</td>\n      <td>na</td>\n      <td>4700 Sheppard Avenue East, Toronto, ON, M1S 3V6\\</td>\n    </tr>\n    <tr>\n      <th>2876</th>\n      <td>Ford</td>\n      <td>Other</td>\n      <td>2012</td>\n      <td>12995.0</td>\n      <td>Red</td>\n      <td>Used</td>\n      <td>Minivan, Van</td>\n      <td>Rear-wheel drive (RWD)</td>\n      <td>Automatic</td>\n      <td>Other</td>\n      <td>113000</td>\n      <td>https://www.carproof.com/order?ref=kijiji&amp;vin=...</td>\n      <td>1065 Martingrove Road, Etobicoke, ON, M9W 4W6\\</td>\n    </tr>\n    <tr>\n      <th>2924</th>\n      <td>Ford</td>\n      <td>Other</td>\n      <td>2014</td>\n      <td>19995.0</td>\n      <td>Blue</td>\n      <td>Used</td>\n      <td>Minivan, Van</td>\n      <td>Rear-wheel drive (RWD)</td>\n      <td>Automatic</td>\n      <td>Other</td>\n      <td>24000</td>\n      <td>https://www.carproof.com/order?ref=kijiji&amp;vin=...</td>\n      <td>1065 Martingrove Road, Etobicoke, ON, M9W 4W6\\</td>\n    </tr>\n    <tr>\n      <th>2994</th>\n      <td>Ford</td>\n      <td>Other</td>\n      <td>2014</td>\n      <td>14495.0</td>\n      <td>White</td>\n      <td>Used</td>\n      <td>Minivan, Van</td>\n      <td>Rear-wheel drive (RWD)</td>\n      <td>Automatic</td>\n      <td>Other</td>\n      <td>129000</td>\n      <td>https://www.carproof.com/order?ref=kijiji&amp;vin=...</td>\n      <td>1065 Martingrove Road, Etobicoke, ON, M9W 4W6\\</td>\n    </tr>\n    <tr>\n      <th>...</th>\n      <td>...</td>\n      <td>...</td>\n      <td>...</td>\n      <td>...</td>\n      <td>...</td>\n      <td>...</td>\n      <td>...</td>\n      <td>...</td>\n      <td>...</td>\n      <td>...</td>\n      <td>...</td>\n      <td>...</td>\n      <td>...</td>\n    </tr>\n    <tr>\n      <th>5754</th>\n      <td>Porsche</td>\n      <td>Macan</td>\n      <td>2019</td>\n      <td>66800.0</td>\n      <td>Blue</td>\n      <td>Used</td>\n      <td>SUV, Crossover</td>\n      <td>All-wheel drive (AWD)</td>\n      <td>Automatic</td>\n      <td>Other</td>\n      <td>20255</td>\n      <td>https://www.carproof.com/order?ref=kijiji&amp;vin=...</td>\n      <td>60 Martin Ross Avenue, Toronto, ON, M3J 2L4</td>\n    </tr>\n    <tr>\n      <th>5755</th>\n      <td>Toyota</td>\n      <td>Corolla</td>\n      <td>2016</td>\n      <td>15998.0</td>\n      <td>Black</td>\n      <td>Used</td>\n      <td>Sedan</td>\n      <td>Front-wheel drive (FWD)</td>\n      <td>Automatic</td>\n      <td>Other</td>\n      <td>131540</td>\n      <td>https://www.carproof.com/order?ref=kijiji&amp;vin=...</td>\n      <td>2333 Barton Street East, Hamilton, ON, L8E 2W8</td>\n    </tr>\n    <tr>\n      <th>5756</th>\n      <td>Mercedes-Benz</td>\n      <td>CLA</td>\n      <td>2016</td>\n      <td>39800.0</td>\n      <td>Black</td>\n      <td>Used</td>\n      <td>Sedan</td>\n      <td>All-wheel drive (AWD)</td>\n      <td>Automatic</td>\n      <td>Other</td>\n      <td>64372</td>\n      <td>https://www.carproof.com/order?ref=kijiji&amp;vin=...</td>\n      <td>60 Martin Ross Avenue, Toronto, ON, M3J 2L4</td>\n    </tr>\n    <tr>\n      <th>5757</th>\n      <td>Mercedes-Benz</td>\n      <td>GLE</td>\n      <td>2020</td>\n      <td>79995.0</td>\n      <td>Grey</td>\n      <td>Used</td>\n      <td>SUV, Crossover</td>\n      <td>All-wheel drive (AWD)</td>\n      <td>Automatic</td>\n      <td>Other</td>\n      <td>43313</td>\n      <td>na</td>\n      <td>100 Toro Road, North York, ON, M3J 2A9</td>\n    </tr>\n    <tr>\n      <th>5760</th>\n      <td>BMW</td>\n      <td>X3</td>\n      <td>2022</td>\n      <td>80904.0</td>\n      <td>White</td>\n      <td>New</td>\n      <td>SUV, Crossover</td>\n      <td>All-wheel drive (AWD)</td>\n      <td>Automatic</td>\n      <td>Other</td>\n      <td>50</td>\n      <td>na</td>\n      <td>11 Sunlight Park Road, Toronto, ON, M4M 1B5</td>\n    </tr>\n  </tbody>\n</table>\n<p>282 rows × 13 columns</p>\n</div>"
     },
     "execution_count": 189,
     "metadata": {},
     "output_type": "execute_result"
    }
   ],
   "source": [
    "df[df['fuel_type']=='Other']"
   ]
  },
  {
   "cell_type": "code",
   "execution_count": 190,
   "metadata": {
    "hidden": true,
    "pycharm": {
     "name": "#%%\n"
    }
   },
   "outputs": [],
   "source": [
    "# df.loc[df.brand == \"Tesla\", \"fuel_type\"] = \"Hybrid-Electric\"\n",
    "# df.loc[df.model == \"Optima Hybrid\", \"fuel_type\"] = \"Hybrid-Electric\""
   ]
  },
  {
   "cell_type": "code",
   "execution_count": 191,
   "metadata": {
    "hidden": true,
    "pycharm": {
     "name": "#%%\n"
    }
   },
   "outputs": [],
   "source": [
    "# df[\"fuel_type\"].replace({\"na\": \"Unspecified\"}, inplace=True)\n",
    "# df[\"fuel_type\"].replace({\"Other\": \"Unspecified\"}, inplace=True)"
   ]
  },
  {
   "cell_type": "code",
   "execution_count": 192,
   "metadata": {
    "hidden": true,
    "pycharm": {
     "name": "#%%\n"
    }
   },
   "outputs": [],
   "source": [
    "df = df.drop(columns=['fuel_type'])"
   ]
  },
  {
   "cell_type": "markdown",
   "metadata": {
    "hidden": true,
    "pycharm": {
     "name": "#%% md\n"
    }
   },
   "source": [
    "#### Carfax Link"
   ]
  },
  {
   "cell_type": "code",
   "execution_count": 193,
   "metadata": {
    "hidden": true,
    "pycharm": {
     "name": "#%%\n"
    }
   },
   "outputs": [
    {
     "data": {
      "text/plain": "na                                                                                         208\nhttps://www.carproof.com/order?ref=kijiji&vin=null                                         149\nhttps://www.carproof.com/order?ref=kijiji&vin=WP1AA2A53KLB03369                              2\nhttps://www.carproof.com/order?ref=kijiji&vin=3PCAJ5M39LF104592                              2\nhttps://www.carproof.com/order?ref=kijiji&vin=1FTNE2EW4CDA30440                              2\n                                                                                          ... \nhttps://www.carproof.com/order?ref=kijiji&vin=WBAFR9C55BC270268                              1\nhttps://www.carproof.com/order?ref=kijiji&vin=SALVR2BG4FH007926                              1\nhttps://www.carproof.com/order?ref=kijiji&vin=5XYKT3A26BG153917                              1\nhttps://reports.carproof.com/en/main?id=D38DItsr3YD8ps9R0hNb/CbF/coWy4A9&utm_ref=kijiji      1\nhttps://www.carproof.com/order?ref=kijiji&vin=WBA3A5C56CF341691                              1\nName: carfax_link, Length: 984, dtype: int64"
     },
     "execution_count": 193,
     "metadata": {},
     "output_type": "execute_result"
    }
   ],
   "source": [
    "df['carfax_link'].value_counts()"
   ]
  },
  {
   "cell_type": "code",
   "execution_count": 194,
   "metadata": {
    "hidden": true,
    "pycharm": {
     "name": "#%%\n"
    }
   },
   "outputs": [],
   "source": [
    "df.loc[df.condition == \"New\", \"carfax_link\"] = \"New_Car\"\n",
    "df.loc[df.carfax_link.str.contains(\"null\"), \"carfax_link\"] = \"None\"\n",
    "df.loc[(df.carfax_link != \"New_Car\") & (df.carfax_link != \"None\"), \"carfax_link\"] = \"Available\""
   ]
  },
  {
   "cell_type": "markdown",
   "metadata": {
    "hidden": true,
    "pycharm": {
     "name": "#%% md\n"
    }
   },
   "source": [
    "#### Dealer Address"
   ]
  },
  {
   "cell_type": "code",
   "execution_count": 195,
   "metadata": {
    "hidden": true,
    "pycharm": {
     "name": "#%%\n"
    }
   },
   "outputs": [
    {
     "data": {
      "text/plain": "60 Martin Ross Avenue, Toronto, ON, M3J 2L4\\        87\n1205 Finch Avenue West, Toronto, ON, M3J 2E8\\       83\n1235 Finch Ave. W., Toronto, ON, M3J 2G4\\           74\n60 Martin Ross Avenue, Toronto, ON, M3J 2L4         60\n11 Sunlight Park Road, Toronto, ON, M4M 1B5         58\n                                                    ..\nNorth York, ON M9L 2W3\\                              1\n1897 Eglinton Avenue East, Toronto, ON, M1L 2L6\\     1\nToronto, ON M6K\\                                     1\n50 Benson Court, Port Hope, ON, L1A 3V6\\             1\nNorth York, ON M3H 2V6                               1\nName: dealer_address, Length: 308, dtype: int64"
     },
     "execution_count": 195,
     "metadata": {},
     "output_type": "execute_result"
    }
   ],
   "source": [
    "df['dealer_address'].value_counts()"
   ]
  },
  {
   "cell_type": "code",
   "execution_count": 196,
   "metadata": {
    "hidden": true,
    "pycharm": {
     "name": "#%%\n"
    }
   },
   "outputs": [],
   "source": [
    "df.loc[df.dealer_address.str.contains(\"Toronto|Etobicoke|East York|North York|Scarborough|York\",case = False), \"dealer_address\"] = \"Toronto\"\n",
    "df.loc[df.dealer_address.str.contains(\"Mississauga|Brampton|Markham|Vaugh|Richmond|Oakville\",case = False), \"dealer_address\"] = \"other_GTA\"\n",
    "df.loc[(df.dealer_address.isin([\"Toronto\",\"other_GTA\"]) == False), \"dealer_address\"] = \"other\""
   ]
  },
  {
   "cell_type": "code",
   "execution_count": 197,
   "metadata": {
    "hidden": true,
    "pycharm": {
     "name": "#%%\n"
    }
   },
   "outputs": [
    {
     "data": {
      "text/plain": "Toronto      1045\nother         167\nother_GTA     143\nName: dealer_address, dtype: int64"
     },
     "execution_count": 197,
     "metadata": {},
     "output_type": "execute_result"
    }
   ],
   "source": [
    "df['dealer_address'].value_counts()"
   ]
  },
  {
   "cell_type": "code",
   "execution_count": 198,
   "metadata": {
    "hidden": true,
    "pycharm": {
     "name": "#%%\n"
    }
   },
   "outputs": [
    {
     "data": {
      "text/plain": "              brand           model  model_year  list_price  color condition  \\\n0         Chevrolet  Silverado 1500        2019    30999.99  Black      Used   \n1        Volkswagen          Tiguan        2015    11450.00   Grey      Used   \n2               GMC          Acadia        2019    33988.00  other      Used   \n3             Acura              TL        2004      500.00  other      Used   \n4             Honda          Accord        2017    15499.00  White      Used   \n...             ...             ...         ...         ...    ...       ...   \n5755         Toyota         Corolla        2016    15998.00  Black      Used   \n5756  Mercedes-Benz             CLA        2016    39800.00  Black      Used   \n5757  Mercedes-Benz             GLE        2020    79995.00   Grey      Used   \n5758            BMW        3-Series        2012    15500.00   Blue      Used   \n5760            BMW              X3        2022    80904.00  White       New   \n\n           body_type             wheel_config transmission  mileage  \\\n0       Pickup Truck                    4 x 4    Automatic   115000   \n1     SUV, Crossover    All-wheel drive (AWD)    Automatic   129000   \n2              Other    All-wheel drive (AWD)    Automatic    73893   \n3              Sedan                  Unknown    Automatic   200500   \n4              Sedan  Front-wheel drive (FWD)    Automatic    93000   \n...              ...                      ...          ...      ...   \n5755           Sedan  Front-wheel drive (FWD)    Automatic   131540   \n5756           Sedan    All-wheel drive (AWD)    Automatic    64372   \n5757  SUV, Crossover    All-wheel drive (AWD)    Automatic    43313   \n5758           Sedan   Rear-wheel drive (RWD)    Automatic   165000   \n5760  SUV, Crossover    All-wheel drive (AWD)    Automatic       50   \n\n     carfax_link dealer_address  \n0      Available        Toronto  \n1           None        Toronto  \n2      Available        Toronto  \n3           None        Toronto  \n4      Available        Toronto  \n...          ...            ...  \n5755   Available          other  \n5756   Available        Toronto  \n5757   Available        Toronto  \n5758   Available        Toronto  \n5760     New_Car        Toronto  \n\n[1355 rows x 12 columns]",
      "text/html": "<div>\n<style scoped>\n    .dataframe tbody tr th:only-of-type {\n        vertical-align: middle;\n    }\n\n    .dataframe tbody tr th {\n        vertical-align: top;\n    }\n\n    .dataframe thead th {\n        text-align: right;\n    }\n</style>\n<table border=\"1\" class=\"dataframe\">\n  <thead>\n    <tr style=\"text-align: right;\">\n      <th></th>\n      <th>brand</th>\n      <th>model</th>\n      <th>model_year</th>\n      <th>list_price</th>\n      <th>color</th>\n      <th>condition</th>\n      <th>body_type</th>\n      <th>wheel_config</th>\n      <th>transmission</th>\n      <th>mileage</th>\n      <th>carfax_link</th>\n      <th>dealer_address</th>\n    </tr>\n  </thead>\n  <tbody>\n    <tr>\n      <th>0</th>\n      <td>Chevrolet</td>\n      <td>Silverado 1500</td>\n      <td>2019</td>\n      <td>30999.99</td>\n      <td>Black</td>\n      <td>Used</td>\n      <td>Pickup Truck</td>\n      <td>4 x 4</td>\n      <td>Automatic</td>\n      <td>115000</td>\n      <td>Available</td>\n      <td>Toronto</td>\n    </tr>\n    <tr>\n      <th>1</th>\n      <td>Volkswagen</td>\n      <td>Tiguan</td>\n      <td>2015</td>\n      <td>11450.00</td>\n      <td>Grey</td>\n      <td>Used</td>\n      <td>SUV, Crossover</td>\n      <td>All-wheel drive (AWD)</td>\n      <td>Automatic</td>\n      <td>129000</td>\n      <td>None</td>\n      <td>Toronto</td>\n    </tr>\n    <tr>\n      <th>2</th>\n      <td>GMC</td>\n      <td>Acadia</td>\n      <td>2019</td>\n      <td>33988.00</td>\n      <td>other</td>\n      <td>Used</td>\n      <td>Other</td>\n      <td>All-wheel drive (AWD)</td>\n      <td>Automatic</td>\n      <td>73893</td>\n      <td>Available</td>\n      <td>Toronto</td>\n    </tr>\n    <tr>\n      <th>3</th>\n      <td>Acura</td>\n      <td>TL</td>\n      <td>2004</td>\n      <td>500.00</td>\n      <td>other</td>\n      <td>Used</td>\n      <td>Sedan</td>\n      <td>Unknown</td>\n      <td>Automatic</td>\n      <td>200500</td>\n      <td>None</td>\n      <td>Toronto</td>\n    </tr>\n    <tr>\n      <th>4</th>\n      <td>Honda</td>\n      <td>Accord</td>\n      <td>2017</td>\n      <td>15499.00</td>\n      <td>White</td>\n      <td>Used</td>\n      <td>Sedan</td>\n      <td>Front-wheel drive (FWD)</td>\n      <td>Automatic</td>\n      <td>93000</td>\n      <td>Available</td>\n      <td>Toronto</td>\n    </tr>\n    <tr>\n      <th>...</th>\n      <td>...</td>\n      <td>...</td>\n      <td>...</td>\n      <td>...</td>\n      <td>...</td>\n      <td>...</td>\n      <td>...</td>\n      <td>...</td>\n      <td>...</td>\n      <td>...</td>\n      <td>...</td>\n      <td>...</td>\n    </tr>\n    <tr>\n      <th>5755</th>\n      <td>Toyota</td>\n      <td>Corolla</td>\n      <td>2016</td>\n      <td>15998.00</td>\n      <td>Black</td>\n      <td>Used</td>\n      <td>Sedan</td>\n      <td>Front-wheel drive (FWD)</td>\n      <td>Automatic</td>\n      <td>131540</td>\n      <td>Available</td>\n      <td>other</td>\n    </tr>\n    <tr>\n      <th>5756</th>\n      <td>Mercedes-Benz</td>\n      <td>CLA</td>\n      <td>2016</td>\n      <td>39800.00</td>\n      <td>Black</td>\n      <td>Used</td>\n      <td>Sedan</td>\n      <td>All-wheel drive (AWD)</td>\n      <td>Automatic</td>\n      <td>64372</td>\n      <td>Available</td>\n      <td>Toronto</td>\n    </tr>\n    <tr>\n      <th>5757</th>\n      <td>Mercedes-Benz</td>\n      <td>GLE</td>\n      <td>2020</td>\n      <td>79995.00</td>\n      <td>Grey</td>\n      <td>Used</td>\n      <td>SUV, Crossover</td>\n      <td>All-wheel drive (AWD)</td>\n      <td>Automatic</td>\n      <td>43313</td>\n      <td>Available</td>\n      <td>Toronto</td>\n    </tr>\n    <tr>\n      <th>5758</th>\n      <td>BMW</td>\n      <td>3-Series</td>\n      <td>2012</td>\n      <td>15500.00</td>\n      <td>Blue</td>\n      <td>Used</td>\n      <td>Sedan</td>\n      <td>Rear-wheel drive (RWD)</td>\n      <td>Automatic</td>\n      <td>165000</td>\n      <td>Available</td>\n      <td>Toronto</td>\n    </tr>\n    <tr>\n      <th>5760</th>\n      <td>BMW</td>\n      <td>X3</td>\n      <td>2022</td>\n      <td>80904.00</td>\n      <td>White</td>\n      <td>New</td>\n      <td>SUV, Crossover</td>\n      <td>All-wheel drive (AWD)</td>\n      <td>Automatic</td>\n      <td>50</td>\n      <td>New_Car</td>\n      <td>Toronto</td>\n    </tr>\n  </tbody>\n</table>\n<p>1355 rows × 12 columns</p>\n</div>"
     },
     "execution_count": 198,
     "metadata": {},
     "output_type": "execute_result"
    }
   ],
   "source": [
    "df"
   ]
  },
  {
   "cell_type": "markdown",
   "metadata": {
    "heading_collapsed": true,
    "pycharm": {
     "name": "#%% md\n"
    }
   },
   "source": [
    "## Data Engineering"
   ]
  },
  {
   "cell_type": "markdown",
   "metadata": {
    "hidden": true,
    "pycharm": {
     "name": "#%% md\n"
    }
   },
   "source": [
    "Car 'model' has too many unique values for the number of samples are in the dataset. Using one-hot encoding would create 259 columns. Deleting them, however, would remove crucial information as the model of a car is a significant factor of the price.\n",
    "\n",
    "Therefore, I need another way to distinguish how much the vehicle is supposed cost when new. There are several options:\n",
    "- Find a way to retrieve the MSRP for all of the samples. This did not work out because I could not find an appropriate (free) API. Furthermore, vehicle MSRP can vary between different markets, making the values unstable if I gather the data from different sources.\n",
    "- Only use the brand of the vehicle. This is the simplest option however different models and trims can vary in price by a lot. For example the cheapest Tesla is under CAD 50,000 however the most expensive is around CAD 200,000.\n",
    "- Using performance specification. Typically, the more cylinders, the higher the cost of a car. Furthermore, unlike MSRP, this does not vary often from country to country allow me to have more datasets at my disposal. This should give our model a good relative idea of how much the vehicle should have costed when purchased."
   ]
  },
  {
   "cell_type": "markdown",
   "metadata": {
    "hidden": true,
    "pycharm": {
     "name": "#%% md\n"
    }
   },
   "source": [
    "### Cylinders"
   ]
  },
  {
   "cell_type": "code",
   "execution_count": 199,
   "metadata": {
    "hidden": true,
    "pycharm": {
     "name": "#%%\n"
    }
   },
   "outputs": [
    {
     "name": "stdout",
     "output_type": "stream",
     "text": [
      "DATASET HAS 1355 ENTRIES\n",
      "brand has 39 unique values\n",
      "model has 259 unique values\n",
      "model_year has 25 unique values\n",
      "list_price has 833 unique values\n",
      "color has 7 unique values\n",
      "condition has 4 unique values\n",
      "body_type has 9 unique values\n",
      "wheel_config has 5 unique values\n",
      "transmission has 3 unique values\n",
      "mileage has 1013 unique values\n",
      "carfax_link has 3 unique values\n",
      "dealer_address has 3 unique values\n"
     ]
    }
   ],
   "source": [
    "#Print out the number of unique values\n",
    "print(\"DATASET HAS\",df.shape[0],\"ENTRIES\")\n",
    "for i in df.columns:\n",
    "\tprint(i,\"has\",len(df[i].unique()),\"unique values\")"
   ]
  },
  {
   "cell_type": "code",
   "execution_count": 200,
   "metadata": {
    "hidden": true,
    "pycharm": {
     "name": "#%%\n"
    }
   },
   "outputs": [],
   "source": [
    "df2 = pd.read_csv('vehicles.csv')"
   ]
  },
  {
   "cell_type": "code",
   "execution_count": 201,
   "metadata": {
    "hidden": true,
    "pycharm": {
     "name": "#%%\n"
    }
   },
   "outputs": [
    {
     "data": {
      "text/plain": "array(['sierra 1500 crew cab slt', 'silverado 1500',\n       'silverado 1500 crew', ..., 'gand wagoneer', '96 Suburban',\n       'Paige Glenbrook Touring'], dtype=object)"
     },
     "execution_count": 201,
     "metadata": {},
     "output_type": "execute_result"
    }
   ],
   "source": [
    "specs_df = df2\n",
    "specs_df = specs_df[(specs_df['model'].notna()) & (specs_df['cylinders'].notna())]\n",
    "specs_df['model'].unique()"
   ]
  },
  {
   "cell_type": "code",
   "execution_count": 202,
   "metadata": {
    "hidden": true,
    "pycharm": {
     "name": "#%%\n"
    }
   },
   "outputs": [
    {
     "name": "stderr",
     "output_type": "stream",
     "text": [
      "/var/folders/c9/k18251qn43qdyt5wnrczs_yw0000gp/T/ipykernel_79717/3221794032.py:5: SettingWithCopyWarning: \n",
      "A value is trying to be set on a copy of a slice from a DataFrame.\n",
      "Try using .loc[row_indexer,col_indexer] = value instead\n",
      "\n",
      "See the caveats in the documentation: https://pandas.pydata.org/pandas-docs/stable/user_guide/indexing.html#returning-a-view-versus-a-copy\n",
      "  specs_df['model'] = specs_df['model'].apply(lambda x:re.sub('[^A-Za-z0-9]+', '', x.lower()))\n"
     ]
    }
   ],
   "source": [
    "import re\n",
    "# Standardize the model names\n",
    "\n",
    "df['model'] = df['model'].apply(lambda x:re.sub('[^A-Za-z0-9]+', '', x.lower()))\n",
    "specs_df['model'] = specs_df['model'].apply(lambda x:re.sub('[^A-Za-z0-9]+', '', x.lower()))"
   ]
  },
  {
   "cell_type": "code",
   "execution_count": 203,
   "metadata": {
    "hidden": true,
    "pycharm": {
     "name": "#%%\n"
    }
   },
   "outputs": [
    {
     "data": {
      "text/plain": "6 cylinders     93536\n4 cylinders     77252\n8 cylinders     70697\n5 cylinders      1694\n10 cylinders     1424\nother            1140\n3 cylinders       651\n12 cylinders      205\nName: cylinders, dtype: int64"
     },
     "execution_count": 203,
     "metadata": {},
     "output_type": "execute_result"
    }
   ],
   "source": [
    "specs_df['cylinders'].value_counts()"
   ]
  },
  {
   "cell_type": "code",
   "execution_count": 204,
   "metadata": {
    "hidden": true,
    "pycharm": {
     "name": "#%%\n"
    }
   },
   "outputs": [
    {
     "name": "stderr",
     "output_type": "stream",
     "text": [
      "/var/folders/c9/k18251qn43qdyt5wnrczs_yw0000gp/T/ipykernel_79717/67802142.py:1: SettingWithCopyWarning: \n",
      "A value is trying to be set on a copy of a slice from a DataFrame\n",
      "\n",
      "See the caveats in the documentation: https://pandas.pydata.org/pandas-docs/stable/user_guide/indexing.html#returning-a-view-versus-a-copy\n",
      "  specs_df['cylinders'].replace({\"other\": \"0\"}, inplace=True)\n"
     ]
    }
   ],
   "source": [
    "specs_df['cylinders'].replace({\"other\": \"0\"}, inplace=True)\n",
    "specs_df = specs_df[specs_df['cylinders']!= '0']\n",
    "specs_df['cylinders'] = specs_df['cylinders'].apply(lambda x:int(x[0]))"
   ]
  },
  {
   "cell_type": "code",
   "execution_count": 205,
   "metadata": {
    "hidden": true,
    "pycharm": {
     "name": "#%%\n"
    }
   },
   "outputs": [],
   "source": [
    "def findCylinder(bd,md,yr):\n",
    "\ttry:\n",
    "\t\ttry:\n",
    "\t\t\tresults = specs_df[(specs_df.manufacturer.str.contains(bd,case = False)) & (specs_df.model.str.contains(md,case = False)) &  (specs_df['year'] <= yr) & (specs_df['year'] >= (yr-5))]\n",
    "\t\t\tcyldr = list(results['cylinders'].mode())[0]\n",
    "\t\texcept:\n",
    "\t\t\tresults = specs_df[(specs_df.manufacturer.str.contains(bd,case = False)) &  (specs_df['year'] <= yr) & (specs_df['year'] >= (yr-5))]\n",
    "\t\t\tcyldr = list(results['cylinders'].mode())[0]\n",
    "\texcept:\n",
    "\t\tcyldr = 4\n",
    "\treturn cyldr"
   ]
  },
  {
   "cell_type": "code",
   "execution_count": 206,
   "metadata": {
    "hidden": true,
    "pycharm": {
     "name": "#%%\n"
    }
   },
   "outputs": [
    {
     "data": {
      "text/plain": "0           Chevrolet\n1          Volkswagen\n2                 GMC\n3               Acura\n4               Honda\n            ...      \n5755           Toyota\n5756    Mercedes-Benz\n5757    Mercedes-Benz\n5758              BMW\n5760              BMW\nName: brand, Length: 1355, dtype: object"
     },
     "execution_count": 206,
     "metadata": {},
     "output_type": "execute_result"
    }
   ],
   "source": [
    "df['brand']"
   ]
  },
  {
   "cell_type": "code",
   "execution_count": 207,
   "metadata": {
    "hidden": true,
    "pycharm": {
     "name": "#%%\n"
    }
   },
   "outputs": [],
   "source": [
    "df['cylinders'] = df.loc[:,:].apply(lambda x:findCylinder(x['brand'],x['model'],x['model_year']), axis = 1)\n",
    "df = df.drop(columns=['model'])"
   ]
  },
  {
   "cell_type": "code",
   "execution_count": 219,
   "outputs": [],
   "source": [
    "df.loc[df.transmission == 'Electric', \"cylinders\"] = 0"
   ],
   "metadata": {
    "collapsed": false,
    "pycharm": {
     "name": "#%%\n"
    }
   }
  },
  {
   "cell_type": "code",
   "execution_count": 220,
   "outputs": [
    {
     "data": {
      "text/plain": "              brand  list_price  color condition       body_type  \\\n0         Chevrolet    30999.99  Black      Used    Pickup Truck   \n1        Volkswagen    11450.00   Grey      Used  SUV, Crossover   \n2               GMC    33988.00  other      Used           Other   \n3             Acura      500.00  other      Used           Sedan   \n4             Honda    15499.00  White      Used           Sedan   \n...             ...         ...    ...       ...             ...   \n5755         Toyota    15998.00  Black      Used           Sedan   \n5756  Mercedes-Benz    39800.00  Black      Used           Sedan   \n5757  Mercedes-Benz    79995.00   Grey      Used  SUV, Crossover   \n5758            BMW    15500.00   Blue      Used           Sedan   \n5760            BMW    80904.00  White       New  SUV, Crossover   \n\n                 wheel_config transmission  mileage carfax_link  \\\n0                       4 x 4    Automatic   115000   Available   \n1       All-wheel drive (AWD)    Automatic   129000        None   \n2       All-wheel drive (AWD)    Automatic    73893   Available   \n3                     Unknown    Automatic   200500        None   \n4     Front-wheel drive (FWD)    Automatic    93000   Available   \n...                       ...          ...      ...         ...   \n5755  Front-wheel drive (FWD)    Automatic   131540   Available   \n5756    All-wheel drive (AWD)    Automatic    64372   Available   \n5757    All-wheel drive (AWD)    Automatic    43313   Available   \n5758   Rear-wheel drive (RWD)    Automatic   165000   Available   \n5760    All-wheel drive (AWD)    Automatic       50     New_Car   \n\n     dealer_address  cylinders  vehicle_age  \n0           Toronto          8            3  \n1           Toronto          4            7  \n2           Toronto          6            3  \n3           Toronto          6           18  \n4           Toronto          4            5  \n...             ...        ...          ...  \n5755          other          4            6  \n5756        Toronto          6            6  \n5757        Toronto          6            2  \n5758        Toronto          6           10  \n5760        Toronto          4            0  \n\n[1355 rows x 12 columns]",
      "text/html": "<div>\n<style scoped>\n    .dataframe tbody tr th:only-of-type {\n        vertical-align: middle;\n    }\n\n    .dataframe tbody tr th {\n        vertical-align: top;\n    }\n\n    .dataframe thead th {\n        text-align: right;\n    }\n</style>\n<table border=\"1\" class=\"dataframe\">\n  <thead>\n    <tr style=\"text-align: right;\">\n      <th></th>\n      <th>brand</th>\n      <th>list_price</th>\n      <th>color</th>\n      <th>condition</th>\n      <th>body_type</th>\n      <th>wheel_config</th>\n      <th>transmission</th>\n      <th>mileage</th>\n      <th>carfax_link</th>\n      <th>dealer_address</th>\n      <th>cylinders</th>\n      <th>vehicle_age</th>\n    </tr>\n  </thead>\n  <tbody>\n    <tr>\n      <th>0</th>\n      <td>Chevrolet</td>\n      <td>30999.99</td>\n      <td>Black</td>\n      <td>Used</td>\n      <td>Pickup Truck</td>\n      <td>4 x 4</td>\n      <td>Automatic</td>\n      <td>115000</td>\n      <td>Available</td>\n      <td>Toronto</td>\n      <td>8</td>\n      <td>3</td>\n    </tr>\n    <tr>\n      <th>1</th>\n      <td>Volkswagen</td>\n      <td>11450.00</td>\n      <td>Grey</td>\n      <td>Used</td>\n      <td>SUV, Crossover</td>\n      <td>All-wheel drive (AWD)</td>\n      <td>Automatic</td>\n      <td>129000</td>\n      <td>None</td>\n      <td>Toronto</td>\n      <td>4</td>\n      <td>7</td>\n    </tr>\n    <tr>\n      <th>2</th>\n      <td>GMC</td>\n      <td>33988.00</td>\n      <td>other</td>\n      <td>Used</td>\n      <td>Other</td>\n      <td>All-wheel drive (AWD)</td>\n      <td>Automatic</td>\n      <td>73893</td>\n      <td>Available</td>\n      <td>Toronto</td>\n      <td>6</td>\n      <td>3</td>\n    </tr>\n    <tr>\n      <th>3</th>\n      <td>Acura</td>\n      <td>500.00</td>\n      <td>other</td>\n      <td>Used</td>\n      <td>Sedan</td>\n      <td>Unknown</td>\n      <td>Automatic</td>\n      <td>200500</td>\n      <td>None</td>\n      <td>Toronto</td>\n      <td>6</td>\n      <td>18</td>\n    </tr>\n    <tr>\n      <th>4</th>\n      <td>Honda</td>\n      <td>15499.00</td>\n      <td>White</td>\n      <td>Used</td>\n      <td>Sedan</td>\n      <td>Front-wheel drive (FWD)</td>\n      <td>Automatic</td>\n      <td>93000</td>\n      <td>Available</td>\n      <td>Toronto</td>\n      <td>4</td>\n      <td>5</td>\n    </tr>\n    <tr>\n      <th>...</th>\n      <td>...</td>\n      <td>...</td>\n      <td>...</td>\n      <td>...</td>\n      <td>...</td>\n      <td>...</td>\n      <td>...</td>\n      <td>...</td>\n      <td>...</td>\n      <td>...</td>\n      <td>...</td>\n      <td>...</td>\n    </tr>\n    <tr>\n      <th>5755</th>\n      <td>Toyota</td>\n      <td>15998.00</td>\n      <td>Black</td>\n      <td>Used</td>\n      <td>Sedan</td>\n      <td>Front-wheel drive (FWD)</td>\n      <td>Automatic</td>\n      <td>131540</td>\n      <td>Available</td>\n      <td>other</td>\n      <td>4</td>\n      <td>6</td>\n    </tr>\n    <tr>\n      <th>5756</th>\n      <td>Mercedes-Benz</td>\n      <td>39800.00</td>\n      <td>Black</td>\n      <td>Used</td>\n      <td>Sedan</td>\n      <td>All-wheel drive (AWD)</td>\n      <td>Automatic</td>\n      <td>64372</td>\n      <td>Available</td>\n      <td>Toronto</td>\n      <td>6</td>\n      <td>6</td>\n    </tr>\n    <tr>\n      <th>5757</th>\n      <td>Mercedes-Benz</td>\n      <td>79995.00</td>\n      <td>Grey</td>\n      <td>Used</td>\n      <td>SUV, Crossover</td>\n      <td>All-wheel drive (AWD)</td>\n      <td>Automatic</td>\n      <td>43313</td>\n      <td>Available</td>\n      <td>Toronto</td>\n      <td>6</td>\n      <td>2</td>\n    </tr>\n    <tr>\n      <th>5758</th>\n      <td>BMW</td>\n      <td>15500.00</td>\n      <td>Blue</td>\n      <td>Used</td>\n      <td>Sedan</td>\n      <td>Rear-wheel drive (RWD)</td>\n      <td>Automatic</td>\n      <td>165000</td>\n      <td>Available</td>\n      <td>Toronto</td>\n      <td>6</td>\n      <td>10</td>\n    </tr>\n    <tr>\n      <th>5760</th>\n      <td>BMW</td>\n      <td>80904.00</td>\n      <td>White</td>\n      <td>New</td>\n      <td>SUV, Crossover</td>\n      <td>All-wheel drive (AWD)</td>\n      <td>Automatic</td>\n      <td>50</td>\n      <td>New_Car</td>\n      <td>Toronto</td>\n      <td>4</td>\n      <td>0</td>\n    </tr>\n  </tbody>\n</table>\n<p>1355 rows × 12 columns</p>\n</div>"
     },
     "execution_count": 220,
     "metadata": {},
     "output_type": "execute_result"
    }
   ],
   "source": [
    "df"
   ],
   "metadata": {
    "collapsed": false,
    "pycharm": {
     "name": "#%%\n"
    }
   }
  },
  {
   "cell_type": "markdown",
   "metadata": {
    "hidden": true,
    "pycharm": {
     "name": "#%% md\n"
    }
   },
   "source": [
    "### Year"
   ]
  },
  {
   "cell_type": "code",
   "execution_count": 221,
   "metadata": {
    "hidden": true,
    "pycharm": {
     "name": "#%%\n"
    }
   },
   "outputs": [
    {
     "ename": "KeyError",
     "evalue": "'model_year'",
     "output_type": "error",
     "traceback": [
      "\u001B[0;31m---------------------------------------------------------------------------\u001B[0m",
      "\u001B[0;31mKeyError\u001B[0m                                  Traceback (most recent call last)",
      "File \u001B[0;32m~/miniforge3/envs/datascience/lib/python3.9/site-packages/pandas/core/indexes/base.py:3621\u001B[0m, in \u001B[0;36mIndex.get_loc\u001B[0;34m(self, key, method, tolerance)\u001B[0m\n\u001B[1;32m   3620\u001B[0m \u001B[38;5;28;01mtry\u001B[39;00m:\n\u001B[0;32m-> 3621\u001B[0m     \u001B[38;5;28;01mreturn\u001B[39;00m \u001B[38;5;28;43mself\u001B[39;49m\u001B[38;5;241;43m.\u001B[39;49m\u001B[43m_engine\u001B[49m\u001B[38;5;241;43m.\u001B[39;49m\u001B[43mget_loc\u001B[49m\u001B[43m(\u001B[49m\u001B[43mcasted_key\u001B[49m\u001B[43m)\u001B[49m\n\u001B[1;32m   3622\u001B[0m \u001B[38;5;28;01mexcept\u001B[39;00m \u001B[38;5;167;01mKeyError\u001B[39;00m \u001B[38;5;28;01mas\u001B[39;00m err:\n",
      "File \u001B[0;32m~/miniforge3/envs/datascience/lib/python3.9/site-packages/pandas/_libs/index.pyx:136\u001B[0m, in \u001B[0;36mpandas._libs.index.IndexEngine.get_loc\u001B[0;34m()\u001B[0m\n",
      "File \u001B[0;32m~/miniforge3/envs/datascience/lib/python3.9/site-packages/pandas/_libs/index.pyx:163\u001B[0m, in \u001B[0;36mpandas._libs.index.IndexEngine.get_loc\u001B[0;34m()\u001B[0m\n",
      "File \u001B[0;32mpandas/_libs/hashtable_class_helper.pxi:5198\u001B[0m, in \u001B[0;36mpandas._libs.hashtable.PyObjectHashTable.get_item\u001B[0;34m()\u001B[0m\n",
      "File \u001B[0;32mpandas/_libs/hashtable_class_helper.pxi:5206\u001B[0m, in \u001B[0;36mpandas._libs.hashtable.PyObjectHashTable.get_item\u001B[0;34m()\u001B[0m\n",
      "\u001B[0;31mKeyError\u001B[0m: 'model_year'",
      "\nThe above exception was the direct cause of the following exception:\n",
      "\u001B[0;31mKeyError\u001B[0m                                  Traceback (most recent call last)",
      "Input \u001B[0;32mIn [221]\u001B[0m, in \u001B[0;36m<cell line: 2>\u001B[0;34m()\u001B[0m\n\u001B[1;32m      1\u001B[0m df[\u001B[38;5;124m'\u001B[39m\u001B[38;5;124mcurrent_year\u001B[39m\u001B[38;5;124m'\u001B[39m] \u001B[38;5;241m=\u001B[39m \u001B[38;5;241m2022\u001B[39m\n\u001B[0;32m----> 2\u001B[0m df[\u001B[38;5;124m'\u001B[39m\u001B[38;5;124mvehicle_age\u001B[39m\u001B[38;5;124m'\u001B[39m] \u001B[38;5;241m=\u001B[39m df[\u001B[38;5;124m'\u001B[39m\u001B[38;5;124mcurrent_year\u001B[39m\u001B[38;5;124m'\u001B[39m] \u001B[38;5;241m-\u001B[39m \u001B[43mdf\u001B[49m\u001B[43m[\u001B[49m\u001B[38;5;124;43m'\u001B[39;49m\u001B[38;5;124;43mmodel_year\u001B[39;49m\u001B[38;5;124;43m'\u001B[39;49m\u001B[43m]\u001B[49m\n\u001B[1;32m      3\u001B[0m df \u001B[38;5;241m=\u001B[39m df\u001B[38;5;241m.\u001B[39mdrop(columns\u001B[38;5;241m=\u001B[39m[\u001B[38;5;124m'\u001B[39m\u001B[38;5;124mmodel_year\u001B[39m\u001B[38;5;124m'\u001B[39m,\u001B[38;5;124m'\u001B[39m\u001B[38;5;124mcurrent_year\u001B[39m\u001B[38;5;124m'\u001B[39m])\n",
      "File \u001B[0;32m~/miniforge3/envs/datascience/lib/python3.9/site-packages/pandas/core/frame.py:3505\u001B[0m, in \u001B[0;36mDataFrame.__getitem__\u001B[0;34m(self, key)\u001B[0m\n\u001B[1;32m   3503\u001B[0m \u001B[38;5;28;01mif\u001B[39;00m \u001B[38;5;28mself\u001B[39m\u001B[38;5;241m.\u001B[39mcolumns\u001B[38;5;241m.\u001B[39mnlevels \u001B[38;5;241m>\u001B[39m \u001B[38;5;241m1\u001B[39m:\n\u001B[1;32m   3504\u001B[0m     \u001B[38;5;28;01mreturn\u001B[39;00m \u001B[38;5;28mself\u001B[39m\u001B[38;5;241m.\u001B[39m_getitem_multilevel(key)\n\u001B[0;32m-> 3505\u001B[0m indexer \u001B[38;5;241m=\u001B[39m \u001B[38;5;28;43mself\u001B[39;49m\u001B[38;5;241;43m.\u001B[39;49m\u001B[43mcolumns\u001B[49m\u001B[38;5;241;43m.\u001B[39;49m\u001B[43mget_loc\u001B[49m\u001B[43m(\u001B[49m\u001B[43mkey\u001B[49m\u001B[43m)\u001B[49m\n\u001B[1;32m   3506\u001B[0m \u001B[38;5;28;01mif\u001B[39;00m is_integer(indexer):\n\u001B[1;32m   3507\u001B[0m     indexer \u001B[38;5;241m=\u001B[39m [indexer]\n",
      "File \u001B[0;32m~/miniforge3/envs/datascience/lib/python3.9/site-packages/pandas/core/indexes/base.py:3623\u001B[0m, in \u001B[0;36mIndex.get_loc\u001B[0;34m(self, key, method, tolerance)\u001B[0m\n\u001B[1;32m   3621\u001B[0m     \u001B[38;5;28;01mreturn\u001B[39;00m \u001B[38;5;28mself\u001B[39m\u001B[38;5;241m.\u001B[39m_engine\u001B[38;5;241m.\u001B[39mget_loc(casted_key)\n\u001B[1;32m   3622\u001B[0m \u001B[38;5;28;01mexcept\u001B[39;00m \u001B[38;5;167;01mKeyError\u001B[39;00m \u001B[38;5;28;01mas\u001B[39;00m err:\n\u001B[0;32m-> 3623\u001B[0m     \u001B[38;5;28;01mraise\u001B[39;00m \u001B[38;5;167;01mKeyError\u001B[39;00m(key) \u001B[38;5;28;01mfrom\u001B[39;00m \u001B[38;5;21;01merr\u001B[39;00m\n\u001B[1;32m   3624\u001B[0m \u001B[38;5;28;01mexcept\u001B[39;00m \u001B[38;5;167;01mTypeError\u001B[39;00m:\n\u001B[1;32m   3625\u001B[0m     \u001B[38;5;66;03m# If we have a listlike key, _check_indexing_error will raise\u001B[39;00m\n\u001B[1;32m   3626\u001B[0m     \u001B[38;5;66;03m#  InvalidIndexError. Otherwise we fall through and re-raise\u001B[39;00m\n\u001B[1;32m   3627\u001B[0m     \u001B[38;5;66;03m#  the TypeError.\u001B[39;00m\n\u001B[1;32m   3628\u001B[0m     \u001B[38;5;28mself\u001B[39m\u001B[38;5;241m.\u001B[39m_check_indexing_error(key)\n",
      "\u001B[0;31mKeyError\u001B[0m: 'model_year'"
     ]
    }
   ],
   "source": [
    "df['current_year'] = 2022\n",
    "df['vehicle_age'] = df['current_year'] - df['model_year']\n",
    "df = df.drop(columns=['model_year','current_year'])"
   ]
  },
  {
   "cell_type": "code",
   "execution_count": 222,
   "metadata": {
    "hidden": true,
    "pycharm": {
     "name": "#%%\n"
    }
   },
   "outputs": [
    {
     "name": "stdout",
     "output_type": "stream",
     "text": [
      "['brand', 'list_price', 'color', 'condition', 'body_type', 'wheel_config', 'transmission', 'mileage', 'carfax_link', 'dealer_address', 'cylinders', 'vehicle_age', 'current_year']\n"
     ]
    }
   ],
   "source": [
    "cols = list(df.columns)\n",
    "print(cols)\n",
    "df = df[cols[0:1]+cols[2:]+[cols[1]]]"
   ]
  },
  {
   "cell_type": "markdown",
   "metadata": {
    "heading_collapsed": true,
    "hidden": true,
    "pycharm": {
     "name": "#%% md\n"
    }
   },
   "source": [
    "### Generalizing the Brands\n"
   ]
  },
  {
   "cell_type": "code",
   "execution_count": 223,
   "metadata": {
    "hidden": true,
    "pycharm": {
     "name": "#%%\n"
    }
   },
   "outputs": [],
   "source": [
    "list(df.brand.unique())\n",
    "american = ['Chevrolet','GMC','Pontiac','Chrysler','Ford','Cadillac','Tesla','Jeep','Ram','Lincoln','Saturn','Dodge','Buick']\n",
    "german = ['Volkswagen','BMW','Porsche','Audi','Mercedes-Benz','MINI']\n",
    "japanese = ['Acura','Honda','Toyota','Mazda','Nissan','Lexus','Subaru','Mitsubishi','Suzuki','Infiniti']\n",
    "korean = ['Hyundai','Kia','Genesis']\n",
    "british = ['Jaguar','Land Rover'],\n",
    "italian = ['Ferrari','Fiat','alfaromeo','Maserati']"
   ]
  },
  {
   "cell_type": "code",
   "execution_count": 224,
   "metadata": {
    "hidden": true,
    "pycharm": {
     "name": "#%%\n"
    }
   },
   "outputs": [],
   "source": [
    "df.loc[df.brand.isin(american ), \"brand\"] = \"american\"\n",
    "df.loc[df.brand.isin(german), \"brand\"] = \"german\"\n",
    "df.loc[df.brand.isin(japanese), \"brand\"] = \"japanese\"\n",
    "df.loc[df.brand.isin(korean), \"brand\"] = \"korean\"\n",
    "df.loc[df.brand.isin(['Jaguar','Land Rover']), \"brand\"] = \"british\"\n",
    "df.loc[df.brand.isin(italian), \"brand\"] = \"italian\"\n",
    "df.loc[df.brand == \"Volvo\", \"brand\"] = \"other\"\n",
    "df.brand.value_counts()\n",
    "df.to_csv('cleanedDF.csv',index=False)"
   ]
  },
  {
   "cell_type": "markdown",
   "source": [
    "### Outliers"
   ],
   "metadata": {
    "collapsed": false,
    "pycharm": {
     "name": "#%% md\n"
    }
   }
  },
  {
   "cell_type": "code",
   "execution_count": 357,
   "outputs": [],
   "source": [
    "df = pd.read_csv('cleanedDF.csv')"
   ],
   "metadata": {
    "collapsed": false,
    "pycharm": {
     "name": "#%%\n"
    }
   }
  },
  {
   "cell_type": "code",
   "execution_count": 358,
   "outputs": [],
   "source": [
    "from scipy import stats\n",
    "z_scores = stats.zscore(df['list_price'])\n",
    "abs_z_scores = np.abs(z_scores)\n",
    "df['list_price_z_scores'] = abs_z_scores"
   ],
   "metadata": {
    "collapsed": false,
    "pycharm": {
     "name": "#%%\n"
    }
   }
  },
  {
   "cell_type": "code",
   "execution_count": 359,
   "outputs": [],
   "source": [
    "df_no_outlier = df[df['list_price_z_scores']<=3]\n",
    "df_no_outlier = df_no_outlier.drop(columns=['list_price_z_scores'])"
   ],
   "metadata": {
    "collapsed": false,
    "pycharm": {
     "name": "#%%\n"
    }
   }
  },
  {
   "cell_type": "code",
   "execution_count": 360,
   "metadata": {
    "hidden": true,
    "pycharm": {
     "name": "#%%\n"
    }
   },
   "outputs": [
    {
     "data": {
      "text/plain": "         brand  color condition       body_type             wheel_config  \\\n0     american  Black      Used    Pickup Truck                    4 x 4   \n1       german   Grey      Used  SUV, Crossover    All-wheel drive (AWD)   \n2     american  other      Used           Other    All-wheel drive (AWD)   \n3     japanese  other      Used           Sedan                  Unknown   \n4     japanese  White      Used           Sedan  Front-wheel drive (FWD)   \n...        ...    ...       ...             ...                      ...   \n1350  japanese  Black      Used           Sedan  Front-wheel drive (FWD)   \n1351    german  Black      Used           Sedan    All-wheel drive (AWD)   \n1352    german   Grey      Used  SUV, Crossover    All-wheel drive (AWD)   \n1353    german   Blue      Used           Sedan   Rear-wheel drive (RWD)   \n1354    german  White       New  SUV, Crossover    All-wheel drive (AWD)   \n\n     transmission  mileage carfax_link dealer_address  cylinders  vehicle_age  \\\n0       Automatic   115000   Available        Toronto          8            3   \n1       Automatic   129000        None        Toronto          4            7   \n2       Automatic    73893   Available        Toronto          6            3   \n3       Automatic   200500        None        Toronto          6           18   \n4       Automatic    93000   Available        Toronto          4            5   \n...           ...      ...         ...            ...        ...          ...   \n1350    Automatic   131540   Available          other          4            6   \n1351    Automatic    64372   Available        Toronto          6            6   \n1352    Automatic    43313   Available        Toronto          6            2   \n1353    Automatic   165000   Available        Toronto          6           10   \n1354    Automatic       50     New_Car        Toronto          4            0   \n\n      list_price  \n0       30999.99  \n1       11450.00  \n2       33988.00  \n3         500.00  \n4       15499.00  \n...          ...  \n1350    15998.00  \n1351    39800.00  \n1352    79995.00  \n1353    15500.00  \n1354    80904.00  \n\n[1328 rows x 12 columns]",
      "text/html": "<div>\n<style scoped>\n    .dataframe tbody tr th:only-of-type {\n        vertical-align: middle;\n    }\n\n    .dataframe tbody tr th {\n        vertical-align: top;\n    }\n\n    .dataframe thead th {\n        text-align: right;\n    }\n</style>\n<table border=\"1\" class=\"dataframe\">\n  <thead>\n    <tr style=\"text-align: right;\">\n      <th></th>\n      <th>brand</th>\n      <th>color</th>\n      <th>condition</th>\n      <th>body_type</th>\n      <th>wheel_config</th>\n      <th>transmission</th>\n      <th>mileage</th>\n      <th>carfax_link</th>\n      <th>dealer_address</th>\n      <th>cylinders</th>\n      <th>vehicle_age</th>\n      <th>list_price</th>\n    </tr>\n  </thead>\n  <tbody>\n    <tr>\n      <th>0</th>\n      <td>american</td>\n      <td>Black</td>\n      <td>Used</td>\n      <td>Pickup Truck</td>\n      <td>4 x 4</td>\n      <td>Automatic</td>\n      <td>115000</td>\n      <td>Available</td>\n      <td>Toronto</td>\n      <td>8</td>\n      <td>3</td>\n      <td>30999.99</td>\n    </tr>\n    <tr>\n      <th>1</th>\n      <td>german</td>\n      <td>Grey</td>\n      <td>Used</td>\n      <td>SUV, Crossover</td>\n      <td>All-wheel drive (AWD)</td>\n      <td>Automatic</td>\n      <td>129000</td>\n      <td>None</td>\n      <td>Toronto</td>\n      <td>4</td>\n      <td>7</td>\n      <td>11450.00</td>\n    </tr>\n    <tr>\n      <th>2</th>\n      <td>american</td>\n      <td>other</td>\n      <td>Used</td>\n      <td>Other</td>\n      <td>All-wheel drive (AWD)</td>\n      <td>Automatic</td>\n      <td>73893</td>\n      <td>Available</td>\n      <td>Toronto</td>\n      <td>6</td>\n      <td>3</td>\n      <td>33988.00</td>\n    </tr>\n    <tr>\n      <th>3</th>\n      <td>japanese</td>\n      <td>other</td>\n      <td>Used</td>\n      <td>Sedan</td>\n      <td>Unknown</td>\n      <td>Automatic</td>\n      <td>200500</td>\n      <td>None</td>\n      <td>Toronto</td>\n      <td>6</td>\n      <td>18</td>\n      <td>500.00</td>\n    </tr>\n    <tr>\n      <th>4</th>\n      <td>japanese</td>\n      <td>White</td>\n      <td>Used</td>\n      <td>Sedan</td>\n      <td>Front-wheel drive (FWD)</td>\n      <td>Automatic</td>\n      <td>93000</td>\n      <td>Available</td>\n      <td>Toronto</td>\n      <td>4</td>\n      <td>5</td>\n      <td>15499.00</td>\n    </tr>\n    <tr>\n      <th>...</th>\n      <td>...</td>\n      <td>...</td>\n      <td>...</td>\n      <td>...</td>\n      <td>...</td>\n      <td>...</td>\n      <td>...</td>\n      <td>...</td>\n      <td>...</td>\n      <td>...</td>\n      <td>...</td>\n      <td>...</td>\n    </tr>\n    <tr>\n      <th>1350</th>\n      <td>japanese</td>\n      <td>Black</td>\n      <td>Used</td>\n      <td>Sedan</td>\n      <td>Front-wheel drive (FWD)</td>\n      <td>Automatic</td>\n      <td>131540</td>\n      <td>Available</td>\n      <td>other</td>\n      <td>4</td>\n      <td>6</td>\n      <td>15998.00</td>\n    </tr>\n    <tr>\n      <th>1351</th>\n      <td>german</td>\n      <td>Black</td>\n      <td>Used</td>\n      <td>Sedan</td>\n      <td>All-wheel drive (AWD)</td>\n      <td>Automatic</td>\n      <td>64372</td>\n      <td>Available</td>\n      <td>Toronto</td>\n      <td>6</td>\n      <td>6</td>\n      <td>39800.00</td>\n    </tr>\n    <tr>\n      <th>1352</th>\n      <td>german</td>\n      <td>Grey</td>\n      <td>Used</td>\n      <td>SUV, Crossover</td>\n      <td>All-wheel drive (AWD)</td>\n      <td>Automatic</td>\n      <td>43313</td>\n      <td>Available</td>\n      <td>Toronto</td>\n      <td>6</td>\n      <td>2</td>\n      <td>79995.00</td>\n    </tr>\n    <tr>\n      <th>1353</th>\n      <td>german</td>\n      <td>Blue</td>\n      <td>Used</td>\n      <td>Sedan</td>\n      <td>Rear-wheel drive (RWD)</td>\n      <td>Automatic</td>\n      <td>165000</td>\n      <td>Available</td>\n      <td>Toronto</td>\n      <td>6</td>\n      <td>10</td>\n      <td>15500.00</td>\n    </tr>\n    <tr>\n      <th>1354</th>\n      <td>german</td>\n      <td>White</td>\n      <td>New</td>\n      <td>SUV, Crossover</td>\n      <td>All-wheel drive (AWD)</td>\n      <td>Automatic</td>\n      <td>50</td>\n      <td>New_Car</td>\n      <td>Toronto</td>\n      <td>4</td>\n      <td>0</td>\n      <td>80904.00</td>\n    </tr>\n  </tbody>\n</table>\n<p>1328 rows × 12 columns</p>\n</div>"
     },
     "execution_count": 360,
     "metadata": {},
     "output_type": "execute_result"
    }
   ],
   "source": [
    "df_no_outlier.to_csv('cleanedDF_no_outliers.csv',index=False)\n",
    "df_no_outlier"
   ]
  },
  {
   "cell_type": "markdown",
   "metadata": {
    "pycharm": {
     "name": "#%% md\n"
    }
   },
   "source": [
    "## Using Cleaned Data"
   ]
  },
  {
   "cell_type": "code",
   "execution_count": 378,
   "metadata": {},
   "outputs": [
    {
     "data": {
      "text/plain": "Index(['brand', 'color', 'condition', 'body_type', 'wheel_config',\n       'transmission', 'mileage', 'carfax_link', 'dealer_address', 'cylinders',\n       'vehicle_age', 'list_price'],\n      dtype='object')"
     },
     "execution_count": 378,
     "metadata": {},
     "output_type": "execute_result"
    }
   ],
   "source": [
    "df_cleaned = pd.read_csv('cleanedDF_no_outliers.csv')\n",
    "df_cleaned.columns"
   ]
  },
  {
   "cell_type": "code",
   "execution_count": 379,
   "metadata": {
    "pycharm": {
     "name": "#%%\n"
    }
   },
   "outputs": [
    {
     "name": "stdout",
     "output_type": "stream",
     "text": [
      "37\n"
     ]
    },
    {
     "data": {
      "text/plain": "Index(['mileage', 'cylinders', 'vehicle_age', 'list_price', 'brand_british',\n       'brand_german', 'brand_italian', 'brand_japanese', 'brand_korean',\n       'brand_other', 'color_Blue', 'color_Grey', 'color_Red', 'color_Silver',\n       'color_White', 'color_other', 'condition_New', 'condition_Salvage',\n       'condition_Used', 'body_type_Coupe (2 door)', 'body_type_Hatchback',\n       'body_type_Minivan, Van', 'body_type_Other', 'body_type_Pickup Truck',\n       'body_type_SUV, Crossover', 'body_type_Sedan', 'body_type_Wagon',\n       'wheel_config_All-wheel drive (AWD)',\n       'wheel_config_Front-wheel drive (FWD)',\n       'wheel_config_Rear-wheel drive (RWD)', 'wheel_config_Unknown',\n       'transmission_Electric', 'transmission_Manual', 'carfax_link_New_Car',\n       'carfax_link_None', 'dealer_address_other', 'dealer_address_other_GTA'],\n      dtype='object')"
     },
     "execution_count": 379,
     "metadata": {},
     "output_type": "execute_result"
    }
   ],
   "source": [
    "df_oh = pd.get_dummies(df_cleaned,drop_first=True)\n",
    "print(len(df_oh.columns))\n",
    "df_oh.columns"
   ]
  },
  {
   "cell_type": "markdown",
   "source": [
    "### Distribution"
   ],
   "metadata": {
    "collapsed": false,
    "pycharm": {
     "name": "#%% md\n"
    }
   }
  },
  {
   "cell_type": "code",
   "execution_count": 380,
   "outputs": [
    {
     "data": {
      "text/plain": "<AxesSubplot:xlabel='list_price', ylabel='Density'>"
     },
     "execution_count": 380,
     "metadata": {},
     "output_type": "execute_result"
    },
    {
     "data": {
      "text/plain": "<Figure size 432x288 with 1 Axes>",
      "image/png": "[encoded data removed]"
     },
     "metadata": {
      "needs_background": "light"
     },
     "output_type": "display_data"
    }
   ],
   "source": [
    "sns.distplot(df_oh.list_price)"
   ],
   "metadata": {
    "collapsed": false,
    "pycharm": {
     "name": "#%%\n"
    }
   }
  },
  {
   "cell_type": "code",
   "execution_count": 381,
   "outputs": [],
   "source": [
    "df_oh.list_price = np.log(df_oh.list_price)\n",
    "df_oh.mileage = np.log(df_oh.mileage)"
   ],
   "metadata": {
    "collapsed": false,
    "pycharm": {
     "name": "#%%\n"
    }
   }
  },
  {
   "cell_type": "markdown",
   "metadata": {
    "pycharm": {
     "name": "#%% md\n"
    }
   },
   "source": [
    "### Correlation"
   ]
  },
  {
   "cell_type": "code",
   "execution_count": 382,
   "outputs": [
    {
     "data": {
      "text/plain": "['mileage',\n 'cylinders',\n 'vehicle_age',\n 'list_price',\n 'brand_british',\n 'brand_german',\n 'brand_italian',\n 'brand_japanese',\n 'brand_korean',\n 'brand_other',\n 'color_Blue',\n 'color_Grey',\n 'color_Red',\n 'color_Silver',\n 'color_White',\n 'color_other',\n 'condition_New',\n 'condition_Salvage',\n 'condition_Used',\n 'body_type_Coupe (2 door)',\n 'body_type_Hatchback',\n 'body_type_Minivan, Van',\n 'body_type_Other',\n 'body_type_Pickup Truck',\n 'body_type_SUV, Crossover',\n 'body_type_Sedan',\n 'body_type_Wagon',\n 'wheel_config_All-wheel drive (AWD)',\n 'wheel_config_Front-wheel drive (FWD)',\n 'wheel_config_Rear-wheel drive (RWD)',\n 'wheel_config_Unknown',\n 'transmission_Electric',\n 'transmission_Manual',\n 'carfax_link_New_Car',\n 'carfax_link_None',\n 'dealer_address_other',\n 'dealer_address_other_GTA']"
     },
     "execution_count": 382,
     "metadata": {},
     "output_type": "execute_result"
    }
   ],
   "source": [
    "list(df_oh.columns)"
   ],
   "metadata": {
    "collapsed": false,
    "pycharm": {
     "name": "#%%\n"
    }
   }
  },
  {
   "cell_type": "code",
   "execution_count": 383,
   "metadata": {
    "pycharm": {
     "name": "#%%\n"
    }
   },
   "outputs": [],
   "source": [
    "cols = list(df_oh.columns)\n",
    "df_oh = df_oh[cols[0:3]+cols[4:]+[cols[3]]]"
   ]
  },
  {
   "cell_type": "code",
   "execution_count": 384,
   "metadata": {
    "pycharm": {
     "name": "#%%\n"
    }
   },
   "outputs": [
    {
     "data": {
      "text/plain": "<Figure size 1440x1440 with 2 Axes>",
      "image/png": "[encoded data removed]"
     },
     "metadata": {
      "needs_background": "light"
     },
     "output_type": "display_data"
    }
   ],
   "source": [
    "corrmat = df_oh.corr()\n",
    "top_corr_features = corrmat.index\n",
    "plt.figure(figsize = (20,20))\n",
    "g=sns.heatmap(df_oh[top_corr_features].corr(),annot=False,cmap=\"YlGnBu\")"
   ]
  },
  {
   "cell_type": "code",
   "execution_count": 385,
   "metadata": {
    "pycharm": {
     "name": "#%%\n"
    }
   },
   "outputs": [
    {
     "data": {
      "text/plain": "     mileage  cylinders  vehicle_age  brand_british  brand_german  \\\n0  11.652687          8            3              0             0   \n1  11.767568          4            7              0             1   \n2  11.210373          6            3              0             0   \n3  12.208570          6           18              0             0   \n4  11.440355          4            5              0             0   \n\n   brand_italian  brand_japanese  brand_korean  brand_other  color_Blue  ...  \\\n0              0               0             0            0           0  ...   \n1              0               0             0            0           0  ...   \n2              0               0             0            0           0  ...   \n3              0               1             0            0           0  ...   \n4              0               1             0            0           0  ...   \n\n   wheel_config_All-wheel drive (AWD)  wheel_config_Front-wheel drive (FWD)  \\\n0                                   0                                     0   \n1                                   1                                     0   \n2                                   1                                     0   \n3                                   0                                     0   \n4                                   0                                     1   \n\n   wheel_config_Rear-wheel drive (RWD)  wheel_config_Unknown  \\\n0                                    0                     0   \n1                                    0                     0   \n2                                    0                     0   \n3                                    0                     1   \n4                                    0                     0   \n\n   transmission_Electric  transmission_Manual  carfax_link_None  \\\n0                      0                    0                 0   \n1                      0                    0                 1   \n2                      0                    0                 0   \n3                      0                    0                 1   \n4                      0                    0                 0   \n\n   dealer_address_other  dealer_address_other_GTA  list_price  \n0                     0                         0   10.341742  \n1                     0                         0    9.345745  \n2                     0                         0   10.433763  \n3                     0                         0    6.214608  \n4                     0                         0    9.648531  \n\n[5 rows x 36 columns]",
      "text/html": "<div>\n<style scoped>\n    .dataframe tbody tr th:only-of-type {\n        vertical-align: middle;\n    }\n\n    .dataframe tbody tr th {\n        vertical-align: top;\n    }\n\n    .dataframe thead th {\n        text-align: right;\n    }\n</style>\n<table border=\"1\" class=\"dataframe\">\n  <thead>\n    <tr style=\"text-align: right;\">\n      <th></th>\n      <th>mileage</th>\n      <th>cylinders</th>\n      <th>vehicle_age</th>\n      <th>brand_british</th>\n      <th>brand_german</th>\n      <th>brand_italian</th>\n      <th>brand_japanese</th>\n      <th>brand_korean</th>\n      <th>brand_other</th>\n      <th>color_Blue</th>\n      <th>...</th>\n      <th>wheel_config_All-wheel drive (AWD)</th>\n      <th>wheel_config_Front-wheel drive (FWD)</th>\n      <th>wheel_config_Rear-wheel drive (RWD)</th>\n      <th>wheel_config_Unknown</th>\n      <th>transmission_Electric</th>\n      <th>transmission_Manual</th>\n      <th>carfax_link_None</th>\n      <th>dealer_address_other</th>\n      <th>dealer_address_other_GTA</th>\n      <th>list_price</th>\n    </tr>\n  </thead>\n  <tbody>\n    <tr>\n      <th>0</th>\n      <td>11.652687</td>\n      <td>8</td>\n      <td>3</td>\n      <td>0</td>\n      <td>0</td>\n      <td>0</td>\n      <td>0</td>\n      <td>0</td>\n      <td>0</td>\n      <td>0</td>\n      <td>...</td>\n      <td>0</td>\n      <td>0</td>\n      <td>0</td>\n      <td>0</td>\n      <td>0</td>\n      <td>0</td>\n      <td>0</td>\n      <td>0</td>\n      <td>0</td>\n      <td>10.341742</td>\n    </tr>\n    <tr>\n      <th>1</th>\n      <td>11.767568</td>\n      <td>4</td>\n      <td>7</td>\n      <td>0</td>\n      <td>1</td>\n      <td>0</td>\n      <td>0</td>\n      <td>0</td>\n      <td>0</td>\n      <td>0</td>\n      <td>...</td>\n      <td>1</td>\n      <td>0</td>\n      <td>0</td>\n      <td>0</td>\n      <td>0</td>\n      <td>0</td>\n      <td>1</td>\n      <td>0</td>\n      <td>0</td>\n      <td>9.345745</td>\n    </tr>\n    <tr>\n      <th>2</th>\n      <td>11.210373</td>\n      <td>6</td>\n      <td>3</td>\n      <td>0</td>\n      <td>0</td>\n      <td>0</td>\n      <td>0</td>\n      <td>0</td>\n      <td>0</td>\n      <td>0</td>\n      <td>...</td>\n      <td>1</td>\n      <td>0</td>\n      <td>0</td>\n      <td>0</td>\n      <td>0</td>\n      <td>0</td>\n      <td>0</td>\n      <td>0</td>\n      <td>0</td>\n      <td>10.433763</td>\n    </tr>\n    <tr>\n      <th>3</th>\n      <td>12.208570</td>\n      <td>6</td>\n      <td>18</td>\n      <td>0</td>\n      <td>0</td>\n      <td>0</td>\n      <td>1</td>\n      <td>0</td>\n      <td>0</td>\n      <td>0</td>\n      <td>...</td>\n      <td>0</td>\n      <td>0</td>\n      <td>0</td>\n      <td>1</td>\n      <td>0</td>\n      <td>0</td>\n      <td>1</td>\n      <td>0</td>\n      <td>0</td>\n      <td>6.214608</td>\n    </tr>\n    <tr>\n      <th>4</th>\n      <td>11.440355</td>\n      <td>4</td>\n      <td>5</td>\n      <td>0</td>\n      <td>0</td>\n      <td>0</td>\n      <td>1</td>\n      <td>0</td>\n      <td>0</td>\n      <td>0</td>\n      <td>...</td>\n      <td>0</td>\n      <td>1</td>\n      <td>0</td>\n      <td>0</td>\n      <td>0</td>\n      <td>0</td>\n      <td>0</td>\n      <td>0</td>\n      <td>0</td>\n      <td>9.648531</td>\n    </tr>\n  </tbody>\n</table>\n<p>5 rows × 36 columns</p>\n</div>"
     },
     "execution_count": 385,
     "metadata": {},
     "output_type": "execute_result"
    }
   ],
   "source": [
    "df_oh = df_oh.drop(columns=['carfax_link_New_Car'])\n",
    "df_oh.head()"
   ]
  },
  {
   "cell_type": "code",
   "execution_count": 387,
   "metadata": {
    "pycharm": {
     "name": "#%%\n"
    }
   },
   "outputs": [
    {
     "data": {
      "text/plain": "mileage                                 11.440355\ncylinders                                4.000000\nvehicle_age                              5.000000\nbrand_british                            0.000000\nbrand_german                             0.000000\nbrand_italian                            0.000000\nbrand_japanese                           1.000000\nbrand_korean                             0.000000\nbrand_other                              0.000000\ncolor_Blue                               0.000000\ncolor_Grey                               0.000000\ncolor_Red                                0.000000\ncolor_Silver                             0.000000\ncolor_White                              1.000000\ncolor_other                              0.000000\ncondition_New                            0.000000\ncondition_Salvage                        0.000000\ncondition_Used                           1.000000\nbody_type_Coupe (2 door)                 0.000000\nbody_type_Hatchback                      0.000000\nbody_type_Minivan, Van                   0.000000\nbody_type_Other                          0.000000\nbody_type_Pickup Truck                   0.000000\nbody_type_SUV, Crossover                 0.000000\nbody_type_Sedan                          1.000000\nbody_type_Wagon                          0.000000\nwheel_config_All-wheel drive (AWD)       0.000000\nwheel_config_Front-wheel drive (FWD)     1.000000\nwheel_config_Rear-wheel drive (RWD)      0.000000\nwheel_config_Unknown                     0.000000\ntransmission_Electric                    0.000000\ntransmission_Manual                      0.000000\ncarfax_link_None                         0.000000\ndealer_address_other                     0.000000\ndealer_address_other_GTA                 0.000000\nName: 4, dtype: float64"
     },
     "execution_count": 387,
     "metadata": {},
     "output_type": "execute_result"
    }
   ],
   "source": [
    "X = df_oh.iloc[:,:-1]\n",
    "y = df_oh.iloc[:,-1]\n",
    "X.iloc[4]"
   ]
  },
  {
   "cell_type": "code",
   "execution_count": 388,
   "metadata": {
    "pycharm": {
     "name": "#%%\n"
    }
   },
   "outputs": [
    {
     "data": {
      "text/plain": "ExtraTreesRegressor()"
     },
     "execution_count": 388,
     "metadata": {},
     "output_type": "execute_result"
    }
   ],
   "source": [
    "### Feature Importance\n",
    "from sklearn.ensemble import ExtraTreesRegressor\n",
    "import matplotlib.pyplot as plt\n",
    "model = ExtraTreesRegressor()\n",
    "model.fit(X,y)"
   ]
  },
  {
   "cell_type": "code",
   "execution_count": 389,
   "metadata": {
    "pycharm": {
     "name": "#%%\n"
    }
   },
   "outputs": [
    {
     "data": {
      "text/plain": "<Figure size 432x288 with 1 Axes>",
      "image/png": "[encoded data removed]"
     },
     "metadata": {
      "needs_background": "light"
     },
     "output_type": "display_data"
    }
   ],
   "source": [
    "#plot graph of feature importances for better visualization\n",
    "feat_importances = pd.Series(model.feature_importances_, index=X.columns)\n",
    "feat_importances.nlargest(10).plot(kind='barh')\n",
    "plt.show()"
   ]
  },
  {
   "cell_type": "code",
   "execution_count": 390,
   "metadata": {
    "pycharm": {
     "name": "#%%\n"
    }
   },
   "outputs": [],
   "source": [
    "from sklearn.model_selection import train_test_split\n",
    "X_train, X_test, y_train, y_test = train_test_split(X, y, test_size=0.25, random_state=1)"
   ]
  },
  {
   "cell_type": "markdown",
   "metadata": {
    "heading_collapsed": true,
    "pycharm": {
     "name": "#%% md\n"
    }
   },
   "source": [
    "### Linear Regression"
   ]
  },
  {
   "cell_type": "code",
   "execution_count": 477,
   "metadata": {
    "hidden": true,
    "pycharm": {
     "name": "#%%\n"
    }
   },
   "outputs": [],
   "source": [
    "from sklearn.linear_model import LinearRegression\n",
    "from sklearn.preprocessing import StandardScaler\n",
    "import joblib\n",
    "\n",
    "s=StandardScaler()\n",
    "X_train_S = s.fit_transform(X_train)\n",
    "linearRegression = LinearRegression().fit(X_train_S, y_train)\n",
    "X_test_S=s.transform(X_test)\n",
    "y_pred=linearRegression.predict(X_test_S)\n",
    "y_test = y_test.reset_index(drop=True)\n",
    "y_pred = y_pred"
   ]
  },
  {
   "cell_type": "code",
   "execution_count": 478,
   "outputs": [
    {
     "data": {
      "text/plain": "             0          1        2             3\n0     8.410721   9.264493   4495.0  10556.458009\n1    10.377016  10.307631  32113.0  29960.390735\n2    10.470731  10.642835  35268.0  41891.381325\n3     9.453287   9.750535  12750.0  17163.414346\n4    10.668676  10.335507  42988.0  30807.286690\n..         ...        ...      ...           ...\n327  10.562354  10.440885  38652.0  34230.926333\n328   8.699181   8.805979   5998.0   6674.027430\n329  10.428216  10.305243  33800.0  29888.913709\n330  11.179046  11.041800  71614.0  62429.915711\n331   9.256747   9.601711  10475.0  14790.059199\n\n[332 rows x 4 columns]",
      "text/html": "<div>\n<style scoped>\n    .dataframe tbody tr th:only-of-type {\n        vertical-align: middle;\n    }\n\n    .dataframe tbody tr th {\n        vertical-align: top;\n    }\n\n    .dataframe thead th {\n        text-align: right;\n    }\n</style>\n<table border=\"1\" class=\"dataframe\">\n  <thead>\n    <tr style=\"text-align: right;\">\n      <th></th>\n      <th>0</th>\n      <th>1</th>\n      <th>2</th>\n      <th>3</th>\n    </tr>\n  </thead>\n  <tbody>\n    <tr>\n      <th>0</th>\n      <td>8.410721</td>\n      <td>9.264493</td>\n      <td>4495.0</td>\n      <td>10556.458009</td>\n    </tr>\n    <tr>\n      <th>1</th>\n      <td>10.377016</td>\n      <td>10.307631</td>\n      <td>32113.0</td>\n      <td>29960.390735</td>\n    </tr>\n    <tr>\n      <th>2</th>\n      <td>10.470731</td>\n      <td>10.642835</td>\n      <td>35268.0</td>\n      <td>41891.381325</td>\n    </tr>\n    <tr>\n      <th>3</th>\n      <td>9.453287</td>\n      <td>9.750535</td>\n      <td>12750.0</td>\n      <td>17163.414346</td>\n    </tr>\n    <tr>\n      <th>4</th>\n      <td>10.668676</td>\n      <td>10.335507</td>\n      <td>42988.0</td>\n      <td>30807.286690</td>\n    </tr>\n    <tr>\n      <th>...</th>\n      <td>...</td>\n      <td>...</td>\n      <td>...</td>\n      <td>...</td>\n    </tr>\n    <tr>\n      <th>327</th>\n      <td>10.562354</td>\n      <td>10.440885</td>\n      <td>38652.0</td>\n      <td>34230.926333</td>\n    </tr>\n    <tr>\n      <th>328</th>\n      <td>8.699181</td>\n      <td>8.805979</td>\n      <td>5998.0</td>\n      <td>6674.027430</td>\n    </tr>\n    <tr>\n      <th>329</th>\n      <td>10.428216</td>\n      <td>10.305243</td>\n      <td>33800.0</td>\n      <td>29888.913709</td>\n    </tr>\n    <tr>\n      <th>330</th>\n      <td>11.179046</td>\n      <td>11.041800</td>\n      <td>71614.0</td>\n      <td>62429.915711</td>\n    </tr>\n    <tr>\n      <th>331</th>\n      <td>9.256747</td>\n      <td>9.601711</td>\n      <td>10475.0</td>\n      <td>14790.059199</td>\n    </tr>\n  </tbody>\n</table>\n<p>332 rows × 4 columns</p>\n</div>"
     },
     "execution_count": 478,
     "metadata": {},
     "output_type": "execute_result"
    }
   ],
   "source": [
    "outThingLR = pd.concat([y_test, pd.Series(y_pred),np.exp(y_test), np.exp(pd.Series(y_pred))],ignore_index = True,axis=1)\n",
    "outThingLR"
   ],
   "metadata": {
    "collapsed": false,
    "pycharm": {
     "name": "#%%\n"
    }
   }
  },
  {
   "cell_type": "code",
   "execution_count": 479,
   "metadata": {
    "hidden": true,
    "pycharm": {
     "name": "#%%\n"
    }
   },
   "outputs": [
    {
     "name": "stdout",
     "output_type": "stream",
     "text": [
      "RMSE: 0.21853491070203446\n"
     ]
    }
   ],
   "source": [
    "from sklearn import metrics\n",
    "import pickle\n",
    "# open a file, where you ant to store the data\n",
    "file = open('linearRegression.pkl', 'wb')\n",
    "# dump information to that file\n",
    "pickle.dump(linearRegression, file)\n",
    "joblib.dump(s, 'standardScaler.joblib')\n",
    "print('RMSE:', metrics.mean_squared_error(y_test, y_pred))"
   ]
  },
  {
   "cell_type": "markdown",
   "source": [
    "### Ridge Regression"
   ],
   "metadata": {
    "collapsed": false,
    "pycharm": {
     "name": "#%% md\n"
    }
   }
  },
  {
   "cell_type": "code",
   "execution_count": 463,
   "outputs": [
    {
     "name": "stdout",
     "output_type": "stream",
     "text": [
      "[ 0.39851604 -0.81698216 -0.27291996 -0.15029062  1.48758301 -0.12777531\n",
      " -0.6269027  -0.27069515 -0.07103104 -0.29351404 -0.4309458   3.91508223\n",
      " -0.27494354 -0.56188962 -0.36836103 -0.29952552 -0.03170213  0.30741746\n",
      " -0.20982173 -0.18219501 -0.26639771 -0.20455074 -0.27282532 -0.69754366\n",
      "  1.26243812 -0.15713484 -0.77045441  1.4401646  -0.3247128  -0.32282017\n",
      " -0.08413    -0.26204871 -0.36483668 -0.36836103 -0.35415213]\n",
      "[9.75157717]\n"
     ]
    }
   ],
   "source": [
    "from sklearn.linear_model import Ridge\n",
    "from sklearn.preprocessing import StandardScaler\n",
    "\n",
    "s=StandardScaler()\n",
    "X_train_S = s.fit_transform(X_train)\n",
    "ridgeRegression = Ridge().fit(X_train_S, y_train)\n",
    "X_test_S=s.transform(X_test)\n",
    "y_pred=ridgeRegression.predict(X_test_S)\n",
    "print(ridgeRegression.predict([X_test_S[3]]))\n",
    "y_test = y_test.reset_index(drop=True)"
   ],
   "metadata": {
    "collapsed": false,
    "pycharm": {
     "name": "#%%\n"
    }
   }
  },
  {
   "cell_type": "code",
   "execution_count": 470,
   "outputs": [
    {
     "data": {
      "text/plain": "           0             1\n0     4495.0  10575.550567\n1    32113.0  30045.083329\n2    35268.0  41769.729736\n3    12750.0  17181.305325\n4    42988.0  30852.036422\n..       ...           ...\n327  38652.0  34193.553535\n328   5998.0   6691.012586\n329  33800.0  29907.958405\n330  71614.0  62270.432908\n331  10475.0  14745.143578\n\n[332 rows x 2 columns]",
      "text/html": "<div>\n<style scoped>\n    .dataframe tbody tr th:only-of-type {\n        vertical-align: middle;\n    }\n\n    .dataframe tbody tr th {\n        vertical-align: top;\n    }\n\n    .dataframe thead th {\n        text-align: right;\n    }\n</style>\n<table border=\"1\" class=\"dataframe\">\n  <thead>\n    <tr style=\"text-align: right;\">\n      <th></th>\n      <th>0</th>\n      <th>1</th>\n    </tr>\n  </thead>\n  <tbody>\n    <tr>\n      <th>0</th>\n      <td>4495.0</td>\n      <td>10575.550567</td>\n    </tr>\n    <tr>\n      <th>1</th>\n      <td>32113.0</td>\n      <td>30045.083329</td>\n    </tr>\n    <tr>\n      <th>2</th>\n      <td>35268.0</td>\n      <td>41769.729736</td>\n    </tr>\n    <tr>\n      <th>3</th>\n      <td>12750.0</td>\n      <td>17181.305325</td>\n    </tr>\n    <tr>\n      <th>4</th>\n      <td>42988.0</td>\n      <td>30852.036422</td>\n    </tr>\n    <tr>\n      <th>...</th>\n      <td>...</td>\n      <td>...</td>\n    </tr>\n    <tr>\n      <th>327</th>\n      <td>38652.0</td>\n      <td>34193.553535</td>\n    </tr>\n    <tr>\n      <th>328</th>\n      <td>5998.0</td>\n      <td>6691.012586</td>\n    </tr>\n    <tr>\n      <th>329</th>\n      <td>33800.0</td>\n      <td>29907.958405</td>\n    </tr>\n    <tr>\n      <th>330</th>\n      <td>71614.0</td>\n      <td>62270.432908</td>\n    </tr>\n    <tr>\n      <th>331</th>\n      <td>10475.0</td>\n      <td>14745.143578</td>\n    </tr>\n  </tbody>\n</table>\n<p>332 rows × 2 columns</p>\n</div>"
     },
     "execution_count": 470,
     "metadata": {},
     "output_type": "execute_result"
    }
   ],
   "source": [
    "outThingLR = pd.concat([np.exp(y_test), np.exp(pd.Series(y_pred))],ignore_index = True,axis=1)\n",
    "outThingLR"
   ],
   "metadata": {
    "collapsed": false,
    "pycharm": {
     "name": "#%%\n"
    }
   }
  },
  {
   "cell_type": "code",
   "execution_count": 471,
   "outputs": [
    {
     "name": "stdout",
     "output_type": "stream",
     "text": [
      "RMSE: 0.21902880653668852\n"
     ]
    }
   ],
   "source": [
    "from sklearn import metrics\n",
    "import pickle\n",
    "# open a file, where you ant to store the data\n",
    "file = open('ridgeRegression.pkl', 'wb')\n",
    "# dump information to that file\n",
    "pickle.dump(ridgeRegression, file)\n",
    "print('RMSE:', metrics.mean_squared_error(y_test, y_pred))"
   ],
   "metadata": {
    "collapsed": false,
    "pycharm": {
     "name": "#%%\n"
    }
   }
  },
  {
   "cell_type": "markdown",
   "metadata": {
    "heading_collapsed": true,
    "pycharm": {
     "name": "#%% md\n"
    }
   },
   "source": [
    "### RF"
   ]
  },
  {
   "cell_type": "code",
   "execution_count": 333,
   "metadata": {
    "hidden": true,
    "pycharm": {
     "name": "#%%\n"
    }
   },
   "outputs": [
    {
     "name": "stdout",
     "output_type": "stream",
     "text": [
      "{'n_estimators': [100, 200, 300, 400, 500, 600, 700, 800, 900, 1000, 1100, 1200], 'max_features': ['auto', 'sqrt'], 'max_depth': [5, 10, 15, 20, 25, 30], 'min_samples_split': [2, 5, 10, 15, 100], 'min_samples_leaf': [1, 2, 5, 10]}\n"
     ]
    }
   ],
   "source": [
    "from sklearn.model_selection import RandomizedSearchCV\n",
    "#Randomized Search CV\n",
    "\n",
    "# Number of trees in random forest\n",
    "n_estimators = [int(x) for x in np.linspace(start = 100, stop = 1200, num = 12)]\n",
    "# Number of features to consider at every split\n",
    "max_features = ['auto', 'sqrt']\n",
    "# Maximum number of levels in tree\n",
    "max_depth = [int(x) for x in np.linspace(5, 30, num = 6)]\n",
    "# max_depth.append(None)\n",
    "# Minimum number of samples required to split a node\n",
    "min_samples_split = [2, 5, 10, 15, 100]\n",
    "# Minimum number of samples required at each leaf node\n",
    "min_samples_leaf = [1, 2, 5, 10]\n",
    "# Create the random grid\n",
    "random_grid = {'n_estimators': n_estimators,\n",
    "\t\t\t   'max_features': max_features,\n",
    "\t\t\t   'max_depth': max_depth,\n",
    "\t\t\t   'min_samples_split': min_samples_split,\n",
    "\t\t\t   'min_samples_leaf': min_samples_leaf}\n",
    "\n",
    "print(random_grid)"
   ]
  },
  {
   "cell_type": "code",
   "execution_count": 334,
   "metadata": {
    "hidden": true,
    "pycharm": {
     "name": "#%%\n"
    },
    "scrolled": false
   },
   "outputs": [
    {
     "name": "stdout",
     "output_type": "stream",
     "text": [
      "Fitting 5 folds for each of 10 candidates, totalling 50 fits\n",
      "[CV] END max_depth=10, max_features=sqrt, min_samples_leaf=5, min_samples_split=5, n_estimators=900; total time=   2.8s\n",
      "[CV] END max_depth=10, max_features=sqrt, min_samples_leaf=5, min_samples_split=5, n_estimators=900; total time=   1.5s\n",
      "[CV] END max_depth=10, max_features=sqrt, min_samples_leaf=5, min_samples_split=5, n_estimators=900; total time=   1.3s\n",
      "[CV] END max_depth=10, max_features=sqrt, min_samples_leaf=5, min_samples_split=5, n_estimators=900; total time=   1.5s\n",
      "[CV] END max_depth=10, max_features=sqrt, min_samples_leaf=5, min_samples_split=5, n_estimators=900; total time=   1.5s\n",
      "[CV] END max_depth=15, max_features=sqrt, min_samples_leaf=2, min_samples_split=10, n_estimators=1100; total time=   2.6s\n",
      "[CV] END max_depth=15, max_features=sqrt, min_samples_leaf=2, min_samples_split=10, n_estimators=1100; total time=   2.5s\n",
      "[CV] END max_depth=15, max_features=sqrt, min_samples_leaf=2, min_samples_split=10, n_estimators=1100; total time=   2.2s\n",
      "[CV] END max_depth=15, max_features=sqrt, min_samples_leaf=2, min_samples_split=10, n_estimators=1100; total time=   1.7s\n",
      "[CV] END max_depth=15, max_features=sqrt, min_samples_leaf=2, min_samples_split=10, n_estimators=1100; total time=   1.5s\n",
      "[CV] END max_depth=15, max_features=auto, min_samples_leaf=5, min_samples_split=100, n_estimators=300; total time=   0.4s\n",
      "[CV] END max_depth=15, max_features=auto, min_samples_leaf=5, min_samples_split=100, n_estimators=300; total time=   0.4s\n",
      "[CV] END max_depth=15, max_features=auto, min_samples_leaf=5, min_samples_split=100, n_estimators=300; total time=   0.4s\n",
      "[CV] END max_depth=15, max_features=auto, min_samples_leaf=5, min_samples_split=100, n_estimators=300; total time=   0.4s\n",
      "[CV] END max_depth=15, max_features=auto, min_samples_leaf=5, min_samples_split=100, n_estimators=300; total time=   0.4s\n",
      "[CV] END max_depth=15, max_features=auto, min_samples_leaf=5, min_samples_split=5, n_estimators=400; total time=   0.8s\n",
      "[CV] END max_depth=15, max_features=auto, min_samples_leaf=5, min_samples_split=5, n_estimators=400; total time=   0.8s\n",
      "[CV] END max_depth=15, max_features=auto, min_samples_leaf=5, min_samples_split=5, n_estimators=400; total time=   0.8s\n",
      "[CV] END max_depth=15, max_features=auto, min_samples_leaf=5, min_samples_split=5, n_estimators=400; total time=   0.8s\n",
      "[CV] END max_depth=15, max_features=auto, min_samples_leaf=5, min_samples_split=5, n_estimators=400; total time=   0.8s\n",
      "[CV] END max_depth=20, max_features=auto, min_samples_leaf=10, min_samples_split=5, n_estimators=700; total time=   1.6s\n",
      "[CV] END max_depth=20, max_features=auto, min_samples_leaf=10, min_samples_split=5, n_estimators=700; total time=   1.4s\n",
      "[CV] END max_depth=20, max_features=auto, min_samples_leaf=10, min_samples_split=5, n_estimators=700; total time=   1.5s\n",
      "[CV] END max_depth=20, max_features=auto, min_samples_leaf=10, min_samples_split=5, n_estimators=700; total time=   1.7s\n",
      "[CV] END max_depth=20, max_features=auto, min_samples_leaf=10, min_samples_split=5, n_estimators=700; total time=   1.3s\n",
      "[CV] END max_depth=25, max_features=sqrt, min_samples_leaf=1, min_samples_split=2, n_estimators=1000; total time=   1.6s\n",
      "[CV] END max_depth=25, max_features=sqrt, min_samples_leaf=1, min_samples_split=2, n_estimators=1000; total time=   1.6s\n",
      "[CV] END max_depth=25, max_features=sqrt, min_samples_leaf=1, min_samples_split=2, n_estimators=1000; total time=   1.6s\n",
      "[CV] END max_depth=25, max_features=sqrt, min_samples_leaf=1, min_samples_split=2, n_estimators=1000; total time=   1.6s\n",
      "[CV] END max_depth=25, max_features=sqrt, min_samples_leaf=1, min_samples_split=2, n_estimators=1000; total time=   1.6s\n",
      "[CV] END max_depth=5, max_features=sqrt, min_samples_leaf=10, min_samples_split=15, n_estimators=1100; total time=   1.1s\n",
      "[CV] END max_depth=5, max_features=sqrt, min_samples_leaf=10, min_samples_split=15, n_estimators=1100; total time=   1.1s\n",
      "[CV] END max_depth=5, max_features=sqrt, min_samples_leaf=10, min_samples_split=15, n_estimators=1100; total time=   1.2s\n",
      "[CV] END max_depth=5, max_features=sqrt, min_samples_leaf=10, min_samples_split=15, n_estimators=1100; total time=   1.1s\n",
      "[CV] END max_depth=5, max_features=sqrt, min_samples_leaf=10, min_samples_split=15, n_estimators=1100; total time=   1.1s\n",
      "[CV] END max_depth=15, max_features=sqrt, min_samples_leaf=1, min_samples_split=15, n_estimators=300; total time=   0.4s\n",
      "[CV] END max_depth=15, max_features=sqrt, min_samples_leaf=1, min_samples_split=15, n_estimators=300; total time=   0.3s\n",
      "[CV] END max_depth=15, max_features=sqrt, min_samples_leaf=1, min_samples_split=15, n_estimators=300; total time=   0.4s\n",
      "[CV] END max_depth=15, max_features=sqrt, min_samples_leaf=1, min_samples_split=15, n_estimators=300; total time=   0.4s\n",
      "[CV] END max_depth=15, max_features=sqrt, min_samples_leaf=1, min_samples_split=15, n_estimators=300; total time=   0.4s\n",
      "[CV] END max_depth=5, max_features=sqrt, min_samples_leaf=2, min_samples_split=10, n_estimators=700; total time=   0.7s\n",
      "[CV] END max_depth=5, max_features=sqrt, min_samples_leaf=2, min_samples_split=10, n_estimators=700; total time=   0.7s\n",
      "[CV] END max_depth=5, max_features=sqrt, min_samples_leaf=2, min_samples_split=10, n_estimators=700; total time=   0.8s\n",
      "[CV] END max_depth=5, max_features=sqrt, min_samples_leaf=2, min_samples_split=10, n_estimators=700; total time=   0.7s\n",
      "[CV] END max_depth=5, max_features=sqrt, min_samples_leaf=2, min_samples_split=10, n_estimators=700; total time=   0.7s\n",
      "[CV] END max_depth=20, max_features=auto, min_samples_leaf=1, min_samples_split=15, n_estimators=700; total time=   1.4s\n",
      "[CV] END max_depth=20, max_features=auto, min_samples_leaf=1, min_samples_split=15, n_estimators=700; total time=   1.4s\n",
      "[CV] END max_depth=20, max_features=auto, min_samples_leaf=1, min_samples_split=15, n_estimators=700; total time=   1.4s\n",
      "[CV] END max_depth=20, max_features=auto, min_samples_leaf=1, min_samples_split=15, n_estimators=700; total time=   1.5s\n",
      "[CV] END max_depth=20, max_features=auto, min_samples_leaf=1, min_samples_split=15, n_estimators=700; total time=   1.4s\n"
     ]
    },
    {
     "data": {
      "text/plain": "RandomizedSearchCV(cv=5, estimator=RandomForestRegressor(), n_jobs=1,\n                   param_distributions={'max_depth': [5, 10, 15, 20, 25, 30],\n                                        'max_features': ['auto', 'sqrt'],\n                                        'min_samples_leaf': [1, 2, 5, 10],\n                                        'min_samples_split': [2, 5, 10, 15,\n                                                              100],\n                                        'n_estimators': [100, 200, 300, 400,\n                                                         500, 600, 700, 800,\n                                                         900, 1000, 1100,\n                                                         1200]},\n                   random_state=42, scoring='neg_mean_squared_error',\n                   verbose=2)"
     },
     "execution_count": 334,
     "metadata": {},
     "output_type": "execute_result"
    }
   ],
   "source": [
    "from sklearn.ensemble import RandomForestRegressor\n",
    "# Use the random grid to search for best hyperparameters\n",
    "# First create the base model to tune\n",
    "rf = RandomForestRegressor()\n",
    "# Random search of parameters, using 3 fold cross validation,\n",
    "# search across 100 different combinations\n",
    "rf_random = RandomizedSearchCV(estimator = rf, param_distributions = random_grid,scoring='neg_mean_squared_error', n_iter = 10, cv = 5, verbose=2, random_state=42, n_jobs = 1)\n",
    "rf_random.fit(X_train,y_train)"
   ]
  },
  {
   "cell_type": "code",
   "execution_count": 335,
   "metadata": {
    "hidden": true,
    "pycharm": {
     "name": "#%%\n"
    }
   },
   "outputs": [
    {
     "data": {
      "text/plain": "{'n_estimators': 1000,\n 'min_samples_split': 2,\n 'min_samples_leaf': 1,\n 'max_features': 'sqrt',\n 'max_depth': 25}"
     },
     "execution_count": 335,
     "metadata": {},
     "output_type": "execute_result"
    }
   ],
   "source": [
    "rf_random.best_params_"
   ]
  },
  {
   "cell_type": "code",
   "execution_count": 336,
   "metadata": {
    "hidden": true,
    "pycharm": {
     "name": "#%%\n"
    }
   },
   "outputs": [
    {
     "data": {
      "text/plain": "-0.20893798609758135"
     },
     "execution_count": 336,
     "metadata": {},
     "output_type": "execute_result"
    }
   ],
   "source": [
    "rf_random.best_score_"
   ]
  },
  {
   "cell_type": "code",
   "execution_count": 337,
   "metadata": {
    "hidden": true,
    "pycharm": {
     "name": "#%%\n"
    }
   },
   "outputs": [],
   "source": [
    "predictions=pd.Series(rf_random.predict(X_test))\n",
    "predictions = predictions.round(0).astype(int)\n",
    "y_test = y_test.reset_index(drop=True)\n",
    "outThing = pd.concat([y_test, predictions],ignore_index = True,axis=1)\n",
    "outThing.to_csv('outThing.csv',index=False)"
   ]
  },
  {
   "cell_type": "code",
   "execution_count": 338,
   "metadata": {
    "hidden": true,
    "pycharm": {
     "name": "#%%\n"
    }
   },
   "outputs": [
    {
     "name": "stdout",
     "output_type": "stream",
     "text": [
      "RMSE: 0.4946596633466653\n"
     ]
    }
   ],
   "source": [
    "from sklearn import metrics\n",
    "# open a file, where you ant to store the data\n",
    "file = open('randomForest.pkl', 'wb')\n",
    "# dump information to that file\n",
    "pickle.dump(rf_random, file)\n",
    "print('RMSE:', np.sqrt(metrics.mean_squared_error(y_test, predictions)))"
   ]
  },
  {
   "cell_type": "markdown",
   "metadata": {
    "pycharm": {
     "name": "#%% md\n"
    }
   },
   "source": [
    "### XGBoost"
   ]
  },
  {
   "cell_type": "code",
   "execution_count": 339,
   "metadata": {
    "pycharm": {
     "name": "#%%\n"
    }
   },
   "outputs": [],
   "source": [
    "import xgboost as xgb"
   ]
  },
  {
   "cell_type": "code",
   "execution_count": 340,
   "metadata": {
    "pycharm": {
     "name": "#%%\n"
    }
   },
   "outputs": [
    {
     "name": "stdout",
     "output_type": "stream",
     "text": [
      "reg:squarederror\n"
     ]
    }
   ],
   "source": [
    "xgbr = xgb.XGBRegressor(verbosity = 0)\n",
    "print(xgbr.objective)"
   ]
  },
  {
   "cell_type": "code",
   "execution_count": 341,
   "metadata": {
    "pycharm": {
     "name": "#%%\n"
    }
   },
   "outputs": [],
   "source": [
    "## Hyper Parameter Optimization\n",
    "\n",
    "params = {\n",
    "\t'n_estimators': [50,100, 400, 800],\n",
    "\t'max_depth': [1,3, 6, 9],\n",
    "\t'learning_rate': [0.05, 0.1, 0,15, 0.20,0.25],\n",
    "\t'min_child_weight': [100]\n",
    "}"
   ]
  },
  {
   "cell_type": "code",
   "execution_count": 342,
   "metadata": {},
   "outputs": [],
   "source": [
    "from sklearn.model_selection import RandomizedSearchCV\n",
    "random_search_XGBR =  RandomizedSearchCV(xgbr,param_distributions=params,scoring='neg_mean_squared_error', n_iter = 30, cv = 5, verbose=0, random_state=0, n_jobs = 4)"
   ]
  },
  {
   "cell_type": "code",
   "execution_count": 343,
   "metadata": {},
   "outputs": [
    {
     "name": "stderr",
     "output_type": "stream",
     "text": [
      "/Users/boteejiangwork/miniforge3/envs/datascience/lib/python3.9/site-packages/xgboost/compat.py:36: FutureWarning: pandas.Int64Index is deprecated and will be removed from pandas in a future version. Use pandas.Index with the appropriate dtype instead.\n",
      "  from pandas import MultiIndex, Int64Index\n",
      "/Users/boteejiangwork/miniforge3/envs/datascience/lib/python3.9/site-packages/xgboost/compat.py:36: FutureWarning: pandas.Int64Index is deprecated and will be removed from pandas in a future version. Use pandas.Index with the appropriate dtype instead.\n",
      "  from pandas import MultiIndex, Int64Index\n",
      "/Users/boteejiangwork/miniforge3/envs/datascience/lib/python3.9/site-packages/xgboost/compat.py:36: FutureWarning: pandas.Int64Index is deprecated and will be removed from pandas in a future version. Use pandas.Index with the appropriate dtype instead.\n",
      "  from pandas import MultiIndex, Int64Index\n",
      "/Users/boteejiangwork/miniforge3/envs/datascience/lib/python3.9/site-packages/xgboost/compat.py:36: FutureWarning: pandas.Int64Index is deprecated and will be removed from pandas in a future version. Use pandas.Index with the appropriate dtype instead.\n",
      "  from pandas import MultiIndex, Int64Index\n",
      "/Users/boteejiangwork/miniforge3/envs/datascience/lib/python3.9/site-packages/xgboost/data.py:262: FutureWarning: pandas.Int64Index is deprecated and will be removed from pandas in a future version. Use pandas.Index with the appropriate dtype instead.\n",
      "  elif isinstance(data.columns, (pd.Int64Index, pd.RangeIndex)):\n",
      "/Users/boteejiangwork/miniforge3/envs/datascience/lib/python3.9/site-packages/xgboost/data.py:262: FutureWarning: pandas.Int64Index is deprecated and will be removed from pandas in a future version. Use pandas.Index with the appropriate dtype instead.\n",
      "  elif isinstance(data.columns, (pd.Int64Index, pd.RangeIndex)):\n",
      "/Users/boteejiangwork/miniforge3/envs/datascience/lib/python3.9/site-packages/xgboost/data.py:262: FutureWarning: pandas.Int64Index is deprecated and will be removed from pandas in a future version. Use pandas.Index with the appropriate dtype instead.\n",
      "  elif isinstance(data.columns, (pd.Int64Index, pd.RangeIndex)):\n",
      "/Users/boteejiangwork/miniforge3/envs/datascience/lib/python3.9/site-packages/xgboost/data.py:262: FutureWarning: pandas.Int64Index is deprecated and will be removed from pandas in a future version. Use pandas.Index with the appropriate dtype instead.\n",
      "  elif isinstance(data.columns, (pd.Int64Index, pd.RangeIndex)):\n",
      "/Users/boteejiangwork/miniforge3/envs/datascience/lib/python3.9/site-packages/xgboost/data.py:262: FutureWarning: pandas.Int64Index is deprecated and will be removed from pandas in a future version. Use pandas.Index with the appropriate dtype instead.\n",
      "  elif isinstance(data.columns, (pd.Int64Index, pd.RangeIndex)):\n",
      "/Users/boteejiangwork/miniforge3/envs/datascience/lib/python3.9/site-packages/xgboost/data.py:262: FutureWarning: pandas.Int64Index is deprecated and will be removed from pandas in a future version. Use pandas.Index with the appropriate dtype instead.\n",
      "  elif isinstance(data.columns, (pd.Int64Index, pd.RangeIndex)):\n",
      "/Users/boteejiangwork/miniforge3/envs/datascience/lib/python3.9/site-packages/xgboost/data.py:262: FutureWarning: pandas.Int64Index is deprecated and will be removed from pandas in a future version. Use pandas.Index with the appropriate dtype instead.\n",
      "  elif isinstance(data.columns, (pd.Int64Index, pd.RangeIndex)):\n",
      "/Users/boteejiangwork/miniforge3/envs/datascience/lib/python3.9/site-packages/xgboost/data.py:262: FutureWarning: pandas.Int64Index is deprecated and will be removed from pandas in a future version. Use pandas.Index with the appropriate dtype instead.\n",
      "  elif isinstance(data.columns, (pd.Int64Index, pd.RangeIndex)):\n",
      "/Users/boteejiangwork/miniforge3/envs/datascience/lib/python3.9/site-packages/xgboost/data.py:262: FutureWarning: pandas.Int64Index is deprecated and will be removed from pandas in a future version. Use pandas.Index with the appropriate dtype instead.\n",
      "  elif isinstance(data.columns, (pd.Int64Index, pd.RangeIndex)):\n",
      "/Users/boteejiangwork/miniforge3/envs/datascience/lib/python3.9/site-packages/xgboost/data.py:262: FutureWarning: pandas.Int64Index is deprecated and will be removed from pandas in a future version. Use pandas.Index with the appropriate dtype instead.\n",
      "  elif isinstance(data.columns, (pd.Int64Index, pd.RangeIndex)):\n",
      "/Users/boteejiangwork/miniforge3/envs/datascience/lib/python3.9/site-packages/xgboost/data.py:262: FutureWarning: pandas.Int64Index is deprecated and will be removed from pandas in a future version. Use pandas.Index with the appropriate dtype instead.\n",
      "  elif isinstance(data.columns, (pd.Int64Index, pd.RangeIndex)):\n",
      "/Users/boteejiangwork/miniforge3/envs/datascience/lib/python3.9/site-packages/xgboost/data.py:262: FutureWarning: pandas.Int64Index is deprecated and will be removed from pandas in a future version. Use pandas.Index with the appropriate dtype instead.\n",
      "  elif isinstance(data.columns, (pd.Int64Index, pd.RangeIndex)):\n",
      "/Users/boteejiangwork/miniforge3/envs/datascience/lib/python3.9/site-packages/xgboost/data.py:262: FutureWarning: pandas.Int64Index is deprecated and will be removed from pandas in a future version. Use pandas.Index with the appropriate dtype instead.\n",
      "  elif isinstance(data.columns, (pd.Int64Index, pd.RangeIndex)):\n",
      "/Users/boteejiangwork/miniforge3/envs/datascience/lib/python3.9/site-packages/xgboost/data.py:262: FutureWarning: pandas.Int64Index is deprecated and will be removed from pandas in a future version. Use pandas.Index with the appropriate dtype instead.\n",
      "  elif isinstance(data.columns, (pd.Int64Index, pd.RangeIndex)):\n",
      "/Users/boteejiangwork/miniforge3/envs/datascience/lib/python3.9/site-packages/xgboost/data.py:262: FutureWarning: pandas.Int64Index is deprecated and will be removed from pandas in a future version. Use pandas.Index with the appropriate dtype instead.\n",
      "  elif isinstance(data.columns, (pd.Int64Index, pd.RangeIndex)):\n",
      "/Users/boteejiangwork/miniforge3/envs/datascience/lib/python3.9/site-packages/xgboost/data.py:262: FutureWarning: pandas.Int64Index is deprecated and will be removed from pandas in a future version. Use pandas.Index with the appropriate dtype instead.\n",
      "  elif isinstance(data.columns, (pd.Int64Index, pd.RangeIndex)):\n",
      "/Users/boteejiangwork/miniforge3/envs/datascience/lib/python3.9/site-packages/xgboost/data.py:262: FutureWarning: pandas.Int64Index is deprecated and will be removed from pandas in a future version. Use pandas.Index with the appropriate dtype instead.\n",
      "  elif isinstance(data.columns, (pd.Int64Index, pd.RangeIndex)):\n",
      "/Users/boteejiangwork/miniforge3/envs/datascience/lib/python3.9/site-packages/xgboost/data.py:262: FutureWarning: pandas.Int64Index is deprecated and will be removed from pandas in a future version. Use pandas.Index with the appropriate dtype instead.\n",
      "  elif isinstance(data.columns, (pd.Int64Index, pd.RangeIndex)):\n",
      "/Users/boteejiangwork/miniforge3/envs/datascience/lib/python3.9/site-packages/xgboost/data.py:262: FutureWarning: pandas.Int64Index is deprecated and will be removed from pandas in a future version. Use pandas.Index with the appropriate dtype instead.\n",
      "  elif isinstance(data.columns, (pd.Int64Index, pd.RangeIndex)):\n",
      "/Users/boteejiangwork/miniforge3/envs/datascience/lib/python3.9/site-packages/sklearn/model_selection/_validation.py:770: UserWarning: Scoring failed. The score on this train-test partition for these parameters will be set to nan. Details: \n",
      "Traceback (most recent call last):\n",
      "  File \"/Users/boteejiangwork/miniforge3/envs/datascience/lib/python3.9/site-packages/sklearn/model_selection/_validation.py\", line 761, in _score\n",
      "    scores = scorer(estimator, X_test, y_test)\n",
      "  File \"/Users/boteejiangwork/miniforge3/envs/datascience/lib/python3.9/site-packages/sklearn/metrics/_scorer.py\", line 216, in __call__\n",
      "    return self._score(\n",
      "  File \"/Users/boteejiangwork/miniforge3/envs/datascience/lib/python3.9/site-packages/sklearn/metrics/_scorer.py\", line 264, in _score\n",
      "    return self._sign * self._score_func(y_true, y_pred, **self._kwargs)\n",
      "  File \"/Users/boteejiangwork/miniforge3/envs/datascience/lib/python3.9/site-packages/sklearn/metrics/_regression.py\", line 438, in mean_squared_error\n",
      "    y_type, y_true, y_pred, multioutput = _check_reg_targets(\n",
      "  File \"/Users/boteejiangwork/miniforge3/envs/datascience/lib/python3.9/site-packages/sklearn/metrics/_regression.py\", line 96, in _check_reg_targets\n",
      "    y_pred = check_array(y_pred, ensure_2d=False, dtype=dtype)\n",
      "  File \"/Users/boteejiangwork/miniforge3/envs/datascience/lib/python3.9/site-packages/sklearn/utils/validation.py\", line 800, in check_array\n",
      "    _assert_all_finite(array, allow_nan=force_all_finite == \"allow-nan\")\n",
      "  File \"/Users/boteejiangwork/miniforge3/envs/datascience/lib/python3.9/site-packages/sklearn/utils/validation.py\", line 114, in _assert_all_finite\n",
      "    raise ValueError(\n",
      "ValueError: Input contains NaN, infinity or a value too large for dtype('float32').\n",
      "\n",
      "  warnings.warn(\n",
      "/Users/boteejiangwork/miniforge3/envs/datascience/lib/python3.9/site-packages/xgboost/data.py:262: FutureWarning: pandas.Int64Index is deprecated and will be removed from pandas in a future version. Use pandas.Index with the appropriate dtype instead.\n",
      "  elif isinstance(data.columns, (pd.Int64Index, pd.RangeIndex)):\n",
      "/Users/boteejiangwork/miniforge3/envs/datascience/lib/python3.9/site-packages/sklearn/model_selection/_validation.py:770: UserWarning: Scoring failed. The score on this train-test partition for these parameters will be set to nan. Details: \n",
      "Traceback (most recent call last):\n",
      "  File \"/Users/boteejiangwork/miniforge3/envs/datascience/lib/python3.9/site-packages/sklearn/model_selection/_validation.py\", line 761, in _score\n",
      "    scores = scorer(estimator, X_test, y_test)\n",
      "  File \"/Users/boteejiangwork/miniforge3/envs/datascience/lib/python3.9/site-packages/sklearn/metrics/_scorer.py\", line 216, in __call__\n",
      "    return self._score(\n",
      "  File \"/Users/boteejiangwork/miniforge3/envs/datascience/lib/python3.9/site-packages/sklearn/metrics/_scorer.py\", line 264, in _score\n",
      "    return self._sign * self._score_func(y_true, y_pred, **self._kwargs)\n",
      "  File \"/Users/boteejiangwork/miniforge3/envs/datascience/lib/python3.9/site-packages/sklearn/metrics/_regression.py\", line 438, in mean_squared_error\n",
      "    y_type, y_true, y_pred, multioutput = _check_reg_targets(\n",
      "  File \"/Users/boteejiangwork/miniforge3/envs/datascience/lib/python3.9/site-packages/sklearn/metrics/_regression.py\", line 96, in _check_reg_targets\n",
      "    y_pred = check_array(y_pred, ensure_2d=False, dtype=dtype)\n",
      "  File \"/Users/boteejiangwork/miniforge3/envs/datascience/lib/python3.9/site-packages/sklearn/utils/validation.py\", line 800, in check_array\n",
      "    _assert_all_finite(array, allow_nan=force_all_finite == \"allow-nan\")\n",
      "  File \"/Users/boteejiangwork/miniforge3/envs/datascience/lib/python3.9/site-packages/sklearn/utils/validation.py\", line 114, in _assert_all_finite\n",
      "    raise ValueError(\n",
      "ValueError: Input contains NaN, infinity or a value too large for dtype('float32').\n",
      "\n",
      "  warnings.warn(\n",
      "/Users/boteejiangwork/miniforge3/envs/datascience/lib/python3.9/site-packages/xgboost/data.py:262: FutureWarning: pandas.Int64Index is deprecated and will be removed from pandas in a future version. Use pandas.Index with the appropriate dtype instead.\n",
      "  elif isinstance(data.columns, (pd.Int64Index, pd.RangeIndex)):\n",
      "/Users/boteejiangwork/miniforge3/envs/datascience/lib/python3.9/site-packages/sklearn/model_selection/_validation.py:770: UserWarning: Scoring failed. The score on this train-test partition for these parameters will be set to nan. Details: \n",
      "Traceback (most recent call last):\n",
      "  File \"/Users/boteejiangwork/miniforge3/envs/datascience/lib/python3.9/site-packages/sklearn/model_selection/_validation.py\", line 761, in _score\n",
      "    scores = scorer(estimator, X_test, y_test)\n",
      "  File \"/Users/boteejiangwork/miniforge3/envs/datascience/lib/python3.9/site-packages/sklearn/metrics/_scorer.py\", line 216, in __call__\n",
      "    return self._score(\n",
      "  File \"/Users/boteejiangwork/miniforge3/envs/datascience/lib/python3.9/site-packages/sklearn/metrics/_scorer.py\", line 264, in _score\n",
      "    return self._sign * self._score_func(y_true, y_pred, **self._kwargs)\n",
      "  File \"/Users/boteejiangwork/miniforge3/envs/datascience/lib/python3.9/site-packages/sklearn/metrics/_regression.py\", line 438, in mean_squared_error\n",
      "    y_type, y_true, y_pred, multioutput = _check_reg_targets(\n",
      "  File \"/Users/boteejiangwork/miniforge3/envs/datascience/lib/python3.9/site-packages/sklearn/metrics/_regression.py\", line 96, in _check_reg_targets\n",
      "    y_pred = check_array(y_pred, ensure_2d=False, dtype=dtype)\n",
      "  File \"/Users/boteejiangwork/miniforge3/envs/datascience/lib/python3.9/site-packages/sklearn/utils/validation.py\", line 800, in check_array\n",
      "    _assert_all_finite(array, allow_nan=force_all_finite == \"allow-nan\")\n",
      "  File \"/Users/boteejiangwork/miniforge3/envs/datascience/lib/python3.9/site-packages/sklearn/utils/validation.py\", line 114, in _assert_all_finite\n",
      "    raise ValueError(\n",
      "ValueError: Input contains NaN, infinity or a value too large for dtype('float32').\n",
      "\n",
      "  warnings.warn(\n",
      "/Users/boteejiangwork/miniforge3/envs/datascience/lib/python3.9/site-packages/xgboost/data.py:262: FutureWarning: pandas.Int64Index is deprecated and will be removed from pandas in a future version. Use pandas.Index with the appropriate dtype instead.\n",
      "  elif isinstance(data.columns, (pd.Int64Index, pd.RangeIndex)):\n",
      "/Users/boteejiangwork/miniforge3/envs/datascience/lib/python3.9/site-packages/sklearn/model_selection/_validation.py:770: UserWarning: Scoring failed. The score on this train-test partition for these parameters will be set to nan. Details: \n",
      "Traceback (most recent call last):\n",
      "  File \"/Users/boteejiangwork/miniforge3/envs/datascience/lib/python3.9/site-packages/sklearn/model_selection/_validation.py\", line 761, in _score\n",
      "    scores = scorer(estimator, X_test, y_test)\n",
      "  File \"/Users/boteejiangwork/miniforge3/envs/datascience/lib/python3.9/site-packages/sklearn/metrics/_scorer.py\", line 216, in __call__\n",
      "    return self._score(\n",
      "  File \"/Users/boteejiangwork/miniforge3/envs/datascience/lib/python3.9/site-packages/sklearn/metrics/_scorer.py\", line 264, in _score\n",
      "    return self._sign * self._score_func(y_true, y_pred, **self._kwargs)\n",
      "  File \"/Users/boteejiangwork/miniforge3/envs/datascience/lib/python3.9/site-packages/sklearn/metrics/_regression.py\", line 438, in mean_squared_error\n",
      "    y_type, y_true, y_pred, multioutput = _check_reg_targets(\n",
      "  File \"/Users/boteejiangwork/miniforge3/envs/datascience/lib/python3.9/site-packages/sklearn/metrics/_regression.py\", line 96, in _check_reg_targets\n",
      "    y_pred = check_array(y_pred, ensure_2d=False, dtype=dtype)\n",
      "  File \"/Users/boteejiangwork/miniforge3/envs/datascience/lib/python3.9/site-packages/sklearn/utils/validation.py\", line 800, in check_array\n",
      "    _assert_all_finite(array, allow_nan=force_all_finite == \"allow-nan\")\n",
      "  File \"/Users/boteejiangwork/miniforge3/envs/datascience/lib/python3.9/site-packages/sklearn/utils/validation.py\", line 114, in _assert_all_finite\n",
      "    raise ValueError(\n",
      "ValueError: Input contains NaN, infinity or a value too large for dtype('float32').\n",
      "\n",
      "  warnings.warn(\n",
      "/Users/boteejiangwork/miniforge3/envs/datascience/lib/python3.9/site-packages/xgboost/data.py:262: FutureWarning: pandas.Int64Index is deprecated and will be removed from pandas in a future version. Use pandas.Index with the appropriate dtype instead.\n",
      "  elif isinstance(data.columns, (pd.Int64Index, pd.RangeIndex)):\n",
      "/Users/boteejiangwork/miniforge3/envs/datascience/lib/python3.9/site-packages/xgboost/data.py:262: FutureWarning: pandas.Int64Index is deprecated and will be removed from pandas in a future version. Use pandas.Index with the appropriate dtype instead.\n",
      "  elif isinstance(data.columns, (pd.Int64Index, pd.RangeIndex)):\n",
      "/Users/boteejiangwork/miniforge3/envs/datascience/lib/python3.9/site-packages/xgboost/data.py:262: FutureWarning: pandas.Int64Index is deprecated and will be removed from pandas in a future version. Use pandas.Index with the appropriate dtype instead.\n",
      "  elif isinstance(data.columns, (pd.Int64Index, pd.RangeIndex)):\n",
      "/Users/boteejiangwork/miniforge3/envs/datascience/lib/python3.9/site-packages/xgboost/data.py:262: FutureWarning: pandas.Int64Index is deprecated and will be removed from pandas in a future version. Use pandas.Index with the appropriate dtype instead.\n",
      "  elif isinstance(data.columns, (pd.Int64Index, pd.RangeIndex)):\n",
      "/Users/boteejiangwork/miniforge3/envs/datascience/lib/python3.9/site-packages/xgboost/data.py:262: FutureWarning: pandas.Int64Index is deprecated and will be removed from pandas in a future version. Use pandas.Index with the appropriate dtype instead.\n",
      "  elif isinstance(data.columns, (pd.Int64Index, pd.RangeIndex)):\n",
      "/Users/boteejiangwork/miniforge3/envs/datascience/lib/python3.9/site-packages/xgboost/data.py:262: FutureWarning: pandas.Int64Index is deprecated and will be removed from pandas in a future version. Use pandas.Index with the appropriate dtype instead.\n",
      "  elif isinstance(data.columns, (pd.Int64Index, pd.RangeIndex)):\n",
      "/Users/boteejiangwork/miniforge3/envs/datascience/lib/python3.9/site-packages/xgboost/data.py:262: FutureWarning: pandas.Int64Index is deprecated and will be removed from pandas in a future version. Use pandas.Index with the appropriate dtype instead.\n",
      "  elif isinstance(data.columns, (pd.Int64Index, pd.RangeIndex)):\n",
      "/Users/boteejiangwork/miniforge3/envs/datascience/lib/python3.9/site-packages/xgboost/data.py:262: FutureWarning: pandas.Int64Index is deprecated and will be removed from pandas in a future version. Use pandas.Index with the appropriate dtype instead.\n",
      "  elif isinstance(data.columns, (pd.Int64Index, pd.RangeIndex)):\n",
      "/Users/boteejiangwork/miniforge3/envs/datascience/lib/python3.9/site-packages/xgboost/data.py:262: FutureWarning: pandas.Int64Index is deprecated and will be removed from pandas in a future version. Use pandas.Index with the appropriate dtype instead.\n",
      "  elif isinstance(data.columns, (pd.Int64Index, pd.RangeIndex)):\n",
      "/Users/boteejiangwork/miniforge3/envs/datascience/lib/python3.9/site-packages/sklearn/model_selection/_validation.py:770: UserWarning: Scoring failed. The score on this train-test partition for these parameters will be set to nan. Details: \n",
      "Traceback (most recent call last):\n",
      "  File \"/Users/boteejiangwork/miniforge3/envs/datascience/lib/python3.9/site-packages/sklearn/model_selection/_validation.py\", line 761, in _score\n",
      "    scores = scorer(estimator, X_test, y_test)\n",
      "  File \"/Users/boteejiangwork/miniforge3/envs/datascience/lib/python3.9/site-packages/sklearn/metrics/_scorer.py\", line 216, in __call__\n",
      "    return self._score(\n",
      "  File \"/Users/boteejiangwork/miniforge3/envs/datascience/lib/python3.9/site-packages/sklearn/metrics/_scorer.py\", line 264, in _score\n",
      "    return self._sign * self._score_func(y_true, y_pred, **self._kwargs)\n",
      "  File \"/Users/boteejiangwork/miniforge3/envs/datascience/lib/python3.9/site-packages/sklearn/metrics/_regression.py\", line 438, in mean_squared_error\n",
      "    y_type, y_true, y_pred, multioutput = _check_reg_targets(\n",
      "  File \"/Users/boteejiangwork/miniforge3/envs/datascience/lib/python3.9/site-packages/sklearn/metrics/_regression.py\", line 96, in _check_reg_targets\n",
      "    y_pred = check_array(y_pred, ensure_2d=False, dtype=dtype)\n",
      "  File \"/Users/boteejiangwork/miniforge3/envs/datascience/lib/python3.9/site-packages/sklearn/utils/validation.py\", line 800, in check_array\n",
      "    _assert_all_finite(array, allow_nan=force_all_finite == \"allow-nan\")\n",
      "  File \"/Users/boteejiangwork/miniforge3/envs/datascience/lib/python3.9/site-packages/sklearn/utils/validation.py\", line 114, in _assert_all_finite\n",
      "    raise ValueError(\n",
      "ValueError: Input contains NaN, infinity or a value too large for dtype('float32').\n",
      "\n",
      "  warnings.warn(\n",
      "/Users/boteejiangwork/miniforge3/envs/datascience/lib/python3.9/site-packages/xgboost/data.py:262: FutureWarning: pandas.Int64Index is deprecated and will be removed from pandas in a future version. Use pandas.Index with the appropriate dtype instead.\n",
      "  elif isinstance(data.columns, (pd.Int64Index, pd.RangeIndex)):\n",
      "/Users/boteejiangwork/miniforge3/envs/datascience/lib/python3.9/site-packages/xgboost/data.py:262: FutureWarning: pandas.Int64Index is deprecated and will be removed from pandas in a future version. Use pandas.Index with the appropriate dtype instead.\n",
      "  elif isinstance(data.columns, (pd.Int64Index, pd.RangeIndex)):\n",
      "/Users/boteejiangwork/miniforge3/envs/datascience/lib/python3.9/site-packages/xgboost/data.py:262: FutureWarning: pandas.Int64Index is deprecated and will be removed from pandas in a future version. Use pandas.Index with the appropriate dtype instead.\n",
      "  elif isinstance(data.columns, (pd.Int64Index, pd.RangeIndex)):\n",
      "/Users/boteejiangwork/miniforge3/envs/datascience/lib/python3.9/site-packages/xgboost/data.py:262: FutureWarning: pandas.Int64Index is deprecated and will be removed from pandas in a future version. Use pandas.Index with the appropriate dtype instead.\n",
      "  elif isinstance(data.columns, (pd.Int64Index, pd.RangeIndex)):\n",
      "/Users/boteejiangwork/miniforge3/envs/datascience/lib/python3.9/site-packages/xgboost/data.py:262: FutureWarning: pandas.Int64Index is deprecated and will be removed from pandas in a future version. Use pandas.Index with the appropriate dtype instead.\n",
      "  elif isinstance(data.columns, (pd.Int64Index, pd.RangeIndex)):\n",
      "/Users/boteejiangwork/miniforge3/envs/datascience/lib/python3.9/site-packages/xgboost/data.py:262: FutureWarning: pandas.Int64Index is deprecated and will be removed from pandas in a future version. Use pandas.Index with the appropriate dtype instead.\n",
      "  elif isinstance(data.columns, (pd.Int64Index, pd.RangeIndex)):\n",
      "/Users/boteejiangwork/miniforge3/envs/datascience/lib/python3.9/site-packages/xgboost/data.py:262: FutureWarning: pandas.Int64Index is deprecated and will be removed from pandas in a future version. Use pandas.Index with the appropriate dtype instead.\n",
      "  elif isinstance(data.columns, (pd.Int64Index, pd.RangeIndex)):\n",
      "/Users/boteejiangwork/miniforge3/envs/datascience/lib/python3.9/site-packages/xgboost/data.py:262: FutureWarning: pandas.Int64Index is deprecated and will be removed from pandas in a future version. Use pandas.Index with the appropriate dtype instead.\n",
      "  elif isinstance(data.columns, (pd.Int64Index, pd.RangeIndex)):\n",
      "/Users/boteejiangwork/miniforge3/envs/datascience/lib/python3.9/site-packages/xgboost/data.py:262: FutureWarning: pandas.Int64Index is deprecated and will be removed from pandas in a future version. Use pandas.Index with the appropriate dtype instead.\n",
      "  elif isinstance(data.columns, (pd.Int64Index, pd.RangeIndex)):\n",
      "/Users/boteejiangwork/miniforge3/envs/datascience/lib/python3.9/site-packages/xgboost/data.py:262: FutureWarning: pandas.Int64Index is deprecated and will be removed from pandas in a future version. Use pandas.Index with the appropriate dtype instead.\n",
      "  elif isinstance(data.columns, (pd.Int64Index, pd.RangeIndex)):\n",
      "/Users/boteejiangwork/miniforge3/envs/datascience/lib/python3.9/site-packages/xgboost/data.py:262: FutureWarning: pandas.Int64Index is deprecated and will be removed from pandas in a future version. Use pandas.Index with the appropriate dtype instead.\n",
      "  elif isinstance(data.columns, (pd.Int64Index, pd.RangeIndex)):\n",
      "/Users/boteejiangwork/miniforge3/envs/datascience/lib/python3.9/site-packages/xgboost/data.py:262: FutureWarning: pandas.Int64Index is deprecated and will be removed from pandas in a future version. Use pandas.Index with the appropriate dtype instead.\n",
      "  elif isinstance(data.columns, (pd.Int64Index, pd.RangeIndex)):\n",
      "/Users/boteejiangwork/miniforge3/envs/datascience/lib/python3.9/site-packages/sklearn/model_selection/_validation.py:770: UserWarning: Scoring failed. The score on this train-test partition for these parameters will be set to nan. Details: \n",
      "Traceback (most recent call last):\n",
      "  File \"/Users/boteejiangwork/miniforge3/envs/datascience/lib/python3.9/site-packages/sklearn/model_selection/_validation.py\", line 761, in _score\n",
      "    scores = scorer(estimator, X_test, y_test)\n",
      "  File \"/Users/boteejiangwork/miniforge3/envs/datascience/lib/python3.9/site-packages/sklearn/metrics/_scorer.py\", line 216, in __call__\n",
      "    return self._score(\n",
      "  File \"/Users/boteejiangwork/miniforge3/envs/datascience/lib/python3.9/site-packages/sklearn/metrics/_scorer.py\", line 264, in _score\n",
      "    return self._sign * self._score_func(y_true, y_pred, **self._kwargs)\n",
      "  File \"/Users/boteejiangwork/miniforge3/envs/datascience/lib/python3.9/site-packages/sklearn/metrics/_regression.py\", line 438, in mean_squared_error\n",
      "    y_type, y_true, y_pred, multioutput = _check_reg_targets(\n",
      "  File \"/Users/boteejiangwork/miniforge3/envs/datascience/lib/python3.9/site-packages/sklearn/metrics/_regression.py\", line 96, in _check_reg_targets\n",
      "    y_pred = check_array(y_pred, ensure_2d=False, dtype=dtype)\n",
      "  File \"/Users/boteejiangwork/miniforge3/envs/datascience/lib/python3.9/site-packages/sklearn/utils/validation.py\", line 800, in check_array\n",
      "    _assert_all_finite(array, allow_nan=force_all_finite == \"allow-nan\")\n",
      "  File \"/Users/boteejiangwork/miniforge3/envs/datascience/lib/python3.9/site-packages/sklearn/utils/validation.py\", line 114, in _assert_all_finite\n",
      "    raise ValueError(\n",
      "ValueError: Input contains NaN, infinity or a value too large for dtype('float32').\n",
      "\n",
      "  warnings.warn(\n",
      "/Users/boteejiangwork/miniforge3/envs/datascience/lib/python3.9/site-packages/xgboost/data.py:262: FutureWarning: pandas.Int64Index is deprecated and will be removed from pandas in a future version. Use pandas.Index with the appropriate dtype instead.\n",
      "  elif isinstance(data.columns, (pd.Int64Index, pd.RangeIndex)):\n",
      "/Users/boteejiangwork/miniforge3/envs/datascience/lib/python3.9/site-packages/sklearn/model_selection/_validation.py:770: UserWarning: Scoring failed. The score on this train-test partition for these parameters will be set to nan. Details: \n",
      "Traceback (most recent call last):\n",
      "  File \"/Users/boteejiangwork/miniforge3/envs/datascience/lib/python3.9/site-packages/sklearn/model_selection/_validation.py\", line 761, in _score\n",
      "    scores = scorer(estimator, X_test, y_test)\n",
      "  File \"/Users/boteejiangwork/miniforge3/envs/datascience/lib/python3.9/site-packages/sklearn/metrics/_scorer.py\", line 216, in __call__\n",
      "    return self._score(\n",
      "  File \"/Users/boteejiangwork/miniforge3/envs/datascience/lib/python3.9/site-packages/sklearn/metrics/_scorer.py\", line 264, in _score\n",
      "    return self._sign * self._score_func(y_true, y_pred, **self._kwargs)\n",
      "  File \"/Users/boteejiangwork/miniforge3/envs/datascience/lib/python3.9/site-packages/sklearn/metrics/_regression.py\", line 438, in mean_squared_error\n",
      "    y_type, y_true, y_pred, multioutput = _check_reg_targets(\n",
      "  File \"/Users/boteejiangwork/miniforge3/envs/datascience/lib/python3.9/site-packages/sklearn/metrics/_regression.py\", line 96, in _check_reg_targets\n",
      "    y_pred = check_array(y_pred, ensure_2d=False, dtype=dtype)\n",
      "  File \"/Users/boteejiangwork/miniforge3/envs/datascience/lib/python3.9/site-packages/sklearn/utils/validation.py\", line 800, in check_array\n",
      "    _assert_all_finite(array, allow_nan=force_all_finite == \"allow-nan\")\n",
      "  File \"/Users/boteejiangwork/miniforge3/envs/datascience/lib/python3.9/site-packages/sklearn/utils/validation.py\", line 114, in _assert_all_finite\n",
      "    raise ValueError(\n",
      "ValueError: Input contains NaN, infinity or a value too large for dtype('float32').\n",
      "\n",
      "  warnings.warn(\n",
      "/Users/boteejiangwork/miniforge3/envs/datascience/lib/python3.9/site-packages/xgboost/data.py:262: FutureWarning: pandas.Int64Index is deprecated and will be removed from pandas in a future version. Use pandas.Index with the appropriate dtype instead.\n",
      "  elif isinstance(data.columns, (pd.Int64Index, pd.RangeIndex)):\n",
      "/Users/boteejiangwork/miniforge3/envs/datascience/lib/python3.9/site-packages/sklearn/model_selection/_validation.py:770: UserWarning: Scoring failed. The score on this train-test partition for these parameters will be set to nan. Details: \n",
      "Traceback (most recent call last):\n",
      "  File \"/Users/boteejiangwork/miniforge3/envs/datascience/lib/python3.9/site-packages/sklearn/model_selection/_validation.py\", line 761, in _score\n",
      "    scores = scorer(estimator, X_test, y_test)\n",
      "  File \"/Users/boteejiangwork/miniforge3/envs/datascience/lib/python3.9/site-packages/sklearn/metrics/_scorer.py\", line 216, in __call__\n",
      "    return self._score(\n",
      "  File \"/Users/boteejiangwork/miniforge3/envs/datascience/lib/python3.9/site-packages/sklearn/metrics/_scorer.py\", line 264, in _score\n",
      "    return self._sign * self._score_func(y_true, y_pred, **self._kwargs)\n",
      "  File \"/Users/boteejiangwork/miniforge3/envs/datascience/lib/python3.9/site-packages/sklearn/metrics/_regression.py\", line 438, in mean_squared_error\n",
      "    y_type, y_true, y_pred, multioutput = _check_reg_targets(\n",
      "  File \"/Users/boteejiangwork/miniforge3/envs/datascience/lib/python3.9/site-packages/sklearn/metrics/_regression.py\", line 96, in _check_reg_targets\n",
      "    y_pred = check_array(y_pred, ensure_2d=False, dtype=dtype)\n",
      "  File \"/Users/boteejiangwork/miniforge3/envs/datascience/lib/python3.9/site-packages/sklearn/utils/validation.py\", line 800, in check_array\n",
      "    _assert_all_finite(array, allow_nan=force_all_finite == \"allow-nan\")\n",
      "  File \"/Users/boteejiangwork/miniforge3/envs/datascience/lib/python3.9/site-packages/sklearn/utils/validation.py\", line 114, in _assert_all_finite\n",
      "    raise ValueError(\n",
      "ValueError: Input contains NaN, infinity or a value too large for dtype('float32').\n",
      "\n",
      "  warnings.warn(\n",
      "/Users/boteejiangwork/miniforge3/envs/datascience/lib/python3.9/site-packages/xgboost/data.py:262: FutureWarning: pandas.Int64Index is deprecated and will be removed from pandas in a future version. Use pandas.Index with the appropriate dtype instead.\n",
      "  elif isinstance(data.columns, (pd.Int64Index, pd.RangeIndex)):\n",
      "/Users/boteejiangwork/miniforge3/envs/datascience/lib/python3.9/site-packages/sklearn/model_selection/_validation.py:770: UserWarning: Scoring failed. The score on this train-test partition for these parameters will be set to nan. Details: \n",
      "Traceback (most recent call last):\n",
      "  File \"/Users/boteejiangwork/miniforge3/envs/datascience/lib/python3.9/site-packages/sklearn/model_selection/_validation.py\", line 761, in _score\n",
      "    scores = scorer(estimator, X_test, y_test)\n",
      "  File \"/Users/boteejiangwork/miniforge3/envs/datascience/lib/python3.9/site-packages/sklearn/metrics/_scorer.py\", line 216, in __call__\n",
      "    return self._score(\n",
      "  File \"/Users/boteejiangwork/miniforge3/envs/datascience/lib/python3.9/site-packages/sklearn/metrics/_scorer.py\", line 264, in _score\n",
      "    return self._sign * self._score_func(y_true, y_pred, **self._kwargs)\n",
      "  File \"/Users/boteejiangwork/miniforge3/envs/datascience/lib/python3.9/site-packages/sklearn/metrics/_regression.py\", line 438, in mean_squared_error\n",
      "    y_type, y_true, y_pred, multioutput = _check_reg_targets(\n",
      "  File \"/Users/boteejiangwork/miniforge3/envs/datascience/lib/python3.9/site-packages/sklearn/metrics/_regression.py\", line 96, in _check_reg_targets\n",
      "    y_pred = check_array(y_pred, ensure_2d=False, dtype=dtype)\n",
      "  File \"/Users/boteejiangwork/miniforge3/envs/datascience/lib/python3.9/site-packages/sklearn/utils/validation.py\", line 800, in check_array\n",
      "    _assert_all_finite(array, allow_nan=force_all_finite == \"allow-nan\")\n",
      "  File \"/Users/boteejiangwork/miniforge3/envs/datascience/lib/python3.9/site-packages/sklearn/utils/validation.py\", line 114, in _assert_all_finite\n",
      "    raise ValueError(\n",
      "ValueError: Input contains NaN, infinity or a value too large for dtype('float32').\n",
      "\n",
      "  warnings.warn(\n",
      "/Users/boteejiangwork/miniforge3/envs/datascience/lib/python3.9/site-packages/sklearn/model_selection/_validation.py:770: UserWarning: Scoring failed. The score on this train-test partition for these parameters will be set to nan. Details: \n",
      "Traceback (most recent call last):\n",
      "  File \"/Users/boteejiangwork/miniforge3/envs/datascience/lib/python3.9/site-packages/sklearn/model_selection/_validation.py\", line 761, in _score\n",
      "    scores = scorer(estimator, X_test, y_test)\n",
      "  File \"/Users/boteejiangwork/miniforge3/envs/datascience/lib/python3.9/site-packages/sklearn/metrics/_scorer.py\", line 216, in __call__\n",
      "    return self._score(\n",
      "  File \"/Users/boteejiangwork/miniforge3/envs/datascience/lib/python3.9/site-packages/sklearn/metrics/_scorer.py\", line 264, in _score\n",
      "    return self._sign * self._score_func(y_true, y_pred, **self._kwargs)\n",
      "  File \"/Users/boteejiangwork/miniforge3/envs/datascience/lib/python3.9/site-packages/sklearn/metrics/_regression.py\", line 438, in mean_squared_error\n",
      "    y_type, y_true, y_pred, multioutput = _check_reg_targets(\n",
      "  File \"/Users/boteejiangwork/miniforge3/envs/datascience/lib/python3.9/site-packages/sklearn/metrics/_regression.py\", line 96, in _check_reg_targets\n",
      "    y_pred = check_array(y_pred, ensure_2d=False, dtype=dtype)\n",
      "  File \"/Users/boteejiangwork/miniforge3/envs/datascience/lib/python3.9/site-packages/sklearn/utils/validation.py\", line 800, in check_array\n",
      "    _assert_all_finite(array, allow_nan=force_all_finite == \"allow-nan\")\n",
      "  File \"/Users/boteejiangwork/miniforge3/envs/datascience/lib/python3.9/site-packages/sklearn/utils/validation.py\", line 114, in _assert_all_finite\n",
      "    raise ValueError(\n",
      "ValueError: Input contains NaN, infinity or a value too large for dtype('float32').\n",
      "\n",
      "  warnings.warn(\n",
      "/Users/boteejiangwork/miniforge3/envs/datascience/lib/python3.9/site-packages/xgboost/data.py:262: FutureWarning: pandas.Int64Index is deprecated and will be removed from pandas in a future version. Use pandas.Index with the appropriate dtype instead.\n",
      "  elif isinstance(data.columns, (pd.Int64Index, pd.RangeIndex)):\n",
      "/Users/boteejiangwork/miniforge3/envs/datascience/lib/python3.9/site-packages/xgboost/data.py:262: FutureWarning: pandas.Int64Index is deprecated and will be removed from pandas in a future version. Use pandas.Index with the appropriate dtype instead.\n",
      "  elif isinstance(data.columns, (pd.Int64Index, pd.RangeIndex)):\n",
      "/Users/boteejiangwork/miniforge3/envs/datascience/lib/python3.9/site-packages/xgboost/data.py:262: FutureWarning: pandas.Int64Index is deprecated and will be removed from pandas in a future version. Use pandas.Index with the appropriate dtype instead.\n",
      "  elif isinstance(data.columns, (pd.Int64Index, pd.RangeIndex)):\n",
      "/Users/boteejiangwork/miniforge3/envs/datascience/lib/python3.9/site-packages/xgboost/data.py:262: FutureWarning: pandas.Int64Index is deprecated and will be removed from pandas in a future version. Use pandas.Index with the appropriate dtype instead.\n",
      "  elif isinstance(data.columns, (pd.Int64Index, pd.RangeIndex)):\n",
      "/Users/boteejiangwork/miniforge3/envs/datascience/lib/python3.9/site-packages/xgboost/data.py:262: FutureWarning: pandas.Int64Index is deprecated and will be removed from pandas in a future version. Use pandas.Index with the appropriate dtype instead.\n",
      "  elif isinstance(data.columns, (pd.Int64Index, pd.RangeIndex)):\n",
      "/Users/boteejiangwork/miniforge3/envs/datascience/lib/python3.9/site-packages/xgboost/data.py:262: FutureWarning: pandas.Int64Index is deprecated and will be removed from pandas in a future version. Use pandas.Index with the appropriate dtype instead.\n",
      "  elif isinstance(data.columns, (pd.Int64Index, pd.RangeIndex)):\n",
      "/Users/boteejiangwork/miniforge3/envs/datascience/lib/python3.9/site-packages/xgboost/data.py:262: FutureWarning: pandas.Int64Index is deprecated and will be removed from pandas in a future version. Use pandas.Index with the appropriate dtype instead.\n",
      "  elif isinstance(data.columns, (pd.Int64Index, pd.RangeIndex)):\n",
      "/Users/boteejiangwork/miniforge3/envs/datascience/lib/python3.9/site-packages/sklearn/model_selection/_validation.py:770: UserWarning: Scoring failed. The score on this train-test partition for these parameters will be set to nan. Details: \n",
      "Traceback (most recent call last):\n",
      "  File \"/Users/boteejiangwork/miniforge3/envs/datascience/lib/python3.9/site-packages/sklearn/model_selection/_validation.py\", line 761, in _score\n",
      "    scores = scorer(estimator, X_test, y_test)\n",
      "  File \"/Users/boteejiangwork/miniforge3/envs/datascience/lib/python3.9/site-packages/sklearn/metrics/_scorer.py\", line 216, in __call__\n",
      "    return self._score(\n",
      "  File \"/Users/boteejiangwork/miniforge3/envs/datascience/lib/python3.9/site-packages/sklearn/metrics/_scorer.py\", line 264, in _score\n",
      "    return self._sign * self._score_func(y_true, y_pred, **self._kwargs)\n",
      "  File \"/Users/boteejiangwork/miniforge3/envs/datascience/lib/python3.9/site-packages/sklearn/metrics/_regression.py\", line 438, in mean_squared_error\n",
      "    y_type, y_true, y_pred, multioutput = _check_reg_targets(\n",
      "  File \"/Users/boteejiangwork/miniforge3/envs/datascience/lib/python3.9/site-packages/sklearn/metrics/_regression.py\", line 96, in _check_reg_targets\n",
      "    y_pred = check_array(y_pred, ensure_2d=False, dtype=dtype)\n",
      "  File \"/Users/boteejiangwork/miniforge3/envs/datascience/lib/python3.9/site-packages/sklearn/utils/validation.py\", line 800, in check_array\n",
      "    _assert_all_finite(array, allow_nan=force_all_finite == \"allow-nan\")\n",
      "  File \"/Users/boteejiangwork/miniforge3/envs/datascience/lib/python3.9/site-packages/sklearn/utils/validation.py\", line 114, in _assert_all_finite\n",
      "    raise ValueError(\n",
      "ValueError: Input contains NaN, infinity or a value too large for dtype('float32').\n",
      "\n",
      "  warnings.warn(\n",
      "/Users/boteejiangwork/miniforge3/envs/datascience/lib/python3.9/site-packages/sklearn/model_selection/_validation.py:770: UserWarning: Scoring failed. The score on this train-test partition for these parameters will be set to nan. Details: \n",
      "Traceback (most recent call last):\n",
      "  File \"/Users/boteejiangwork/miniforge3/envs/datascience/lib/python3.9/site-packages/sklearn/model_selection/_validation.py\", line 761, in _score\n",
      "    scores = scorer(estimator, X_test, y_test)\n",
      "  File \"/Users/boteejiangwork/miniforge3/envs/datascience/lib/python3.9/site-packages/sklearn/metrics/_scorer.py\", line 216, in __call__\n",
      "    return self._score(\n",
      "  File \"/Users/boteejiangwork/miniforge3/envs/datascience/lib/python3.9/site-packages/sklearn/metrics/_scorer.py\", line 264, in _score\n",
      "    return self._sign * self._score_func(y_true, y_pred, **self._kwargs)\n",
      "  File \"/Users/boteejiangwork/miniforge3/envs/datascience/lib/python3.9/site-packages/sklearn/metrics/_regression.py\", line 438, in mean_squared_error\n",
      "    y_type, y_true, y_pred, multioutput = _check_reg_targets(\n",
      "  File \"/Users/boteejiangwork/miniforge3/envs/datascience/lib/python3.9/site-packages/sklearn/metrics/_regression.py\", line 96, in _check_reg_targets\n",
      "    y_pred = check_array(y_pred, ensure_2d=False, dtype=dtype)\n",
      "  File \"/Users/boteejiangwork/miniforge3/envs/datascience/lib/python3.9/site-packages/sklearn/utils/validation.py\", line 800, in check_array\n",
      "    _assert_all_finite(array, allow_nan=force_all_finite == \"allow-nan\")\n",
      "  File \"/Users/boteejiangwork/miniforge3/envs/datascience/lib/python3.9/site-packages/sklearn/utils/validation.py\", line 114, in _assert_all_finite\n",
      "    raise ValueError(\n",
      "ValueError: Input contains NaN, infinity or a value too large for dtype('float32').\n",
      "\n",
      "  warnings.warn(\n",
      "/Users/boteejiangwork/miniforge3/envs/datascience/lib/python3.9/site-packages/xgboost/data.py:262: FutureWarning: pandas.Int64Index is deprecated and will be removed from pandas in a future version. Use pandas.Index with the appropriate dtype instead.\n",
      "  elif isinstance(data.columns, (pd.Int64Index, pd.RangeIndex)):\n",
      "/Users/boteejiangwork/miniforge3/envs/datascience/lib/python3.9/site-packages/xgboost/data.py:262: FutureWarning: pandas.Int64Index is deprecated and will be removed from pandas in a future version. Use pandas.Index with the appropriate dtype instead.\n",
      "  elif isinstance(data.columns, (pd.Int64Index, pd.RangeIndex)):\n",
      "/Users/boteejiangwork/miniforge3/envs/datascience/lib/python3.9/site-packages/sklearn/model_selection/_validation.py:770: UserWarning: Scoring failed. The score on this train-test partition for these parameters will be set to nan. Details: \n",
      "Traceback (most recent call last):\n",
      "  File \"/Users/boteejiangwork/miniforge3/envs/datascience/lib/python3.9/site-packages/sklearn/model_selection/_validation.py\", line 761, in _score\n",
      "    scores = scorer(estimator, X_test, y_test)\n",
      "  File \"/Users/boteejiangwork/miniforge3/envs/datascience/lib/python3.9/site-packages/sklearn/metrics/_scorer.py\", line 216, in __call__\n",
      "    return self._score(\n",
      "  File \"/Users/boteejiangwork/miniforge3/envs/datascience/lib/python3.9/site-packages/sklearn/metrics/_scorer.py\", line 264, in _score\n",
      "    return self._sign * self._score_func(y_true, y_pred, **self._kwargs)\n",
      "  File \"/Users/boteejiangwork/miniforge3/envs/datascience/lib/python3.9/site-packages/sklearn/metrics/_regression.py\", line 438, in mean_squared_error\n",
      "    y_type, y_true, y_pred, multioutput = _check_reg_targets(\n",
      "  File \"/Users/boteejiangwork/miniforge3/envs/datascience/lib/python3.9/site-packages/sklearn/metrics/_regression.py\", line 96, in _check_reg_targets\n",
      "    y_pred = check_array(y_pred, ensure_2d=False, dtype=dtype)\n",
      "  File \"/Users/boteejiangwork/miniforge3/envs/datascience/lib/python3.9/site-packages/sklearn/utils/validation.py\", line 800, in check_array\n",
      "    _assert_all_finite(array, allow_nan=force_all_finite == \"allow-nan\")\n",
      "  File \"/Users/boteejiangwork/miniforge3/envs/datascience/lib/python3.9/site-packages/sklearn/utils/validation.py\", line 114, in _assert_all_finite\n",
      "    raise ValueError(\n",
      "ValueError: Input contains NaN, infinity or a value too large for dtype('float32').\n",
      "\n",
      "  warnings.warn(\n",
      "/Users/boteejiangwork/miniforge3/envs/datascience/lib/python3.9/site-packages/xgboost/data.py:262: FutureWarning: pandas.Int64Index is deprecated and will be removed from pandas in a future version. Use pandas.Index with the appropriate dtype instead.\n",
      "  elif isinstance(data.columns, (pd.Int64Index, pd.RangeIndex)):\n",
      "/Users/boteejiangwork/miniforge3/envs/datascience/lib/python3.9/site-packages/sklearn/model_selection/_validation.py:770: UserWarning: Scoring failed. The score on this train-test partition for these parameters will be set to nan. Details: \n",
      "Traceback (most recent call last):\n",
      "  File \"/Users/boteejiangwork/miniforge3/envs/datascience/lib/python3.9/site-packages/sklearn/model_selection/_validation.py\", line 761, in _score\n",
      "    scores = scorer(estimator, X_test, y_test)\n",
      "  File \"/Users/boteejiangwork/miniforge3/envs/datascience/lib/python3.9/site-packages/sklearn/metrics/_scorer.py\", line 216, in __call__\n",
      "    return self._score(\n",
      "  File \"/Users/boteejiangwork/miniforge3/envs/datascience/lib/python3.9/site-packages/sklearn/metrics/_scorer.py\", line 264, in _score\n",
      "    return self._sign * self._score_func(y_true, y_pred, **self._kwargs)\n",
      "  File \"/Users/boteejiangwork/miniforge3/envs/datascience/lib/python3.9/site-packages/sklearn/metrics/_regression.py\", line 438, in mean_squared_error\n",
      "    y_type, y_true, y_pred, multioutput = _check_reg_targets(\n",
      "  File \"/Users/boteejiangwork/miniforge3/envs/datascience/lib/python3.9/site-packages/sklearn/metrics/_regression.py\", line 96, in _check_reg_targets\n",
      "    y_pred = check_array(y_pred, ensure_2d=False, dtype=dtype)\n",
      "  File \"/Users/boteejiangwork/miniforge3/envs/datascience/lib/python3.9/site-packages/sklearn/utils/validation.py\", line 800, in check_array\n",
      "    _assert_all_finite(array, allow_nan=force_all_finite == \"allow-nan\")\n",
      "  File \"/Users/boteejiangwork/miniforge3/envs/datascience/lib/python3.9/site-packages/sklearn/utils/validation.py\", line 114, in _assert_all_finite\n",
      "    raise ValueError(\n",
      "ValueError: Input contains NaN, infinity or a value too large for dtype('float32').\n",
      "\n",
      "  warnings.warn(\n",
      "/Users/boteejiangwork/miniforge3/envs/datascience/lib/python3.9/site-packages/xgboost/data.py:262: FutureWarning: pandas.Int64Index is deprecated and will be removed from pandas in a future version. Use pandas.Index with the appropriate dtype instead.\n",
      "  elif isinstance(data.columns, (pd.Int64Index, pd.RangeIndex)):\n",
      "/Users/boteejiangwork/miniforge3/envs/datascience/lib/python3.9/site-packages/sklearn/model_selection/_validation.py:770: UserWarning: Scoring failed. The score on this train-test partition for these parameters will be set to nan. Details: \n",
      "Traceback (most recent call last):\n",
      "  File \"/Users/boteejiangwork/miniforge3/envs/datascience/lib/python3.9/site-packages/sklearn/model_selection/_validation.py\", line 761, in _score\n",
      "    scores = scorer(estimator, X_test, y_test)\n",
      "  File \"/Users/boteejiangwork/miniforge3/envs/datascience/lib/python3.9/site-packages/sklearn/metrics/_scorer.py\", line 216, in __call__\n",
      "    return self._score(\n",
      "  File \"/Users/boteejiangwork/miniforge3/envs/datascience/lib/python3.9/site-packages/sklearn/metrics/_scorer.py\", line 264, in _score\n",
      "    return self._sign * self._score_func(y_true, y_pred, **self._kwargs)\n",
      "  File \"/Users/boteejiangwork/miniforge3/envs/datascience/lib/python3.9/site-packages/sklearn/metrics/_regression.py\", line 438, in mean_squared_error\n",
      "    y_type, y_true, y_pred, multioutput = _check_reg_targets(\n",
      "  File \"/Users/boteejiangwork/miniforge3/envs/datascience/lib/python3.9/site-packages/sklearn/metrics/_regression.py\", line 96, in _check_reg_targets\n",
      "    y_pred = check_array(y_pred, ensure_2d=False, dtype=dtype)\n",
      "  File \"/Users/boteejiangwork/miniforge3/envs/datascience/lib/python3.9/site-packages/sklearn/utils/validation.py\", line 800, in check_array\n",
      "    _assert_all_finite(array, allow_nan=force_all_finite == \"allow-nan\")\n",
      "  File \"/Users/boteejiangwork/miniforge3/envs/datascience/lib/python3.9/site-packages/sklearn/utils/validation.py\", line 114, in _assert_all_finite\n",
      "    raise ValueError(\n",
      "ValueError: Input contains NaN, infinity or a value too large for dtype('float32').\n",
      "\n",
      "  warnings.warn(\n",
      "/Users/boteejiangwork/miniforge3/envs/datascience/lib/python3.9/site-packages/xgboost/data.py:262: FutureWarning: pandas.Int64Index is deprecated and will be removed from pandas in a future version. Use pandas.Index with the appropriate dtype instead.\n",
      "  elif isinstance(data.columns, (pd.Int64Index, pd.RangeIndex)):\n",
      "/Users/boteejiangwork/miniforge3/envs/datascience/lib/python3.9/site-packages/xgboost/data.py:262: FutureWarning: pandas.Int64Index is deprecated and will be removed from pandas in a future version. Use pandas.Index with the appropriate dtype instead.\n",
      "  elif isinstance(data.columns, (pd.Int64Index, pd.RangeIndex)):\n",
      "/Users/boteejiangwork/miniforge3/envs/datascience/lib/python3.9/site-packages/xgboost/data.py:262: FutureWarning: pandas.Int64Index is deprecated and will be removed from pandas in a future version. Use pandas.Index with the appropriate dtype instead.\n",
      "  elif isinstance(data.columns, (pd.Int64Index, pd.RangeIndex)):\n",
      "/Users/boteejiangwork/miniforge3/envs/datascience/lib/python3.9/site-packages/xgboost/data.py:262: FutureWarning: pandas.Int64Index is deprecated and will be removed from pandas in a future version. Use pandas.Index with the appropriate dtype instead.\n",
      "  elif isinstance(data.columns, (pd.Int64Index, pd.RangeIndex)):\n",
      "/Users/boteejiangwork/miniforge3/envs/datascience/lib/python3.9/site-packages/xgboost/data.py:262: FutureWarning: pandas.Int64Index is deprecated and will be removed from pandas in a future version. Use pandas.Index with the appropriate dtype instead.\n",
      "  elif isinstance(data.columns, (pd.Int64Index, pd.RangeIndex)):\n",
      "/Users/boteejiangwork/miniforge3/envs/datascience/lib/python3.9/site-packages/xgboost/data.py:262: FutureWarning: pandas.Int64Index is deprecated and will be removed from pandas in a future version. Use pandas.Index with the appropriate dtype instead.\n",
      "  elif isinstance(data.columns, (pd.Int64Index, pd.RangeIndex)):\n",
      "/Users/boteejiangwork/miniforge3/envs/datascience/lib/python3.9/site-packages/xgboost/data.py:262: FutureWarning: pandas.Int64Index is deprecated and will be removed from pandas in a future version. Use pandas.Index with the appropriate dtype instead.\n",
      "  elif isinstance(data.columns, (pd.Int64Index, pd.RangeIndex)):\n",
      "/Users/boteejiangwork/miniforge3/envs/datascience/lib/python3.9/site-packages/xgboost/data.py:262: FutureWarning: pandas.Int64Index is deprecated and will be removed from pandas in a future version. Use pandas.Index with the appropriate dtype instead.\n",
      "  elif isinstance(data.columns, (pd.Int64Index, pd.RangeIndex)):\n",
      "/Users/boteejiangwork/miniforge3/envs/datascience/lib/python3.9/site-packages/xgboost/data.py:262: FutureWarning: pandas.Int64Index is deprecated and will be removed from pandas in a future version. Use pandas.Index with the appropriate dtype instead.\n",
      "  elif isinstance(data.columns, (pd.Int64Index, pd.RangeIndex)):\n",
      "/Users/boteejiangwork/miniforge3/envs/datascience/lib/python3.9/site-packages/xgboost/data.py:262: FutureWarning: pandas.Int64Index is deprecated and will be removed from pandas in a future version. Use pandas.Index with the appropriate dtype instead.\n",
      "  elif isinstance(data.columns, (pd.Int64Index, pd.RangeIndex)):\n",
      "/Users/boteejiangwork/miniforge3/envs/datascience/lib/python3.9/site-packages/xgboost/data.py:262: FutureWarning: pandas.Int64Index is deprecated and will be removed from pandas in a future version. Use pandas.Index with the appropriate dtype instead.\n",
      "  elif isinstance(data.columns, (pd.Int64Index, pd.RangeIndex)):\n",
      "/Users/boteejiangwork/miniforge3/envs/datascience/lib/python3.9/site-packages/xgboost/data.py:262: FutureWarning: pandas.Int64Index is deprecated and will be removed from pandas in a future version. Use pandas.Index with the appropriate dtype instead.\n",
      "  elif isinstance(data.columns, (pd.Int64Index, pd.RangeIndex)):\n",
      "/Users/boteejiangwork/miniforge3/envs/datascience/lib/python3.9/site-packages/xgboost/data.py:262: FutureWarning: pandas.Int64Index is deprecated and will be removed from pandas in a future version. Use pandas.Index with the appropriate dtype instead.\n",
      "  elif isinstance(data.columns, (pd.Int64Index, pd.RangeIndex)):\n",
      "/Users/boteejiangwork/miniforge3/envs/datascience/lib/python3.9/site-packages/xgboost/data.py:262: FutureWarning: pandas.Int64Index is deprecated and will be removed from pandas in a future version. Use pandas.Index with the appropriate dtype instead.\n",
      "  elif isinstance(data.columns, (pd.Int64Index, pd.RangeIndex)):\n",
      "/Users/boteejiangwork/miniforge3/envs/datascience/lib/python3.9/site-packages/xgboost/data.py:262: FutureWarning: pandas.Int64Index is deprecated and will be removed from pandas in a future version. Use pandas.Index with the appropriate dtype instead.\n",
      "  elif isinstance(data.columns, (pd.Int64Index, pd.RangeIndex)):\n",
      "/Users/boteejiangwork/miniforge3/envs/datascience/lib/python3.9/site-packages/xgboost/data.py:262: FutureWarning: pandas.Int64Index is deprecated and will be removed from pandas in a future version. Use pandas.Index with the appropriate dtype instead.\n",
      "  elif isinstance(data.columns, (pd.Int64Index, pd.RangeIndex)):\n",
      "/Users/boteejiangwork/miniforge3/envs/datascience/lib/python3.9/site-packages/xgboost/data.py:262: FutureWarning: pandas.Int64Index is deprecated and will be removed from pandas in a future version. Use pandas.Index with the appropriate dtype instead.\n",
      "  elif isinstance(data.columns, (pd.Int64Index, pd.RangeIndex)):\n",
      "/Users/boteejiangwork/miniforge3/envs/datascience/lib/python3.9/site-packages/xgboost/data.py:262: FutureWarning: pandas.Int64Index is deprecated and will be removed from pandas in a future version. Use pandas.Index with the appropriate dtype instead.\n",
      "  elif isinstance(data.columns, (pd.Int64Index, pd.RangeIndex)):\n",
      "/Users/boteejiangwork/miniforge3/envs/datascience/lib/python3.9/site-packages/xgboost/data.py:262: FutureWarning: pandas.Int64Index is deprecated and will be removed from pandas in a future version. Use pandas.Index with the appropriate dtype instead.\n",
      "  elif isinstance(data.columns, (pd.Int64Index, pd.RangeIndex)):\n",
      "/Users/boteejiangwork/miniforge3/envs/datascience/lib/python3.9/site-packages/xgboost/data.py:262: FutureWarning: pandas.Int64Index is deprecated and will be removed from pandas in a future version. Use pandas.Index with the appropriate dtype instead.\n",
      "  elif isinstance(data.columns, (pd.Int64Index, pd.RangeIndex)):\n",
      "/Users/boteejiangwork/miniforge3/envs/datascience/lib/python3.9/site-packages/xgboost/data.py:262: FutureWarning: pandas.Int64Index is deprecated and will be removed from pandas in a future version. Use pandas.Index with the appropriate dtype instead.\n",
      "  elif isinstance(data.columns, (pd.Int64Index, pd.RangeIndex)):\n",
      "/Users/boteejiangwork/miniforge3/envs/datascience/lib/python3.9/site-packages/xgboost/data.py:262: FutureWarning: pandas.Int64Index is deprecated and will be removed from pandas in a future version. Use pandas.Index with the appropriate dtype instead.\n",
      "  elif isinstance(data.columns, (pd.Int64Index, pd.RangeIndex)):\n",
      "/Users/boteejiangwork/miniforge3/envs/datascience/lib/python3.9/site-packages/xgboost/data.py:262: FutureWarning: pandas.Int64Index is deprecated and will be removed from pandas in a future version. Use pandas.Index with the appropriate dtype instead.\n",
      "  elif isinstance(data.columns, (pd.Int64Index, pd.RangeIndex)):\n",
      "/Users/boteejiangwork/miniforge3/envs/datascience/lib/python3.9/site-packages/xgboost/data.py:262: FutureWarning: pandas.Int64Index is deprecated and will be removed from pandas in a future version. Use pandas.Index with the appropriate dtype instead.\n",
      "  elif isinstance(data.columns, (pd.Int64Index, pd.RangeIndex)):\n",
      "/Users/boteejiangwork/miniforge3/envs/datascience/lib/python3.9/site-packages/xgboost/data.py:262: FutureWarning: pandas.Int64Index is deprecated and will be removed from pandas in a future version. Use pandas.Index with the appropriate dtype instead.\n",
      "  elif isinstance(data.columns, (pd.Int64Index, pd.RangeIndex)):\n",
      "/Users/boteejiangwork/miniforge3/envs/datascience/lib/python3.9/site-packages/xgboost/data.py:262: FutureWarning: pandas.Int64Index is deprecated and will be removed from pandas in a future version. Use pandas.Index with the appropriate dtype instead.\n",
      "  elif isinstance(data.columns, (pd.Int64Index, pd.RangeIndex)):\n",
      "/Users/boteejiangwork/miniforge3/envs/datascience/lib/python3.9/site-packages/xgboost/data.py:262: FutureWarning: pandas.Int64Index is deprecated and will be removed from pandas in a future version. Use pandas.Index with the appropriate dtype instead.\n",
      "  elif isinstance(data.columns, (pd.Int64Index, pd.RangeIndex)):\n",
      "/Users/boteejiangwork/miniforge3/envs/datascience/lib/python3.9/site-packages/xgboost/data.py:262: FutureWarning: pandas.Int64Index is deprecated and will be removed from pandas in a future version. Use pandas.Index with the appropriate dtype instead.\n",
      "  elif isinstance(data.columns, (pd.Int64Index, pd.RangeIndex)):\n",
      "/Users/boteejiangwork/miniforge3/envs/datascience/lib/python3.9/site-packages/xgboost/data.py:262: FutureWarning: pandas.Int64Index is deprecated and will be removed from pandas in a future version. Use pandas.Index with the appropriate dtype instead.\n",
      "  elif isinstance(data.columns, (pd.Int64Index, pd.RangeIndex)):\n",
      "/Users/boteejiangwork/miniforge3/envs/datascience/lib/python3.9/site-packages/xgboost/data.py:262: FutureWarning: pandas.Int64Index is deprecated and will be removed from pandas in a future version. Use pandas.Index with the appropriate dtype instead.\n",
      "  elif isinstance(data.columns, (pd.Int64Index, pd.RangeIndex)):\n",
      "/Users/boteejiangwork/miniforge3/envs/datascience/lib/python3.9/site-packages/xgboost/data.py:262: FutureWarning: pandas.Int64Index is deprecated and will be removed from pandas in a future version. Use pandas.Index with the appropriate dtype instead.\n",
      "  elif isinstance(data.columns, (pd.Int64Index, pd.RangeIndex)):\n",
      "/Users/boteejiangwork/miniforge3/envs/datascience/lib/python3.9/site-packages/xgboost/data.py:262: FutureWarning: pandas.Int64Index is deprecated and will be removed from pandas in a future version. Use pandas.Index with the appropriate dtype instead.\n",
      "  elif isinstance(data.columns, (pd.Int64Index, pd.RangeIndex)):\n",
      "/Users/boteejiangwork/miniforge3/envs/datascience/lib/python3.9/site-packages/xgboost/data.py:262: FutureWarning: pandas.Int64Index is deprecated and will be removed from pandas in a future version. Use pandas.Index with the appropriate dtype instead.\n",
      "  elif isinstance(data.columns, (pd.Int64Index, pd.RangeIndex)):\n",
      "/Users/boteejiangwork/miniforge3/envs/datascience/lib/python3.9/site-packages/xgboost/data.py:262: FutureWarning: pandas.Int64Index is deprecated and will be removed from pandas in a future version. Use pandas.Index with the appropriate dtype instead.\n",
      "  elif isinstance(data.columns, (pd.Int64Index, pd.RangeIndex)):\n",
      "/Users/boteejiangwork/miniforge3/envs/datascience/lib/python3.9/site-packages/xgboost/data.py:262: FutureWarning: pandas.Int64Index is deprecated and will be removed from pandas in a future version. Use pandas.Index with the appropriate dtype instead.\n",
      "  elif isinstance(data.columns, (pd.Int64Index, pd.RangeIndex)):\n",
      "/Users/boteejiangwork/miniforge3/envs/datascience/lib/python3.9/site-packages/xgboost/data.py:262: FutureWarning: pandas.Int64Index is deprecated and will be removed from pandas in a future version. Use pandas.Index with the appropriate dtype instead.\n",
      "  elif isinstance(data.columns, (pd.Int64Index, pd.RangeIndex)):\n",
      "/Users/boteejiangwork/miniforge3/envs/datascience/lib/python3.9/site-packages/xgboost/data.py:262: FutureWarning: pandas.Int64Index is deprecated and will be removed from pandas in a future version. Use pandas.Index with the appropriate dtype instead.\n",
      "  elif isinstance(data.columns, (pd.Int64Index, pd.RangeIndex)):\n",
      "/Users/boteejiangwork/miniforge3/envs/datascience/lib/python3.9/site-packages/xgboost/data.py:262: FutureWarning: pandas.Int64Index is deprecated and will be removed from pandas in a future version. Use pandas.Index with the appropriate dtype instead.\n",
      "  elif isinstance(data.columns, (pd.Int64Index, pd.RangeIndex)):\n",
      "/Users/boteejiangwork/miniforge3/envs/datascience/lib/python3.9/site-packages/xgboost/data.py:262: FutureWarning: pandas.Int64Index is deprecated and will be removed from pandas in a future version. Use pandas.Index with the appropriate dtype instead.\n",
      "  elif isinstance(data.columns, (pd.Int64Index, pd.RangeIndex)):\n",
      "/Users/boteejiangwork/miniforge3/envs/datascience/lib/python3.9/site-packages/xgboost/data.py:262: FutureWarning: pandas.Int64Index is deprecated and will be removed from pandas in a future version. Use pandas.Index with the appropriate dtype instead.\n",
      "  elif isinstance(data.columns, (pd.Int64Index, pd.RangeIndex)):\n",
      "/Users/boteejiangwork/miniforge3/envs/datascience/lib/python3.9/site-packages/xgboost/data.py:262: FutureWarning: pandas.Int64Index is deprecated and will be removed from pandas in a future version. Use pandas.Index with the appropriate dtype instead.\n",
      "  elif isinstance(data.columns, (pd.Int64Index, pd.RangeIndex)):\n",
      "/Users/boteejiangwork/miniforge3/envs/datascience/lib/python3.9/site-packages/xgboost/data.py:262: FutureWarning: pandas.Int64Index is deprecated and will be removed from pandas in a future version. Use pandas.Index with the appropriate dtype instead.\n",
      "  elif isinstance(data.columns, (pd.Int64Index, pd.RangeIndex)):\n",
      "/Users/boteejiangwork/miniforge3/envs/datascience/lib/python3.9/site-packages/xgboost/data.py:262: FutureWarning: pandas.Int64Index is deprecated and will be removed from pandas in a future version. Use pandas.Index with the appropriate dtype instead.\n",
      "  elif isinstance(data.columns, (pd.Int64Index, pd.RangeIndex)):\n",
      "/Users/boteejiangwork/miniforge3/envs/datascience/lib/python3.9/site-packages/xgboost/data.py:262: FutureWarning: pandas.Int64Index is deprecated and will be removed from pandas in a future version. Use pandas.Index with the appropriate dtype instead.\n",
      "  elif isinstance(data.columns, (pd.Int64Index, pd.RangeIndex)):\n",
      "/Users/boteejiangwork/miniforge3/envs/datascience/lib/python3.9/site-packages/xgboost/data.py:262: FutureWarning: pandas.Int64Index is deprecated and will be removed from pandas in a future version. Use pandas.Index with the appropriate dtype instead.\n",
      "  elif isinstance(data.columns, (pd.Int64Index, pd.RangeIndex)):\n",
      "/Users/boteejiangwork/miniforge3/envs/datascience/lib/python3.9/site-packages/xgboost/data.py:262: FutureWarning: pandas.Int64Index is deprecated and will be removed from pandas in a future version. Use pandas.Index with the appropriate dtype instead.\n",
      "  elif isinstance(data.columns, (pd.Int64Index, pd.RangeIndex)):\n",
      "/Users/boteejiangwork/miniforge3/envs/datascience/lib/python3.9/site-packages/xgboost/data.py:262: FutureWarning: pandas.Int64Index is deprecated and will be removed from pandas in a future version. Use pandas.Index with the appropriate dtype instead.\n",
      "  elif isinstance(data.columns, (pd.Int64Index, pd.RangeIndex)):\n",
      "/Users/boteejiangwork/miniforge3/envs/datascience/lib/python3.9/site-packages/xgboost/data.py:262: FutureWarning: pandas.Int64Index is deprecated and will be removed from pandas in a future version. Use pandas.Index with the appropriate dtype instead.\n",
      "  elif isinstance(data.columns, (pd.Int64Index, pd.RangeIndex)):\n",
      "/Users/boteejiangwork/miniforge3/envs/datascience/lib/python3.9/site-packages/xgboost/data.py:262: FutureWarning: pandas.Int64Index is deprecated and will be removed from pandas in a future version. Use pandas.Index with the appropriate dtype instead.\n",
      "  elif isinstance(data.columns, (pd.Int64Index, pd.RangeIndex)):\n",
      "/Users/boteejiangwork/miniforge3/envs/datascience/lib/python3.9/site-packages/xgboost/data.py:262: FutureWarning: pandas.Int64Index is deprecated and will be removed from pandas in a future version. Use pandas.Index with the appropriate dtype instead.\n",
      "  elif isinstance(data.columns, (pd.Int64Index, pd.RangeIndex)):\n",
      "/Users/boteejiangwork/miniforge3/envs/datascience/lib/python3.9/site-packages/xgboost/data.py:262: FutureWarning: pandas.Int64Index is deprecated and will be removed from pandas in a future version. Use pandas.Index with the appropriate dtype instead.\n",
      "  elif isinstance(data.columns, (pd.Int64Index, pd.RangeIndex)):\n",
      "/Users/boteejiangwork/miniforge3/envs/datascience/lib/python3.9/site-packages/sklearn/model_selection/_validation.py:770: UserWarning: Scoring failed. The score on this train-test partition for these parameters will be set to nan. Details: \n",
      "Traceback (most recent call last):\n",
      "  File \"/Users/boteejiangwork/miniforge3/envs/datascience/lib/python3.9/site-packages/sklearn/model_selection/_validation.py\", line 761, in _score\n",
      "    scores = scorer(estimator, X_test, y_test)\n",
      "  File \"/Users/boteejiangwork/miniforge3/envs/datascience/lib/python3.9/site-packages/sklearn/metrics/_scorer.py\", line 216, in __call__\n",
      "    return self._score(\n",
      "  File \"/Users/boteejiangwork/miniforge3/envs/datascience/lib/python3.9/site-packages/sklearn/metrics/_scorer.py\", line 264, in _score\n",
      "    return self._sign * self._score_func(y_true, y_pred, **self._kwargs)\n",
      "  File \"/Users/boteejiangwork/miniforge3/envs/datascience/lib/python3.9/site-packages/sklearn/metrics/_regression.py\", line 438, in mean_squared_error\n",
      "    y_type, y_true, y_pred, multioutput = _check_reg_targets(\n",
      "  File \"/Users/boteejiangwork/miniforge3/envs/datascience/lib/python3.9/site-packages/sklearn/metrics/_regression.py\", line 96, in _check_reg_targets\n",
      "    y_pred = check_array(y_pred, ensure_2d=False, dtype=dtype)\n",
      "  File \"/Users/boteejiangwork/miniforge3/envs/datascience/lib/python3.9/site-packages/sklearn/utils/validation.py\", line 800, in check_array\n",
      "    _assert_all_finite(array, allow_nan=force_all_finite == \"allow-nan\")\n",
      "  File \"/Users/boteejiangwork/miniforge3/envs/datascience/lib/python3.9/site-packages/sklearn/utils/validation.py\", line 114, in _assert_all_finite\n",
      "    raise ValueError(\n",
      "ValueError: Input contains NaN, infinity or a value too large for dtype('float32').\n",
      "\n",
      "  warnings.warn(\n",
      "/Users/boteejiangwork/miniforge3/envs/datascience/lib/python3.9/site-packages/xgboost/data.py:262: FutureWarning: pandas.Int64Index is deprecated and will be removed from pandas in a future version. Use pandas.Index with the appropriate dtype instead.\n",
      "  elif isinstance(data.columns, (pd.Int64Index, pd.RangeIndex)):\n",
      "/Users/boteejiangwork/miniforge3/envs/datascience/lib/python3.9/site-packages/sklearn/model_selection/_validation.py:770: UserWarning: Scoring failed. The score on this train-test partition for these parameters will be set to nan. Details: \n",
      "Traceback (most recent call last):\n",
      "  File \"/Users/boteejiangwork/miniforge3/envs/datascience/lib/python3.9/site-packages/sklearn/model_selection/_validation.py\", line 761, in _score\n",
      "    scores = scorer(estimator, X_test, y_test)\n",
      "  File \"/Users/boteejiangwork/miniforge3/envs/datascience/lib/python3.9/site-packages/sklearn/metrics/_scorer.py\", line 216, in __call__\n",
      "    return self._score(\n",
      "  File \"/Users/boteejiangwork/miniforge3/envs/datascience/lib/python3.9/site-packages/sklearn/metrics/_scorer.py\", line 264, in _score\n",
      "    return self._sign * self._score_func(y_true, y_pred, **self._kwargs)\n",
      "  File \"/Users/boteejiangwork/miniforge3/envs/datascience/lib/python3.9/site-packages/sklearn/metrics/_regression.py\", line 438, in mean_squared_error\n",
      "    y_type, y_true, y_pred, multioutput = _check_reg_targets(\n",
      "  File \"/Users/boteejiangwork/miniforge3/envs/datascience/lib/python3.9/site-packages/sklearn/metrics/_regression.py\", line 96, in _check_reg_targets\n",
      "    y_pred = check_array(y_pred, ensure_2d=False, dtype=dtype)\n",
      "  File \"/Users/boteejiangwork/miniforge3/envs/datascience/lib/python3.9/site-packages/sklearn/utils/validation.py\", line 800, in check_array\n",
      "    _assert_all_finite(array, allow_nan=force_all_finite == \"allow-nan\")\n",
      "  File \"/Users/boteejiangwork/miniforge3/envs/datascience/lib/python3.9/site-packages/sklearn/utils/validation.py\", line 114, in _assert_all_finite\n",
      "    raise ValueError(\n",
      "ValueError: Input contains NaN, infinity or a value too large for dtype('float32').\n",
      "\n",
      "  warnings.warn(\n",
      "/Users/boteejiangwork/miniforge3/envs/datascience/lib/python3.9/site-packages/xgboost/data.py:262: FutureWarning: pandas.Int64Index is deprecated and will be removed from pandas in a future version. Use pandas.Index with the appropriate dtype instead.\n",
      "  elif isinstance(data.columns, (pd.Int64Index, pd.RangeIndex)):\n",
      "/Users/boteejiangwork/miniforge3/envs/datascience/lib/python3.9/site-packages/sklearn/model_selection/_validation.py:770: UserWarning: Scoring failed. The score on this train-test partition for these parameters will be set to nan. Details: \n",
      "Traceback (most recent call last):\n",
      "  File \"/Users/boteejiangwork/miniforge3/envs/datascience/lib/python3.9/site-packages/sklearn/model_selection/_validation.py\", line 761, in _score\n",
      "    scores = scorer(estimator, X_test, y_test)\n",
      "  File \"/Users/boteejiangwork/miniforge3/envs/datascience/lib/python3.9/site-packages/sklearn/metrics/_scorer.py\", line 216, in __call__\n",
      "    return self._score(\n",
      "  File \"/Users/boteejiangwork/miniforge3/envs/datascience/lib/python3.9/site-packages/sklearn/metrics/_scorer.py\", line 264, in _score\n",
      "    return self._sign * self._score_func(y_true, y_pred, **self._kwargs)\n",
      "  File \"/Users/boteejiangwork/miniforge3/envs/datascience/lib/python3.9/site-packages/sklearn/metrics/_regression.py\", line 438, in mean_squared_error\n",
      "    y_type, y_true, y_pred, multioutput = _check_reg_targets(\n",
      "  File \"/Users/boteejiangwork/miniforge3/envs/datascience/lib/python3.9/site-packages/sklearn/metrics/_regression.py\", line 96, in _check_reg_targets\n",
      "    y_pred = check_array(y_pred, ensure_2d=False, dtype=dtype)\n",
      "  File \"/Users/boteejiangwork/miniforge3/envs/datascience/lib/python3.9/site-packages/sklearn/utils/validation.py\", line 800, in check_array\n",
      "    _assert_all_finite(array, allow_nan=force_all_finite == \"allow-nan\")\n",
      "  File \"/Users/boteejiangwork/miniforge3/envs/datascience/lib/python3.9/site-packages/sklearn/utils/validation.py\", line 114, in _assert_all_finite\n",
      "    raise ValueError(\n",
      "ValueError: Input contains NaN, infinity or a value too large for dtype('float32').\n",
      "\n",
      "  warnings.warn(\n",
      "/Users/boteejiangwork/miniforge3/envs/datascience/lib/python3.9/site-packages/xgboost/data.py:262: FutureWarning: pandas.Int64Index is deprecated and will be removed from pandas in a future version. Use pandas.Index with the appropriate dtype instead.\n",
      "  elif isinstance(data.columns, (pd.Int64Index, pd.RangeIndex)):\n",
      "/Users/boteejiangwork/miniforge3/envs/datascience/lib/python3.9/site-packages/sklearn/model_selection/_validation.py:770: UserWarning: Scoring failed. The score on this train-test partition for these parameters will be set to nan. Details: \n",
      "Traceback (most recent call last):\n",
      "  File \"/Users/boteejiangwork/miniforge3/envs/datascience/lib/python3.9/site-packages/sklearn/model_selection/_validation.py\", line 761, in _score\n",
      "    scores = scorer(estimator, X_test, y_test)\n",
      "  File \"/Users/boteejiangwork/miniforge3/envs/datascience/lib/python3.9/site-packages/sklearn/metrics/_scorer.py\", line 216, in __call__\n",
      "    return self._score(\n",
      "  File \"/Users/boteejiangwork/miniforge3/envs/datascience/lib/python3.9/site-packages/sklearn/metrics/_scorer.py\", line 264, in _score\n",
      "    return self._sign * self._score_func(y_true, y_pred, **self._kwargs)\n",
      "  File \"/Users/boteejiangwork/miniforge3/envs/datascience/lib/python3.9/site-packages/sklearn/metrics/_regression.py\", line 438, in mean_squared_error\n",
      "    y_type, y_true, y_pred, multioutput = _check_reg_targets(\n",
      "  File \"/Users/boteejiangwork/miniforge3/envs/datascience/lib/python3.9/site-packages/sklearn/metrics/_regression.py\", line 96, in _check_reg_targets\n",
      "    y_pred = check_array(y_pred, ensure_2d=False, dtype=dtype)\n",
      "  File \"/Users/boteejiangwork/miniforge3/envs/datascience/lib/python3.9/site-packages/sklearn/utils/validation.py\", line 800, in check_array\n",
      "    _assert_all_finite(array, allow_nan=force_all_finite == \"allow-nan\")\n",
      "  File \"/Users/boteejiangwork/miniforge3/envs/datascience/lib/python3.9/site-packages/sklearn/utils/validation.py\", line 114, in _assert_all_finite\n",
      "    raise ValueError(\n",
      "ValueError: Input contains NaN, infinity or a value too large for dtype('float32').\n",
      "\n",
      "  warnings.warn(\n",
      "/Users/boteejiangwork/miniforge3/envs/datascience/lib/python3.9/site-packages/xgboost/data.py:262: FutureWarning: pandas.Int64Index is deprecated and will be removed from pandas in a future version. Use pandas.Index with the appropriate dtype instead.\n",
      "  elif isinstance(data.columns, (pd.Int64Index, pd.RangeIndex)):\n",
      "/Users/boteejiangwork/miniforge3/envs/datascience/lib/python3.9/site-packages/sklearn/model_selection/_validation.py:770: UserWarning: Scoring failed. The score on this train-test partition for these parameters will be set to nan. Details: \n",
      "Traceback (most recent call last):\n",
      "  File \"/Users/boteejiangwork/miniforge3/envs/datascience/lib/python3.9/site-packages/sklearn/model_selection/_validation.py\", line 761, in _score\n",
      "    scores = scorer(estimator, X_test, y_test)\n",
      "  File \"/Users/boteejiangwork/miniforge3/envs/datascience/lib/python3.9/site-packages/sklearn/metrics/_scorer.py\", line 216, in __call__\n",
      "    return self._score(\n",
      "  File \"/Users/boteejiangwork/miniforge3/envs/datascience/lib/python3.9/site-packages/sklearn/metrics/_scorer.py\", line 264, in _score\n",
      "    return self._sign * self._score_func(y_true, y_pred, **self._kwargs)\n",
      "  File \"/Users/boteejiangwork/miniforge3/envs/datascience/lib/python3.9/site-packages/sklearn/metrics/_regression.py\", line 438, in mean_squared_error\n",
      "    y_type, y_true, y_pred, multioutput = _check_reg_targets(\n",
      "  File \"/Users/boteejiangwork/miniforge3/envs/datascience/lib/python3.9/site-packages/sklearn/metrics/_regression.py\", line 96, in _check_reg_targets\n",
      "    y_pred = check_array(y_pred, ensure_2d=False, dtype=dtype)\n",
      "  File \"/Users/boteejiangwork/miniforge3/envs/datascience/lib/python3.9/site-packages/sklearn/utils/validation.py\", line 800, in check_array\n",
      "    _assert_all_finite(array, allow_nan=force_all_finite == \"allow-nan\")\n",
      "  File \"/Users/boteejiangwork/miniforge3/envs/datascience/lib/python3.9/site-packages/sklearn/utils/validation.py\", line 114, in _assert_all_finite\n",
      "    raise ValueError(\n",
      "ValueError: Input contains NaN, infinity or a value too large for dtype('float32').\n",
      "\n",
      "  warnings.warn(\n",
      "/Users/boteejiangwork/miniforge3/envs/datascience/lib/python3.9/site-packages/xgboost/data.py:262: FutureWarning: pandas.Int64Index is deprecated and will be removed from pandas in a future version. Use pandas.Index with the appropriate dtype instead.\n",
      "  elif isinstance(data.columns, (pd.Int64Index, pd.RangeIndex)):\n",
      "/Users/boteejiangwork/miniforge3/envs/datascience/lib/python3.9/site-packages/xgboost/data.py:262: FutureWarning: pandas.Int64Index is deprecated and will be removed from pandas in a future version. Use pandas.Index with the appropriate dtype instead.\n",
      "  elif isinstance(data.columns, (pd.Int64Index, pd.RangeIndex)):\n",
      "/Users/boteejiangwork/miniforge3/envs/datascience/lib/python3.9/site-packages/xgboost/data.py:262: FutureWarning: pandas.Int64Index is deprecated and will be removed from pandas in a future version. Use pandas.Index with the appropriate dtype instead.\n",
      "  elif isinstance(data.columns, (pd.Int64Index, pd.RangeIndex)):\n",
      "/Users/boteejiangwork/miniforge3/envs/datascience/lib/python3.9/site-packages/xgboost/data.py:262: FutureWarning: pandas.Int64Index is deprecated and will be removed from pandas in a future version. Use pandas.Index with the appropriate dtype instead.\n",
      "  elif isinstance(data.columns, (pd.Int64Index, pd.RangeIndex)):\n",
      "/Users/boteejiangwork/miniforge3/envs/datascience/lib/python3.9/site-packages/xgboost/data.py:262: FutureWarning: pandas.Int64Index is deprecated and will be removed from pandas in a future version. Use pandas.Index with the appropriate dtype instead.\n",
      "  elif isinstance(data.columns, (pd.Int64Index, pd.RangeIndex)):\n",
      "/Users/boteejiangwork/miniforge3/envs/datascience/lib/python3.9/site-packages/xgboost/data.py:262: FutureWarning: pandas.Int64Index is deprecated and will be removed from pandas in a future version. Use pandas.Index with the appropriate dtype instead.\n",
      "  elif isinstance(data.columns, (pd.Int64Index, pd.RangeIndex)):\n",
      "/Users/boteejiangwork/miniforge3/envs/datascience/lib/python3.9/site-packages/xgboost/data.py:262: FutureWarning: pandas.Int64Index is deprecated and will be removed from pandas in a future version. Use pandas.Index with the appropriate dtype instead.\n",
      "  elif isinstance(data.columns, (pd.Int64Index, pd.RangeIndex)):\n",
      "/Users/boteejiangwork/miniforge3/envs/datascience/lib/python3.9/site-packages/xgboost/data.py:262: FutureWarning: pandas.Int64Index is deprecated and will be removed from pandas in a future version. Use pandas.Index with the appropriate dtype instead.\n",
      "  elif isinstance(data.columns, (pd.Int64Index, pd.RangeIndex)):\n",
      "/Users/boteejiangwork/miniforge3/envs/datascience/lib/python3.9/site-packages/xgboost/data.py:262: FutureWarning: pandas.Int64Index is deprecated and will be removed from pandas in a future version. Use pandas.Index with the appropriate dtype instead.\n",
      "  elif isinstance(data.columns, (pd.Int64Index, pd.RangeIndex)):\n",
      "/Users/boteejiangwork/miniforge3/envs/datascience/lib/python3.9/site-packages/xgboost/data.py:262: FutureWarning: pandas.Int64Index is deprecated and will be removed from pandas in a future version. Use pandas.Index with the appropriate dtype instead.\n",
      "  elif isinstance(data.columns, (pd.Int64Index, pd.RangeIndex)):\n",
      "/Users/boteejiangwork/miniforge3/envs/datascience/lib/python3.9/site-packages/xgboost/data.py:262: FutureWarning: pandas.Int64Index is deprecated and will be removed from pandas in a future version. Use pandas.Index with the appropriate dtype instead.\n",
      "  elif isinstance(data.columns, (pd.Int64Index, pd.RangeIndex)):\n",
      "/Users/boteejiangwork/miniforge3/envs/datascience/lib/python3.9/site-packages/xgboost/data.py:262: FutureWarning: pandas.Int64Index is deprecated and will be removed from pandas in a future version. Use pandas.Index with the appropriate dtype instead.\n",
      "  elif isinstance(data.columns, (pd.Int64Index, pd.RangeIndex)):\n",
      "/Users/boteejiangwork/miniforge3/envs/datascience/lib/python3.9/site-packages/xgboost/data.py:262: FutureWarning: pandas.Int64Index is deprecated and will be removed from pandas in a future version. Use pandas.Index with the appropriate dtype instead.\n",
      "  elif isinstance(data.columns, (pd.Int64Index, pd.RangeIndex)):\n",
      "/Users/boteejiangwork/miniforge3/envs/datascience/lib/python3.9/site-packages/xgboost/data.py:262: FutureWarning: pandas.Int64Index is deprecated and will be removed from pandas in a future version. Use pandas.Index with the appropriate dtype instead.\n",
      "  elif isinstance(data.columns, (pd.Int64Index, pd.RangeIndex)):\n",
      "/Users/boteejiangwork/miniforge3/envs/datascience/lib/python3.9/site-packages/xgboost/data.py:262: FutureWarning: pandas.Int64Index is deprecated and will be removed from pandas in a future version. Use pandas.Index with the appropriate dtype instead.\n",
      "  elif isinstance(data.columns, (pd.Int64Index, pd.RangeIndex)):\n",
      "/Users/boteejiangwork/miniforge3/envs/datascience/lib/python3.9/site-packages/sklearn/model_selection/_validation.py:770: UserWarning: Scoring failed. The score on this train-test partition for these parameters will be set to nan. Details: \n",
      "Traceback (most recent call last):\n",
      "  File \"/Users/boteejiangwork/miniforge3/envs/datascience/lib/python3.9/site-packages/sklearn/model_selection/_validation.py\", line 761, in _score\n",
      "    scores = scorer(estimator, X_test, y_test)\n",
      "  File \"/Users/boteejiangwork/miniforge3/envs/datascience/lib/python3.9/site-packages/sklearn/metrics/_scorer.py\", line 216, in __call__\n",
      "    return self._score(\n",
      "  File \"/Users/boteejiangwork/miniforge3/envs/datascience/lib/python3.9/site-packages/sklearn/metrics/_scorer.py\", line 264, in _score\n",
      "    return self._sign * self._score_func(y_true, y_pred, **self._kwargs)\n",
      "  File \"/Users/boteejiangwork/miniforge3/envs/datascience/lib/python3.9/site-packages/sklearn/metrics/_regression.py\", line 438, in mean_squared_error\n",
      "    y_type, y_true, y_pred, multioutput = _check_reg_targets(\n",
      "  File \"/Users/boteejiangwork/miniforge3/envs/datascience/lib/python3.9/site-packages/sklearn/metrics/_regression.py\", line 96, in _check_reg_targets\n",
      "    y_pred = check_array(y_pred, ensure_2d=False, dtype=dtype)\n",
      "  File \"/Users/boteejiangwork/miniforge3/envs/datascience/lib/python3.9/site-packages/sklearn/utils/validation.py\", line 800, in check_array\n",
      "    _assert_all_finite(array, allow_nan=force_all_finite == \"allow-nan\")\n",
      "  File \"/Users/boteejiangwork/miniforge3/envs/datascience/lib/python3.9/site-packages/sklearn/utils/validation.py\", line 114, in _assert_all_finite\n",
      "    raise ValueError(\n",
      "ValueError: Input contains NaN, infinity or a value too large for dtype('float32').\n",
      "\n",
      "  warnings.warn(\n",
      "/Users/boteejiangwork/miniforge3/envs/datascience/lib/python3.9/site-packages/xgboost/data.py:262: FutureWarning: pandas.Int64Index is deprecated and will be removed from pandas in a future version. Use pandas.Index with the appropriate dtype instead.\n",
      "  elif isinstance(data.columns, (pd.Int64Index, pd.RangeIndex)):\n",
      "/Users/boteejiangwork/miniforge3/envs/datascience/lib/python3.9/site-packages/sklearn/model_selection/_validation.py:770: UserWarning: Scoring failed. The score on this train-test partition for these parameters will be set to nan. Details: \n",
      "Traceback (most recent call last):\n",
      "  File \"/Users/boteejiangwork/miniforge3/envs/datascience/lib/python3.9/site-packages/sklearn/model_selection/_validation.py\", line 761, in _score\n",
      "    scores = scorer(estimator, X_test, y_test)\n",
      "  File \"/Users/boteejiangwork/miniforge3/envs/datascience/lib/python3.9/site-packages/sklearn/metrics/_scorer.py\", line 216, in __call__\n",
      "    return self._score(\n",
      "  File \"/Users/boteejiangwork/miniforge3/envs/datascience/lib/python3.9/site-packages/sklearn/metrics/_scorer.py\", line 264, in _score\n",
      "    return self._sign * self._score_func(y_true, y_pred, **self._kwargs)\n",
      "  File \"/Users/boteejiangwork/miniforge3/envs/datascience/lib/python3.9/site-packages/sklearn/metrics/_regression.py\", line 438, in mean_squared_error\n",
      "    y_type, y_true, y_pred, multioutput = _check_reg_targets(\n",
      "  File \"/Users/boteejiangwork/miniforge3/envs/datascience/lib/python3.9/site-packages/sklearn/metrics/_regression.py\", line 96, in _check_reg_targets\n",
      "    y_pred = check_array(y_pred, ensure_2d=False, dtype=dtype)\n",
      "  File \"/Users/boteejiangwork/miniforge3/envs/datascience/lib/python3.9/site-packages/sklearn/utils/validation.py\", line 800, in check_array\n",
      "    _assert_all_finite(array, allow_nan=force_all_finite == \"allow-nan\")\n",
      "  File \"/Users/boteejiangwork/miniforge3/envs/datascience/lib/python3.9/site-packages/sklearn/utils/validation.py\", line 114, in _assert_all_finite\n",
      "    raise ValueError(\n",
      "ValueError: Input contains NaN, infinity or a value too large for dtype('float32').\n",
      "\n",
      "  warnings.warn(\n",
      "/Users/boteejiangwork/miniforge3/envs/datascience/lib/python3.9/site-packages/xgboost/data.py:262: FutureWarning: pandas.Int64Index is deprecated and will be removed from pandas in a future version. Use pandas.Index with the appropriate dtype instead.\n",
      "  elif isinstance(data.columns, (pd.Int64Index, pd.RangeIndex)):\n",
      "/Users/boteejiangwork/miniforge3/envs/datascience/lib/python3.9/site-packages/sklearn/model_selection/_validation.py:770: UserWarning: Scoring failed. The score on this train-test partition for these parameters will be set to nan. Details: \n",
      "Traceback (most recent call last):\n",
      "  File \"/Users/boteejiangwork/miniforge3/envs/datascience/lib/python3.9/site-packages/sklearn/model_selection/_validation.py\", line 761, in _score\n",
      "    scores = scorer(estimator, X_test, y_test)\n",
      "  File \"/Users/boteejiangwork/miniforge3/envs/datascience/lib/python3.9/site-packages/sklearn/metrics/_scorer.py\", line 216, in __call__\n",
      "    return self._score(\n",
      "  File \"/Users/boteejiangwork/miniforge3/envs/datascience/lib/python3.9/site-packages/sklearn/metrics/_scorer.py\", line 264, in _score\n",
      "    return self._sign * self._score_func(y_true, y_pred, **self._kwargs)\n",
      "  File \"/Users/boteejiangwork/miniforge3/envs/datascience/lib/python3.9/site-packages/sklearn/metrics/_regression.py\", line 438, in mean_squared_error\n",
      "    y_type, y_true, y_pred, multioutput = _check_reg_targets(\n",
      "  File \"/Users/boteejiangwork/miniforge3/envs/datascience/lib/python3.9/site-packages/sklearn/metrics/_regression.py\", line 96, in _check_reg_targets\n",
      "    y_pred = check_array(y_pred, ensure_2d=False, dtype=dtype)\n",
      "  File \"/Users/boteejiangwork/miniforge3/envs/datascience/lib/python3.9/site-packages/sklearn/utils/validation.py\", line 800, in check_array\n",
      "    _assert_all_finite(array, allow_nan=force_all_finite == \"allow-nan\")\n",
      "  File \"/Users/boteejiangwork/miniforge3/envs/datascience/lib/python3.9/site-packages/sklearn/utils/validation.py\", line 114, in _assert_all_finite\n",
      "    raise ValueError(\n",
      "ValueError: Input contains NaN, infinity or a value too large for dtype('float32').\n",
      "\n",
      "  warnings.warn(\n",
      "/Users/boteejiangwork/miniforge3/envs/datascience/lib/python3.9/site-packages/xgboost/data.py:262: FutureWarning: pandas.Int64Index is deprecated and will be removed from pandas in a future version. Use pandas.Index with the appropriate dtype instead.\n",
      "  elif isinstance(data.columns, (pd.Int64Index, pd.RangeIndex)):\n",
      "/Users/boteejiangwork/miniforge3/envs/datascience/lib/python3.9/site-packages/xgboost/data.py:262: FutureWarning: pandas.Int64Index is deprecated and will be removed from pandas in a future version. Use pandas.Index with the appropriate dtype instead.\n",
      "  elif isinstance(data.columns, (pd.Int64Index, pd.RangeIndex)):\n",
      "/Users/boteejiangwork/miniforge3/envs/datascience/lib/python3.9/site-packages/sklearn/model_selection/_validation.py:770: UserWarning: Scoring failed. The score on this train-test partition for these parameters will be set to nan. Details: \n",
      "Traceback (most recent call last):\n",
      "  File \"/Users/boteejiangwork/miniforge3/envs/datascience/lib/python3.9/site-packages/sklearn/model_selection/_validation.py\", line 761, in _score\n",
      "    scores = scorer(estimator, X_test, y_test)\n",
      "  File \"/Users/boteejiangwork/miniforge3/envs/datascience/lib/python3.9/site-packages/sklearn/metrics/_scorer.py\", line 216, in __call__\n",
      "    return self._score(\n",
      "  File \"/Users/boteejiangwork/miniforge3/envs/datascience/lib/python3.9/site-packages/sklearn/metrics/_scorer.py\", line 264, in _score\n",
      "    return self._sign * self._score_func(y_true, y_pred, **self._kwargs)\n",
      "  File \"/Users/boteejiangwork/miniforge3/envs/datascience/lib/python3.9/site-packages/sklearn/metrics/_regression.py\", line 438, in mean_squared_error\n",
      "    y_type, y_true, y_pred, multioutput = _check_reg_targets(\n",
      "  File \"/Users/boteejiangwork/miniforge3/envs/datascience/lib/python3.9/site-packages/sklearn/metrics/_regression.py\", line 96, in _check_reg_targets\n",
      "    y_pred = check_array(y_pred, ensure_2d=False, dtype=dtype)\n",
      "  File \"/Users/boteejiangwork/miniforge3/envs/datascience/lib/python3.9/site-packages/sklearn/utils/validation.py\", line 800, in check_array\n",
      "    _assert_all_finite(array, allow_nan=force_all_finite == \"allow-nan\")\n",
      "  File \"/Users/boteejiangwork/miniforge3/envs/datascience/lib/python3.9/site-packages/sklearn/utils/validation.py\", line 114, in _assert_all_finite\n",
      "    raise ValueError(\n",
      "ValueError: Input contains NaN, infinity or a value too large for dtype('float32').\n",
      "\n",
      "  warnings.warn(\n",
      "/Users/boteejiangwork/miniforge3/envs/datascience/lib/python3.9/site-packages/xgboost/data.py:262: FutureWarning: pandas.Int64Index is deprecated and will be removed from pandas in a future version. Use pandas.Index with the appropriate dtype instead.\n",
      "  elif isinstance(data.columns, (pd.Int64Index, pd.RangeIndex)):\n",
      "/Users/boteejiangwork/miniforge3/envs/datascience/lib/python3.9/site-packages/sklearn/model_selection/_validation.py:770: UserWarning: Scoring failed. The score on this train-test partition for these parameters will be set to nan. Details: \n",
      "Traceback (most recent call last):\n",
      "  File \"/Users/boteejiangwork/miniforge3/envs/datascience/lib/python3.9/site-packages/sklearn/model_selection/_validation.py\", line 761, in _score\n",
      "    scores = scorer(estimator, X_test, y_test)\n",
      "  File \"/Users/boteejiangwork/miniforge3/envs/datascience/lib/python3.9/site-packages/sklearn/metrics/_scorer.py\", line 216, in __call__\n",
      "    return self._score(\n",
      "  File \"/Users/boteejiangwork/miniforge3/envs/datascience/lib/python3.9/site-packages/sklearn/metrics/_scorer.py\", line 264, in _score\n",
      "    return self._sign * self._score_func(y_true, y_pred, **self._kwargs)\n",
      "  File \"/Users/boteejiangwork/miniforge3/envs/datascience/lib/python3.9/site-packages/sklearn/metrics/_regression.py\", line 438, in mean_squared_error\n",
      "    y_type, y_true, y_pred, multioutput = _check_reg_targets(\n",
      "  File \"/Users/boteejiangwork/miniforge3/envs/datascience/lib/python3.9/site-packages/sklearn/metrics/_regression.py\", line 96, in _check_reg_targets\n",
      "    y_pred = check_array(y_pred, ensure_2d=False, dtype=dtype)\n",
      "  File \"/Users/boteejiangwork/miniforge3/envs/datascience/lib/python3.9/site-packages/sklearn/utils/validation.py\", line 800, in check_array\n",
      "    _assert_all_finite(array, allow_nan=force_all_finite == \"allow-nan\")\n",
      "  File \"/Users/boteejiangwork/miniforge3/envs/datascience/lib/python3.9/site-packages/sklearn/utils/validation.py\", line 114, in _assert_all_finite\n",
      "    raise ValueError(\n",
      "ValueError: Input contains NaN, infinity or a value too large for dtype('float32').\n",
      "\n",
      "  warnings.warn(\n",
      "/Users/boteejiangwork/miniforge3/envs/datascience/lib/python3.9/site-packages/xgboost/data.py:262: FutureWarning: pandas.Int64Index is deprecated and will be removed from pandas in a future version. Use pandas.Index with the appropriate dtype instead.\n",
      "  elif isinstance(data.columns, (pd.Int64Index, pd.RangeIndex)):\n",
      "/Users/boteejiangwork/miniforge3/envs/datascience/lib/python3.9/site-packages/xgboost/data.py:262: FutureWarning: pandas.Int64Index is deprecated and will be removed from pandas in a future version. Use pandas.Index with the appropriate dtype instead.\n",
      "  elif isinstance(data.columns, (pd.Int64Index, pd.RangeIndex)):\n",
      "/Users/boteejiangwork/miniforge3/envs/datascience/lib/python3.9/site-packages/xgboost/data.py:262: FutureWarning: pandas.Int64Index is deprecated and will be removed from pandas in a future version. Use pandas.Index with the appropriate dtype instead.\n",
      "  elif isinstance(data.columns, (pd.Int64Index, pd.RangeIndex)):\n",
      "/Users/boteejiangwork/miniforge3/envs/datascience/lib/python3.9/site-packages/xgboost/data.py:262: FutureWarning: pandas.Int64Index is deprecated and will be removed from pandas in a future version. Use pandas.Index with the appropriate dtype instead.\n",
      "  elif isinstance(data.columns, (pd.Int64Index, pd.RangeIndex)):\n",
      "/Users/boteejiangwork/miniforge3/envs/datascience/lib/python3.9/site-packages/xgboost/data.py:262: FutureWarning: pandas.Int64Index is deprecated and will be removed from pandas in a future version. Use pandas.Index with the appropriate dtype instead.\n",
      "  elif isinstance(data.columns, (pd.Int64Index, pd.RangeIndex)):\n",
      "/Users/boteejiangwork/miniforge3/envs/datascience/lib/python3.9/site-packages/xgboost/data.py:262: FutureWarning: pandas.Int64Index is deprecated and will be removed from pandas in a future version. Use pandas.Index with the appropriate dtype instead.\n",
      "  elif isinstance(data.columns, (pd.Int64Index, pd.RangeIndex)):\n",
      "/Users/boteejiangwork/miniforge3/envs/datascience/lib/python3.9/site-packages/xgboost/data.py:262: FutureWarning: pandas.Int64Index is deprecated and will be removed from pandas in a future version. Use pandas.Index with the appropriate dtype instead.\n",
      "  elif isinstance(data.columns, (pd.Int64Index, pd.RangeIndex)):\n",
      "/Users/boteejiangwork/miniforge3/envs/datascience/lib/python3.9/site-packages/xgboost/data.py:262: FutureWarning: pandas.Int64Index is deprecated and will be removed from pandas in a future version. Use pandas.Index with the appropriate dtype instead.\n",
      "  elif isinstance(data.columns, (pd.Int64Index, pd.RangeIndex)):\n",
      "/Users/boteejiangwork/miniforge3/envs/datascience/lib/python3.9/site-packages/xgboost/data.py:262: FutureWarning: pandas.Int64Index is deprecated and will be removed from pandas in a future version. Use pandas.Index with the appropriate dtype instead.\n",
      "  elif isinstance(data.columns, (pd.Int64Index, pd.RangeIndex)):\n",
      "/Users/boteejiangwork/miniforge3/envs/datascience/lib/python3.9/site-packages/xgboost/data.py:262: FutureWarning: pandas.Int64Index is deprecated and will be removed from pandas in a future version. Use pandas.Index with the appropriate dtype instead.\n",
      "  elif isinstance(data.columns, (pd.Int64Index, pd.RangeIndex)):\n",
      "/Users/boteejiangwork/miniforge3/envs/datascience/lib/python3.9/site-packages/xgboost/data.py:262: FutureWarning: pandas.Int64Index is deprecated and will be removed from pandas in a future version. Use pandas.Index with the appropriate dtype instead.\n",
      "  elif isinstance(data.columns, (pd.Int64Index, pd.RangeIndex)):\n",
      "/Users/boteejiangwork/miniforge3/envs/datascience/lib/python3.9/site-packages/xgboost/data.py:262: FutureWarning: pandas.Int64Index is deprecated and will be removed from pandas in a future version. Use pandas.Index with the appropriate dtype instead.\n",
      "  elif isinstance(data.columns, (pd.Int64Index, pd.RangeIndex)):\n",
      "/Users/boteejiangwork/miniforge3/envs/datascience/lib/python3.9/site-packages/xgboost/data.py:262: FutureWarning: pandas.Int64Index is deprecated and will be removed from pandas in a future version. Use pandas.Index with the appropriate dtype instead.\n",
      "  elif isinstance(data.columns, (pd.Int64Index, pd.RangeIndex)):\n",
      "/Users/boteejiangwork/miniforge3/envs/datascience/lib/python3.9/site-packages/xgboost/data.py:262: FutureWarning: pandas.Int64Index is deprecated and will be removed from pandas in a future version. Use pandas.Index with the appropriate dtype instead.\n",
      "  elif isinstance(data.columns, (pd.Int64Index, pd.RangeIndex)):\n",
      "/Users/boteejiangwork/miniforge3/envs/datascience/lib/python3.9/site-packages/xgboost/data.py:262: FutureWarning: pandas.Int64Index is deprecated and will be removed from pandas in a future version. Use pandas.Index with the appropriate dtype instead.\n",
      "  elif isinstance(data.columns, (pd.Int64Index, pd.RangeIndex)):\n",
      "/Users/boteejiangwork/miniforge3/envs/datascience/lib/python3.9/site-packages/xgboost/data.py:262: FutureWarning: pandas.Int64Index is deprecated and will be removed from pandas in a future version. Use pandas.Index with the appropriate dtype instead.\n",
      "  elif isinstance(data.columns, (pd.Int64Index, pd.RangeIndex)):\n",
      "/Users/boteejiangwork/miniforge3/envs/datascience/lib/python3.9/site-packages/xgboost/data.py:262: FutureWarning: pandas.Int64Index is deprecated and will be removed from pandas in a future version. Use pandas.Index with the appropriate dtype instead.\n",
      "  elif isinstance(data.columns, (pd.Int64Index, pd.RangeIndex)):\n",
      "/Users/boteejiangwork/miniforge3/envs/datascience/lib/python3.9/site-packages/xgboost/data.py:262: FutureWarning: pandas.Int64Index is deprecated and will be removed from pandas in a future version. Use pandas.Index with the appropriate dtype instead.\n",
      "  elif isinstance(data.columns, (pd.Int64Index, pd.RangeIndex)):\n",
      "/Users/boteejiangwork/miniforge3/envs/datascience/lib/python3.9/site-packages/sklearn/model_selection/_search.py:969: UserWarning: One or more of the test scores are non-finite: [ -0.27452439  -0.27590101  -0.28240416          nan  -0.2703615\n",
      "  -0.28402912  -0.31681854  -0.2772077           nan  -0.28347347\n",
      "          nan  -0.27458276  -0.28174442  -0.2808922   -0.27496537\n",
      "  -0.27452439  -0.27520423  -0.28048636 -88.70659831  -0.83788074\n",
      " -88.70659831          nan  -0.2829327   -0.27863189 -88.70659831\n",
      "          nan  -0.27414794  -0.29523239  -0.285581    -0.28937348]\n",
      "  warnings.warn(\n"
     ]
    },
    {
     "data": {
      "text/plain": "RandomizedSearchCV(cv=5,\n                   estimator=XGBRegressor(base_score=None, booster=None,\n                                          colsample_bylevel=None,\n                                          colsample_bynode=None,\n                                          colsample_bytree=None,\n                                          enable_categorical=False, gamma=None,\n                                          gpu_id=None, importance_type=None,\n                                          interaction_constraints=None,\n                                          learning_rate=None,\n                                          max_delta_step=None, max_depth=None,\n                                          min_child_weight=None, missing=nan,\n                                          monotone_constraints=...\n                                          predictor=None, random_state=None,\n                                          reg_alpha=None, reg_lambda=None,\n                                          scale_pos_weight=None, subsample=None,\n                                          tree_method=None,\n                                          validate_parameters=None,\n                                          verbosity=0),\n                   n_iter=30, n_jobs=4,\n                   param_distributions={'learning_rate': [0.05, 0.1, 0, 15, 0.2,\n                                                          0.25],\n                                        'max_depth': [1, 3, 6, 9],\n                                        'min_child_weight': [100],\n                                        'n_estimators': [50, 100, 400, 800]},\n                   random_state=0, scoring='neg_mean_squared_error')"
     },
     "execution_count": 343,
     "metadata": {},
     "output_type": "execute_result"
    }
   ],
   "source": [
    "import warnings\n",
    "warnings.simplefilter(action='ignore', category=FutureWarning)\n",
    "random_search_XGBR.fit(X_train,y_train)"
   ]
  },
  {
   "cell_type": "code",
   "execution_count": 344,
   "metadata": {},
   "outputs": [
    {
     "data": {
      "text/plain": "XGBRegressor(base_score=0.5, booster='gbtree', colsample_bylevel=1,\n             colsample_bynode=1, colsample_bytree=1, enable_categorical=False,\n             gamma=0, gpu_id=-1, importance_type=None,\n             interaction_constraints='', learning_rate=0.2, max_delta_step=0,\n             max_depth=3, min_child_weight=100, missing=nan,\n             monotone_constraints='()', n_estimators=50, n_jobs=8,\n             num_parallel_tree=1, predictor='auto', random_state=0, reg_alpha=0,\n             reg_lambda=1, scale_pos_weight=1, subsample=1, tree_method='exact',\n             validate_parameters=1, verbosity=0)"
     },
     "execution_count": 344,
     "metadata": {},
     "output_type": "execute_result"
    }
   ],
   "source": [
    "random_search_XGBR.best_estimator_"
   ]
  },
  {
   "cell_type": "code",
   "execution_count": 345,
   "metadata": {
    "pycharm": {
     "name": "#%%\n"
    }
   },
   "outputs": [
    {
     "data": {
      "text/plain": "XGBRegressor(base_score=0.5, booster='gbtree', colsample_bylevel=1,\n             colsample_bynode=1, colsample_bytree=0.6, enable_categorical=False,\n             gamma=0.4, gpu_id=-1, importance_type=None,\n             interaction_constraints='', learning_rate=0.300000012,\n             max_delta_step=0, max_depth=10, min_child_weight=1, missing=nan,\n             monotone_constraints='()', n_estimators=100, n_jobs=8,\n             num_parallel_tree=1, predictor='auto', random_state=0, reg_alpha=0,\n             reg_lambda=1, scale_pos_weight=1, subsample=1, tree_method='exact',\n             validate_parameters=1, verbosity=0)"
     },
     "execution_count": 345,
     "metadata": {},
     "output_type": "execute_result"
    }
   ],
   "source": [
    "random_search_XGBR = xgb.XGBRegressor(colsample_bytree=0.6, gamma=0.4, max_depth=10, verbosity=0)\n",
    "random_search_XGBR.fit(X_train,y_train)"
   ]
  },
  {
   "cell_type": "code",
   "execution_count": 346,
   "metadata": {
    "pycharm": {
     "name": "#%%\n"
    }
   },
   "outputs": [],
   "source": [
    "predictionsXGB=pd.Series(random_search_XGBR.predict(X_test))\n",
    "predictionsXGB = predictionsXGB.round(0).astype(int)\n",
    "y_test = y_test.reset_index(drop=True)\n",
    "XGB_results = pd.concat([y_test, predictionsXGB],ignore_index = True,axis=1)\n",
    "# outThing.to_csv('outpu.csv',index=False)"
   ]
  },
  {
   "cell_type": "code",
   "execution_count": 348,
   "outputs": [
    {
     "name": "stdout",
     "output_type": "stream",
     "text": [
      "RMSE: 0.5154500064835483\n"
     ]
    }
   ],
   "source": [
    "from sklearn import metrics\n",
    "# open a file, where you ant to store the data\n",
    "file = open('XGBoost.pkl', 'wb')\n",
    "# dump information to that file\n",
    "pickle.dump(random_search_XGBR, file)\n",
    "print('RMSE:', np.sqrt(metrics.mean_squared_error(y_test,abs(predictionsXGB))))"
   ],
   "metadata": {
    "collapsed": false,
    "pycharm": {
     "name": "#%%\n"
    }
   }
  },
  {
   "cell_type": "code",
   "execution_count": null,
   "outputs": [],
   "source": [],
   "metadata": {
    "collapsed": false,
    "pycharm": {
     "name": "#%%\n"
    }
   }
  }
 ],
 "metadata": {
  "kernelspec": {
   "display_name": "Python 3 (ipykernel)",
   "language": "python",
   "name": "python3"
  },
  "language_info": {
   "codemirror_mode": {
    "name": "ipython",
    "version": 3
   },
   "file_extension": ".py",
   "mimetype": "text/x-python",
   "name": "python",
   "nbconvert_exporter": "python",
   "pygments_lexer": "ipython3",
   "version": "3.8.12"
  }
 },
 "nbformat": 4,
 "nbformat_minor": 1
}